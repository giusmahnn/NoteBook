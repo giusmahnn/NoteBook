{
 "cells": [
  {
   "cell_type": "code",
   "execution_count": 52,
   "metadata": {},
   "outputs": [],
   "source": [
    "import pandas as pd"
   ]
  },
  {
   "cell_type": "code",
   "execution_count": 53,
   "metadata": {},
   "outputs": [],
   "source": [
    "df = pd.read_csv('covid_worldwide.csv')   #\n",
    "df.columns = df.columns.str.strip().str.replace(' ', '_').str.lower()  #removes the spaces between two words in a column and replaces it with an underscore the convert to lower\n"
   ]
  },
  {
   "cell_type": "code",
   "execution_count": 54,
   "metadata": {},
   "outputs": [],
   "source": [
    "df.drop(['serial_number'], axis=1, inplace=True) #drops the coulumn serial number"
   ]
  },
  {
   "cell_type": "code",
   "execution_count": 55,
   "metadata": {},
   "outputs": [],
   "source": [
    "df.replace({',': ''}, regex=True, inplace=True) # this removes every , in the rows"
   ]
  },
  {
   "cell_type": "code",
   "execution_count": 56,
   "metadata": {},
   "outputs": [
    {
     "data": {
      "text/plain": [
       "country             0\n",
       "total_cases         0\n",
       "total_deaths        6\n",
       "total_recovered    21\n",
       "active_cases       19\n",
       "total_test         18\n",
       "population          3\n",
       "dtype: int64"
      ]
     },
     "execution_count": 56,
     "metadata": {},
     "output_type": "execute_result"
    }
   ],
   "source": [
    "df.isna().sum() # gets the total nimber of null values in each column"
   ]
  },
  {
   "cell_type": "code",
   "execution_count": 57,
   "metadata": {},
   "outputs": [],
   "source": [
    "\n",
    "df = df.fillna('0') #fills the null values with 0 instead"
   ]
  },
  {
   "cell_type": "code",
   "execution_count": 58,
   "metadata": {},
   "outputs": [],
   "source": [
    "col = df.columns[1:]\n",
    "df[[i for i in col]] = df[[i for i in col]].astype('int64')"
   ]
  },
  {
   "cell_type": "code",
   "execution_count": 59,
   "metadata": {},
   "outputs": [
    {
     "data": {
      "text/plain": [
       "Index(['country', 'total_cases', 'total_deaths', 'total_recovered',\n",
       "       'active_cases', 'total_test', 'population'],\n",
       "      dtype='object')"
      ]
     },
     "execution_count": 59,
     "metadata": {},
     "output_type": "execute_result"
    }
   ],
   "source": [
    "df.columns  # wala it dropped"
   ]
  },
  {
   "cell_type": "code",
   "execution_count": 60,
   "metadata": {},
   "outputs": [],
   "source": [
    "df[['total_cases', 'total_deaths', 'total_recovered', 'active_cases', 'total_test', 'population']] = df[['total_cases', 'total_deaths', 'total_recovered', 'active_cases', 'total_test', 'population']].astype('int64')"
   ]
  },
  {
   "cell_type": "code",
   "execution_count": 61,
   "metadata": {},
   "outputs": [
    {
     "data": {
      "text/html": [
       "<div>\n",
       "<style scoped>\n",
       "    .dataframe tbody tr th:only-of-type {\n",
       "        vertical-align: middle;\n",
       "    }\n",
       "\n",
       "    .dataframe tbody tr th {\n",
       "        vertical-align: top;\n",
       "    }\n",
       "\n",
       "    .dataframe thead th {\n",
       "        text-align: right;\n",
       "    }\n",
       "</style>\n",
       "<table border=\"1\" class=\"dataframe\">\n",
       "  <thead>\n",
       "    <tr style=\"text-align: right;\">\n",
       "      <th></th>\n",
       "      <th>country</th>\n",
       "      <th>total_cases</th>\n",
       "      <th>total_deaths</th>\n",
       "      <th>total_recovered</th>\n",
       "      <th>active_cases</th>\n",
       "      <th>total_test</th>\n",
       "      <th>population</th>\n",
       "    </tr>\n",
       "  </thead>\n",
       "  <tbody>\n",
       "    <tr>\n",
       "      <th>0</th>\n",
       "      <td>USA</td>\n",
       "      <td>104196861</td>\n",
       "      <td>1132935</td>\n",
       "      <td>101322779</td>\n",
       "      <td>1741147</td>\n",
       "      <td>1159832679</td>\n",
       "      <td>334805269</td>\n",
       "    </tr>\n",
       "    <tr>\n",
       "      <th>1</th>\n",
       "      <td>India</td>\n",
       "      <td>44682784</td>\n",
       "      <td>530740</td>\n",
       "      <td>44150289</td>\n",
       "      <td>1755</td>\n",
       "      <td>915265788</td>\n",
       "      <td>1406631776</td>\n",
       "    </tr>\n",
       "    <tr>\n",
       "      <th>2</th>\n",
       "      <td>France</td>\n",
       "      <td>39524311</td>\n",
       "      <td>164233</td>\n",
       "      <td>39264546</td>\n",
       "      <td>95532</td>\n",
       "      <td>271490188</td>\n",
       "      <td>65584518</td>\n",
       "    </tr>\n",
       "    <tr>\n",
       "      <th>3</th>\n",
       "      <td>Germany</td>\n",
       "      <td>37779833</td>\n",
       "      <td>165711</td>\n",
       "      <td>37398100</td>\n",
       "      <td>216022</td>\n",
       "      <td>122332384</td>\n",
       "      <td>83883596</td>\n",
       "    </tr>\n",
       "    <tr>\n",
       "      <th>4</th>\n",
       "      <td>Brazil</td>\n",
       "      <td>36824580</td>\n",
       "      <td>697074</td>\n",
       "      <td>35919372</td>\n",
       "      <td>208134</td>\n",
       "      <td>63776166</td>\n",
       "      <td>215353593</td>\n",
       "    </tr>\n",
       "    <tr>\n",
       "      <th>...</th>\n",
       "      <td>...</td>\n",
       "      <td>...</td>\n",
       "      <td>...</td>\n",
       "      <td>...</td>\n",
       "      <td>...</td>\n",
       "      <td>...</td>\n",
       "      <td>...</td>\n",
       "    </tr>\n",
       "    <tr>\n",
       "      <th>226</th>\n",
       "      <td>Diamond Princess</td>\n",
       "      <td>712</td>\n",
       "      <td>13</td>\n",
       "      <td>699</td>\n",
       "      <td>0</td>\n",
       "      <td>0</td>\n",
       "      <td>0</td>\n",
       "    </tr>\n",
       "    <tr>\n",
       "      <th>227</th>\n",
       "      <td>Vatican City</td>\n",
       "      <td>29</td>\n",
       "      <td>0</td>\n",
       "      <td>29</td>\n",
       "      <td>0</td>\n",
       "      <td>0</td>\n",
       "      <td>799</td>\n",
       "    </tr>\n",
       "    <tr>\n",
       "      <th>228</th>\n",
       "      <td>Western Sahara</td>\n",
       "      <td>10</td>\n",
       "      <td>1</td>\n",
       "      <td>9</td>\n",
       "      <td>0</td>\n",
       "      <td>0</td>\n",
       "      <td>626161</td>\n",
       "    </tr>\n",
       "    <tr>\n",
       "      <th>229</th>\n",
       "      <td>MS Zaandam</td>\n",
       "      <td>9</td>\n",
       "      <td>2</td>\n",
       "      <td>7</td>\n",
       "      <td>0</td>\n",
       "      <td>0</td>\n",
       "      <td>0</td>\n",
       "    </tr>\n",
       "    <tr>\n",
       "      <th>230</th>\n",
       "      <td>Tokelau</td>\n",
       "      <td>5</td>\n",
       "      <td>0</td>\n",
       "      <td>0</td>\n",
       "      <td>5</td>\n",
       "      <td>0</td>\n",
       "      <td>1378</td>\n",
       "    </tr>\n",
       "  </tbody>\n",
       "</table>\n",
       "<p>231 rows × 7 columns</p>\n",
       "</div>"
      ],
      "text/plain": [
       "              country  total_cases  total_deaths  total_recovered  \\\n",
       "0                 USA    104196861       1132935        101322779   \n",
       "1               India     44682784        530740         44150289   \n",
       "2              France     39524311        164233         39264546   \n",
       "3             Germany     37779833        165711         37398100   \n",
       "4              Brazil     36824580        697074         35919372   \n",
       "..                ...          ...           ...              ...   \n",
       "226  Diamond Princess          712            13              699   \n",
       "227      Vatican City           29             0               29   \n",
       "228    Western Sahara           10             1                9   \n",
       "229        MS Zaandam            9             2                7   \n",
       "230           Tokelau            5             0                0   \n",
       "\n",
       "     active_cases  total_test  population  \n",
       "0         1741147  1159832679   334805269  \n",
       "1            1755   915265788  1406631776  \n",
       "2           95532   271490188    65584518  \n",
       "3          216022   122332384    83883596  \n",
       "4          208134    63776166   215353593  \n",
       "..            ...         ...         ...  \n",
       "226             0           0           0  \n",
       "227             0           0         799  \n",
       "228             0           0      626161  \n",
       "229             0           0           0  \n",
       "230             5           0        1378  \n",
       "\n",
       "[231 rows x 7 columns]"
      ]
     },
     "execution_count": 61,
     "metadata": {},
     "output_type": "execute_result"
    }
   ],
   "source": [
    "df"
   ]
  },
  {
   "cell_type": "code",
   "execution_count": 62,
   "metadata": {},
   "outputs": [
    {
     "name": "stdout",
     "output_type": "stream",
     "text": [
      "<class 'pandas.core.frame.DataFrame'>\n",
      "RangeIndex: 231 entries, 0 to 230\n",
      "Data columns (total 7 columns):\n",
      " #   Column           Non-Null Count  Dtype \n",
      "---  ------           --------------  ----- \n",
      " 0   country          231 non-null    object\n",
      " 1   total_cases      231 non-null    int64 \n",
      " 2   total_deaths     231 non-null    int64 \n",
      " 3   total_recovered  231 non-null    int64 \n",
      " 4   active_cases     231 non-null    int64 \n",
      " 5   total_test       231 non-null    int64 \n",
      " 6   population       231 non-null    int64 \n",
      "dtypes: int64(6), object(1)\n",
      "memory usage: 12.8+ KB\n"
     ]
    }
   ],
   "source": [
    "df.info() #It worked just fine again"
   ]
  },
  {
   "cell_type": "code",
   "execution_count": 63,
   "metadata": {},
   "outputs": [],
   "source": [
    "c = df.columns[1:]  #Normlized the data\n",
    "for i in range(len(c)):\n",
    "  df[c[i]] = (df[c[i]] - df[c[i]].min()) / (df[c[i]].max() - df[c[i]].min())"
   ]
  },
  {
   "cell_type": "code",
   "execution_count": 64,
   "metadata": {},
   "outputs": [
    {
     "data": {
      "text/html": [
       "<div>\n",
       "<style scoped>\n",
       "    .dataframe tbody tr th:only-of-type {\n",
       "        vertical-align: middle;\n",
       "    }\n",
       "\n",
       "    .dataframe tbody tr th {\n",
       "        vertical-align: top;\n",
       "    }\n",
       "\n",
       "    .dataframe thead th {\n",
       "        text-align: right;\n",
       "    }\n",
       "</style>\n",
       "<table border=\"1\" class=\"dataframe\">\n",
       "  <thead>\n",
       "    <tr style=\"text-align: right;\">\n",
       "      <th></th>\n",
       "      <th>total_cases</th>\n",
       "      <th>total_deaths</th>\n",
       "      <th>total_recovered</th>\n",
       "      <th>active_cases</th>\n",
       "      <th>total_test</th>\n",
       "      <th>population</th>\n",
       "    </tr>\n",
       "  </thead>\n",
       "  <tbody>\n",
       "    <tr>\n",
       "      <th>count</th>\n",
       "      <td>231.000000</td>\n",
       "      <td>231.000000</td>\n",
       "      <td>231.000000</td>\n",
       "      <td>231.000000</td>\n",
       "      <td>231.000000</td>\n",
       "      <td>231.000000</td>\n",
       "    </tr>\n",
       "    <tr>\n",
       "      <th>mean</th>\n",
       "      <td>0.028057</td>\n",
       "      <td>0.025842</td>\n",
       "      <td>0.026862</td>\n",
       "      <td>0.007625</td>\n",
       "      <td>0.025832</td>\n",
       "      <td>0.019993</td>\n",
       "    </tr>\n",
       "    <tr>\n",
       "      <th>std</th>\n",
       "      <td>0.090975</td>\n",
       "      <td>0.091892</td>\n",
       "      <td>0.089971</td>\n",
       "      <td>0.067060</td>\n",
       "      <td>0.097749</td>\n",
       "      <td>0.072274</td>\n",
       "    </tr>\n",
       "    <tr>\n",
       "      <th>min</th>\n",
       "      <td>0.000000</td>\n",
       "      <td>0.000000</td>\n",
       "      <td>0.000000</td>\n",
       "      <td>0.000000</td>\n",
       "      <td>0.000000</td>\n",
       "      <td>0.000000</td>\n",
       "    </tr>\n",
       "    <tr>\n",
       "      <th>25%</th>\n",
       "      <td>0.000230</td>\n",
       "      <td>0.000158</td>\n",
       "      <td>0.000119</td>\n",
       "      <td>0.000002</td>\n",
       "      <td>0.000195</td>\n",
       "      <td>0.000289</td>\n",
       "    </tr>\n",
       "    <tr>\n",
       "      <th>50%</th>\n",
       "      <td>0.001983</td>\n",
       "      <td>0.001734</td>\n",
       "      <td>0.001298</td>\n",
       "      <td>0.000067</td>\n",
       "      <td>0.001441</td>\n",
       "      <td>0.003918</td>\n",
       "    </tr>\n",
       "    <tr>\n",
       "      <th>75%</th>\n",
       "      <td>0.012439</td>\n",
       "      <td>0.012277</td>\n",
       "      <td>0.012388</td>\n",
       "      <td>0.000852</td>\n",
       "      <td>0.009902</td>\n",
       "      <td>0.015302</td>\n",
       "    </tr>\n",
       "    <tr>\n",
       "      <th>max</th>\n",
       "      <td>1.000000</td>\n",
       "      <td>1.000000</td>\n",
       "      <td>1.000000</td>\n",
       "      <td>1.000000</td>\n",
       "      <td>1.000000</td>\n",
       "      <td>1.000000</td>\n",
       "    </tr>\n",
       "  </tbody>\n",
       "</table>\n",
       "</div>"
      ],
      "text/plain": [
       "       total_cases  total_deaths  total_recovered  active_cases  total_test  \\\n",
       "count   231.000000    231.000000       231.000000    231.000000  231.000000   \n",
       "mean      0.028057      0.025842         0.026862      0.007625    0.025832   \n",
       "std       0.090975      0.091892         0.089971      0.067060    0.097749   \n",
       "min       0.000000      0.000000         0.000000      0.000000    0.000000   \n",
       "25%       0.000230      0.000158         0.000119      0.000002    0.000195   \n",
       "50%       0.001983      0.001734         0.001298      0.000067    0.001441   \n",
       "75%       0.012439      0.012277         0.012388      0.000852    0.009902   \n",
       "max       1.000000      1.000000         1.000000      1.000000    1.000000   \n",
       "\n",
       "       population  \n",
       "count  231.000000  \n",
       "mean     0.019993  \n",
       "std      0.072274  \n",
       "min      0.000000  \n",
       "25%      0.000289  \n",
       "50%      0.003918  \n",
       "75%      0.015302  \n",
       "max      1.000000  "
      ]
     },
     "execution_count": 64,
     "metadata": {},
     "output_type": "execute_result"
    }
   ],
   "source": [
    "df.describe() #this just describes the data that's all"
   ]
  },
  {
   "cell_type": "code",
   "execution_count": 65,
   "metadata": {},
   "outputs": [
    {
     "data": {
      "text/plain": [
       "country            0\n",
       "total_cases        0\n",
       "total_deaths       0\n",
       "total_recovered    0\n",
       "active_cases       0\n",
       "total_test         0\n",
       "population         0\n",
       "dtype: int64"
      ]
     },
     "execution_count": 65,
     "metadata": {},
     "output_type": "execute_result"
    }
   ],
   "source": [
    "df.isna().sum()"
   ]
  },
  {
   "cell_type": "code",
   "execution_count": 66,
   "metadata": {},
   "outputs": [
    {
     "data": {
      "text/plain": [
       "231"
      ]
     },
     "execution_count": 66,
     "metadata": {},
     "output_type": "execute_result"
    }
   ],
   "source": [
    "df['country'].nunique()"
   ]
  },
  {
   "cell_type": "code",
   "execution_count": 67,
   "metadata": {},
   "outputs": [
    {
     "data": {
      "text/html": [
       "<div>\n",
       "<style scoped>\n",
       "    .dataframe tbody tr th:only-of-type {\n",
       "        vertical-align: middle;\n",
       "    }\n",
       "\n",
       "    .dataframe tbody tr th {\n",
       "        vertical-align: top;\n",
       "    }\n",
       "\n",
       "    .dataframe thead th {\n",
       "        text-align: right;\n",
       "    }\n",
       "</style>\n",
       "<table border=\"1\" class=\"dataframe\">\n",
       "  <thead>\n",
       "    <tr style=\"text-align: right;\">\n",
       "      <th></th>\n",
       "      <th>country</th>\n",
       "      <th>total_cases</th>\n",
       "      <th>total_deaths</th>\n",
       "      <th>total_recovered</th>\n",
       "      <th>active_cases</th>\n",
       "      <th>total_test</th>\n",
       "      <th>population</th>\n",
       "    </tr>\n",
       "  </thead>\n",
       "  <tbody>\n",
       "    <tr>\n",
       "      <th>0</th>\n",
       "      <td>USA</td>\n",
       "      <td>1.000000e+00</td>\n",
       "      <td>1.000000e+00</td>\n",
       "      <td>1.000000e+00</td>\n",
       "      <td>1.589709e-01</td>\n",
       "      <td>1.000000</td>\n",
       "      <td>2.380191e-01</td>\n",
       "    </tr>\n",
       "    <tr>\n",
       "      <th>1</th>\n",
       "      <td>India</td>\n",
       "      <td>4.288304e-01</td>\n",
       "      <td>4.684647e-01</td>\n",
       "      <td>4.357390e-01</td>\n",
       "      <td>1.602357e-04</td>\n",
       "      <td>0.789136</td>\n",
       "      <td>1.000000e+00</td>\n",
       "    </tr>\n",
       "    <tr>\n",
       "      <th>2</th>\n",
       "      <td>France</td>\n",
       "      <td>3.793234e-01</td>\n",
       "      <td>1.449624e-01</td>\n",
       "      <td>3.875194e-01</td>\n",
       "      <td>8.722298e-03</td>\n",
       "      <td>0.234077</td>\n",
       "      <td>4.662522e-02</td>\n",
       "    </tr>\n",
       "    <tr>\n",
       "      <th>3</th>\n",
       "      <td>Germany</td>\n",
       "      <td>3.625813e-01</td>\n",
       "      <td>1.462670e-01</td>\n",
       "      <td>3.690986e-01</td>\n",
       "      <td>1.972332e-02</td>\n",
       "      <td>0.105474</td>\n",
       "      <td>5.963437e-02</td>\n",
       "    </tr>\n",
       "    <tr>\n",
       "      <th>4</th>\n",
       "      <td>Brazil</td>\n",
       "      <td>3.534135e-01</td>\n",
       "      <td>6.152815e-01</td>\n",
       "      <td>3.545044e-01</td>\n",
       "      <td>1.900313e-02</td>\n",
       "      <td>0.054987</td>\n",
       "      <td>1.530988e-01</td>\n",
       "    </tr>\n",
       "    <tr>\n",
       "      <th>...</th>\n",
       "      <td>...</td>\n",
       "      <td>...</td>\n",
       "      <td>...</td>\n",
       "      <td>...</td>\n",
       "      <td>...</td>\n",
       "      <td>...</td>\n",
       "      <td>...</td>\n",
       "    </tr>\n",
       "    <tr>\n",
       "      <th>226</th>\n",
       "      <td>Diamond Princess</td>\n",
       "      <td>6.785234e-06</td>\n",
       "      <td>1.147462e-05</td>\n",
       "      <td>6.898745e-06</td>\n",
       "      <td>0.000000e+00</td>\n",
       "      <td>0.000000</td>\n",
       "      <td>0.000000e+00</td>\n",
       "    </tr>\n",
       "    <tr>\n",
       "      <th>227</th>\n",
       "      <td>Vatican City</td>\n",
       "      <td>2.303332e-07</td>\n",
       "      <td>0.000000e+00</td>\n",
       "      <td>2.862140e-07</td>\n",
       "      <td>0.000000e+00</td>\n",
       "      <td>0.000000</td>\n",
       "      <td>5.680236e-07</td>\n",
       "    </tr>\n",
       "    <tr>\n",
       "      <th>228</th>\n",
       "      <td>Western Sahara</td>\n",
       "      <td>4.798609e-08</td>\n",
       "      <td>8.826632e-07</td>\n",
       "      <td>8.882504e-08</td>\n",
       "      <td>0.000000e+00</td>\n",
       "      <td>0.000000</td>\n",
       "      <td>4.451492e-04</td>\n",
       "    </tr>\n",
       "    <tr>\n",
       "      <th>229</th>\n",
       "      <td>MS Zaandam</td>\n",
       "      <td>3.838887e-08</td>\n",
       "      <td>1.765326e-06</td>\n",
       "      <td>6.908614e-08</td>\n",
       "      <td>0.000000e+00</td>\n",
       "      <td>0.000000</td>\n",
       "      <td>0.000000e+00</td>\n",
       "    </tr>\n",
       "    <tr>\n",
       "      <th>230</th>\n",
       "      <td>Tokelau</td>\n",
       "      <td>0.000000e+00</td>\n",
       "      <td>0.000000e+00</td>\n",
       "      <td>0.000000e+00</td>\n",
       "      <td>4.565119e-07</td>\n",
       "      <td>0.000000</td>\n",
       "      <td>9.796452e-07</td>\n",
       "    </tr>\n",
       "  </tbody>\n",
       "</table>\n",
       "<p>231 rows × 7 columns</p>\n",
       "</div>"
      ],
      "text/plain": [
       "              country   total_cases  total_deaths  total_recovered  \\\n",
       "0                 USA  1.000000e+00  1.000000e+00     1.000000e+00   \n",
       "1               India  4.288304e-01  4.684647e-01     4.357390e-01   \n",
       "2              France  3.793234e-01  1.449624e-01     3.875194e-01   \n",
       "3             Germany  3.625813e-01  1.462670e-01     3.690986e-01   \n",
       "4              Brazil  3.534135e-01  6.152815e-01     3.545044e-01   \n",
       "..                ...           ...           ...              ...   \n",
       "226  Diamond Princess  6.785234e-06  1.147462e-05     6.898745e-06   \n",
       "227      Vatican City  2.303332e-07  0.000000e+00     2.862140e-07   \n",
       "228    Western Sahara  4.798609e-08  8.826632e-07     8.882504e-08   \n",
       "229        MS Zaandam  3.838887e-08  1.765326e-06     6.908614e-08   \n",
       "230           Tokelau  0.000000e+00  0.000000e+00     0.000000e+00   \n",
       "\n",
       "     active_cases  total_test    population  \n",
       "0    1.589709e-01    1.000000  2.380191e-01  \n",
       "1    1.602357e-04    0.789136  1.000000e+00  \n",
       "2    8.722298e-03    0.234077  4.662522e-02  \n",
       "3    1.972332e-02    0.105474  5.963437e-02  \n",
       "4    1.900313e-02    0.054987  1.530988e-01  \n",
       "..            ...         ...           ...  \n",
       "226  0.000000e+00    0.000000  0.000000e+00  \n",
       "227  0.000000e+00    0.000000  5.680236e-07  \n",
       "228  0.000000e+00    0.000000  4.451492e-04  \n",
       "229  0.000000e+00    0.000000  0.000000e+00  \n",
       "230  4.565119e-07    0.000000  9.796452e-07  \n",
       "\n",
       "[231 rows x 7 columns]"
      ]
     },
     "execution_count": 67,
     "metadata": {},
     "output_type": "execute_result"
    }
   ],
   "source": [
    "df #our data is all cleaned up and ready to be used for analysis"
   ]
  },
  {
   "cell_type": "code",
   "execution_count": 68,
   "metadata": {},
   "outputs": [],
   "source": [
    "df.to_csv('cleaned_covid_worldwide.csv', index=False) #finally we saved it to a file."
   ]
  }
 ],
 "metadata": {
  "kernelspec": {
   "display_name": "Python 3",
   "language": "python",
   "name": "python3"
  },
  "language_info": {
   "codemirror_mode": {
    "name": "ipython",
    "version": 3
   },
   "file_extension": ".py",
   "mimetype": "text/x-python",
   "name": "python",
   "nbconvert_exporter": "python",
   "pygments_lexer": "ipython3",
   "version": "3.10.7"
  },
  "orig_nbformat": 4,
  "vscode": {
   "interpreter": {
    "hash": "31f2aee4e71d21fbe5cf8b01ff0e069b9275f58929596ceb00d14d90e3e16cd6"
   }
  }
 },
 "nbformat": 4,
 "nbformat_minor": 2
}
