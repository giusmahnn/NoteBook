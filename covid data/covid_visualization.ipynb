{
 "cells": [
  {
   "cell_type": "code",
   "execution_count": 1,
   "metadata": {},
   "outputs": [],
   "source": [
    "import pandas as pd\n",
    "import numpy as np\n",
    "%matplotlib inline\n",
    "import matplotlib as plt\n",
    "from matplotlib import pyplot\n",
    "from scipy.stats import f_oneway,pearsonr\n",
    "import seaborn as sns\n",
    "from sklearn.linear_model import LinearRegression\n",
    "from sklearn.metrics import mean_squared_error\n",
    "import plotly.express as px\n",
    "import plotly.graph_objects as go"
   ]
  },
  {
   "cell_type": "code",
   "execution_count": 2,
   "metadata": {},
   "outputs": [
    {
     "data": {
      "text/html": [
       "<div>\n",
       "<style scoped>\n",
       "    .dataframe tbody tr th:only-of-type {\n",
       "        vertical-align: middle;\n",
       "    }\n",
       "\n",
       "    .dataframe tbody tr th {\n",
       "        vertical-align: top;\n",
       "    }\n",
       "\n",
       "    .dataframe thead th {\n",
       "        text-align: right;\n",
       "    }\n",
       "</style>\n",
       "<table border=\"1\" class=\"dataframe\">\n",
       "  <thead>\n",
       "    <tr style=\"text-align: right;\">\n",
       "      <th></th>\n",
       "      <th>country</th>\n",
       "      <th>total_cases</th>\n",
       "      <th>total_deaths</th>\n",
       "      <th>total_recovered</th>\n",
       "      <th>active_cases</th>\n",
       "      <th>total_test</th>\n",
       "      <th>population</th>\n",
       "    </tr>\n",
       "  </thead>\n",
       "  <tbody>\n",
       "    <tr>\n",
       "      <th>0</th>\n",
       "      <td>USA</td>\n",
       "      <td>1.000000</td>\n",
       "      <td>1.000000</td>\n",
       "      <td>1.000000</td>\n",
       "      <td>0.158971</td>\n",
       "      <td>1.000000</td>\n",
       "      <td>0.238019</td>\n",
       "    </tr>\n",
       "    <tr>\n",
       "      <th>1</th>\n",
       "      <td>India</td>\n",
       "      <td>0.428830</td>\n",
       "      <td>0.468465</td>\n",
       "      <td>0.435739</td>\n",
       "      <td>0.000160</td>\n",
       "      <td>0.789136</td>\n",
       "      <td>1.000000</td>\n",
       "    </tr>\n",
       "    <tr>\n",
       "      <th>2</th>\n",
       "      <td>France</td>\n",
       "      <td>0.379323</td>\n",
       "      <td>0.144962</td>\n",
       "      <td>0.387519</td>\n",
       "      <td>0.008722</td>\n",
       "      <td>0.234077</td>\n",
       "      <td>0.046625</td>\n",
       "    </tr>\n",
       "    <tr>\n",
       "      <th>3</th>\n",
       "      <td>Germany</td>\n",
       "      <td>0.362581</td>\n",
       "      <td>0.146267</td>\n",
       "      <td>0.369099</td>\n",
       "      <td>0.019723</td>\n",
       "      <td>0.105474</td>\n",
       "      <td>0.059634</td>\n",
       "    </tr>\n",
       "    <tr>\n",
       "      <th>4</th>\n",
       "      <td>Brazil</td>\n",
       "      <td>0.353413</td>\n",
       "      <td>0.615282</td>\n",
       "      <td>0.354504</td>\n",
       "      <td>0.019003</td>\n",
       "      <td>0.054987</td>\n",
       "      <td>0.153099</td>\n",
       "    </tr>\n",
       "  </tbody>\n",
       "</table>\n",
       "</div>"
      ],
      "text/plain": [
       "   country  total_cases  total_deaths  total_recovered  active_cases  \\\n",
       "0      USA     1.000000      1.000000         1.000000      0.158971   \n",
       "1    India     0.428830      0.468465         0.435739      0.000160   \n",
       "2   France     0.379323      0.144962         0.387519      0.008722   \n",
       "3  Germany     0.362581      0.146267         0.369099      0.019723   \n",
       "4   Brazil     0.353413      0.615282         0.354504      0.019003   \n",
       "\n",
       "   total_test  population  \n",
       "0    1.000000    0.238019  \n",
       "1    0.789136    1.000000  \n",
       "2    0.234077    0.046625  \n",
       "3    0.105474    0.059634  \n",
       "4    0.054987    0.153099  "
      ]
     },
     "execution_count": 2,
     "metadata": {},
     "output_type": "execute_result"
    }
   ],
   "source": [
    "df = pd.read_csv('cleaned_covid_worldwide.csv')\n",
    "df.head()"
   ]
  },
  {
   "cell_type": "code",
   "execution_count": 3,
   "metadata": {},
   "outputs": [
    {
     "name": "stdout",
     "output_type": "stream",
     "text": [
      "<class 'pandas.core.frame.DataFrame'>\n",
      "RangeIndex: 231 entries, 0 to 230\n",
      "Data columns (total 7 columns):\n",
      " #   Column           Non-Null Count  Dtype  \n",
      "---  ------           --------------  -----  \n",
      " 0   country          231 non-null    object \n",
      " 1   total_cases      231 non-null    float64\n",
      " 2   total_deaths     231 non-null    float64\n",
      " 3   total_recovered  231 non-null    float64\n",
      " 4   active_cases     231 non-null    float64\n",
      " 5   total_test       231 non-null    float64\n",
      " 6   population       231 non-null    float64\n",
      "dtypes: float64(6), object(1)\n",
      "memory usage: 12.8+ KB\n"
     ]
    }
   ],
   "source": [
    "df.info()"
   ]
  },
  {
   "cell_type": "code",
   "execution_count": 4,
   "metadata": {},
   "outputs": [
    {
     "data": {
      "text/html": [
       "<div>\n",
       "<style scoped>\n",
       "    .dataframe tbody tr th:only-of-type {\n",
       "        vertical-align: middle;\n",
       "    }\n",
       "\n",
       "    .dataframe tbody tr th {\n",
       "        vertical-align: top;\n",
       "    }\n",
       "\n",
       "    .dataframe thead th {\n",
       "        text-align: right;\n",
       "    }\n",
       "</style>\n",
       "<table border=\"1\" class=\"dataframe\">\n",
       "  <thead>\n",
       "    <tr style=\"text-align: right;\">\n",
       "      <th></th>\n",
       "      <th>total_cases</th>\n",
       "      <th>total_deaths</th>\n",
       "      <th>total_recovered</th>\n",
       "      <th>active_cases</th>\n",
       "      <th>total_test</th>\n",
       "      <th>population</th>\n",
       "    </tr>\n",
       "  </thead>\n",
       "  <tbody>\n",
       "    <tr>\n",
       "      <th>count</th>\n",
       "      <td>231.000000</td>\n",
       "      <td>231.000000</td>\n",
       "      <td>231.000000</td>\n",
       "      <td>231.000000</td>\n",
       "      <td>231.000000</td>\n",
       "      <td>231.000000</td>\n",
       "    </tr>\n",
       "    <tr>\n",
       "      <th>mean</th>\n",
       "      <td>0.028057</td>\n",
       "      <td>0.025842</td>\n",
       "      <td>0.026862</td>\n",
       "      <td>0.007625</td>\n",
       "      <td>0.025832</td>\n",
       "      <td>0.019993</td>\n",
       "    </tr>\n",
       "    <tr>\n",
       "      <th>std</th>\n",
       "      <td>0.090975</td>\n",
       "      <td>0.091892</td>\n",
       "      <td>0.089971</td>\n",
       "      <td>0.067060</td>\n",
       "      <td>0.097749</td>\n",
       "      <td>0.072274</td>\n",
       "    </tr>\n",
       "    <tr>\n",
       "      <th>min</th>\n",
       "      <td>0.000000</td>\n",
       "      <td>0.000000</td>\n",
       "      <td>0.000000</td>\n",
       "      <td>0.000000</td>\n",
       "      <td>0.000000</td>\n",
       "      <td>0.000000</td>\n",
       "    </tr>\n",
       "    <tr>\n",
       "      <th>25%</th>\n",
       "      <td>0.000230</td>\n",
       "      <td>0.000158</td>\n",
       "      <td>0.000119</td>\n",
       "      <td>0.000002</td>\n",
       "      <td>0.000195</td>\n",
       "      <td>0.000289</td>\n",
       "    </tr>\n",
       "    <tr>\n",
       "      <th>50%</th>\n",
       "      <td>0.001983</td>\n",
       "      <td>0.001734</td>\n",
       "      <td>0.001298</td>\n",
       "      <td>0.000067</td>\n",
       "      <td>0.001441</td>\n",
       "      <td>0.003918</td>\n",
       "    </tr>\n",
       "    <tr>\n",
       "      <th>75%</th>\n",
       "      <td>0.012439</td>\n",
       "      <td>0.012277</td>\n",
       "      <td>0.012388</td>\n",
       "      <td>0.000852</td>\n",
       "      <td>0.009902</td>\n",
       "      <td>0.015302</td>\n",
       "    </tr>\n",
       "    <tr>\n",
       "      <th>max</th>\n",
       "      <td>1.000000</td>\n",
       "      <td>1.000000</td>\n",
       "      <td>1.000000</td>\n",
       "      <td>1.000000</td>\n",
       "      <td>1.000000</td>\n",
       "      <td>1.000000</td>\n",
       "    </tr>\n",
       "  </tbody>\n",
       "</table>\n",
       "</div>"
      ],
      "text/plain": [
       "       total_cases  total_deaths  total_recovered  active_cases  total_test  \\\n",
       "count   231.000000    231.000000       231.000000    231.000000  231.000000   \n",
       "mean      0.028057      0.025842         0.026862      0.007625    0.025832   \n",
       "std       0.090975      0.091892         0.089971      0.067060    0.097749   \n",
       "min       0.000000      0.000000         0.000000      0.000000    0.000000   \n",
       "25%       0.000230      0.000158         0.000119      0.000002    0.000195   \n",
       "50%       0.001983      0.001734         0.001298      0.000067    0.001441   \n",
       "75%       0.012439      0.012277         0.012388      0.000852    0.009902   \n",
       "max       1.000000      1.000000         1.000000      1.000000    1.000000   \n",
       "\n",
       "       population  \n",
       "count  231.000000  \n",
       "mean     0.019993  \n",
       "std      0.072274  \n",
       "min      0.000000  \n",
       "25%      0.000289  \n",
       "50%      0.003918  \n",
       "75%      0.015302  \n",
       "max      1.000000  "
      ]
     },
     "execution_count": 4,
     "metadata": {},
     "output_type": "execute_result"
    }
   ],
   "source": [
    "df.describe()"
   ]
  },
  {
   "cell_type": "code",
   "execution_count": 5,
   "metadata": {},
   "outputs": [
    {
     "name": "stderr",
     "output_type": "stream",
     "text": [
      "/tmp/ipykernel_60873/1134722465.py:1: FutureWarning: The default value of numeric_only in DataFrame.corr is deprecated. In a future version, it will default to False. Select only valid columns or specify the value of numeric_only to silence this warning.\n",
      "  df.corr()\n"
     ]
    },
    {
     "data": {
      "text/html": [
       "<div>\n",
       "<style scoped>\n",
       "    .dataframe tbody tr th:only-of-type {\n",
       "        vertical-align: middle;\n",
       "    }\n",
       "\n",
       "    .dataframe tbody tr th {\n",
       "        vertical-align: top;\n",
       "    }\n",
       "\n",
       "    .dataframe thead th {\n",
       "        text-align: right;\n",
       "    }\n",
       "</style>\n",
       "<table border=\"1\" class=\"dataframe\">\n",
       "  <thead>\n",
       "    <tr style=\"text-align: right;\">\n",
       "      <th></th>\n",
       "      <th>total_cases</th>\n",
       "      <th>total_deaths</th>\n",
       "      <th>total_recovered</th>\n",
       "      <th>active_cases</th>\n",
       "      <th>total_test</th>\n",
       "      <th>population</th>\n",
       "    </tr>\n",
       "  </thead>\n",
       "  <tbody>\n",
       "    <tr>\n",
       "      <th>total_cases</th>\n",
       "      <td>1.000000</td>\n",
       "      <td>0.878769</td>\n",
       "      <td>0.990231</td>\n",
       "      <td>0.346931</td>\n",
       "      <td>0.841575</td>\n",
       "      <td>0.527981</td>\n",
       "    </tr>\n",
       "    <tr>\n",
       "      <th>total_deaths</th>\n",
       "      <td>0.878769</td>\n",
       "      <td>1.000000</td>\n",
       "      <td>0.883873</td>\n",
       "      <td>0.162793</td>\n",
       "      <td>0.794367</td>\n",
       "      <td>0.577434</td>\n",
       "    </tr>\n",
       "    <tr>\n",
       "      <th>total_recovered</th>\n",
       "      <td>0.990231</td>\n",
       "      <td>0.883873</td>\n",
       "      <td>1.000000</td>\n",
       "      <td>0.279439</td>\n",
       "      <td>0.844724</td>\n",
       "      <td>0.529768</td>\n",
       "    </tr>\n",
       "    <tr>\n",
       "      <th>active_cases</th>\n",
       "      <td>0.346931</td>\n",
       "      <td>0.162793</td>\n",
       "      <td>0.279439</td>\n",
       "      <td>1.000000</td>\n",
       "      <td>0.152164</td>\n",
       "      <td>0.104621</td>\n",
       "    </tr>\n",
       "    <tr>\n",
       "      <th>total_test</th>\n",
       "      <td>0.841575</td>\n",
       "      <td>0.794367</td>\n",
       "      <td>0.844724</td>\n",
       "      <td>0.152164</td>\n",
       "      <td>1.000000</td>\n",
       "      <td>0.664800</td>\n",
       "    </tr>\n",
       "    <tr>\n",
       "      <th>population</th>\n",
       "      <td>0.527981</td>\n",
       "      <td>0.577434</td>\n",
       "      <td>0.529768</td>\n",
       "      <td>0.104621</td>\n",
       "      <td>0.664800</td>\n",
       "      <td>1.000000</td>\n",
       "    </tr>\n",
       "  </tbody>\n",
       "</table>\n",
       "</div>"
      ],
      "text/plain": [
       "                 total_cases  total_deaths  total_recovered  active_cases  \\\n",
       "total_cases         1.000000      0.878769         0.990231      0.346931   \n",
       "total_deaths        0.878769      1.000000         0.883873      0.162793   \n",
       "total_recovered     0.990231      0.883873         1.000000      0.279439   \n",
       "active_cases        0.346931      0.162793         0.279439      1.000000   \n",
       "total_test          0.841575      0.794367         0.844724      0.152164   \n",
       "population          0.527981      0.577434         0.529768      0.104621   \n",
       "\n",
       "                 total_test  population  \n",
       "total_cases        0.841575    0.527981  \n",
       "total_deaths       0.794367    0.577434  \n",
       "total_recovered    0.844724    0.529768  \n",
       "active_cases       0.152164    0.104621  \n",
       "total_test         1.000000    0.664800  \n",
       "population         0.664800    1.000000  "
      ]
     },
     "execution_count": 5,
     "metadata": {},
     "output_type": "execute_result"
    }
   ],
   "source": [
    "df.corr()"
   ]
  },
  {
   "cell_type": "code",
   "execution_count": 6,
   "metadata": {},
   "outputs": [
    {
     "data": {
      "text/plain": [
       "0.000000    6\n",
       "0.000034    3\n",
       "0.000002    3\n",
       "0.000735    2\n",
       "0.000065    2\n",
       "           ..\n",
       "0.005488    1\n",
       "0.008451    1\n",
       "0.008902    1\n",
       "0.017494    1\n",
       "0.000007    1\n",
       "Name: total_deaths, Length: 214, dtype: int64"
      ]
     },
     "execution_count": 6,
     "metadata": {},
     "output_type": "execute_result"
    }
   ],
   "source": [
    "df['total_deaths'].value_counts()"
   ]
  },
  {
   "cell_type": "code",
   "execution_count": 7,
   "metadata": {},
   "outputs": [
    {
     "data": {
      "text/plain": [
       "<seaborn.axisgrid.PairGrid at 0x7f70cc755120>"
      ]
     },
     "execution_count": 7,
     "metadata": {},
     "output_type": "execute_result"
    },
    {
     "data": {
      "image/png": "[encoded data removed]",
      "text/plain": [
       "<Figure size 1335.24x1250 with 30 Axes>"
      ]
     },
     "metadata": {},
     "output_type": "display_data"
    }
   ],
   "source": [
    "sns.pairplot(df, hue='population')"
   ]
  },
  {
   "cell_type": "code",
   "execution_count": 8,
   "metadata": {},
   "outputs": [
    {
     "data": {
      "application/vnd.plotly.v1+json": {
       "config": {
        "plotlyServerURL": "https://plot.ly"
       },
       "data": [
        {
         "coloraxis": "coloraxis",
         "geo": "geo",
         "hovertemplate": "total_cases=1.0<br>country=%{location}<br>total_deaths=%{z}<extra></extra>",
         "ids": [
          1
         ],
         "locationmode": "country names",
         "locations": [
          "USA"
         ],
         "name": "",
         "type": "choropleth",
         "z": [
          1
         ]
        }
       ],
       "frames": [
        {
         "data": [
          {
           "coloraxis": "coloraxis",
           "geo": "geo",
           "hovertemplate": "total_cases=1.0<br>country=%{location}<br>total_deaths=%{z}<extra></extra>",
           "ids": [
            1
           ],
           "locationmode": "country names",
           "locations": [
            "USA"
           ],
           "name": "",
           "type": "choropleth",
           "z": [
            1
           ]
          }
         ],
         "name": "1.0"
        },
        {
         "data": [
          {
           "coloraxis": "coloraxis",
           "geo": "geo",
           "hovertemplate": "total_cases=0.428830395803881<br>country=%{location}<br>total_deaths=%{z}<extra></extra>",
           "ids": [
            0.428830395803881
           ],
           "locationmode": "country names",
           "locations": [
            "India"
           ],
           "name": "",
           "type": "choropleth",
           "z": [
            0.4684646515466465
           ]
          }
         ],
         "name": "0.428830395803881"
        },
        {
         "data": [
          {
           "coloraxis": "coloraxis",
           "geo": "geo",
           "hovertemplate": "total_cases=0.3793234030017182<br>country=%{location}<br>total_deaths=%{z}<extra></extra>",
           "ids": [
            0.3793234030017182
           ],
           "locationmode": "country names",
           "locations": [
            "France"
           ],
           "name": "",
           "type": "choropleth",
           "z": [
            0.144962420615481
           ]
          }
         ],
         "name": "0.3793234030017182"
        },
        {
         "data": [
          {
           "coloraxis": "coloraxis",
           "geo": "geo",
           "hovertemplate": "total_cases=0.3625812663675763<br>country=%{location}<br>total_deaths=%{z}<extra></extra>",
           "ids": [
            0.3625812663675763
           ],
           "locationmode": "country names",
           "locations": [
            "Germany"
           ],
           "name": "",
           "type": "choropleth",
           "z": [
            0.1462669967826927
           ]
          }
         ],
         "name": "0.3625812663675763"
        },
        {
         "data": [
          {
           "coloraxis": "coloraxis",
           "geo": "geo",
           "hovertemplate": "total_cases=0.3534134945492021<br>country=%{location}<br>total_deaths=%{z}<extra></extra>",
           "ids": [
            0.3534134945492021
           ],
           "locationmode": "country names",
           "locations": [
            "Brazil"
           ],
           "name": "",
           "type": "choropleth",
           "z": [
            0.6152815474850719
           ]
          }
         ],
         "name": "0.3534134945492021"
        },
        {
         "data": [
          {
           "coloraxis": "coloraxis",
           "geo": "geo",
           "hovertemplate": "total_cases=0.3127583523249492<br>country=%{location}<br>total_deaths=%{z}<extra></extra>",
           "ids": [
            0.3127583523249492
           ],
           "locationmode": "country names",
           "locations": [
            "Japan"
           ],
           "name": "",
           "type": "choropleth",
           "z": [
            0.0603732782551514
           ]
          }
         ],
         "name": "0.3127583523249492"
        },
        {
         "data": [
          {
           "coloraxis": "coloraxis",
           "geo": "geo",
           "hovertemplate": "total_cases=0.2898077942006234<br>country=%{location}<br>total_deaths=%{z}<extra></extra>",
           "ids": [
            0.2898077942006234
           ],
           "locationmode": "country names",
           "locations": [
            "S. Korea"
           ],
           "name": "",
           "type": "choropleth",
           "z": [
            0.0295568589548385
           ]
          }
         ],
         "name": "0.2898077942006234"
        },
        {
         "data": [
          {
           "coloraxis": "coloraxis",
           "geo": "geo",
           "hovertemplate": "total_cases=0.2442855281545155<br>country=%{location}<br>total_deaths=%{z}<extra></extra>",
           "ids": [
            0.2442855281545155
           ],
           "locationmode": "country names",
           "locations": [
            "Italy"
           ],
           "name": "",
           "type": "choropleth",
           "z": [
            0.1649106082873245
           ]
          }
         ],
         "name": "0.2442855281545155"
        },
        {
         "data": [
          {
           "coloraxis": "coloraxis",
           "geo": "geo",
           "hovertemplate": "total_cases=0.2329662998660919<br>country=%{location}<br>total_deaths=%{z}<extra></extra>",
           "ids": [
            0.2329662998660919
           ],
           "locationmode": "country names",
           "locations": [
            "UK"
           ],
           "name": "",
           "type": "choropleth",
           "z": [
            0.1802142223516795
           ]
          }
         ],
         "name": "0.2329662998660919"
        },
        {
         "data": [
          {
           "coloraxis": "coloraxis",
           "geo": "geo",
           "hovertemplate": "total_cases=0.2107423567559466<br>country=%{location}<br>total_deaths=%{z}<extra></extra>",
           "ids": [
            0.2107423567559466
           ],
           "locationmode": "country names",
           "locations": [
            "Russia"
           ],
           "name": "",
           "type": "choropleth",
           "z": [
            0.3487472802941033
           ]
          }
         ],
         "name": "0.2107423567559466"
        },
        {
         "data": [
          {
           "coloraxis": "coloraxis",
           "geo": "geo",
           "hovertemplate": "total_cases=0.1635626798566743<br>country=%{location}<br>total_deaths=%{z}<extra></extra>",
           "ids": [
            0.1635626798566743
           ],
           "locationmode": "country names",
           "locations": [
            "Turkey"
           ],
           "name": "",
           "type": "choropleth",
           "z": [
            0.089583250583661
           ]
          }
         ],
         "name": "0.1635626798566743"
        },
        {
         "data": [
          {
           "coloraxis": "coloraxis",
           "geo": "geo",
           "hovertemplate": "total_cases=0.1317839474926191<br>country=%{location}<br>total_deaths=%{z}<extra></extra>",
           "ids": [
            0.1317839474926191
           ],
           "locationmode": "country names",
           "locations": [
            "Spain"
           ],
           "name": "",
           "type": "choropleth",
           "z": [
            0.104537330032173
           ]
          }
         ],
         "name": "0.1317839474926191"
        },
        {
         "data": [
          {
           "coloraxis": "coloraxis",
           "geo": "geo",
           "hovertemplate": "total_cases=0.1106223684906577<br>country=%{location}<br>total_deaths=%{z}<extra></extra>",
           "ids": [
            0.1106223684906577
           ],
           "locationmode": "country names",
           "locations": [
            "Vietnam"
           ],
           "name": "",
           "type": "choropleth",
           "z": [
            0.0381186917166474
           ]
          }
         ],
         "name": "0.1106223684906577"
        },
        {
         "data": [
          {
           "coloraxis": "coloraxis",
           "geo": "geo",
           "hovertemplate": "total_cases=0.1084048159764052<br>country=%{location}<br>total_deaths=%{z}<extra></extra>",
           "ids": [
            0.1084048159764052
           ],
           "locationmode": "country names",
           "locations": [
            "Australia"
           ],
           "name": "",
           "type": "choropleth",
           "z": [
            0.0164307749341312
           ]
          }
         ],
         "name": "0.1084048159764052"
        },
        {
         "data": [
          {
           "coloraxis": "coloraxis",
           "geo": "geo",
           "hovertemplate": "total_cases=0.0963285302965379<br>country=%{location}<br>total_deaths=%{z}<extra></extra>",
           "ids": [
            0.0963285302965379
           ],
           "locationmode": "country names",
           "locations": [
            "Argentina"
           ],
           "name": "",
           "type": "choropleth",
           "z": [
            0.115117813466792
           ]
          }
         ],
         "name": "0.0963285302965379"
        },
        {
         "data": [
          {
           "coloraxis": "coloraxis",
           "geo": "geo",
           "hovertemplate": "total_cases=0.0918416002878244<br>country=%{location}<br>total_deaths=%{z}<extra></extra>",
           "ids": [
            0.0918416002878244
           ],
           "locationmode": "country names",
           "locations": [
            "Taiwan"
           ],
           "name": "",
           "type": "choropleth",
           "z": [
            0.0144368388301182
           ]
          }
         ],
         "name": "0.0918416002878244"
        },
        {
         "data": [
          {
           "coloraxis": "coloraxis",
           "geo": "geo",
           "hovertemplate": "total_cases=0.0823680802806564<br>country=%{location}<br>total_deaths=%{z}<extra></extra>",
           "ids": [
            0.0823680802806564
           ],
           "locationmode": "country names",
           "locations": [
            "Netherlands"
           ],
           "name": "",
           "type": "choropleth",
           "z": [
            0.0202915436454871
           ]
          }
         ],
         "name": "0.0823680802806564"
        },
        {
         "data": [
          {
           "coloraxis": "coloraxis",
           "geo": "geo",
           "hovertemplate": "total_cases=0.072596672206693<br>country=%{location}<br>total_deaths=%{z}<extra></extra>",
           "ids": [
            0.072596672206693
           ],
           "locationmode": "country names",
           "locations": [
            "Iran"
           ],
           "name": "",
           "type": "choropleth",
           "z": [
            0.1277646113854722
           ]
          }
         ],
         "name": "0.072596672206693"
        },
        {
         "data": [
          {
           "coloraxis": "coloraxis",
           "geo": "geo",
           "hovertemplate": "total_cases=0.0707146768420728<br>country=%{location}<br>total_deaths=%{z}<extra></extra>",
           "ids": [
            0.0707146768420728
           ],
           "locationmode": "country names",
           "locations": [
            "Mexico"
           ],
           "name": "",
           "type": "choropleth",
           "z": [
            0.2932189401863302
           ]
          }
         ],
         "name": "0.0707146768420728"
        },
        {
         "data": [
          {
           "coloraxis": "coloraxis",
           "geo": "geo",
           "hovertemplate": "total_cases=0.064592006499697<br>country=%{location}<br>total_deaths=%{z}<extra></extra>",
           "ids": [
            0.064592006499697
           ],
           "locationmode": "country names",
           "locations": [
            "Indonesia"
           ],
           "name": "",
           "type": "choropleth",
           "z": [
            0.1419472432222501
           ]
          }
         ],
         "name": "0.064592006499697"
        },
        {
         "data": [
          {
           "coloraxis": "coloraxis",
           "geo": "geo",
           "hovertemplate": "total_cases=0.0612323657827065<br>country=%{location}<br>total_deaths=%{z}<extra></extra>",
           "ids": [
            0.0612323657827065
           ],
           "locationmode": "country names",
           "locations": [
            "Poland"
           ],
           "name": "",
           "type": "choropleth",
           "z": [
            0.1048038943099118
           ]
          }
         ],
         "name": "0.0612323657827065"
        },
        {
         "data": [
          {
           "coloraxis": "coloraxis",
           "geo": "geo",
           "hovertemplate": "total_cases=0.0610028387036937<br>country=%{location}<br>total_deaths=%{z}<extra></extra>",
           "ids": [
            0.0610028387036937
           ],
           "locationmode": "country names",
           "locations": [
            "Colombia"
           ],
           "name": "",
           "type": "choropleth",
           "z": [
            0.1257671446287739
           ]
          }
         ],
         "name": "0.0610028387036937"
        },
        {
         "data": [
          {
           "coloraxis": "coloraxis",
           "geo": "geo",
           "hovertemplate": "total_cases=0.0554740730372901<br>country=%{location}<br>total_deaths=%{z}<extra></extra>",
           "ids": [
            0.0554740730372901
           ],
           "locationmode": "country names",
           "locations": [
            "Austria"
           ],
           "name": "",
           "type": "choropleth",
           "z": [
            0.0191440815227705
           ]
          }
         ],
         "name": "0.0554740730372901"
        },
        {
         "data": [
          {
           "coloraxis": "coloraxis",
           "geo": "geo",
           "hovertemplate": "total_cases=0.0547837643009113<br>country=%{location}<br>total_deaths=%{z}<extra></extra>",
           "ids": [
            0.0547837643009113
           ],
           "locationmode": "country names",
           "locations": [
            "Greece"
           ],
           "name": "",
           "type": "choropleth",
           "z": [
            0.0314492887941497
           ]
          }
         ],
         "name": "0.0547837643009113"
        },
        {
         "data": [
          {
           "coloraxis": "coloraxis",
           "geo": "geo",
           "hovertemplate": "total_cases=0.05339798352457<br>country=%{location}<br>total_deaths=%{z}<extra></extra>",
           "ids": [
            0.05339798352457
           ],
           "locationmode": "country names",
           "locations": [
            "Portugal"
           ],
           "name": "",
           "type": "choropleth",
           "z": [
            0.0229686610441022
           ]
          }
         ],
         "name": "0.05339798352457"
        },
        {
         "data": [
          {
           "coloraxis": "coloraxis",
           "geo": "geo",
           "hovertemplate": "total_cases=0.0515382729014395<br>country=%{location}<br>total_deaths=%{z}<extra></extra>",
           "ids": [
            0.0515382729014395
           ],
           "locationmode": "country names",
           "locations": [
            "Ukraine"
           ],
           "name": "",
           "type": "choropleth",
           "z": [
            0.0979932652800028
           ]
          }
         ],
         "name": "0.0515382729014395"
        },
        {
         "data": [
          {
           "coloraxis": "coloraxis",
           "geo": "geo",
           "hovertemplate": "total_cases=0.049127931460811<br>country=%{location}<br>total_deaths=%{z}<extra></extra>",
           "ids": [
            0.049127931460811
           ],
           "locationmode": "country names",
           "locations": [
            "Chile"
           ],
           "name": "",
           "type": "choropleth",
           "z": [
            0.0563245022883042
           ]
          }
         ],
         "name": "0.049127931460811"
        },
        {
         "data": [
          {
           "coloraxis": "coloraxis",
           "geo": "geo",
           "hovertemplate": "total_cases=0.0483372358183245<br>country=%{location}<br>total_deaths=%{z}<extra></extra>",
           "ids": [
            0.0483372358183245
           ],
           "locationmode": "country names",
           "locations": [
            "Malaysia"
           ],
           "name": "",
           "type": "choropleth",
           "z": [
            0.0326073428749222
           ]
          }
         ],
         "name": "0.0483372358183245"
        },
        {
         "data": [
          {
           "coloraxis": "coloraxis",
           "geo": "geo",
           "hovertemplate": "total_cases=0.0459340539027396<br>country=%{location}<br>total_deaths=%{z}<extra></extra>",
           "ids": [
            0.0459340539027396
           ],
           "locationmode": "country names",
           "locations": [
            "Israel"
           ],
           "name": "",
           "type": "choropleth",
           "z": [
            0.0107623120479109
           ]
          }
         ],
         "name": "0.0459340539027396"
        },
        {
         "data": [
          {
           "coloraxis": "coloraxis",
           "geo": "geo",
           "hovertemplate": "total_cases=0.0458056815073191<br>country=%{location}<br>total_deaths=%{z}<extra></extra>",
           "ids": [
            0.0458056815073191
           ],
           "locationmode": "country names",
           "locations": [
            "DPRK"
           ],
           "name": "",
           "type": "choropleth",
           "z": [
            0.00006531707467771761
           ]
          }
         ],
         "name": "0.0458056815073191"
        },
        {
         "data": [
          {
           "coloraxis": "coloraxis",
           "geo": "geo",
           "hovertemplate": "total_cases=0.0453658505780635<br>country=%{location}<br>total_deaths=%{z}<extra></extra>",
           "ids": [
            0.0453658505780635
           ],
           "locationmode": "country names",
           "locations": [
            "Thailand"
           ],
           "name": "",
           "type": "choropleth",
           "z": [
            0.029891388296769
           ]
          }
         ],
         "name": "0.0453658505780635"
        },
        {
         "data": [
          {
           "coloraxis": "coloraxis",
           "geo": "geo",
           "hovertemplate": "total_cases=0.045025293277563<br>country=%{location}<br>total_deaths=%{z}<extra></extra>",
           "ids": [
            0.045025293277563
           ],
           "locationmode": "country names",
           "locations": [
            "Belgium"
           ],
           "name": "",
           "type": "choropleth",
           "z": [
            0.0296195280400022
           ]
          }
         ],
         "name": "0.045025293277563"
        },
        {
         "data": [
          {
           "coloraxis": "coloraxis",
           "geo": "geo",
           "hovertemplate": "total_cases=0.0440513675383833<br>country=%{location}<br>total_deaths=%{z}<extra></extra>",
           "ids": [
            0.0440513675383833
           ],
           "locationmode": "country names",
           "locations": [
            "Czechia"
           ],
           "name": "",
           "type": "choropleth",
           "z": [
            0.0373472441049133
           ]
          }
         ],
         "name": "0.0440513675383833"
        },
        {
         "data": [
          {
           "coloraxis": "coloraxis",
           "geo": "geo",
           "hovertemplate": "total_cases=0.0436697533368953<br>country=%{location}<br>total_deaths=%{z}<extra></extra>",
           "ids": [
            0.0436697533368953
           ],
           "locationmode": "country names",
           "locations": [
            "Canada"
           ],
           "name": "",
           "type": "choropleth",
           "z": [
            0.0444685705711272
           ]
          }
         ],
         "name": "0.0436697533368953"
        },
        {
         "data": [
          {
           "coloraxis": "coloraxis",
           "geo": "geo",
           "hovertemplate": "total_cases=0.0430110482412252<br>country=%{location}<br>total_deaths=%{z}<extra></extra>",
           "ids": [
            0.0430110482412252
           ],
           "locationmode": "country names",
           "locations": [
            "Peru"
           ],
           "name": "",
           "type": "choropleth",
           "z": [
            0.1932423307603702
           ]
          }
         ],
         "name": "0.0430110482412252"
        },
        {
         "data": [
          {
           "coloraxis": "coloraxis",
           "geo": "geo",
           "hovertemplate": "total_cases=0.0420904830372233<br>country=%{location}<br>total_deaths=%{z}<extra></extra>",
           "ids": [
            0.0420904830372233
           ],
           "locationmode": "country names",
           "locations": [
            "Switzerland"
           ],
           "name": "",
           "type": "choropleth",
           "z": [
            0.0127562481519239
           ]
          }
         ],
         "name": "0.0420904830372233"
        },
        {
         "data": [
          {
           "coloraxis": "coloraxis",
           "geo": "geo",
           "hovertemplate": "total_cases=0.0390937803344085<br>country=%{location}<br>total_deaths=%{z}<extra></extra>",
           "ids": [
            0.0390937803344085
           ],
           "locationmode": "country names",
           "locations": [
            "Philippines"
           ],
           "name": "",
           "type": "choropleth",
           "z": [
            0.058081001999232
           ]
          }
         ],
         "name": "0.0390937803344085"
        },
        {
         "data": [
          {
           "coloraxis": "coloraxis",
           "geo": "geo",
           "hovertemplate": "total_cases=0.0389259441762811<br>country=%{location}<br>total_deaths=%{z}<extra></extra>",
           "ids": [
            0.0389259441762811
           ],
           "locationmode": "country names",
           "locations": [
            "South Africa"
           ],
           "name": "",
           "type": "choropleth",
           "z": [
            0.0905568280616275
           ]
          }
         ],
         "name": "0.0389259441762811"
        },
        {
         "data": [
          {
           "coloraxis": "coloraxis",
           "geo": "geo",
           "hovertemplate": "total_cases=0.0319107612997459<br>country=%{location}<br>total_deaths=%{z}<extra></extra>",
           "ids": [
            0.0319107612997459
           ],
           "locationmode": "country names",
           "locations": [
            "Romania"
           ],
           "name": "",
           "type": "choropleth",
           "z": [
            0.0596468464651546
           ]
          }
         ],
         "name": "0.0319107612997459"
        },
        {
         "data": [
          {
           "coloraxis": "coloraxis",
           "geo": "geo",
           "hovertemplate": "total_cases=0.0304542970087312<br>country=%{location}<br>total_deaths=%{z}<extra></extra>",
           "ids": [
            0.0304542970087312
           ],
           "locationmode": "country names",
           "locations": [
            "Denmark"
           ],
           "name": "",
           "type": "choropleth",
           "z": [
            0.0071892915304055
           ]
          }
         ],
         "name": "0.0304542970087312"
        },
        {
         "data": [
          {
           "coloraxis": "coloraxis",
           "geo": "geo",
           "hovertemplate": "total_cases=0.0276138370240269<br>country=%{location}<br>total_deaths=%{z}<extra></extra>",
           "ids": [
            0.0276138370240269
           ],
           "locationmode": "country names",
           "locations": [
            "Hong Kong"
           ],
           "name": "",
           "type": "choropleth",
           "z": [
            0.0117906146424993
           ]
          }
         ],
         "name": "0.0276138370240269"
        },
        {
         "data": [
          {
           "coloraxis": "coloraxis",
           "geo": "geo",
           "hovertemplate": "total_cases=0.0258496571144142<br>country=%{location}<br>total_deaths=%{z}<extra></extra>",
           "ids": [
            0.0258496571144142
           ],
           "locationmode": "country names",
           "locations": [
            "Sweden"
           ],
           "name": "",
           "type": "choropleth",
           "z": [
            0.0205183880805165
           ]
          }
         ],
         "name": "0.0258496571144142"
        },
        {
         "data": [
          {
           "coloraxis": "coloraxis",
           "geo": "geo",
           "hovertemplate": "total_cases=0.0237165793179018<br>country=%{location}<br>total_deaths=%{z}<extra></extra>",
           "ids": [
            0.0237165793179018
           ],
           "locationmode": "country names",
           "locations": [
            "Serbia"
           ],
           "name": "",
           "type": "choropleth",
           "z": [
            0.0156240207955443
           ]
          }
         ],
         "name": "0.0237165793179018"
        },
        {
         "data": [
          {
           "coloraxis": "coloraxis",
           "geo": "geo",
           "hovertemplate": "total_cases=0.0236623262413983<br>country=%{location}<br>total_deaths=%{z}<extra></extra>",
           "ids": [
            0.0236623262413983
           ],
           "locationmode": "country names",
           "locations": [
            "Iraq"
           ],
           "name": "",
           "type": "choropleth",
           "z": [
            0.0223975779722578
           ]
          }
         ],
         "name": "0.0236623262413983"
        },
        {
         "data": [
          {
           "coloraxis": "coloraxis",
           "geo": "geo",
           "hovertemplate": "total_cases=0.0212780412491524<br>country=%{location}<br>total_deaths=%{z}<extra></extra>",
           "ids": [
            0.0212780412491524
           ],
           "locationmode": "country names",
           "locations": [
            "Singapore"
           ],
           "name": "",
           "type": "choropleth",
           "z": [
            0.0015199459810139
           ]
          }
         ],
         "name": "0.0212780412491524"
        },
        {
         "data": [
          {
           "coloraxis": "coloraxis",
           "geo": "geo",
           "hovertemplate": "total_cases=0.0210413450478774<br>country=%{location}<br>total_deaths=%{z}<extra></extra>",
           "ids": [
            0.0210413450478774
           ],
           "locationmode": "country names",
           "locations": [
            "Hungary"
           ],
           "name": "",
           "type": "choropleth",
           "z": [
            0.0429653951903683
           ]
          }
         ],
         "name": "0.0210413450478774"
        },
        {
         "data": [
          {
           "coloraxis": "coloraxis",
           "geo": "geo",
           "hovertemplate": "total_cases=0.0209444899181986<br>country=%{location}<br>total_deaths=%{z}<extra></extra>",
           "ids": [
            0.0209444899181986
           ],
           "locationmode": "country names",
           "locations": [
            "New Zealand"
           ],
           "name": "",
           "type": "choropleth",
           "z": [
            0.0033373494507628
           ]
          }
         ],
         "name": "0.0209444899181986"
        },
        {
         "data": [
          {
           "coloraxis": "coloraxis",
           "geo": "geo",
           "hovertemplate": "total_cases=0.0195548222683417<br>country=%{location}<br>total_deaths=%{z}<extra></extra>",
           "ids": [
            0.0195548222683417
           ],
           "locationmode": "country names",
           "locations": [
            "Bangladesh"
           ],
           "name": "",
           "type": "choropleth",
           "z": [
            0.0259873690900184
           ]
          }
         ],
         "name": "0.0195548222683417"
        },
        {
         "data": [
          {
           "coloraxis": "coloraxis",
           "geo": "geo",
           "hovertemplate": "total_cases=0.0178593488463797<br>country=%{location}<br>total_deaths=%{z}<extra></extra>",
           "ids": [
            0.0178593488463797
           ],
           "locationmode": "country names",
           "locations": [
            "Slovakia"
           ],
           "name": "",
           "type": "choropleth",
           "z": [
            0.0184882627864793
           ]
          }
         ],
         "name": "0.0178593488463797"
        },
        {
         "data": [
          {
           "coloraxis": "coloraxis",
           "geo": "geo",
           "hovertemplate": "total_cases=0.0174110339759195<br>country=%{location}<br>total_deaths=%{z}<extra></extra>",
           "ids": [
            0.0174110339759195
           ],
           "locationmode": "country names",
           "locations": [
            "Georgia"
           ],
           "name": "",
           "type": "choropleth",
           "z": [
            0.0149399568377709
           ]
          }
         ],
         "name": "0.0174110339759195"
        },
        {
         "data": [
          {
           "coloraxis": "coloraxis",
           "geo": "geo",
           "hovertemplate": "total_cases=0.0167662640415944<br>country=%{location}<br>total_deaths=%{z}<extra></extra>",
           "ids": [
            0.0167662640415944
           ],
           "locationmode": "country names",
           "locations": [
            "Jordan"
           ],
           "name": "",
           "type": "choropleth",
           "z": [
            0.0124649693053882
           ]
          }
         ],
         "name": "0.0167662640415944"
        },
        {
         "data": [
          {
           "coloraxis": "coloraxis",
           "geo": "geo",
           "hovertemplate": "total_cases=0.016317651657359<br>country=%{location}<br>total_deaths=%{z}<extra></extra>",
           "ids": [
            0.016317651657359
           ],
           "locationmode": "country names",
           "locations": [
            "Ireland"
           ],
           "name": "",
           "type": "choropleth",
           "z": [
            0.0074690957557141
           ]
          }
         ],
         "name": "0.016317651657359"
        },
        {
         "data": [
          {
           "coloraxis": "coloraxis",
           "geo": "geo",
           "hovertemplate": "total_cases=0.0151281723893857<br>country=%{location}<br>total_deaths=%{z}<extra></extra>",
           "ids": [
            0.0151281723893857
           ],
           "locationmode": "country names",
           "locations": [
            "Pakistan"
           ],
           "name": "",
           "type": "choropleth",
           "z": [
            0.0270447995692603
           ]
          }
         ],
         "name": "0.0151281723893857"
        },
        {
         "data": [
          {
           "coloraxis": "coloraxis",
           "geo": "geo",
           "hovertemplate": "total_cases=0.0141832590419042<br>country=%{location}<br>total_deaths=%{z}<extra></extra>",
           "ids": [
            0.0141832590419042
           ],
           "locationmode": "country names",
           "locations": [
            "Norway"
           ],
           "name": "",
           "type": "choropleth",
           "z": [
            0.0045121741317904
           ]
          }
         ],
         "name": "0.0141832590419042"
        },
        {
         "data": [
          {
           "coloraxis": "coloraxis",
           "geo": "geo",
           "hovertemplate": "total_cases=0.0139986373485203<br>country=%{location}<br>total_deaths=%{z}<extra></extra>",
           "ids": [
            0.0139986373485203
           ],
           "locationmode": "country names",
           "locations": [
            "Finland"
           ],
           "name": "",
           "type": "choropleth",
           "z": [
            0.0076253271370378
           ]
          }
         ],
         "name": "0.0139986373485203"
        },
        {
         "data": [
          {
           "coloraxis": "coloraxis",
           "geo": "geo",
           "hovertemplate": "total_cases=0.0134928447361214<br>country=%{location}<br>total_deaths=%{z}<extra></extra>",
           "ids": [
            0.0134928447361214
           ],
           "locationmode": "country names",
           "locations": [
            "Kazakhstan"
           ],
           "name": "",
           "type": "choropleth",
           "z": [
            0.0120880721312343
           ]
          }
         ],
         "name": "0.0134928447361214"
        },
        {
         "data": [
          {
           "coloraxis": "coloraxis",
           "geo": "geo",
           "hovertemplate": "total_cases=0.0126860545581144<br>country=%{location}<br>total_deaths=%{z}<extra></extra>",
           "ids": [
            0.0126860545581144
           ],
           "locationmode": "country names",
           "locations": [
            "Slovenia"
           ],
           "name": "",
           "type": "choropleth",
           "z": [
            0.0062280713368375
           ]
          }
         ],
         "name": "0.0126860545581144"
        },
        {
         "data": [
          {
           "coloraxis": "coloraxis",
           "geo": "geo",
           "hovertemplate": "total_cases=0.0124462488580269<br>country=%{location}<br>total_deaths=%{z}<extra></extra>",
           "ids": [
            0.0124462488580269
           ],
           "locationmode": "country names",
           "locations": [
            "Lithuania"
           ],
           "name": "",
           "type": "choropleth",
           "z": [
            0.0084250199702542
           ]
          }
         ],
         "name": "0.0124462488580269"
        },
        {
         "data": [
          {
           "coloraxis": "coloraxis",
           "geo": "geo",
           "hovertemplate": "total_cases=0.0124324384605232<br>country=%{location}<br>total_deaths=%{z}<extra></extra>",
           "ids": [
            0.0124324384605232
           ],
           "locationmode": "country names",
           "locations": [
            "Bulgaria"
           ],
           "name": "",
           "type": "choropleth",
           "z": [
            0.0336991972178456
           ]
          }
         ],
         "name": "0.0124324384605232"
        },
        {
         "data": [
          {
           "coloraxis": "coloraxis",
           "geo": "geo",
           "hovertemplate": "total_cases=0.0122099173510571<br>country=%{location}<br>total_deaths=%{z}<extra></extra>",
           "ids": [
            0.0122099173510571
           ],
           "locationmode": "country names",
           "locations": [
            "Morocco"
           ],
           "name": "",
           "type": "choropleth",
           "z": [
            0.014383879039839
           ]
          }
         ],
         "name": "0.0122099173510571"
        },
        {
         "data": [
          {
           "coloraxis": "coloraxis",
           "geo": "geo",
           "hovertemplate": "total_cases=0.0121651943125807<br>country=%{location}<br>total_deaths=%{z}<extra></extra>",
           "ids": [
            0.0121651943125807
           ],
           "locationmode": "country names",
           "locations": [
            "Croatia"
           ],
           "name": "",
           "type": "choropleth",
           "z": [
            0.0157793695136967
           ]
          }
         ],
         "name": "0.0121651943125807"
        },
        {
         "data": [
          {
           "coloraxis": "coloraxis",
           "geo": "geo",
           "hovertemplate": "total_cases=0.0117914690247467<br>country=%{location}<br>total_deaths=%{z}<extra></extra>",
           "ids": [
            0.0117914690247467
           ],
           "locationmode": "country names",
           "locations": [
            "Lebanon"
           ],
           "name": "",
           "type": "choropleth",
           "z": [
            0.0095239356185482
           ]
          }
         ],
         "name": "0.0117914690247467"
        },
        {
         "data": [
          {
           "coloraxis": "coloraxis",
           "geo": "geo",
           "hovertemplate": "total_cases=0.0117839256109608<br>country=%{location}<br>total_deaths=%{z}<extra></extra>",
           "ids": [
            0.0117839256109608
           ],
           "locationmode": "country names",
           "locations": [
            "Guatemala"
           ],
           "name": "",
           "type": "choropleth",
           "z": [
            0.0177468257225701
           ]
          }
         ],
         "name": "0.0117839256109608"
        },
        {
         "data": [
          {
           "coloraxis": "coloraxis",
           "geo": "geo",
           "hovertemplate": "total_cases=0.0114013132987429<br>country=%{location}<br>total_deaths=%{z}<extra></extra>",
           "ids": [
            0.0114013132987429
           ],
           "locationmode": "country names",
           "locations": [
            "Bolivia"
           ],
           "name": "",
           "type": "choropleth",
           "z": [
            0.019723991226328
           ]
          }
         ],
         "name": "0.0114013132987429"
        },
        {
         "data": [
          {
           "coloraxis": "coloraxis",
           "geo": "geo",
           "hovertemplate": "total_cases=0.0113839423331544<br>country=%{location}<br>total_deaths=%{z}<extra></extra>",
           "ids": [
            0.0113839423331544
           ],
           "locationmode": "country names",
           "locations": [
            "Costa Rica"
           ],
           "name": "",
           "type": "choropleth",
           "z": [
            0.0080834293229532
           ]
          }
         ],
         "name": "0.0113839423331544"
        },
        {
         "data": [
          {
           "coloraxis": "coloraxis",
           "geo": "geo",
           "hovertemplate": "total_cases=0.0110401699644373<br>country=%{location}<br>total_deaths=%{z}<extra></extra>",
           "ids": [
            0.0110401699644373
           ],
           "locationmode": "country names",
           "locations": [
            "Tunisia"
           ],
           "name": "",
           "type": "choropleth",
           "z": [
            0.0258690922250614
           ]
          }
         ],
         "name": "0.0110401699644373"
        },
        {
         "data": [
          {
           "coloraxis": "coloraxis",
           "geo": "geo",
           "hovertemplate": "total_cases=0.0106762626311872<br>country=%{location}<br>total_deaths=%{z}<extra></extra>",
           "ids": [
            0.0106762626311872
           ],
           "locationmode": "country names",
           "locations": [
            "Cuba"
           ],
           "name": "",
           "type": "choropleth",
           "z": [
            0.0075291168513639
           ]
          }
         ],
         "name": "0.0106762626311872"
        },
        {
         "data": [
          {
           "coloraxis": "coloraxis",
           "geo": "geo",
           "hovertemplate": "total_cases=0.0100889224527081<br>country=%{location}<br>total_deaths=%{z}<extra></extra>",
           "ids": [
            0.0100889224527081
           ],
           "locationmode": "country names",
           "locations": [
            "Ecuador"
           ],
           "name": "",
           "type": "choropleth",
           "z": [
            0.0317246797036017
           ]
          }
         ],
         "name": "0.0100889224527081"
        },
        {
         "data": [
          {
           "coloraxis": "coloraxis",
           "geo": "geo",
           "hovertemplate": "total_cases=0.0100713595427485<br>country=%{location}<br>total_deaths=%{z}<extra></extra>",
           "ids": [
            0.0100713595427485
           ],
           "locationmode": "country names",
           "locations": [
            "UAE"
           ],
           "name": "",
           "type": "choropleth",
           "z": [
            0.0020724931262605
           ]
          }
         ],
         "name": "0.0100713595427485"
        },
        {
         "data": [
          {
           "coloraxis": "coloraxis",
           "geo": "geo",
           "hovertemplate": "total_cases=0.0099110955900627<br>country=%{location}<br>total_deaths=%{z}<extra></extra>",
           "ids": [
            0.0099110955900627
           ],
           "locationmode": "country names",
           "locations": [
            "Uruguay"
           ],
           "name": "",
           "type": "choropleth",
           "z": [
            0.0067161840705777
           ]
          }
         ],
         "name": "0.0099110955900627"
        },
        {
         "data": [
          {
           "coloraxis": "coloraxis",
           "geo": "geo",
           "hovertemplate": "total_cases=0.0098822175594242<br>country=%{location}<br>total_deaths=%{z}<extra></extra>",
           "ids": [
            0.0098822175594242
           ],
           "locationmode": "country names",
           "locations": [
            "Panama"
           ],
           "name": "",
           "type": "choropleth",
           "z": [
            0.007587372620671
           ]
          }
         ],
         "name": "0.0098822175594242"
        },
        {
         "data": [
          {
           "coloraxis": "coloraxis",
           "geo": "geo",
           "hovertemplate": "total_cases=0.0096727102783216<br>country=%{location}<br>total_deaths=%{z}<extra></extra>",
           "ids": [
            0.0096727102783216
           ],
           "locationmode": "country names",
           "locations": [
            "Mongolia"
           ],
           "name": "",
           "type": "choropleth",
           "z": [
            0.0019233230503073
           ]
          }
         ],
         "name": "0.0096727102783216"
        },
        {
         "data": [
          {
           "coloraxis": "coloraxis",
           "geo": "geo",
           "hovertemplate": "total_cases=0.0096077467059082<br>country=%{location}<br>total_deaths=%{z}<extra></extra>",
           "ids": [
            0.0096077467059082
           ],
           "locationmode": "country names",
           "locations": [
            "Nepal"
           ],
           "name": "",
           "type": "choropleth",
           "z": [
            0.0106096113192725
           ]
          }
         ],
         "name": "0.0096077467059082"
        },
        {
         "data": [
          {
           "coloraxis": "coloraxis",
           "geo": "geo",
           "hovertemplate": "total_cases=0.009539942356802<br>country=%{location}<br>total_deaths=%{z}<extra></extra>",
           "ids": [
            0.009539942356802
           ],
           "locationmode": "country names",
           "locations": [
            "Belarus"
           ],
           "name": "",
           "type": "choropleth",
           "z": [
            0.0062827964534593
           ]
          }
         ],
         "name": "0.009539942356802"
        },
        {
         "data": [
          {
           "coloraxis": "coloraxis",
           "geo": "geo",
           "hovertemplate": "total_cases=0.0093606471197173<br>country=%{location}<br>total_deaths=%{z}<extra></extra>",
           "ids": [
            0.0093606471197173
           ],
           "locationmode": "country names",
           "locations": [
            "Latvia"
           ],
           "name": "",
           "type": "choropleth",
           "z": [
            0.0054883995992709
           ]
          }
         ],
         "name": "0.0093606471197173"
        },
        {
         "data": [
          {
           "coloraxis": "coloraxis",
           "geo": "geo",
           "hovertemplate": "total_cases=0.0079460842849231<br>country=%{location}<br>total_deaths=%{z}<extra></extra>",
           "ids": [
            0.0079460842849231
           ],
           "locationmode": "country names",
           "locations": [
            "Saudi Arabia"
           ],
           "name": "",
           "type": "choropleth",
           "z": [
            0.0084506172022225
           ]
          }
         ],
         "name": "0.0079460842849231"
        },
        {
         "data": [
          {
           "coloraxis": "coloraxis",
           "geo": "geo",
           "hovertemplate": "total_cases=0.0079459115349891<br>country=%{location}<br>total_deaths=%{z}<extra></extra>",
           "ids": [
            0.0079459115349891
           ],
           "locationmode": "country names",
           "locations": [
            "Azerbaijan"
           ],
           "name": "",
           "type": "choropleth",
           "z": [
            0.0089016580827673
           ]
          }
         ],
         "name": "0.0079459115349891"
        },
        {
         "data": [
          {
           "coloraxis": "coloraxis",
           "geo": "geo",
           "hovertemplate": "total_cases=0.0077377670589216<br>country=%{location}<br>total_deaths=%{z}<extra></extra>",
           "ids": [
            0.0077377670589216
           ],
           "locationmode": "country names",
           "locations": [
            "Paraguay"
           ],
           "name": "",
           "type": "choropleth",
           "z": [
            0.0174943840555724
           ]
          }
         ],
         "name": "0.0077377670589216"
        },
        {
         "data": [
          {
           "coloraxis": "coloraxis",
           "geo": "geo",
           "hovertemplate": "total_cases=0.0067223429467008<br>country=%{location}<br>total_deaths=%{z}<extra></extra>",
           "ids": [
            0.0067223429467008
           ],
           "locationmode": "country names",
           "locations": [
            "Bahrain"
           ],
           "name": "",
           "type": "choropleth",
           "z": [
            0.0013619492733475
           ]
          }
         ],
         "name": "0.0067223429467008"
        },
        {
         "data": [
          {
           "coloraxis": "coloraxis",
           "geo": "geo",
           "hovertemplate": "total_cases=0.0064491773149086<br>country=%{location}<br>total_deaths=%{z}<extra></extra>",
           "ids": [
            0.0064491773149086
           ],
           "locationmode": "country names",
           "locations": [
            "Sri Lanka"
           ],
           "name": "",
           "type": "choropleth",
           "z": [
            0.0148534558469815
           ]
          }
         ],
         "name": "0.0064491773149086"
        },
        {
         "data": [
          {
           "coloraxis": "coloraxis",
           "geo": "geo",
           "hovertemplate": "total_cases=0.0063615451122632<br>country=%{location}<br>total_deaths=%{z}<extra></extra>",
           "ids": [
            0.0063615451122632
           ],
           "locationmode": "country names",
           "locations": [
            "Kuwait"
           ],
           "name": "",
           "type": "choropleth",
           "z": [
            0.0022684443502937
           ]
          }
         ],
         "name": "0.0063615451122632"
        },
        {
         "data": [
          {
           "coloraxis": "coloraxis",
           "geo": "geo",
           "hovertemplate": "total_cases=0.0063350279973898<br>country=%{location}<br>total_deaths=%{z}<extra></extra>",
           "ids": [
            0.0063350279973898
           ],
           "locationmode": "country names",
           "locations": [
            "Dominican Republic"
           ],
           "name": "",
           "type": "choropleth",
           "z": [
            0.0038695953430691
           ]
          }
         ],
         "name": "0.0063350279973898"
        },
        {
         "data": [
          {
           "coloraxis": "coloraxis",
           "geo": "geo",
           "hovertemplate": "total_cases=0.0061677292835016<br>country=%{location}<br>total_deaths=%{z}<extra></extra>",
           "ids": [
            0.0061677292835016
           ],
           "locationmode": "country names",
           "locations": [
            "Cyprus"
           ],
           "name": "",
           "type": "choropleth",
           "z": [
            0.0011359875014894
           ]
          }
         ],
         "name": "0.0061677292835016"
        },
        {
         "data": [
          {
           "coloraxis": "coloraxis",
           "geo": "geo",
           "hovertemplate": "total_cases=0.0060828610798007<br>country=%{location}<br>total_deaths=%{z}<extra></extra>",
           "ids": [
            0.0060828610798007
           ],
           "locationmode": "country names",
           "locations": [
            "Myanmar"
           ],
           "name": "",
           "type": "choropleth",
           "z": [
            0.0172031052090367
           ]
          }
         ],
         "name": "0.0060828610798007"
        },
        {
         "data": [
          {
           "coloraxis": "coloraxis",
           "geo": "geo",
           "hovertemplate": "total_cases=0.0059599015156464<br>country=%{location}<br>total_deaths=%{z}<extra></extra>",
           "ids": [
            0.0059599015156464
           ],
           "locationmode": "country names",
           "locations": [
            "Palestine"
           ],
           "name": "",
           "type": "choropleth",
           "z": [
            0.004769911777816
           ]
          }
         ],
         "name": "0.0059599015156464"
        },
        {
         "data": [
          {
           "coloraxis": "coloraxis",
           "geo": "geo",
           "hovertemplate": "total_cases=0.0058915981111752<br>country=%{location}<br>total_deaths=%{z}<extra></extra>",
           "ids": [
            0.0058915981111752
           ],
           "locationmode": "country names",
           "locations": [
            "Estonia"
           ],
           "name": "",
           "type": "choropleth",
           "z": [
            0.0025703151548853
           ]
          }
         ],
         "name": "0.0058915981111752"
        },
        {
         "data": [
          {
           "coloraxis": "coloraxis",
           "geo": "geo",
           "hovertemplate": "total_cases=0.0057455476391725<br>country=%{location}<br>total_deaths=%{z}<extra></extra>",
           "ids": [
            0.0057455476391725
           ],
           "locationmode": "country names",
           "locations": [
            "Moldova"
           ],
           "name": "",
           "type": "choropleth",
           "z": [
            0.010550472886794
           ]
          }
         ],
         "name": "0.0057455476391725"
        },
        {
         "data": [
          {
           "coloraxis": "coloraxis",
           "geo": "geo",
           "hovertemplate": "total_cases=0.0052936530061905<br>country=%{location}<br>total_deaths=%{z}<extra></extra>",
           "ids": [
            0.0052936530061905
           ],
           "locationmode": "country names",
           "locations": [
            "Venezuela"
           ],
           "name": "",
           "type": "choropleth",
           "z": [
            0.0051591662363683
           ]
          }
         ],
         "name": "0.0052936530061905"
        },
        {
         "data": [
          {
           "coloraxis": "coloraxis",
           "geo": "geo",
           "hovertemplate": "total_cases=0.0049487097768093<br>country=%{location}<br>total_deaths=%{z}<extra></extra>",
           "ids": [
            0.0049487097768093
           ],
           "locationmode": "country names",
           "locations": [
            "Egypt"
           ],
           "name": "",
           "type": "choropleth",
           "z": [
            0.0217249886357116
           ]
          }
         ],
         "name": "0.0049487097768093"
        },
        {
         "data": [
          {
           "coloraxis": "coloraxis",
           "geo": "geo",
           "hovertemplate": "total_cases=0.004867296571789<br>country=%{location}<br>total_deaths=%{z}<extra></extra>",
           "ids": [
            0.004867296571789
           ],
           "locationmode": "country names",
           "locations": [
            "Libya"
           ],
           "name": "",
           "type": "choropleth",
           "z": [
            0.0056817028337901
           ]
          }
         ],
         "name": "0.004867296571789"
        },
        {
         "data": [
          {
           "coloraxis": "coloraxis",
           "geo": "geo",
           "hovertemplate": "total_cases=0.0048302513081584<br>country=%{location}<br>total_deaths=%{z}<extra></extra>",
           "ids": [
            0.0048302513081584
           ],
           "locationmode": "country names",
           "locations": [
            "China"
           ],
           "name": "",
           "type": "choropleth",
           "z": [
            0.0046534002392017
           ]
          }
         ],
         "name": "0.0048302513081584"
        },
        {
         "data": [
          {
           "coloraxis": "coloraxis",
           "geo": "geo",
           "hovertemplate": "total_cases=0.0047940601969794<br>country=%{location}<br>total_deaths=%{z}<extra></extra>",
           "ids": [
            0.0047940601969794
           ],
           "locationmode": "country names",
           "locations": [
            "Ethiopia"
           ],
           "name": "",
           "type": "choropleth",
           "z": [
            0.0066835255332388
           ]
          }
         ],
         "name": "0.0047940601969794"
        },
        {
         "data": [
          {
           "coloraxis": "coloraxis",
           "geo": "geo",
           "hovertemplate": "total_cases=0.004726908458735<br>country=%{location}<br>total_deaths=%{z}<extra></extra>",
           "ids": [
            0.004726908458735
           ],
           "locationmode": "country names",
           "locations": [
            "Qatar"
           ],
           "name": "",
           "type": "choropleth",
           "z": [
            0.0006055069355258
           ]
          }
         ],
         "name": "0.004726908458735"
        },
        {
         "data": [
          {
           "coloraxis": "coloraxis",
           "geo": "geo",
           "hovertemplate": "total_cases=0.0046631925247341<br>country=%{location}<br>total_deaths=%{z}<extra></extra>",
           "ids": [
            0.0046631925247341
           ],
           "locationmode": "country names",
           "locations": [
            "Réunion"
           ],
           "name": "",
           "type": "choropleth",
           "z": [
            0.0008111674544435
           ]
          }
         ],
         "name": "0.0046631925247341"
        },
        {
         "data": [
          {
           "coloraxis": "coloraxis",
           "geo": "geo",
           "hovertemplate": "total_cases=0.0045179098302159<br>country=%{location}<br>total_deaths=%{z}<extra></extra>",
           "ids": [
            0.0045179098302159
           ],
           "locationmode": "country names",
           "locations": [
            "Honduras"
           ],
           "name": "",
           "type": "choropleth",
           "z": [
            0.0098010918543429
           ]
          }
         ],
         "name": "0.0045179098302159"
        },
        {
         "data": [
          {
           "coloraxis": "coloraxis",
           "geo": "geo",
           "hovertemplate": "total_cases=0.004280388268145<br>country=%{location}<br>total_deaths=%{z}<extra></extra>",
           "ids": [
            0.004280388268145
           ],
           "locationmode": "country names",
           "locations": [
            "Armenia"
           ],
           "name": "",
           "type": "choropleth",
           "z": [
            0.0076941748644008
           ]
          }
         ],
         "name": "0.004280388268145"
        },
        {
         "data": [
          {
           "coloraxis": "coloraxis",
           "geo": "geo",
           "hovertemplate": "total_cases=0.0038521219872507<br>country=%{location}<br>total_deaths=%{z}<extra></extra>",
           "ids": [
            0.0038521219872507
           ],
           "locationmode": "country names",
           "locations": [
            "Bosnia and Herzegovina"
           ],
           "name": "",
           "type": "choropleth",
           "z": [
            0.0143476898498148
           ]
          }
         ],
         "name": "0.0038521219872507"
        },
        {
         "data": [
          {
           "coloraxis": "coloraxis",
           "geo": "geo",
           "hovertemplate": "total_cases=0.0038335513693426<br>country=%{location}<br>total_deaths=%{z}<extra></extra>",
           "ids": [
            0.0038335513693426
           ],
           "locationmode": "country names",
           "locations": [
            "Oman"
           ],
           "name": "",
           "type": "choropleth",
           "z": [
            0.0040849651568713
           ]
          }
         ],
         "name": "0.0038335513693426"
        },
        {
         "data": [
          {
           "coloraxis": "coloraxis",
           "geo": "geo",
           "hovertemplate": "total_cases=0.0033246972442239<br>country=%{location}<br>total_deaths=%{z}<extra></extra>",
           "ids": [
            0.0033246972442239
           ],
           "locationmode": "country names",
           "locations": [
            "North Macedonia"
           ],
           "name": "",
           "type": "choropleth",
           "z": [
            0.008507107645187
           ]
          }
         ],
         "name": "0.0033246972442239"
        },
        {
         "data": [
          {
           "coloraxis": "coloraxis",
           "geo": "geo",
           "hovertemplate": "total_cases=0.0032899745074841<br>country=%{location}<br>total_deaths=%{z}<extra></extra>",
           "ids": [
            0.0032899745074841
           ],
           "locationmode": "country names",
           "locations": [
            "Kenya"
           ],
           "name": "",
           "type": "choropleth",
           "z": [
            0.005020588118471
           ]
          }
         ],
         "name": "0.0032899745074841"
        },
        {
         "data": [
          {
           "coloraxis": "coloraxis",
           "geo": "geo",
           "hovertemplate": "total_cases=0.0032703290010976<br>country=%{location}<br>total_deaths=%{z}<extra></extra>",
           "ids": [
            0.0032703290010976
           ],
           "locationmode": "country names",
           "locations": [
            "Zambia"
           ],
           "name": "",
           "type": "choropleth",
           "z": [
            0.003572137854334
           ]
          }
         ],
         "name": "0.0032703290010976"
        },
        {
         "data": [
          {
           "coloraxis": "coloraxis",
           "geo": "geo",
           "hovertemplate": "total_cases=0.0032070257474947<br>country=%{location}<br>total_deaths=%{z}<extra></extra>",
           "ids": [
            0.0032070257474947
           ],
           "locationmode": "country names",
           "locations": [
            "Albania"
           ],
           "name": "",
           "type": "choropleth",
           "z": [
            0.0031731741008972
           ]
          }
         ],
         "name": "0.0032070257474947"
        },
        {
         "data": [
          {
           "coloraxis": "coloraxis",
           "geo": "geo",
           "hovertemplate": "total_cases=0.0031596154878223<br>country=%{location}<br>total_deaths=%{z}<extra></extra>",
           "ids": [
            0.0031596154878223
           ],
           "locationmode": "country names",
           "locations": [
            "Botswana"
           ],
           "name": "",
           "type": "choropleth",
           "z": [
            0.0024714568796974
           ]
          }
         ],
         "name": "0.0031596154878223"
        },
        {
         "data": [
          {
           "coloraxis": "coloraxis",
           "geo": "geo",
           "hovertemplate": "total_cases=0.0028575910198288<br>country=%{location}<br>total_deaths=%{z}<extra></extra>",
           "ids": [
            0.0028575910198288
           ],
           "locationmode": "country names",
           "locations": [
            "Luxembourg"
           ],
           "name": "",
           "type": "choropleth",
           "z": [
            0.0010000573731061
           ]
          }
         ],
         "name": "0.0028575910198288"
        },
        {
         "data": [
          {
           "coloraxis": "coloraxis",
           "geo": "geo",
           "hovertemplate": "total_cases=0.0027481635338402<br>country=%{location}<br>total_deaths=%{z}<extra></extra>",
           "ids": [
            0.0027481635338402
           ],
           "locationmode": "country names",
           "locations": [
            "Montenegro"
           ],
           "name": "",
           "type": "choropleth",
           "z": [
            0.0024688088901834
           ]
          }
         ],
         "name": "0.0027481635338402"
        },
        {
         "data": [
          {
           "coloraxis": "coloraxis",
           "geo": "geo",
           "hovertemplate": "total_cases=0.0026412985052063<br>country=%{location}<br>total_deaths=%{z}<extra></extra>",
           "ids": [
            0.0026412985052063
           ],
           "locationmode": "country names",
           "locations": [
            "Brunei"
           ],
           "name": "",
           "type": "choropleth",
           "z": [
            0.0001985992135471
           ]
          }
         ],
         "name": "0.0026412985052063"
        },
        {
         "data": [
          {
           "coloraxis": "coloraxis",
           "geo": "geo",
           "hovertemplate": "total_cases=0.0026044259915097<br>country=%{location}<br>total_deaths=%{z}<extra></extra>",
           "ids": [
            0.0026044259915097
           ],
           "locationmode": "country names",
           "locations": [
            "Algeria"
           ],
           "name": "",
           "type": "choropleth",
           "z": [
            0.0060736052818564
           ]
          }
         ],
         "name": "0.0026044259915097"
        },
        {
         "data": [
          {
           "coloraxis": "coloraxis",
           "geo": "geo",
           "hovertemplate": "total_cases=0.0025572556623013<br>country=%{location}<br>total_deaths=%{z}<extra></extra>",
           "ids": [
            0.0025572556623013
           ],
           "locationmode": "country names",
           "locations": [
            "Nigeria"
           ],
           "name": "",
           "type": "choropleth",
           "z": [
            0.0027848023055162
           ]
          }
         ],
         "name": "0.0025572556623013"
        },
        {
         "data": [
          {
           "coloraxis": "coloraxis",
           "geo": "geo",
           "hovertemplate": "total_cases=0.0025106419717692<br>country=%{location}<br>total_deaths=%{z}<extra></extra>",
           "ids": [
            0.0025106419717692
           ],
           "locationmode": "country names",
           "locations": [
            "Zimbabwe"
           ],
           "name": "",
           "type": "choropleth",
           "z": [
            0.0049888122443035
           ]
          }
         ],
         "name": "0.0025106419717692"
        },
        {
         "data": [
          {
           "coloraxis": "coloraxis",
           "geo": "geo",
           "hovertemplate": "total_cases=0.0024046982761168<br>country=%{location}<br>total_deaths=%{z}<extra></extra>",
           "ids": [
            0.0024046982761168
           ],
           "locationmode": "country names",
           "locations": [
            "Uzbekistan"
           ],
           "name": "",
           "type": "choropleth",
           "z": [
            0.0014449196114516
           ]
          }
         ],
         "name": "0.0024046982761168"
        },
        {
         "data": [
          {
           "coloraxis": "coloraxis",
           "geo": "geo",
           "hovertemplate": "total_cases=0.0022264491358549<br>country=%{location}<br>total_deaths=%{z}<extra></extra>",
           "ids": [
            0.0022264491358549
           ],
           "locationmode": "country names",
           "locations": [
            "Mozambique"
           ],
           "name": "",
           "type": "choropleth",
           "z": [
            0.0019709868615586
           ]
          }
         ],
         "name": "0.0022264491358549"
        },
        {
         "data": [
          {
           "coloraxis": "coloraxis",
           "geo": "geo",
           "hovertemplate": "total_cases=0.0022043083526435<br>country=%{location}<br>total_deaths=%{z}<extra></extra>",
           "ids": [
            0.0022043083526435
           ],
           "locationmode": "country names",
           "locations": [
            "Martinique"
           ],
           "name": "",
           "type": "choropleth",
           "z": [
            0.0009682814989385
           ]
          }
         ],
         "name": "0.0022043083526435"
        },
        {
         "data": [
          {
           "coloraxis": "coloraxis",
           "geo": "geo",
           "hovertemplate": "total_cases=0.0020918865344651<br>country=%{location}<br>total_deaths=%{z}<extra></extra>",
           "ids": [
            0.0020918865344651
           ],
           "locationmode": "country names",
           "locations": [
            "Laos"
           ],
           "name": "",
           "type": "choropleth",
           "z": [
            0.0006690586838609
           ]
          }
         ],
         "name": "0.0020918865344651"
        },
        {
         "data": [
          {
           "coloraxis": "coloraxis",
           "geo": "geo",
           "hovertemplate": "total_cases=0.0020027763601619<br>country=%{location}<br>total_deaths=%{z}<extra></extra>",
           "ids": [
            0.0020027763601619
           ],
           "locationmode": "country names",
           "locations": [
            "Iceland"
           ],
           "name": "",
           "type": "choropleth",
           "z": [
            0.0002021298662323
           ]
          }
         ],
         "name": "0.0020027763601619"
        },
        {
         "data": [
          {
           "coloraxis": "coloraxis",
           "geo": "geo",
           "hovertemplate": "total_cases=0.0020014039579082<br>country=%{location}<br>total_deaths=%{z}<extra></extra>",
           "ids": [
            0.0020014039579082
           ],
           "locationmode": "country names",
           "locations": [
            "Afghanistan"
           ],
           "name": "",
           "type": "choropleth",
           "z": [
            0.0069571511163482
           ]
          }
         ],
         "name": "0.0020014039579082"
        },
        {
         "data": [
          {
           "coloraxis": "coloraxis",
           "geo": "geo",
           "hovertemplate": "total_cases=0.0019826605900661<br>country=%{location}<br>total_deaths=%{z}<extra></extra>",
           "ids": [
            0.0019826605900661
           ],
           "locationmode": "country names",
           "locations": [
            "Kyrgyzstan"
           ],
           "name": "",
           "type": "choropleth",
           "z": [
            0.0026400455454196
           ]
          }
         ],
         "name": "0.0019826605900661"
        },
        {
         "data": [
          {
           "coloraxis": "coloraxis",
           "geo": "geo",
           "hovertemplate": "total_cases=0.0019365267604619<br>country=%{location}<br>total_deaths=%{z}<extra></extra>",
           "ids": [
            0.0019365267604619
           ],
           "locationmode": "country names",
           "locations": [
            "El Salvador"
           ],
           "name": "",
           "type": "choropleth",
           "z": [
            0.0037336652146857
           ]
          }
         ],
         "name": "0.0019365267604619"
        },
        {
         "data": [
          {
           "coloraxis": "coloraxis",
           "geo": "geo",
           "hovertemplate": "total_cases=0.0019327742480061<br>country=%{location}<br>total_deaths=%{z}<extra></extra>",
           "ids": [
            0.0019327742480061
           ],
           "locationmode": "country names",
           "locations": [
            "Guadeloupe"
           ],
           "name": "",
           "type": "choropleth",
           "z": [
            0.0008888418135197
           ]
          }
         ],
         "name": "0.0019327742480061"
        },
        {
         "data": [
          {
           "coloraxis": "coloraxis",
           "geo": "geo",
           "hovertemplate": "total_cases=0.0018033461585443<br>country=%{location}<br>total_deaths=%{z}<extra></extra>",
           "ids": [
            0.0018033461585443
           ],
           "locationmode": "country names",
           "locations": [
            "Trinidad and Tobago"
           ],
           "name": "",
           "type": "choropleth",
           "z": [
            0.0038184008791325
           ]
          }
         ],
         "name": "0.0018033461585443"
        },
        {
         "data": [
          {
           "coloraxis": "coloraxis",
           "geo": "geo",
           "hovertemplate": "total_cases=0.0017822994582485<br>country=%{location}<br>total_deaths=%{z}<extra></extra>",
           "ids": [
            0.0017822994582485
           ],
           "locationmode": "country names",
           "locations": [
            "Maldives"
           ],
           "name": "",
           "type": "choropleth",
           "z": [
            0.0002745082462806
           ]
          }
         ],
         "name": "0.0017822994582485"
        },
        {
         "data": [
          {
           "coloraxis": "coloraxis",
           "geo": "geo",
           "hovertemplate": "total_cases=0.0016421512756584<br>country=%{location}<br>total_deaths=%{z}<extra></extra>",
           "ids": [
            0.0016421512756584
           ],
           "locationmode": "country names",
           "locations": [
            "Ghana"
           ],
           "name": "",
           "type": "choropleth",
           "z": [
            0.0012904535564705
           ]
          }
         ],
         "name": "0.0016421512756584"
        },
        {
         "data": [
          {
           "coloraxis": "coloraxis",
           "geo": "geo",
           "hovertemplate": "total_cases=0.0016385907075737<br>country=%{location}<br>total_deaths=%{z}<extra></extra>",
           "ids": [
            0.0016385907075737
           ],
           "locationmode": "country names",
           "locations": [
            "Namibia"
           ],
           "name": "",
           "type": "choropleth",
           "z": [
            0.0036083270443582
           ]
          }
         ],
         "name": "0.0016385907075737"
        },
        {
         "data": [
          {
           "coloraxis": "coloraxis",
           "geo": "geo",
           "hovertemplate": "total_cases=0.0016353180560457<br>country=%{location}<br>total_deaths=%{z}<extra></extra>",
           "ids": [
            0.0016353180560457
           ],
           "locationmode": "country names",
           "locations": [
            "Uganda"
           ],
           "name": "",
           "type": "choropleth",
           "z": [
            0.0032040673118934
           ]
          }
         ],
         "name": "0.0016353180560457"
        },
        {
         "data": [
          {
           "coloraxis": "coloraxis",
           "geo": "geo",
           "hovertemplate": "total_cases=0.001472232521104<br>country=%{location}<br>total_deaths=%{z}<extra></extra>",
           "ids": [
            0.001472232521104
           ],
           "locationmode": "country names",
           "locations": [
            "Jamaica"
           ],
           "name": "",
           "type": "choropleth",
           "z": [
            0.0030716678361953
           ]
          }
         ],
         "name": "0.001472232521104"
        },
        {
         "data": [
          {
           "coloraxis": "coloraxis",
           "geo": "geo",
           "hovertemplate": "total_cases=0.0013310190472541<br>country=%{location}<br>total_deaths=%{z}<extra></extra>",
           "ids": [
            0.0013310190472541
           ],
           "locationmode": "country names",
           "locations": [
            "Cambodia"
           ],
           "name": "",
           "type": "choropleth",
           "z": [
            0.0026974186515554
           ]
          }
         ],
         "name": "0.0013310190472541"
        },
        {
         "data": [
          {
           "coloraxis": "coloraxis",
           "geo": "geo",
           "hovertemplate": "total_cases=0.0012772458316784<br>country=%{location}<br>total_deaths=%{z}<extra></extra>",
           "ids": [
            0.0012772458316784
           ],
           "locationmode": "country names",
           "locations": [
            "Rwanda"
           ],
           "name": "",
           "type": "choropleth",
           "z": [
            0.0012957495354985
           ]
          }
         ],
         "name": "0.0012772458316784"
        },
        {
         "data": [
          {
           "coloraxis": "coloraxis",
           "geo": "geo",
           "hovertemplate": "total_cases=0.001189939934464<br>country=%{location}<br>total_deaths=%{z}<extra></extra>",
           "ids": [
            0.001189939934464
           ],
           "locationmode": "country names",
           "locations": [
            "Cameroon"
           ],
           "name": "",
           "type": "choropleth",
           "z": [
            0.0017344331316447
           ]
          }
         ],
         "name": "0.001189939934464"
        },
        {
         "data": [
          {
           "coloraxis": "coloraxis",
           "geo": "geo",
           "hovertemplate": "total_cases=0.0011234216126444<br>country=%{location}<br>total_deaths=%{z}<extra></extra>",
           "ids": [
            0.0011234216126444
           ],
           "locationmode": "country names",
           "locations": [
            "Malta"
           ],
           "name": "",
           "type": "choropleth",
           "z": [
            0.000727314453168
           ]
          }
         ],
         "name": "0.0011234216126444"
        },
        {
         "data": [
          {
           "coloraxis": "coloraxis",
           "geo": "geo",
           "hovertemplate": "total_cases=0.0010187639442787<br>country=%{location}<br>total_deaths=%{z}<extra></extra>",
           "ids": [
            0.0010187639442787
           ],
           "locationmode": "country names",
           "locations": [
            "Barbados"
           ],
           "name": "",
           "type": "choropleth",
           "z": [
            0.000504000670824
           ]
          }
         ],
         "name": "0.0010187639442787"
        },
        {
         "data": [
          {
           "coloraxis": "coloraxis",
           "geo": "geo",
           "hovertemplate": "total_cases=0.0010094258506225<br>country=%{location}<br>total_deaths=%{z}<extra></extra>",
           "ids": [
            0.0010094258506225
           ],
           "locationmode": "country names",
           "locations": [
            "Angola"
           ],
           "name": "",
           "type": "choropleth",
           "z": [
            0.0017044225838199
           ]
          }
         ],
         "name": "0.0010094258506225"
        },
        {
         "data": [
          {
           "coloraxis": "coloraxis",
           "geo": "geo",
           "hovertemplate": "total_cases=0.0009703843655321<br>country=%{location}<br>total_deaths=%{z}<extra></extra>",
           "ids": [
            0.0009703843655321
           ],
           "locationmode": "country names",
           "locations": [
            "Channel Islands"
           ],
           "name": "",
           "type": "choropleth",
           "z": [
            0.0001968338872044
           ]
          }
         ],
         "name": "0.0009703843655321"
        },
        {
         "data": [
          {
           "coloraxis": "coloraxis",
           "geo": "geo",
           "hovertemplate": "total_cases=0.0009407481546276<br>country=%{location}<br>total_deaths=%{z}<extra></extra>",
           "ids": [
            0.0009407481546276
           ],
           "locationmode": "country names",
           "locations": [
            "French Guiana"
           ],
           "name": "",
           "type": "choropleth",
           "z": [
            0.0003707185319546
           ]
          }
         ],
         "name": "0.0009407481546276"
        },
        {
         "data": [
          {
           "coloraxis": "coloraxis",
           "geo": "geo",
           "hovertemplate": "total_cases=0.0009166207471749<br>country=%{location}<br>total_deaths=%{z}<extra></extra>",
           "ids": [
            0.0009166207471749
           ],
           "locationmode": "country names",
           "locations": [
            "DRC"
           ],
           "name": "",
           "type": "choropleth",
           "z": [
            0.0012913362196419
           ]
          }
         ],
         "name": "0.0009166207471749"
        },
        {
         "data": [
          {
           "coloraxis": "coloraxis",
           "geo": "geo",
           "hovertemplate": "total_cases=0.000853163938075<br>country=%{location}<br>total_deaths=%{z}<extra></extra>",
           "ids": [
            0.000853163938075
           ],
           "locationmode": "country names",
           "locations": [
            "Senegal"
           ],
           "name": "",
           "type": "choropleth",
           "z": [
            0.0017397291106727
           ]
          }
         ],
         "name": "0.000853163938075"
        },
        {
         "data": [
          {
           "coloraxis": "coloraxis",
           "geo": "geo",
           "hovertemplate": "total_cases=0.0008498720921099<br>country=%{location}<br>total_deaths=%{z}<extra></extra>",
           "ids": [
            0.0008498720921099
           ],
           "locationmode": "country names",
           "locations": [
            "Malawi"
           ],
           "name": "",
           "type": "choropleth",
           "z": [
            0.0023708332781668
           ]
          }
         ],
         "name": "0.0008498720921099"
        },
        {
         "data": [
          {
           "coloraxis": "coloraxis",
           "geo": "geo",
           "hovertemplate": "total_cases=0.0008443344970024<br>country=%{location}<br>total_deaths=%{z}<extra></extra>",
           "ids": [
            0.0008443344970024
           ],
           "locationmode": "country names",
           "locations": [
            "Ivory Coast"
           ],
           "name": "",
           "type": "choropleth",
           "z": [
            0.0007352584217099
           ]
          }
         ],
         "name": "0.0008443344970024"
        },
        {
         "data": [
          {
           "coloraxis": "coloraxis",
           "geo": "geo",
           "hovertemplate": "total_cases=0.0007871158799647<br>country=%{location}<br>total_deaths=%{z}<extra></extra>",
           "ids": [
            0.0007871158799647
           ],
           "locationmode": "country names",
           "locations": [
            "Suriname"
           ],
           "name": "",
           "type": "choropleth",
           "z": [
            0.001233963113506
           ]
          }
         ],
         "name": "0.0007871158799647"
        },
        {
         "data": [
          {
           "coloraxis": "coloraxis",
           "geo": "geo",
           "hovertemplate": "total_cases=0.0007662419296029<br>country=%{location}<br>total_deaths=%{z}<extra></extra>",
           "ids": [
            0.0007662419296029
           ],
           "locationmode": "country names",
           "locations": [
            "New Caledonia"
           ],
           "name": "",
           "type": "choropleth",
           "z": [
            0.0002771562357946
           ]
          }
         ],
         "name": "0.0007662419296029"
        },
        {
         "data": [
          {
           "coloraxis": "coloraxis",
           "geo": "geo",
           "hovertemplate": "total_cases=0.000748122380967<br>country=%{location}<br>total_deaths=%{z}<extra></extra>",
           "ids": [
            0.000748122380967
           ],
           "locationmode": "country names",
           "locations": [
            "French Polynesia"
           ],
           "name": "",
           "type": "choropleth",
           "z": [
            0.000572848398187
           ]
          }
         ],
         "name": "0.000748122380967"
        },
        {
         "data": [
          {
           "coloraxis": "coloraxis",
           "geo": "geo",
           "hovertemplate": "total_cases=0.0007114226172044<br>country=%{location}<br>total_deaths=%{z}<extra></extra>",
           "ids": [
            0.0007114226172044
           ],
           "locationmode": "country names",
           "locations": [
            "Eswatini"
           ],
           "name": "",
           "type": "choropleth",
           "z": [
            0.0012551470296177
           ]
          }
         ],
         "name": "0.0007114226172044"
        },
        {
         "data": [
          {
           "coloraxis": "coloraxis",
           "geo": "geo",
           "hovertemplate": "total_cases=0.0007000691076513<br>country=%{location}<br>total_deaths=%{z}<extra></extra>",
           "ids": [
            0.0007000691076513
           ],
           "locationmode": "country names",
           "locations": [
            "Guyana"
           ],
           "name": "",
           "type": "choropleth",
           "z": [
            0.0011421661436887
           ]
          }
         ],
         "name": "0.0007000691076513"
        },
        {
         "data": [
          {
           "coloraxis": "coloraxis",
           "geo": "geo",
           "hovertemplate": "total_cases=0.0006780914771555<br>country=%{location}<br>total_deaths=%{z}<extra></extra>",
           "ids": [
            0.0006780914771555
           ],
           "locationmode": "country names",
           "locations": [
            "Belize"
           ],
           "name": "",
           "type": "choropleth",
           "z": [
            0.0006072722618685
           ]
          }
         ],
         "name": "0.0006780914771555"
        },
        {
         "data": [
          {
           "coloraxis": "coloraxis",
           "geo": "geo",
           "hovertemplate": "total_cases=0.0006604325950103<br>country=%{location}<br>total_deaths=%{z}<extra></extra>",
           "ids": [
            0.0006604325950103
           ],
           "locationmode": "country names",
           "locations": [
            "Fiji"
           ],
           "name": "",
           "type": "choropleth",
           "z": [
            0.000779391580276
           ]
          }
         ],
         "name": "0.0006604325950103"
        },
        {
         "data": [
          {
           "coloraxis": "coloraxis",
           "geo": "geo",
           "hovertemplate": "total_cases=0.0006509025569831<br>country=%{location}<br>total_deaths=%{z}<extra></extra>",
           "ids": [
            0.0006509025569831
           ],
           "locationmode": "country names",
           "locations": [
            "Madagascar"
           ],
           "name": "",
           "type": "choropleth",
           "z": [
            0.0012524990401038
           ]
          }
         ],
         "name": "0.0006509025569831"
        },
        {
         "data": [
          {
           "coloraxis": "coloraxis",
           "geo": "geo",
           "hovertemplate": "total_cases=0.0006116979191771<br>country=%{location}<br>total_deaths=%{z}<extra></extra>",
           "ids": [
            0.0006116979191771
           ],
           "locationmode": "country names",
           "locations": [
            "Sudan"
           ],
           "name": "",
           "type": "choropleth",
           "z": [
            0.0044141985197738
           ]
          }
         ],
         "name": "0.0006116979191771"
        },
        {
         "data": [
          {
           "coloraxis": "coloraxis",
           "geo": "geo",
           "hovertemplate": "total_cases=0.0006109589333482<br>country=%{location}<br>total_deaths=%{z}<extra></extra>",
           "ids": [
            0.0006109589333482
           ],
           "locationmode": "country names",
           "locations": [
            "Mauritania"
           ],
           "name": "",
           "type": "choropleth",
           "z": [
            0.0008800151818065
           ]
          }
         ],
         "name": "0.0006109589333482"
        },
        {
         "data": [
          {
           "coloraxis": "coloraxis",
           "geo": "geo",
           "hovertemplate": "total_cases=0.0006067745460573<br>country=%{location}<br>total_deaths=%{z}<extra></extra>",
           "ids": [
            0.0006067745460573
           ],
           "locationmode": "country names",
           "locations": [
            "Cabo Verde"
           ],
           "name": "",
           "type": "choropleth",
           "z": [
            0.0003645398897553
           ]
          }
         ],
         "name": "0.0006067745460573"
        },
        {
         "data": [
          {
           "coloraxis": "coloraxis",
           "geo": "geo",
           "hovertemplate": "total_cases=0.0006007858816776<br>country=%{location}<br>total_deaths=%{z}<extra></extra>",
           "ids": [
            0.0006007858816776
           ],
           "locationmode": "country names",
           "locations": [
            "Bhutan"
           ],
           "name": "",
           "type": "choropleth",
           "z": [
            0.000018535926597730677
           ]
          }
         ],
         "name": "0.0006007858816776"
        },
        {
         "data": [
          {
           "coloraxis": "coloraxis",
           "geo": "geo",
           "hovertemplate": "total_cases=0.0005513410116712<br>country=%{location}<br>total_deaths=%{z}<extra></extra>",
           "ids": [
            0.0005513410116712
           ],
           "locationmode": "country names",
           "locations": [
            "Syria"
           ],
           "name": "",
           "type": "choropleth",
           "z": [
            0.002792746274058
           ]
          }
         ],
         "name": "0.0005513410116712"
        },
        {
         "data": [
          {
           "coloraxis": "coloraxis",
           "geo": "geo",
           "hovertemplate": "total_cases=0.0005133264289663<br>country=%{location}<br>total_deaths=%{z}<extra></extra>",
           "ids": [
            0.0005133264289663
           ],
           "locationmode": "country names",
           "locations": [
            "Burundi"
           ],
           "name": "",
           "type": "choropleth",
           "z": [
            0.00003354120051017931
           ]
          }
         ],
         "name": "0.0005133264289663"
        },
        {
         "data": [
          {
           "coloraxis": "coloraxis",
           "geo": "geo",
           "hovertemplate": "total_cases=0.0004861950921052<br>country=%{location}<br>total_deaths=%{z}<extra></extra>",
           "ids": [
            0.0004861950921052
           ],
           "locationmode": "country names",
           "locations": [
            "Seychelles"
           ],
           "name": "",
           "type": "choropleth",
           "z": [
            0.0001518180654671
           ]
          }
         ],
         "name": "0.0004861950921052"
        },
        {
         "data": [
          {
           "coloraxis": "coloraxis",
           "geo": "geo",
           "hovertemplate": "total_cases=0.000470033376055<br>country=%{location}<br>total_deaths=%{z}<extra></extra>",
           "ids": [
            0.000470033376055
           ],
           "locationmode": "country names",
           "locations": [
            "Gabon"
           ],
           "name": "",
           "type": "choropleth",
           "z": [
            0.000270094930424
           ]
          }
         ],
         "name": "0.000470033376055"
        },
        {
         "data": [
          {
           "coloraxis": "coloraxis",
           "geo": "geo",
           "hovertemplate": "total_cases=0.0004590733524627<br>country=%{location}<br>total_deaths=%{z}<extra></extra>",
           "ids": [
            0.0004590733524627
           ],
           "locationmode": "country names",
           "locations": [
            "Andorra"
           ],
           "name": "",
           "type": "choropleth",
           "z": [
            0.0001456394232678
           ]
          }
         ],
         "name": "0.0004590733524627"
        },
        {
         "data": [
          {
           "coloraxis": "coloraxis",
           "geo": "geo",
           "hovertemplate": "total_cases=0.000448621981454<br>country=%{location}<br>total_deaths=%{z}<extra></extra>",
           "ids": [
            0.000448621981454
           ],
           "locationmode": "country names",
           "locations": [
            "Papua New Guinea"
           ],
           "name": "",
           "type": "choropleth",
           "z": [
            0.0005913843247847
           ]
          }
         ],
         "name": "0.000448621981454"
        },
        {
         "data": [
          {
           "coloraxis": "coloraxis",
           "geo": "geo",
           "hovertemplate": "total_cases=0.0004412897064763<br>country=%{location}<br>total_deaths=%{z}<extra></extra>",
           "ids": [
            0.0004412897064763
           ],
           "locationmode": "country names",
           "locations": [
            "Curaçao"
           ],
           "name": "",
           "type": "choropleth",
           "z": [
            0.0002603856355395
           ]
          }
         ],
         "name": "0.0004412897064763"
        },
        {
         "data": [
          {
           "coloraxis": "coloraxis",
           "geo": "geo",
           "hovertemplate": "total_cases=0.0004221624498919<br>country=%{location}<br>total_deaths=%{z}<extra></extra>",
           "ids": [
            0.0004221624498919
           ],
           "locationmode": "country names",
           "locations": [
            "Aruba"
           ],
           "name": "",
           "type": "choropleth",
           "z": [
            0.0002083085084316
           ]
          }
         ],
         "name": "0.0004221624498919"
        },
        {
         "data": [
          {
           "coloraxis": "coloraxis",
           "geo": "geo",
           "hovertemplate": "total_cases=0.0004094077464295<br>country=%{location}<br>total_deaths=%{z}<extra></extra>",
           "ids": [
            0.0004094077464295
           ],
           "locationmode": "country names",
           "locations": [
            "Tanzania"
           ],
           "name": "",
           "type": "choropleth",
           "z": [
            0.0007467330429371
           ]
          }
         ],
         "name": "0.0004094077464295"
        },
        {
         "data": [
          {
           "coloraxis": "coloraxis",
           "geo": "geo",
           "hovertemplate": "total_cases=0.0004030543877446<br>country=%{location}<br>total_deaths=%{z}<extra></extra>",
           "ids": [
            0.0004030543877446
           ],
           "locationmode": "country names",
           "locations": [
            "Mayotte"
           ],
           "name": "",
           "type": "choropleth",
           "z": [
            0.0001659406762082
           ]
          }
         ],
         "name": "0.0004030543877446"
        },
        {
         "data": [
          {
           "coloraxis": "coloraxis",
           "geo": "geo",
           "hovertemplate": "total_cases=0.0003996953612496<br>country=%{location}<br>total_deaths=%{z}<extra></extra>",
           "ids": [
            0.0003996953612496
           ],
           "locationmode": "country names",
           "locations": [
            "Mauritius"
           ],
           "name": "",
           "type": "choropleth",
           "z": [
            0.0009206176876872
           ]
          }
         ],
         "name": "0.0003996953612496"
        },
        {
         "data": [
          {
           "coloraxis": "coloraxis",
           "geo": "geo",
           "hovertemplate": "total_cases=0.0003776409530053<br>country=%{location}<br>total_deaths=%{z}<extra></extra>",
           "ids": [
            0.0003776409530053
           ],
           "locationmode": "country names",
           "locations": [
            "Togo"
           ],
           "name": "",
           "type": "choropleth",
           "z": [
            0.0002559723196829
           ]
          }
         ],
         "name": "0.0003776409530053"
        },
        {
         "data": [
          {
           "coloraxis": "coloraxis",
           "geo": "geo",
           "hovertemplate": "total_cases=0.0003669496515326<br>country=%{location}<br>total_deaths=%{z}<extra></extra>",
           "ids": [
            0.0003669496515326
           ],
           "locationmode": "country names",
           "locations": [
            "Guinea"
           ],
           "name": "",
           "type": "choropleth",
           "z": [
            0.0004122037010066
           ]
          }
         ],
         "name": "0.0003669496515326"
        },
        {
         "data": [
          {
           "coloraxis": "coloraxis",
           "geo": "geo",
           "hovertemplate": "total_cases=0.0003647230968274<br>country=%{location}<br>total_deaths=%{z}<extra></extra>",
           "ids": [
            0.0003647230968274
           ],
           "locationmode": "country names",
           "locations": [
            "Isle of Man"
           ],
           "name": "",
           "type": "choropleth",
           "z": [
            0.0001023889278731
           ]
          }
         ],
         "name": "0.0003647230968274"
        },
        {
         "data": [
          {
           "coloraxis": "coloraxis",
           "geo": "geo",
           "hovertemplate": "total_cases=0.0003597613348333<br>country=%{location}<br>total_deaths=%{z}<extra></extra>",
           "ids": [
            0.0003597613348333
           ],
           "locationmode": "country names",
           "locations": [
            "Bahamas"
           ],
           "name": "",
           "type": "choropleth",
           "z": [
            0.0007352584217099
           ]
          }
         ],
         "name": "0.0003597613348333"
        },
        {
         "data": [
          {
           "coloraxis": "coloraxis",
           "geo": "geo",
           "hovertemplate": "total_cases=0.0003338392475105<br>country=%{location}<br>total_deaths=%{z}<extra></extra>",
           "ids": [
            0.0003338392475105
           ],
           "locationmode": "country names",
           "locations": [
            "Lesotho"
           ],
           "name": "",
           "type": "choropleth",
           "z": [
            0.0006381654728647
           ]
          }
         ],
         "name": "0.0003338392475105"
        },
        {
         "data": [
          {
           "coloraxis": "coloraxis",
           "geo": "geo",
           "hovertemplate": "total_cases=0.0003325724146609<br>country=%{location}<br>total_deaths=%{z}<extra></extra>",
           "ids": [
            0.0003325724146609
           ],
           "locationmode": "country names",
           "locations": [
            "Faeroe Islands"
           ],
           "name": "",
           "type": "choropleth",
           "z": [
            0.00002471456879697423
           ]
          }
         ],
         "name": "0.0003325724146609"
        },
        {
         "data": [
          {
           "coloraxis": "coloraxis",
           "geo": "geo",
           "hovertemplate": "total_cases=0.0003269868334606<br>country=%{location}<br>total_deaths=%{z}<extra></extra>",
           "ids": [
            0.0003269868334606
           ],
           "locationmode": "country names",
           "locations": [
            "Haiti"
           ],
           "name": "",
           "type": "choropleth",
           "z": [
            0.0007590903273356
           ]
          }
         ],
         "name": "0.0003269868334606"
        },
        {
         "data": [
          {
           "coloraxis": "coloraxis",
           "geo": "geo",
           "hovertemplate": "total_cases=0.0003145776298662<br>country=%{location}<br>total_deaths=%{z}<extra></extra>",
           "ids": [
            0.0003145776298662
           ],
           "locationmode": "country names",
           "locations": [
            "Mali"
           ],
           "name": "",
           "type": "choropleth",
           "z": [
            0.0006558187362911
           ]
          }
         ],
         "name": "0.0003145776298662"
        },
        {
         "data": [
          {
           "coloraxis": "coloraxis",
           "geo": "geo",
           "hovertemplate": "total_cases=0.0003019956763378<br>country=%{location}<br>total_deaths=%{z}<extra></extra>",
           "ids": [
            0.0003019956763378
           ],
           "locationmode": "country names",
           "locations": [
            "Cayman Islands"
           ],
           "name": "",
           "type": "choropleth",
           "z": [
            0.000032658537338858804
           ]
          }
         ],
         "name": "0.0003019956763378"
        },
        {
         "data": [
          {
           "coloraxis": "coloraxis",
           "geo": "geo",
           "hovertemplate": "total_cases=0.0002859779185659<br>country=%{location}<br>total_deaths=%{z}<extra></extra>",
           "ids": [
            0.0002859779185659
           ],
           "locationmode": "country names",
           "locations": [
            "Saint Lucia"
           ],
           "name": "",
           "type": "choropleth",
           "z": [
            0.00036100923707
           ]
          }
         ],
         "name": "0.0002859779185659"
        },
        {
         "data": [
          {
           "coloraxis": "coloraxis",
           "geo": "geo",
           "hovertemplate": "total_cases=0.0002685685641033<br>country=%{location}<br>total_deaths=%{z}<extra></extra>",
           "ids": [
            0.0002685685641033
           ],
           "locationmode": "country names",
           "locations": [
            "Benin"
           ],
           "name": "",
           "type": "choropleth",
           "z": [
            0.0001438740969252
           ]
          }
         ],
         "name": "0.0002685685641033"
        },
        {
         "data": [
          {
           "coloraxis": "coloraxis",
           "geo": "geo",
           "hovertemplate": "total_cases=0.0002621288304514<br>country=%{location}<br>total_deaths=%{z}<extra></extra>",
           "ids": [
            0.0002621288304514
           ],
           "locationmode": "country names",
           "locations": [
            "Somalia"
           ],
           "name": "",
           "type": "choropleth",
           "z": [
            0.0012013045761672
           ]
          }
         ],
         "name": "0.0002621288304514"
        },
        {
         "data": [
          {
           "coloraxis": "coloraxis",
           "geo": "geo",
           "hovertemplate": "total_cases=0.0002434814347949<br>country=%{location}<br>total_deaths=%{z}<extra></extra>",
           "ids": [
            0.0002434814347949
           ],
           "locationmode": "country names",
           "locations": [
            "Congo"
           ],
           "name": "",
           "type": "choropleth",
           "z": [
            0.0003407079841297
           ]
          }
         ],
         "name": "0.0002434814347949"
        },
        {
         "data": [
          {
           "coloraxis": "coloraxis",
           "geo": "geo",
           "hovertemplate": "total_cases=0.0002358036599492<br>country=%{location}<br>total_deaths=%{z}<extra></extra>",
           "ids": [
            0.0002358036599492
           ],
           "locationmode": "country names",
           "locations": [
            "Solomon Islands"
           ],
           "name": "",
           "type": "choropleth",
           "z": [
            0.000135047465212
           ]
          }
         ],
         "name": "0.0002358036599492"
        },
        {
         "data": [
          {
           "coloraxis": "coloraxis",
           "geo": "geo",
           "hovertemplate": "total_cases=0.0002247860530455<br>country=%{location}<br>total_deaths=%{z}<extra></extra>",
           "ids": [
            0.0002247860530455
           ],
           "locationmode": "country names",
           "locations": [
            "San Marino"
           ],
           "name": "",
           "type": "choropleth",
           "z": [
            0.0001076849069011
           ]
          }
         ],
         "name": "0.0002247860530455"
        },
        {
         "data": [
          {
           "coloraxis": "coloraxis",
           "geo": "geo",
           "hovertemplate": "total_cases=0.0002246708864229<br>country=%{location}<br>total_deaths=%{z}<extra></extra>",
           "ids": [
            0.0002246708864229
           ],
           "locationmode": "country names",
           "locations": [
            "Timor-Leste"
           ],
           "name": "",
           "type": "choropleth",
           "z": [
            0.0001218075176422
           ]
          }
         ],
         "name": "0.0002246708864229"
        },
        {
         "data": [
          {
           "coloraxis": "coloraxis",
           "geo": "geo",
           "hovertemplate": "total_cases=0.0002175785419091<br>country=%{location}<br>total_deaths=%{z}<extra></extra>",
           "ids": [
            0.0002175785419091
           ],
           "locationmode": "country names",
           "locations": [
            "Micronesia"
           ],
           "name": "",
           "type": "choropleth",
           "z": [
            0.000051194463936589474
           ]
          }
         ],
         "name": "0.0002175785419091"
        },
        {
         "data": [
          {
           "coloraxis": "coloraxis",
           "geo": "geo",
           "hovertemplate": "total_cases=0.0002113307526284<br>country=%{location}<br>total_deaths=%{z}<extra></extra>",
           "ids": [
            0.0002113307526284
           ],
           "locationmode": "country names",
           "locations": [
            "Burkina Faso"
           ],
           "name": "",
           "type": "choropleth",
           "z": [
            0.0003495346158429
           ]
          }
         ],
         "name": "0.0002113307526284"
        },
        {
         "data": [
          {
           "coloraxis": "coloraxis",
           "geo": "geo",
           "hovertemplate": "total_cases=0.0002047566579168<br>country=%{location}<br>total_deaths=%{z}<extra></extra>",
           "ids": [
            0.0002047566579168
           ],
           "locationmode": "country names",
           "locations": [
            "Liechtenstein"
           ],
           "name": "",
           "type": "choropleth",
           "z": [
            0.00007855702224752523
           ]
          }
         ],
         "name": "0.0002047566579168"
        },
        {
         "data": [
          {
           "coloraxis": "coloraxis",
           "geo": "geo",
           "hovertemplate": "total_cases=0.0001957256752545<br>country=%{location}<br>total_deaths=%{z}<extra></extra>",
           "ids": [
            0.0001957256752545
           ],
           "locationmode": "country names",
           "locations": [
            "Gibraltar"
           ],
           "name": "",
           "type": "choropleth",
           "z": [
            0.0000979756120165764
           ]
          }
         ],
         "name": "0.0001957256752545"
        },
        {
         "data": [
          {
           "coloraxis": "coloraxis",
           "geo": "geo",
           "hovertemplate": "total_cases=0.0001888252751119<br>country=%{location}<br>total_deaths=%{z}<extra></extra>",
           "ids": [
            0.0001888252751119
           ],
           "locationmode": "country names",
           "locations": [
            "Grenada"
           ],
           "name": "",
           "type": "choropleth",
           "z": [
            0.0002100738347742
           ]
          }
         ],
         "name": "0.0001888252751119"
        },
        {
         "data": [
          {
           "coloraxis": "coloraxis",
           "geo": "geo",
           "hovertemplate": "total_cases=0.0001800534173507<br>country=%{location}<br>total_deaths=%{z}<extra></extra>",
           "ids": [
            0.0001800534173507
           ],
           "locationmode": "country names",
           "locations": [
            "Bermuda"
           ],
           "name": "",
           "type": "choropleth",
           "z": [
            0.0001385781178973
           ]
          }
         ],
         "name": "0.0001800534173507"
        },
        {
         "data": [
          {
           "coloraxis": "coloraxis",
           "geo": "geo",
           "hovertemplate": "total_cases=0.0001774141822474<br>country=%{location}<br>total_deaths=%{z}<extra></extra>",
           "ids": [
            0.0001774141822474
           ],
           "locationmode": "country names",
           "locations": [
            "Nicaragua"
           ],
           "name": "",
           "type": "choropleth",
           "z": [
            0.0001985992135471
           ]
          }
         ],
         "name": "0.0001774141822474"
        },
        {
         "data": [
          {
           "coloraxis": "coloraxis",
           "geo": "geo",
           "hovertemplate": "total_cases=0.0001762337243649<br>country=%{location}<br>total_deaths=%{z}<extra></extra>",
           "ids": [
            0.0001762337243649
           ],
           "locationmode": "country names",
           "locations": [
            "South Sudan"
           ],
           "name": "",
           "type": "choropleth",
           "z": [
            0.0001218075176422
           ]
          }
         ],
         "name": "0.0001762337243649"
        },
        {
         "data": [
          {
           "coloraxis": "coloraxis",
           "geo": "geo",
           "hovertemplate": "total_cases=0.0001706481431647<br>country=%{location}<br>total_deaths=%{z}<extra></extra>",
           "ids": [
            0.0001706481431647
           ],
           "locationmode": "country names",
           "locations": [
            "Tajikistan"
           ],
           "name": "",
           "type": "choropleth",
           "z": [
            0.000110332896415
           ]
          }
         ],
         "name": "0.0001706481431647"
        },
        {
         "data": [
          {
           "coloraxis": "coloraxis",
           "geo": "geo",
           "hovertemplate": "total_cases=0.0001649282009046<br>country=%{location}<br>total_deaths=%{z}<extra></extra>",
           "ids": [
            0.0001649282009046
           ],
           "locationmode": "country names",
           "locations": [
            "Equatorial Guinea"
           ],
           "name": "",
           "type": "choropleth",
           "z": [
            0.0001615273603516
           ]
          }
         ],
         "name": "0.0001649282009046"
        },
        {
         "data": [
          {
           "coloraxis": "coloraxis",
           "geo": "geo",
           "hovertemplate": "total_cases=0.0001605518692425<br>country=%{location}<br>total_deaths=%{z}<extra></extra>",
           "ids": [
            0.0001605518692425
           ],
           "locationmode": "country names",
           "locations": [
            "Tonga"
           ],
           "name": "",
           "type": "choropleth",
           "z": [
            0.000011474621227166607
           ]
          }
         ],
         "name": "0.0001605518692425"
        },
        {
         "data": [
          {
           "coloraxis": "coloraxis",
           "geo": "geo",
           "hovertemplate": "total_cases=0.0001543424688361<br>country=%{location}<br>total_deaths=%{z}<extra></extra>",
           "ids": [
            0.0001543424688361
           ],
           "locationmode": "country names",
           "locations": [
            "Samoa"
           ],
           "name": "",
           "type": "choropleth",
           "z": [
            0.000025597231968294737
           ]
          }
         ],
         "name": "0.0001543424688361"
        },
        {
         "data": [
          {
           "coloraxis": "coloraxis",
           "geo": "geo",
           "hovertemplate": "total_cases=0.0001540449550608<br>country=%{location}<br>total_deaths=%{z}<extra></extra>",
           "ids": [
            0.0001540449550608
           ],
           "locationmode": "country names",
           "locations": [
            "Monaco"
           ],
           "name": "",
           "type": "choropleth",
           "z": [
            0.00005737310613583304
           ]
          }
         ],
         "name": "0.0001540449550608"
        },
        {
         "data": [
          {
           "coloraxis": "coloraxis",
           "geo": "geo",
           "hovertemplate": "total_cases=0.0001512041783679<br>country=%{location}<br>total_deaths=%{z}<extra></extra>",
           "ids": [
            0.0001512041783679
           ],
           "locationmode": "country names",
           "locations": [
            "Dominica"
           ],
           "name": "",
           "type": "choropleth",
           "z": [
            0.00006531707467771761
           ]
          }
         ],
         "name": "0.0001512041783679"
        },
        {
         "data": [
          {
           "coloraxis": "coloraxis",
           "geo": "geo",
           "hovertemplate": "total_cases=0.0001505323730689<br>country=%{location}<br>total_deaths=%{z}<extra></extra>",
           "ids": [
            0.0001505323730689
           ],
           "locationmode": "country names",
           "locations": [
            "Djibouti"
           ],
           "name": "",
           "type": "choropleth",
           "z": [
            0.0001668233393795
           ]
          }
         ],
         "name": "0.0001505323730689"
        },
        {
         "data": [
          {
           "coloraxis": "coloraxis",
           "geo": "geo",
           "hovertemplate": "total_cases=0.0001495150679018<br>country=%{location}<br>total_deaths=%{z}<extra></extra>",
           "ids": [
            0.0001495150679018
           ],
           "locationmode": "country names",
           "locations": [
            "Marshall Islands"
           ],
           "name": "",
           "type": "choropleth",
           "z": [
            0.00001500527391244864
           ]
          }
         ],
         "name": "0.0001495150679018"
        },
        {
         "data": [
          {
           "coloraxis": "coloraxis",
           "geo": "geo",
           "hovertemplate": "total_cases=0.0001474420686935<br>country=%{location}<br>total_deaths=%{z}<extra></extra>",
           "ids": [
            0.0001474420686935
           ],
           "locationmode": "country names",
           "locations": [
            "CAR"
           ],
           "name": "",
           "type": "choropleth",
           "z": [
            0.00009974093835921744
           ]
          }
         ],
         "name": "0.0001474420686935"
        },
        {
         "data": [
          {
           "coloraxis": "coloraxis",
           "geo": "geo",
           "hovertemplate": "total_cases=0.0001207426066675<br>country=%{location}<br>total_deaths=%{z}<extra></extra>",
           "ids": [
            0.0001207426066675
           ],
           "locationmode": "country names",
           "locations": [
            "Gambia"
           ],
           "name": "",
           "type": "choropleth",
           "z": [
            0.0003283506997312
           ]
          }
         ],
         "name": "0.0001207426066675"
        },
        {
         "data": [
          {
           "coloraxis": "coloraxis",
           "geo": "geo",
           "hovertemplate": "total_cases=0.0001173547885168<br>country=%{location}<br>total_deaths=%{z}<extra></extra>",
           "ids": [
            0.0001173547885168
           ],
           "locationmode": "country names",
           "locations": [
            "Saint Martin"
           ],
           "name": "",
           "type": "choropleth",
           "z": [
            0.00005560777979319202
           ]
          }
         ],
         "name": "0.0001173547885168"
        },
        {
         "data": [
          {
           "coloraxis": "coloraxis",
           "geo": "geo",
           "hovertemplate": "total_cases=0.0001152529976528<br>country=%{location}<br>total_deaths=%{z}<extra></extra>",
           "ids": [
            0.0001152529976528
           ],
           "locationmode": "country names",
           "locations": [
            "Vanuatu"
           ],
           "name": "",
           "type": "choropleth",
           "z": [
            0.000012357284398487117
           ]
          }
         ],
         "name": "0.0001152529976528"
        },
        {
         "data": [
          {
           "coloraxis": "coloraxis",
           "geo": "geo",
           "hovertemplate": "total_cases=0.0001148403172548<br>country=%{location}<br>total_deaths=%{z}<extra></extra>",
           "ids": [
            0.0001148403172548
           ],
           "locationmode": "country names",
           "locations": [
            "Greenland"
           ],
           "name": "",
           "type": "choropleth",
           "z": [
            0.000018535926597730677
           ]
          }
         ],
         "name": "0.0001148403172548"
        },
        {
         "data": [
          {
           "coloraxis": "coloraxis",
           "geo": "geo",
           "hovertemplate": "total_cases=0.0001145907895723<br>country=%{location}<br>total_deaths=%{z}<extra></extra>",
           "ids": [
            0.0001145907895723
           ],
           "locationmode": "country names",
           "locations": [
            "Yemen"
           ],
           "name": "",
           "type": "choropleth",
           "z": [
            0.0019056697868809
           ]
          }
         ],
         "name": "0.0001145907895723"
        },
        {
         "data": [
          {
           "coloraxis": "coloraxis",
           "geo": "geo",
           "hovertemplate": "total_cases=0.0001118651795021<br>country=%{location}<br>total_deaths=%{z}<extra></extra>",
           "ids": [
            0.0001118651795021
           ],
           "locationmode": "country names",
           "locations": [
            "Caribbean Netherlands"
           ],
           "name": "",
           "type": "choropleth",
           "z": [
            0.00003354120051017931
           ]
          }
         ],
         "name": "0.0001118651795021"
        },
        {
         "data": [
          {
           "coloraxis": "coloraxis",
           "geo": "geo",
           "hovertemplate": "total_cases=0.0001056173902214<br>country=%{location}<br>total_deaths=%{z}<extra></extra>",
           "ids": [
            0.0001056173902214
           ],
           "locationmode": "country names",
           "locations": [
            "Sint Maarten"
           ],
           "name": "",
           "type": "choropleth",
           "z": [
            0.00007855702224752523
           ]
          }
         ],
         "name": "0.0001056173902214"
        },
        {
         "data": [
          {
           "coloraxis": "coloraxis",
           "geo": "geo",
           "hovertemplate": "total_cases=9.77380737860267e-05<br>country=%{location}<br>total_deaths=%{z}<extra></extra>",
           "ids": [
            0.0000977380737860267
           ],
           "locationmode": "country names",
           "locations": [
            "Eritrea"
           ],
           "name": "",
           "type": "choropleth",
           "z": [
            0.00009091430664601237
           ]
          }
         ],
         "name": "9.77380737860267e-05"
        },
        {
         "data": [
          {
           "coloraxis": "coloraxis",
           "geo": "geo",
           "hovertemplate": "total_cases=9.526199139828171e-05<br>country=%{location}<br>total_deaths=%{z}<extra></extra>",
           "ids": [
            0.00009526199139828171
           ],
           "locationmode": "country names",
           "locations": [
            "Niger"
           ],
           "name": "",
           "type": "choropleth",
           "z": [
            0.0002753909094519
           ]
          }
         ],
         "name": "9.526199139828171e-05"
        },
        {
         "data": [
          {
           "coloraxis": "coloraxis",
           "geo": "geo",
           "hovertemplate": "total_cases=9.194135377750746e-05<br>country=%{location}<br>total_deaths=%{z}<extra></extra>",
           "ids": [
            0.00009194135377750746
           ],
           "locationmode": "country names",
           "locations": [
            "St. Vincent Grenadines"
           ],
           "name": "",
           "type": "choropleth",
           "z": [
            0.0001085675700724
           ]
          }
         ],
         "name": "9.194135377750746e-05"
        },
        {
         "data": [
          {
           "coloraxis": "coloraxis",
           "geo": "geo",
           "hovertemplate": "total_cases=8.734428608863208e-05<br>country=%{location}<br>total_deaths=%{z}<extra></extra>",
           "ids": [
            0.00008734428608863208
           ],
           "locationmode": "country names",
           "locations": [
            "Antigua and Barbuda"
           ],
           "name": "",
           "type": "choropleth",
           "z": [
            0.0001288688230127
           ]
          }
         ],
         "name": "8.734428608863208e-05"
        },
        {
         "data": [
          {
           "coloraxis": "coloraxis",
           "geo": "geo",
           "hovertemplate": "total_cases=8.625020317311685e-05<br>country=%{location}<br>total_deaths=%{z}<extra></extra>",
           "ids": [
            0.00008625020317311685
           ],
           "locationmode": "country names",
           "locations": [
            "Comoros"
           ],
           "name": "",
           "type": "choropleth",
           "z": [
            0.0001421087705826
           ]
          }
         ],
         "name": "8.625020317311685e-05"
        },
        {
         "data": [
          {
           "coloraxis": "coloraxis",
           "geo": "geo",
           "hovertemplate": "total_cases=8.581832833804505e-05<br>country=%{location}<br>total_deaths=%{z}<extra></extra>",
           "ids": [
            0.00008581832833804505
           ],
           "locationmode": "country names",
           "locations": [
            "Guinea-Bissau"
           ],
           "name": "",
           "type": "choropleth",
           "z": [
            0.0001553487181524
           ]
          }
         ],
         "name": "8.581832833804505e-05"
        },
        {
         "data": [
          {
           "coloraxis": "coloraxis",
           "geo": "geo",
           "hovertemplate": "total_cases=7.732478991496634e-05<br>country=%{location}<br>total_deaths=%{z}<extra></extra>",
           "ids": [
            0.00007732478991496634
           ],
           "locationmode": "country names",
           "locations": [
            "Liberia"
           ],
           "name": "",
           "type": "choropleth",
           "z": [
            0.0002595029723682
           ]
          }
         ],
         "name": "7.732478991496634e-05"
        },
        {
         "data": [
          {
           "coloraxis": "coloraxis",
           "geo": "geo",
           "hovertemplate": "total_cases=7.44264299107067e-05<br>country=%{location}<br>total_deaths=%{z}<extra></extra>",
           "ids": [
            0.0000744264299107067
           ],
           "locationmode": "country names",
           "locations": [
            "Sierra Leone"
           ],
           "name": "",
           "type": "choropleth",
           "z": [
            0.0001112155595863
           ]
          }
         ],
         "name": "7.44264299107067e-05"
        },
        {
         "data": [
          {
           "coloraxis": "coloraxis",
           "geo": "geo",
           "hovertemplate": "total_cases=7.338993030653439e-05<br>country=%{location}<br>total_deaths=%{z}<extra></extra>",
           "ids": [
            0.00007338993030653439
           ],
           "locationmode": "country names",
           "locations": [
            "Chad"
           ],
           "name": "",
           "type": "choropleth",
           "z": [
            0.0001712366552361
           ]
          }
         ],
         "name": "7.338993030653439e-05"
        },
        {
         "data": [
          {
           "coloraxis": "coloraxis",
           "geo": "geo",
           "hovertemplate": "total_cases=7.005969546720297e-05<br>country=%{location}<br>total_deaths=%{z}<extra></extra>",
           "ids": [
            0.00007005969546720297
           ],
           "locationmode": "country names",
           "locations": [
            "British Virgin Islands"
           ],
           "name": "",
           "type": "choropleth",
           "z": [
            0.000056490442964512526
           ]
          }
         ],
         "name": "7.005969546720297e-05"
        },
        {
         "data": [
          {
           "coloraxis": "coloraxis",
           "geo": "geo",
           "hovertemplate": "total_cases=6.723811321140055e-05<br>country=%{location}<br>total_deaths=%{z}<extra></extra>",
           "ids": [
            0.00006723811321140055
           ],
           "locationmode": "country names",
           "locations": [
            "Cook Islands"
           ],
           "name": "",
           "type": "choropleth",
           "z": [
            0.0000017653263426410164
           ]
          }
         ],
         "name": "6.723811321140055e-05"
        },
        {
         "data": [
          {
           "coloraxis": "coloraxis",
           "geo": "geo",
           "hovertemplate": "total_cases=6.321687863595424e-05<br>country=%{location}<br>total_deaths=%{z}<extra></extra>",
           "ids": [
            0.00006321687863595424
           ],
           "locationmode": "country names",
           "locations": [
            "Saint Kitts and Nevis"
           ],
           "name": "",
           "type": "choropleth",
           "z": [
            0.00004060250588074338
           ]
          }
         ],
         "name": "6.321687863595424e-05"
        },
        {
         "data": [
          {
           "coloraxis": "coloraxis",
           "geo": "geo",
           "hovertemplate": "total_cases=6.254507333695366e-05<br>country=%{location}<br>total_deaths=%{z}<extra></extra>",
           "ids": [
            0.00006254507333695366
           ],
           "locationmode": "country names",
           "locations": [
            "Turks and Caicos"
           ],
           "name": "",
           "type": "choropleth",
           "z": [
            0.00003354120051017931
           ]
          }
         ],
         "name": "6.254507333695366e-05"
        },
        {
         "data": [
          {
           "coloraxis": "coloraxis",
           "geo": "geo",
           "hovertemplate": "total_cases=6.02225464461231e-05<br>country=%{location}<br>total_deaths=%{z}<extra></extra>",
           "ids": [
            0.0000602225464461231
           ],
           "locationmode": "country names",
           "locations": [
            "Sao Tome and Principe"
           ],
           "name": "",
           "type": "choropleth",
           "z": [
            0.00006796506419167913
           ]
          }
         ],
         "name": "6.02225464461231e-05"
        },
        {
         "data": [
          {
           "coloraxis": "coloraxis",
           "geo": "geo",
           "hovertemplate": "total_cases=5.740096419032068e-05<br>country=%{location}<br>total_deaths=%{z}<extra></extra>",
           "ids": [
            0.00005740096419032068
           ],
           "locationmode": "country names",
           "locations": [
            "Palau"
           ],
           "name": "",
           "type": "choropleth",
           "z": [
            0.000007943968541884574
           ]
          }
         ],
         "name": "5.740096419032068e-05"
        },
        {
         "data": [
          {
           "coloraxis": "coloraxis",
           "geo": "geo",
           "hovertemplate": "total_cases=5.196893848697316e-05<br>country=%{location}<br>total_deaths=%{z}<extra></extra>",
           "ids": [
            0.00005196893848697316
           ],
           "locationmode": "country names",
           "locations": [
            "St. Barth"
           ],
           "name": "",
           "type": "choropleth",
           "z": [
            0.000005295979027923049
           ]
          }
         ],
         "name": "5.196893848697316e-05"
        },
        {
         "data": [
          {
           "coloraxis": "coloraxis",
           "geo": "geo",
           "hovertemplate": "total_cases=4.801488444142691e-05<br>country=%{location}<br>total_deaths=%{z}<extra></extra>",
           "ids": [
            0.00004801488444142691
           ],
           "locationmode": "country names",
           "locations": [
            "Kiribati"
           ],
           "name": "",
           "type": "choropleth",
           "z": [
            0.000015887937083769148
           ]
          }
         ],
         "name": "4.801488444142691e-05"
        },
        {
         "data": [
          {
           "coloraxis": "coloraxis",
           "geo": "geo",
           "hovertemplate": "total_cases=4.430076085980944e-05<br>country=%{location}<br>total_deaths=%{z}<extra></extra>",
           "ids": [
            0.00004430076085980944
           ],
           "locationmode": "country names",
           "locations": [
            "Nauru"
           ],
           "name": "",
           "type": "choropleth",
           "z": [
            8.826631713205082e-7
           ]
          }
         ],
         "name": "4.430076085980944e-05"
        },
        {
         "data": [
          {
           "coloraxis": "coloraxis",
           "geo": "geo",
           "hovertemplate": "total_cases=3.741955515433211e-05<br>country=%{location}<br>total_deaths=%{z}<extra></extra>",
           "ids": [
            0.00003741955515433211
           ],
           "locationmode": "country names",
           "locations": [
            "Anguilla"
           ],
           "name": "",
           "type": "choropleth",
           "z": [
            0.000010591958055846098
           ]
          }
         ],
         "name": "3.741955515433211e-05"
        },
        {
         "data": [
          {
           "coloraxis": "coloraxis",
           "geo": "geo",
           "hovertemplate": "total_cases=3.342711223455725e-05<br>country=%{location}<br>total_deaths=%{z}<extra></extra>",
           "ids": [
            0.00003342711223455725
           ],
           "locationmode": "country names",
           "locations": [
            "Macao"
           ],
           "name": "",
           "type": "choropleth",
           "z": [
            0.0001059195805584
           ]
          }
         ],
         "name": "3.342711223455725e-05"
        },
        {
         "data": [
          {
           "coloraxis": "coloraxis",
           "geo": "geo",
           "hovertemplate": "total_cases=3.308161236649981e-05<br>country=%{location}<br>total_deaths=%{z}<extra></extra>",
           "ids": [
            0.00003308161236649981
           ],
           "locationmode": "country names",
           "locations": [
            "Saint Pierre Miquelon"
           ],
           "name": "",
           "type": "choropleth",
           "z": [
            0.0000017653263426410164
           ]
          }
         ],
         "name": "3.308161236649981e-05"
        },
        {
         "data": [
          {
           "coloraxis": "coloraxis",
           "geo": "geo",
           "hovertemplate": "total_cases=3.284168190257104e-05<br>country=%{location}<br>total_deaths=%{z}<extra></extra>",
           "ids": [
            0.00003284168190257104
           ],
           "locationmode": "country names",
           "locations": [
            "Wallis and Futuna"
           ],
           "name": "",
           "type": "choropleth",
           "z": [
            0.000006178642199243557
           ]
          }
         ],
         "name": "3.284168190257104e-05"
        },
        {
         "data": [
          {
           "coloraxis": "coloraxis",
           "geo": "geo",
           "hovertemplate": "total_cases=2.6872211960023056e-05<br>country=%{location}<br>total_deaths=%{z}<extra></extra>",
           "ids": [
            0.000026872211960023056
           ],
           "locationmode": "country names",
           "locations": [
            "Tuvalu"
           ],
           "name": "",
           "type": "choropleth",
           "z": [
            0
           ]
          }
         ],
         "name": "2.6872211960023056e-05"
        },
        {
         "data": [
          {
           "coloraxis": "coloraxis",
           "geo": "geo",
           "hovertemplate": "total_cases=2.073958930200351e-05<br>country=%{location}<br>total_deaths=%{z}<extra></extra>",
           "ids": [
            0.00002073958930200351
           ],
           "locationmode": "country names",
           "locations": [
            "Saint Helena"
           ],
           "name": "",
           "type": "choropleth",
           "z": [
            0
           ]
          }
         ],
         "name": "2.073958930200351e-05"
        },
        {
         "data": [
          {
           "coloraxis": "coloraxis",
           "geo": "geo",
           "hovertemplate": "total_cases=1.847464572251585e-05<br>country=%{location}<br>total_deaths=%{z}<extra></extra>",
           "ids": [
            0.00001847464572251585
           ],
           "locationmode": "country names",
           "locations": [
            "Falkland Islands"
           ],
           "name": "",
           "type": "choropleth",
           "z": [
            0
           ]
          }
         ],
         "name": "1.847464572251585e-05"
        },
        {
         "data": [
          {
           "coloraxis": "coloraxis",
           "geo": "geo",
           "hovertemplate": "total_cases=1.3416911542897225e-05<br>country=%{location}<br>total_deaths=%{z}<extra></extra>",
           "ids": [
            0.000013416911542897225
           ],
           "locationmode": "country names",
           "locations": [
            "Montserrat"
           ],
           "name": "",
           "type": "choropleth",
           "z": [
            0.000007061305370564066
           ]
          }
         ],
         "name": "1.3416911542897225e-05"
        },
        {
         "data": [
          {
           "coloraxis": "coloraxis",
           "geo": "geo",
           "hovertemplate": "total_cases=7.12113616940611e-06<br>country=%{location}<br>total_deaths=%{z}<extra></extra>",
           "ids": [
            0.00000712113616940611
           ],
           "locationmode": "country names",
           "locations": [
            "Niue"
           ],
           "name": "",
           "type": "choropleth",
           "z": [
            0
           ]
          }
         ],
         "name": "7.12113616940611e-06"
        },
        {
         "data": [
          {
           "coloraxis": "coloraxis",
           "geo": "geo",
           "hovertemplate": "total_cases=6.785233519905821e-06<br>country=%{location}<br>total_deaths=%{z}<extra></extra>",
           "ids": [
            0.000006785233519905821
           ],
           "locationmode": "country names",
           "locations": [
            "Diamond Princess"
           ],
           "name": "",
           "type": "choropleth",
           "z": [
            0.000011474621227166607
           ]
          }
         ],
         "name": "6.785233519905821e-06"
        },
        {
         "data": [
          {
           "coloraxis": "coloraxis",
           "geo": "geo",
           "hovertemplate": "total_cases=2.303332453716262e-07<br>country=%{location}<br>total_deaths=%{z}<extra></extra>",
           "ids": [
            2.303332453716262e-7
           ],
           "locationmode": "country names",
           "locations": [
            "Vatican City"
           ],
           "name": "",
           "type": "choropleth",
           "z": [
            0
           ]
          }
         ],
         "name": "2.303332453716262e-07"
        },
        {
         "data": [
          {
           "coloraxis": "coloraxis",
           "geo": "geo",
           "hovertemplate": "total_cases=4.7986092785755454e-08<br>country=%{location}<br>total_deaths=%{z}<extra></extra>",
           "ids": [
            4.7986092785755454e-8
           ],
           "locationmode": "country names",
           "locations": [
            "Western Sahara"
           ],
           "name": "",
           "type": "choropleth",
           "z": [
            8.826631713205082e-7
           ]
          }
         ],
         "name": "4.7986092785755454e-08"
        },
        {
         "data": [
          {
           "coloraxis": "coloraxis",
           "geo": "geo",
           "hovertemplate": "total_cases=3.8388874228604366e-08<br>country=%{location}<br>total_deaths=%{z}<extra></extra>",
           "ids": [
            3.8388874228604366e-8
           ],
           "locationmode": "country names",
           "locations": [
            "MS Zaandam"
           ],
           "name": "",
           "type": "choropleth",
           "z": [
            0.0000017653263426410164
           ]
          }
         ],
         "name": "3.8388874228604366e-08"
        },
        {
         "data": [
          {
           "coloraxis": "coloraxis",
           "geo": "geo",
           "hovertemplate": "total_cases=0.0<br>country=%{location}<br>total_deaths=%{z}<extra></extra>",
           "ids": [
            0
           ],
           "locationmode": "country names",
           "locations": [
            "Tokelau"
           ],
           "name": "",
           "type": "choropleth",
           "z": [
            0
           ]
          }
         ],
         "name": "0.0"
        }
       ],
       "layout": {
        "coloraxis": {
         "colorbar": {
          "title": {
           "text": "total_deaths"
          }
         },
         "colorscale": [
          [
           0,
           "#0d0887"
          ],
          [
           0.1111111111111111,
           "#46039f"
          ],
          [
           0.2222222222222222,
           "#7201a8"
          ],
          [
           0.3333333333333333,
           "#9c179e"
          ],
          [
           0.4444444444444444,
           "#bd3786"
          ],
          [
           0.5555555555555556,
           "#d8576b"
          ],
          [
           0.6666666666666666,
           "#ed7953"
          ],
          [
           0.7777777777777778,
           "#fb9f3a"
          ],
          [
           0.8888888888888888,
           "#fdca26"
          ],
          [
           1,
           "#f0f921"
          ]
         ]
        },
        "geo": {
         "center": {},
         "domain": {
          "x": [
           0,
           1
          ],
          "y": [
           0,
           1
          ]
         }
        },
        "legend": {
         "tracegroupgap": 0
        },
        "margin": {
         "t": 60
        },
        "sliders": [
         {
          "active": 0,
          "currentvalue": {
           "prefix": "total_cases="
          },
          "len": 0.9,
          "pad": {
           "b": 10,
           "t": 60
          },
          "steps": [
           {
            "args": [
             [
              "1.0"
             ],
             {
              "frame": {
               "duration": 0,
               "redraw": true
              },
              "fromcurrent": true,
              "mode": "immediate",
              "transition": {
               "duration": 0,
               "easing": "linear"
              }
             }
            ],
            "label": "1.0",
            "method": "animate"
           },
           {
            "args": [
             [
              "0.428830395803881"
             ],
             {
              "frame": {
               "duration": 0,
               "redraw": true
              },
              "fromcurrent": true,
              "mode": "immediate",
              "transition": {
               "duration": 0,
               "easing": "linear"
              }
             }
            ],
            "label": "0.428830395803881",
            "method": "animate"
           },
           {
            "args": [
             [
              "0.3793234030017182"
             ],
             {
              "frame": {
               "duration": 0,
               "redraw": true
              },
              "fromcurrent": true,
              "mode": "immediate",
              "transition": {
               "duration": 0,
               "easing": "linear"
              }
             }
            ],
            "label": "0.3793234030017182",
            "method": "animate"
           },
           {
            "args": [
             [
              "0.3625812663675763"
             ],
             {
              "frame": {
               "duration": 0,
               "redraw": true
              },
              "fromcurrent": true,
              "mode": "immediate",
              "transition": {
               "duration": 0,
               "easing": "linear"
              }
             }
            ],
            "label": "0.3625812663675763",
            "method": "animate"
           },
           {
            "args": [
             [
              "0.3534134945492021"
             ],
             {
              "frame": {
               "duration": 0,
               "redraw": true
              },
              "fromcurrent": true,
              "mode": "immediate",
              "transition": {
               "duration": 0,
               "easing": "linear"
              }
             }
            ],
            "label": "0.3534134945492021",
            "method": "animate"
           },
           {
            "args": [
             [
              "0.3127583523249492"
             ],
             {
              "frame": {
               "duration": 0,
               "redraw": true
              },
              "fromcurrent": true,
              "mode": "immediate",
              "transition": {
               "duration": 0,
               "easing": "linear"
              }
             }
            ],
            "label": "0.3127583523249492",
            "method": "animate"
           },
           {
            "args": [
             [
              "0.2898077942006234"
             ],
             {
              "frame": {
               "duration": 0,
               "redraw": true
              },
              "fromcurrent": true,
              "mode": "immediate",
              "transition": {
               "duration": 0,
               "easing": "linear"
              }
             }
            ],
            "label": "0.2898077942006234",
            "method": "animate"
           },
           {
            "args": [
             [
              "0.2442855281545155"
             ],
             {
              "frame": {
               "duration": 0,
               "redraw": true
              },
              "fromcurrent": true,
              "mode": "immediate",
              "transition": {
               "duration": 0,
               "easing": "linear"
              }
             }
            ],
            "label": "0.2442855281545155",
            "method": "animate"
           },
           {
            "args": [
             [
              "0.2329662998660919"
             ],
             {
              "frame": {
               "duration": 0,
               "redraw": true
              },
              "fromcurrent": true,
              "mode": "immediate",
              "transition": {
               "duration": 0,
               "easing": "linear"
              }
             }
            ],
            "label": "0.2329662998660919",
            "method": "animate"
           },
           {
            "args": [
             [
              "0.2107423567559466"
             ],
             {
              "frame": {
               "duration": 0,
               "redraw": true
              },
              "fromcurrent": true,
              "mode": "immediate",
              "transition": {
               "duration": 0,
               "easing": "linear"
              }
             }
            ],
            "label": "0.2107423567559466",
            "method": "animate"
           },
           {
            "args": [
             [
              "0.1635626798566743"
             ],
             {
              "frame": {
               "duration": 0,
               "redraw": true
              },
              "fromcurrent": true,
              "mode": "immediate",
              "transition": {
               "duration": 0,
               "easing": "linear"
              }
             }
            ],
            "label": "0.1635626798566743",
            "method": "animate"
           },
           {
            "args": [
             [
              "0.1317839474926191"
             ],
             {
              "frame": {
               "duration": 0,
               "redraw": true
              },
              "fromcurrent": true,
              "mode": "immediate",
              "transition": {
               "duration": 0,
               "easing": "linear"
              }
             }
            ],
            "label": "0.1317839474926191",
            "method": "animate"
           },
           {
            "args": [
             [
              "0.1106223684906577"
             ],
             {
              "frame": {
               "duration": 0,
               "redraw": true
              },
              "fromcurrent": true,
              "mode": "immediate",
              "transition": {
               "duration": 0,
               "easing": "linear"
              }
             }
            ],
            "label": "0.1106223684906577",
            "method": "animate"
           },
           {
            "args": [
             [
              "0.1084048159764052"
             ],
             {
              "frame": {
               "duration": 0,
               "redraw": true
              },
              "fromcurrent": true,
              "mode": "immediate",
              "transition": {
               "duration": 0,
               "easing": "linear"
              }
             }
            ],
            "label": "0.1084048159764052",
            "method": "animate"
           },
           {
            "args": [
             [
              "0.0963285302965379"
             ],
             {
              "frame": {
               "duration": 0,
               "redraw": true
              },
              "fromcurrent": true,
              "mode": "immediate",
              "transition": {
               "duration": 0,
               "easing": "linear"
              }
             }
            ],
            "label": "0.0963285302965379",
            "method": "animate"
           },
           {
            "args": [
             [
              "0.0918416002878244"
             ],
             {
              "frame": {
               "duration": 0,
               "redraw": true
              },
              "fromcurrent": true,
              "mode": "immediate",
              "transition": {
               "duration": 0,
               "easing": "linear"
              }
             }
            ],
            "label": "0.0918416002878244",
            "method": "animate"
           },
           {
            "args": [
             [
              "0.0823680802806564"
             ],
             {
              "frame": {
               "duration": 0,
               "redraw": true
              },
              "fromcurrent": true,
              "mode": "immediate",
              "transition": {
               "duration": 0,
               "easing": "linear"
              }
             }
            ],
            "label": "0.0823680802806564",
            "method": "animate"
           },
           {
            "args": [
             [
              "0.072596672206693"
             ],
             {
              "frame": {
               "duration": 0,
               "redraw": true
              },
              "fromcurrent": true,
              "mode": "immediate",
              "transition": {
               "duration": 0,
               "easing": "linear"
              }
             }
            ],
            "label": "0.072596672206693",
            "method": "animate"
           },
           {
            "args": [
             [
              "0.0707146768420728"
             ],
             {
              "frame": {
               "duration": 0,
               "redraw": true
              },
              "fromcurrent": true,
              "mode": "immediate",
              "transition": {
               "duration": 0,
               "easing": "linear"
              }
             }
            ],
            "label": "0.0707146768420728",
            "method": "animate"
           },
           {
            "args": [
             [
              "0.064592006499697"
             ],
             {
              "frame": {
               "duration": 0,
               "redraw": true
              },
              "fromcurrent": true,
              "mode": "immediate",
              "transition": {
               "duration": 0,
               "easing": "linear"
              }
             }
            ],
            "label": "0.064592006499697",
            "method": "animate"
           },
           {
            "args": [
             [
              "0.0612323657827065"
             ],
             {
              "frame": {
               "duration": 0,
               "redraw": true
              },
              "fromcurrent": true,
              "mode": "immediate",
              "transition": {
               "duration": 0,
               "easing": "linear"
              }
             }
            ],
            "label": "0.0612323657827065",
            "method": "animate"
           },
           {
            "args": [
             [
              "0.0610028387036937"
             ],
             {
              "frame": {
               "duration": 0,
               "redraw": true
              },
              "fromcurrent": true,
              "mode": "immediate",
              "transition": {
               "duration": 0,
               "easing": "linear"
              }
             }
            ],
            "label": "0.0610028387036937",
            "method": "animate"
           },
           {
            "args": [
             [
              "0.0554740730372901"
             ],
             {
              "frame": {
               "duration": 0,
               "redraw": true
              },
              "fromcurrent": true,
              "mode": "immediate",
              "transition": {
               "duration": 0,
               "easing": "linear"
              }
             }
            ],
            "label": "0.0554740730372901",
            "method": "animate"
           },
           {
            "args": [
             [
              "0.0547837643009113"
             ],
             {
              "frame": {
               "duration": 0,
               "redraw": true
              },
              "fromcurrent": true,
              "mode": "immediate",
              "transition": {
               "duration": 0,
               "easing": "linear"
              }
             }
            ],
            "label": "0.0547837643009113",
            "method": "animate"
           },
           {
            "args": [
             [
              "0.05339798352457"
             ],
             {
              "frame": {
               "duration": 0,
               "redraw": true
              },
              "fromcurrent": true,
              "mode": "immediate",
              "transition": {
               "duration": 0,
               "easing": "linear"
              }
             }
            ],
            "label": "0.05339798352457",
            "method": "animate"
           },
           {
            "args": [
             [
              "0.0515382729014395"
             ],
             {
              "frame": {
               "duration": 0,
               "redraw": true
              },
              "fromcurrent": true,
              "mode": "immediate",
              "transition": {
               "duration": 0,
               "easing": "linear"
              }
             }
            ],
            "label": "0.0515382729014395",
            "method": "animate"
           },
           {
            "args": [
             [
              "0.049127931460811"
             ],
             {
              "frame": {
               "duration": 0,
               "redraw": true
              },
              "fromcurrent": true,
              "mode": "immediate",
              "transition": {
               "duration": 0,
               "easing": "linear"
              }
             }
            ],
            "label": "0.049127931460811",
            "method": "animate"
           },
           {
            "args": [
             [
              "0.0483372358183245"
             ],
             {
              "frame": {
               "duration": 0,
               "redraw": true
              },
              "fromcurrent": true,
              "mode": "immediate",
              "transition": {
               "duration": 0,
               "easing": "linear"
              }
             }
            ],
            "label": "0.0483372358183245",
            "method": "animate"
           },
           {
            "args": [
             [
              "0.0459340539027396"
             ],
             {
              "frame": {
               "duration": 0,
               "redraw": true
              },
              "fromcurrent": true,
              "mode": "immediate",
              "transition": {
               "duration": 0,
               "easing": "linear"
              }
             }
            ],
            "label": "0.0459340539027396",
            "method": "animate"
           },
           {
            "args": [
             [
              "0.0458056815073191"
             ],
             {
              "frame": {
               "duration": 0,
               "redraw": true
              },
              "fromcurrent": true,
              "mode": "immediate",
              "transition": {
               "duration": 0,
               "easing": "linear"
              }
             }
            ],
            "label": "0.0458056815073191",
            "method": "animate"
           },
           {
            "args": [
             [
              "0.0453658505780635"
             ],
             {
              "frame": {
               "duration": 0,
               "redraw": true
              },
              "fromcurrent": true,
              "mode": "immediate",
              "transition": {
               "duration": 0,
               "easing": "linear"
              }
             }
            ],
            "label": "0.0453658505780635",
            "method": "animate"
           },
           {
            "args": [
             [
              "0.045025293277563"
             ],
             {
              "frame": {
               "duration": 0,
               "redraw": true
              },
              "fromcurrent": true,
              "mode": "immediate",
              "transition": {
               "duration": 0,
               "easing": "linear"
              }
             }
            ],
            "label": "0.045025293277563",
            "method": "animate"
           },
           {
            "args": [
             [
              "0.0440513675383833"
             ],
             {
              "frame": {
               "duration": 0,
               "redraw": true
              },
              "fromcurrent": true,
              "mode": "immediate",
              "transition": {
               "duration": 0,
               "easing": "linear"
              }
             }
            ],
            "label": "0.0440513675383833",
            "method": "animate"
           },
           {
            "args": [
             [
              "0.0436697533368953"
             ],
             {
              "frame": {
               "duration": 0,
               "redraw": true
              },
              "fromcurrent": true,
              "mode": "immediate",
              "transition": {
               "duration": 0,
               "easing": "linear"
              }
             }
            ],
            "label": "0.0436697533368953",
            "method": "animate"
           },
           {
            "args": [
             [
              "0.0430110482412252"
             ],
             {
              "frame": {
               "duration": 0,
               "redraw": true
              },
              "fromcurrent": true,
              "mode": "immediate",
              "transition": {
               "duration": 0,
               "easing": "linear"
              }
             }
            ],
            "label": "0.0430110482412252",
            "method": "animate"
           },
           {
            "args": [
             [
              "0.0420904830372233"
             ],
             {
              "frame": {
               "duration": 0,
               "redraw": true
              },
              "fromcurrent": true,
              "mode": "immediate",
              "transition": {
               "duration": 0,
               "easing": "linear"
              }
             }
            ],
            "label": "0.0420904830372233",
            "method": "animate"
           },
           {
            "args": [
             [
              "0.0390937803344085"
             ],
             {
              "frame": {
               "duration": 0,
               "redraw": true
              },
              "fromcurrent": true,
              "mode": "immediate",
              "transition": {
               "duration": 0,
               "easing": "linear"
              }
             }
            ],
            "label": "0.0390937803344085",
            "method": "animate"
           },
           {
            "args": [
             [
              "0.0389259441762811"
             ],
             {
              "frame": {
               "duration": 0,
               "redraw": true
              },
              "fromcurrent": true,
              "mode": "immediate",
              "transition": {
               "duration": 0,
               "easing": "linear"
              }
             }
            ],
            "label": "0.0389259441762811",
            "method": "animate"
           },
           {
            "args": [
             [
              "0.0319107612997459"
             ],
             {
              "frame": {
               "duration": 0,
               "redraw": true
              },
              "fromcurrent": true,
              "mode": "immediate",
              "transition": {
               "duration": 0,
               "easing": "linear"
              }
             }
            ],
            "label": "0.0319107612997459",
            "method": "animate"
           },
           {
            "args": [
             [
              "0.0304542970087312"
             ],
             {
              "frame": {
               "duration": 0,
               "redraw": true
              },
              "fromcurrent": true,
              "mode": "immediate",
              "transition": {
               "duration": 0,
               "easing": "linear"
              }
             }
            ],
            "label": "0.0304542970087312",
            "method": "animate"
           },
           {
            "args": [
             [
              "0.0276138370240269"
             ],
             {
              "frame": {
               "duration": 0,
               "redraw": true
              },
              "fromcurrent": true,
              "mode": "immediate",
              "transition": {
               "duration": 0,
               "easing": "linear"
              }
             }
            ],
            "label": "0.0276138370240269",
            "method": "animate"
           },
           {
            "args": [
             [
              "0.0258496571144142"
             ],
             {
              "frame": {
               "duration": 0,
               "redraw": true
              },
              "fromcurrent": true,
              "mode": "immediate",
              "transition": {
               "duration": 0,
               "easing": "linear"
              }
             }
            ],
            "label": "0.0258496571144142",
            "method": "animate"
           },
           {
            "args": [
             [
              "0.0237165793179018"
             ],
             {
              "frame": {
               "duration": 0,
               "redraw": true
              },
              "fromcurrent": true,
              "mode": "immediate",
              "transition": {
               "duration": 0,
               "easing": "linear"
              }
             }
            ],
            "label": "0.0237165793179018",
            "method": "animate"
           },
           {
            "args": [
             [
              "0.0236623262413983"
             ],
             {
              "frame": {
               "duration": 0,
               "redraw": true
              },
              "fromcurrent": true,
              "mode": "immediate",
              "transition": {
               "duration": 0,
               "easing": "linear"
              }
             }
            ],
            "label": "0.0236623262413983",
            "method": "animate"
           },
           {
            "args": [
             [
              "0.0212780412491524"
             ],
             {
              "frame": {
               "duration": 0,
               "redraw": true
              },
              "fromcurrent": true,
              "mode": "immediate",
              "transition": {
               "duration": 0,
               "easing": "linear"
              }
             }
            ],
            "label": "0.0212780412491524",
            "method": "animate"
           },
           {
            "args": [
             [
              "0.0210413450478774"
             ],
             {
              "frame": {
               "duration": 0,
               "redraw": true
              },
              "fromcurrent": true,
              "mode": "immediate",
              "transition": {
               "duration": 0,
               "easing": "linear"
              }
             }
            ],
            "label": "0.0210413450478774",
            "method": "animate"
           },
           {
            "args": [
             [
              "0.0209444899181986"
             ],
             {
              "frame": {
               "duration": 0,
               "redraw": true
              },
              "fromcurrent": true,
              "mode": "immediate",
              "transition": {
               "duration": 0,
               "easing": "linear"
              }
             }
            ],
            "label": "0.0209444899181986",
            "method": "animate"
           },
           {
            "args": [
             [
              "0.0195548222683417"
             ],
             {
              "frame": {
               "duration": 0,
               "redraw": true
              },
              "fromcurrent": true,
              "mode": "immediate",
              "transition": {
               "duration": 0,
               "easing": "linear"
              }
             }
            ],
            "label": "0.0195548222683417",
            "method": "animate"
           },
           {
            "args": [
             [
              "0.0178593488463797"
             ],
             {
              "frame": {
               "duration": 0,
               "redraw": true
              },
              "fromcurrent": true,
              "mode": "immediate",
              "transition": {
               "duration": 0,
               "easing": "linear"
              }
             }
            ],
            "label": "0.0178593488463797",
            "method": "animate"
           },
           {
            "args": [
             [
              "0.0174110339759195"
             ],
             {
              "frame": {
               "duration": 0,
               "redraw": true
              },
              "fromcurrent": true,
              "mode": "immediate",
              "transition": {
               "duration": 0,
               "easing": "linear"
              }
             }
            ],
            "label": "0.0174110339759195",
            "method": "animate"
           },
           {
            "args": [
             [
              "0.0167662640415944"
             ],
             {
              "frame": {
               "duration": 0,
               "redraw": true
              },
              "fromcurrent": true,
              "mode": "immediate",
              "transition": {
               "duration": 0,
               "easing": "linear"
              }
             }
            ],
            "label": "0.0167662640415944",
            "method": "animate"
           },
           {
            "args": [
             [
              "0.016317651657359"
             ],
             {
              "frame": {
               "duration": 0,
               "redraw": true
              },
              "fromcurrent": true,
              "mode": "immediate",
              "transition": {
               "duration": 0,
               "easing": "linear"
              }
             }
            ],
            "label": "0.016317651657359",
            "method": "animate"
           },
           {
            "args": [
             [
              "0.0151281723893857"
             ],
             {
              "frame": {
               "duration": 0,
               "redraw": true
              },
              "fromcurrent": true,
              "mode": "immediate",
              "transition": {
               "duration": 0,
               "easing": "linear"
              }
             }
            ],
            "label": "0.0151281723893857",
            "method": "animate"
           },
           {
            "args": [
             [
              "0.0141832590419042"
             ],
             {
              "frame": {
               "duration": 0,
               "redraw": true
              },
              "fromcurrent": true,
              "mode": "immediate",
              "transition": {
               "duration": 0,
               "easing": "linear"
              }
             }
            ],
            "label": "0.0141832590419042",
            "method": "animate"
           },
           {
            "args": [
             [
              "0.0139986373485203"
             ],
             {
              "frame": {
               "duration": 0,
               "redraw": true
              },
              "fromcurrent": true,
              "mode": "immediate",
              "transition": {
               "duration": 0,
               "easing": "linear"
              }
             }
            ],
            "label": "0.0139986373485203",
            "method": "animate"
           },
           {
            "args": [
             [
              "0.0134928447361214"
             ],
             {
              "frame": {
               "duration": 0,
               "redraw": true
              },
              "fromcurrent": true,
              "mode": "immediate",
              "transition": {
               "duration": 0,
               "easing": "linear"
              }
             }
            ],
            "label": "0.0134928447361214",
            "method": "animate"
           },
           {
            "args": [
             [
              "0.0126860545581144"
             ],
             {
              "frame": {
               "duration": 0,
               "redraw": true
              },
              "fromcurrent": true,
              "mode": "immediate",
              "transition": {
               "duration": 0,
               "easing": "linear"
              }
             }
            ],
            "label": "0.0126860545581144",
            "method": "animate"
           },
           {
            "args": [
             [
              "0.0124462488580269"
             ],
             {
              "frame": {
               "duration": 0,
               "redraw": true
              },
              "fromcurrent": true,
              "mode": "immediate",
              "transition": {
               "duration": 0,
               "easing": "linear"
              }
             }
            ],
            "label": "0.0124462488580269",
            "method": "animate"
           },
           {
            "args": [
             [
              "0.0124324384605232"
             ],
             {
              "frame": {
               "duration": 0,
               "redraw": true
              },
              "fromcurrent": true,
              "mode": "immediate",
              "transition": {
               "duration": 0,
               "easing": "linear"
              }
             }
            ],
            "label": "0.0124324384605232",
            "method": "animate"
           },
           {
            "args": [
             [
              "0.0122099173510571"
             ],
             {
              "frame": {
               "duration": 0,
               "redraw": true
              },
              "fromcurrent": true,
              "mode": "immediate",
              "transition": {
               "duration": 0,
               "easing": "linear"
              }
             }
            ],
            "label": "0.0122099173510571",
            "method": "animate"
           },
           {
            "args": [
             [
              "0.0121651943125807"
             ],
             {
              "frame": {
               "duration": 0,
               "redraw": true
              },
              "fromcurrent": true,
              "mode": "immediate",
              "transition": {
               "duration": 0,
               "easing": "linear"
              }
             }
            ],
            "label": "0.0121651943125807",
            "method": "animate"
           },
           {
            "args": [
             [
              "0.0117914690247467"
             ],
             {
              "frame": {
               "duration": 0,
               "redraw": true
              },
              "fromcurrent": true,
              "mode": "immediate",
              "transition": {
               "duration": 0,
               "easing": "linear"
              }
             }
            ],
            "label": "0.0117914690247467",
            "method": "animate"
           },
           {
            "args": [
             [
              "0.0117839256109608"
             ],
             {
              "frame": {
               "duration": 0,
               "redraw": true
              },
              "fromcurrent": true,
              "mode": "immediate",
              "transition": {
               "duration": 0,
               "easing": "linear"
              }
             }
            ],
            "label": "0.0117839256109608",
            "method": "animate"
           },
           {
            "args": [
             [
              "0.0114013132987429"
             ],
             {
              "frame": {
               "duration": 0,
               "redraw": true
              },
              "fromcurrent": true,
              "mode": "immediate",
              "transition": {
               "duration": 0,
               "easing": "linear"
              }
             }
            ],
            "label": "0.0114013132987429",
            "method": "animate"
           },
           {
            "args": [
             [
              "0.0113839423331544"
             ],
             {
              "frame": {
               "duration": 0,
               "redraw": true
              },
              "fromcurrent": true,
              "mode": "immediate",
              "transition": {
               "duration": 0,
               "easing": "linear"
              }
             }
            ],
            "label": "0.0113839423331544",
            "method": "animate"
           },
           {
            "args": [
             [
              "0.0110401699644373"
             ],
             {
              "frame": {
               "duration": 0,
               "redraw": true
              },
              "fromcurrent": true,
              "mode": "immediate",
              "transition": {
               "duration": 0,
               "easing": "linear"
              }
             }
            ],
            "label": "0.0110401699644373",
            "method": "animate"
           },
           {
            "args": [
             [
              "0.0106762626311872"
             ],
             {
              "frame": {
               "duration": 0,
               "redraw": true
              },
              "fromcurrent": true,
              "mode": "immediate",
              "transition": {
               "duration": 0,
               "easing": "linear"
              }
             }
            ],
            "label": "0.0106762626311872",
            "method": "animate"
           },
           {
            "args": [
             [
              "0.0100889224527081"
             ],
             {
              "frame": {
               "duration": 0,
               "redraw": true
              },
              "fromcurrent": true,
              "mode": "immediate",
              "transition": {
               "duration": 0,
               "easing": "linear"
              }
             }
            ],
            "label": "0.0100889224527081",
            "method": "animate"
           },
           {
            "args": [
             [
              "0.0100713595427485"
             ],
             {
              "frame": {
               "duration": 0,
               "redraw": true
              },
              "fromcurrent": true,
              "mode": "immediate",
              "transition": {
               "duration": 0,
               "easing": "linear"
              }
             }
            ],
            "label": "0.0100713595427485",
            "method": "animate"
           },
           {
            "args": [
             [
              "0.0099110955900627"
             ],
             {
              "frame": {
               "duration": 0,
               "redraw": true
              },
              "fromcurrent": true,
              "mode": "immediate",
              "transition": {
               "duration": 0,
               "easing": "linear"
              }
             }
            ],
            "label": "0.0099110955900627",
            "method": "animate"
           },
           {
            "args": [
             [
              "0.0098822175594242"
             ],
             {
              "frame": {
               "duration": 0,
               "redraw": true
              },
              "fromcurrent": true,
              "mode": "immediate",
              "transition": {
               "duration": 0,
               "easing": "linear"
              }
             }
            ],
            "label": "0.0098822175594242",
            "method": "animate"
           },
           {
            "args": [
             [
              "0.0096727102783216"
             ],
             {
              "frame": {
               "duration": 0,
               "redraw": true
              },
              "fromcurrent": true,
              "mode": "immediate",
              "transition": {
               "duration": 0,
               "easing": "linear"
              }
             }
            ],
            "label": "0.0096727102783216",
            "method": "animate"
           },
           {
            "args": [
             [
              "0.0096077467059082"
             ],
             {
              "frame": {
               "duration": 0,
               "redraw": true
              },
              "fromcurrent": true,
              "mode": "immediate",
              "transition": {
               "duration": 0,
               "easing": "linear"
              }
             }
            ],
            "label": "0.0096077467059082",
            "method": "animate"
           },
           {
            "args": [
             [
              "0.009539942356802"
             ],
             {
              "frame": {
               "duration": 0,
               "redraw": true
              },
              "fromcurrent": true,
              "mode": "immediate",
              "transition": {
               "duration": 0,
               "easing": "linear"
              }
             }
            ],
            "label": "0.009539942356802",
            "method": "animate"
           },
           {
            "args": [
             [
              "0.0093606471197173"
             ],
             {
              "frame": {
               "duration": 0,
               "redraw": true
              },
              "fromcurrent": true,
              "mode": "immediate",
              "transition": {
               "duration": 0,
               "easing": "linear"
              }
             }
            ],
            "label": "0.0093606471197173",
            "method": "animate"
           },
           {
            "args": [
             [
              "0.0079460842849231"
             ],
             {
              "frame": {
               "duration": 0,
               "redraw": true
              },
              "fromcurrent": true,
              "mode": "immediate",
              "transition": {
               "duration": 0,
               "easing": "linear"
              }
             }
            ],
            "label": "0.0079460842849231",
            "method": "animate"
           },
           {
            "args": [
             [
              "0.0079459115349891"
             ],
             {
              "frame": {
               "duration": 0,
               "redraw": true
              },
              "fromcurrent": true,
              "mode": "immediate",
              "transition": {
               "duration": 0,
               "easing": "linear"
              }
             }
            ],
            "label": "0.0079459115349891",
            "method": "animate"
           },
           {
            "args": [
             [
              "0.0077377670589216"
             ],
             {
              "frame": {
               "duration": 0,
               "redraw": true
              },
              "fromcurrent": true,
              "mode": "immediate",
              "transition": {
               "duration": 0,
               "easing": "linear"
              }
             }
            ],
            "label": "0.0077377670589216",
            "method": "animate"
           },
           {
            "args": [
             [
              "0.0067223429467008"
             ],
             {
              "frame": {
               "duration": 0,
               "redraw": true
              },
              "fromcurrent": true,
              "mode": "immediate",
              "transition": {
               "duration": 0,
               "easing": "linear"
              }
             }
            ],
            "label": "0.0067223429467008",
            "method": "animate"
           },
           {
            "args": [
             [
              "0.0064491773149086"
             ],
             {
              "frame": {
               "duration": 0,
               "redraw": true
              },
              "fromcurrent": true,
              "mode": "immediate",
              "transition": {
               "duration": 0,
               "easing": "linear"
              }
             }
            ],
            "label": "0.0064491773149086",
            "method": "animate"
           },
           {
            "args": [
             [
              "0.0063615451122632"
             ],
             {
              "frame": {
               "duration": 0,
               "redraw": true
              },
              "fromcurrent": true,
              "mode": "immediate",
              "transition": {
               "duration": 0,
               "easing": "linear"
              }
             }
            ],
            "label": "0.0063615451122632",
            "method": "animate"
           },
           {
            "args": [
             [
              "0.0063350279973898"
             ],
             {
              "frame": {
               "duration": 0,
               "redraw": true
              },
              "fromcurrent": true,
              "mode": "immediate",
              "transition": {
               "duration": 0,
               "easing": "linear"
              }
             }
            ],
            "label": "0.0063350279973898",
            "method": "animate"
           },
           {
            "args": [
             [
              "0.0061677292835016"
             ],
             {
              "frame": {
               "duration": 0,
               "redraw": true
              },
              "fromcurrent": true,
              "mode": "immediate",
              "transition": {
               "duration": 0,
               "easing": "linear"
              }
             }
            ],
            "label": "0.0061677292835016",
            "method": "animate"
           },
           {
            "args": [
             [
              "0.0060828610798007"
             ],
             {
              "frame": {
               "duration": 0,
               "redraw": true
              },
              "fromcurrent": true,
              "mode": "immediate",
              "transition": {
               "duration": 0,
               "easing": "linear"
              }
             }
            ],
            "label": "0.0060828610798007",
            "method": "animate"
           },
           {
            "args": [
             [
              "0.0059599015156464"
             ],
             {
              "frame": {
               "duration": 0,
               "redraw": true
              },
              "fromcurrent": true,
              "mode": "immediate",
              "transition": {
               "duration": 0,
               "easing": "linear"
              }
             }
            ],
            "label": "0.0059599015156464",
            "method": "animate"
           },
           {
            "args": [
             [
              "0.0058915981111752"
             ],
             {
              "frame": {
               "duration": 0,
               "redraw": true
              },
              "fromcurrent": true,
              "mode": "immediate",
              "transition": {
               "duration": 0,
               "easing": "linear"
              }
             }
            ],
            "label": "0.0058915981111752",
            "method": "animate"
           },
           {
            "args": [
             [
              "0.0057455476391725"
             ],
             {
              "frame": {
               "duration": 0,
               "redraw": true
              },
              "fromcurrent": true,
              "mode": "immediate",
              "transition": {
               "duration": 0,
               "easing": "linear"
              }
             }
            ],
            "label": "0.0057455476391725",
            "method": "animate"
           },
           {
            "args": [
             [
              "0.0052936530061905"
             ],
             {
              "frame": {
               "duration": 0,
               "redraw": true
              },
              "fromcurrent": true,
              "mode": "immediate",
              "transition": {
               "duration": 0,
               "easing": "linear"
              }
             }
            ],
            "label": "0.0052936530061905",
            "method": "animate"
           },
           {
            "args": [
             [
              "0.0049487097768093"
             ],
             {
              "frame": {
               "duration": 0,
               "redraw": true
              },
              "fromcurrent": true,
              "mode": "immediate",
              "transition": {
               "duration": 0,
               "easing": "linear"
              }
             }
            ],
            "label": "0.0049487097768093",
            "method": "animate"
           },
           {
            "args": [
             [
              "0.004867296571789"
             ],
             {
              "frame": {
               "duration": 0,
               "redraw": true
              },
              "fromcurrent": true,
              "mode": "immediate",
              "transition": {
               "duration": 0,
               "easing": "linear"
              }
             }
            ],
            "label": "0.004867296571789",
            "method": "animate"
           },
           {
            "args": [
             [
              "0.0048302513081584"
             ],
             {
              "frame": {
               "duration": 0,
               "redraw": true
              },
              "fromcurrent": true,
              "mode": "immediate",
              "transition": {
               "duration": 0,
               "easing": "linear"
              }
             }
            ],
            "label": "0.0048302513081584",
            "method": "animate"
           },
           {
            "args": [
             [
              "0.0047940601969794"
             ],
             {
              "frame": {
               "duration": 0,
               "redraw": true
              },
              "fromcurrent": true,
              "mode": "immediate",
              "transition": {
               "duration": 0,
               "easing": "linear"
              }
             }
            ],
            "label": "0.0047940601969794",
            "method": "animate"
           },
           {
            "args": [
             [
              "0.004726908458735"
             ],
             {
              "frame": {
               "duration": 0,
               "redraw": true
              },
              "fromcurrent": true,
              "mode": "immediate",
              "transition": {
               "duration": 0,
               "easing": "linear"
              }
             }
            ],
            "label": "0.004726908458735",
            "method": "animate"
           },
           {
            "args": [
             [
              "0.0046631925247341"
             ],
             {
              "frame": {
               "duration": 0,
               "redraw": true
              },
              "fromcurrent": true,
              "mode": "immediate",
              "transition": {
               "duration": 0,
               "easing": "linear"
              }
             }
            ],
            "label": "0.0046631925247341",
            "method": "animate"
           },
           {
            "args": [
             [
              "0.0045179098302159"
             ],
             {
              "frame": {
               "duration": 0,
               "redraw": true
              },
              "fromcurrent": true,
              "mode": "immediate",
              "transition": {
               "duration": 0,
               "easing": "linear"
              }
             }
            ],
            "label": "0.0045179098302159",
            "method": "animate"
           },
           {
            "args": [
             [
              "0.004280388268145"
             ],
             {
              "frame": {
               "duration": 0,
               "redraw": true
              },
              "fromcurrent": true,
              "mode": "immediate",
              "transition": {
               "duration": 0,
               "easing": "linear"
              }
             }
            ],
            "label": "0.004280388268145",
            "method": "animate"
           },
           {
            "args": [
             [
              "0.0038521219872507"
             ],
             {
              "frame": {
               "duration": 0,
               "redraw": true
              },
              "fromcurrent": true,
              "mode": "immediate",
              "transition": {
               "duration": 0,
               "easing": "linear"
              }
             }
            ],
            "label": "0.0038521219872507",
            "method": "animate"
           },
           {
            "args": [
             [
              "0.0038335513693426"
             ],
             {
              "frame": {
               "duration": 0,
               "redraw": true
              },
              "fromcurrent": true,
              "mode": "immediate",
              "transition": {
               "duration": 0,
               "easing": "linear"
              }
             }
            ],
            "label": "0.0038335513693426",
            "method": "animate"
           },
           {
            "args": [
             [
              "0.0033246972442239"
             ],
             {
              "frame": {
               "duration": 0,
               "redraw": true
              },
              "fromcurrent": true,
              "mode": "immediate",
              "transition": {
               "duration": 0,
               "easing": "linear"
              }
             }
            ],
            "label": "0.0033246972442239",
            "method": "animate"
           },
           {
            "args": [
             [
              "0.0032899745074841"
             ],
             {
              "frame": {
               "duration": 0,
               "redraw": true
              },
              "fromcurrent": true,
              "mode": "immediate",
              "transition": {
               "duration": 0,
               "easing": "linear"
              }
             }
            ],
            "label": "0.0032899745074841",
            "method": "animate"
           },
           {
            "args": [
             [
              "0.0032703290010976"
             ],
             {
              "frame": {
               "duration": 0,
               "redraw": true
              },
              "fromcurrent": true,
              "mode": "immediate",
              "transition": {
               "duration": 0,
               "easing": "linear"
              }
             }
            ],
            "label": "0.0032703290010976",
            "method": "animate"
           },
           {
            "args": [
             [
              "0.0032070257474947"
             ],
             {
              "frame": {
               "duration": 0,
               "redraw": true
              },
              "fromcurrent": true,
              "mode": "immediate",
              "transition": {
               "duration": 0,
               "easing": "linear"
              }
             }
            ],
            "label": "0.0032070257474947",
            "method": "animate"
           },
           {
            "args": [
             [
              "0.0031596154878223"
             ],
             {
              "frame": {
               "duration": 0,
               "redraw": true
              },
              "fromcurrent": true,
              "mode": "immediate",
              "transition": {
               "duration": 0,
               "easing": "linear"
              }
             }
            ],
            "label": "0.0031596154878223",
            "method": "animate"
           },
           {
            "args": [
             [
              "0.0028575910198288"
             ],
             {
              "frame": {
               "duration": 0,
               "redraw": true
              },
              "fromcurrent": true,
              "mode": "immediate",
              "transition": {
               "duration": 0,
               "easing": "linear"
              }
             }
            ],
            "label": "0.0028575910198288",
            "method": "animate"
           },
           {
            "args": [
             [
              "0.0027481635338402"
             ],
             {
              "frame": {
               "duration": 0,
               "redraw": true
              },
              "fromcurrent": true,
              "mode": "immediate",
              "transition": {
               "duration": 0,
               "easing": "linear"
              }
             }
            ],
            "label": "0.0027481635338402",
            "method": "animate"
           },
           {
            "args": [
             [
              "0.0026412985052063"
             ],
             {
              "frame": {
               "duration": 0,
               "redraw": true
              },
              "fromcurrent": true,
              "mode": "immediate",
              "transition": {
               "duration": 0,
               "easing": "linear"
              }
             }
            ],
            "label": "0.0026412985052063",
            "method": "animate"
           },
           {
            "args": [
             [
              "0.0026044259915097"
             ],
             {
              "frame": {
               "duration": 0,
               "redraw": true
              },
              "fromcurrent": true,
              "mode": "immediate",
              "transition": {
               "duration": 0,
               "easing": "linear"
              }
             }
            ],
            "label": "0.0026044259915097",
            "method": "animate"
           },
           {
            "args": [
             [
              "0.0025572556623013"
             ],
             {
              "frame": {
               "duration": 0,
               "redraw": true
              },
              "fromcurrent": true,
              "mode": "immediate",
              "transition": {
               "duration": 0,
               "easing": "linear"
              }
             }
            ],
            "label": "0.0025572556623013",
            "method": "animate"
           },
           {
            "args": [
             [
              "0.0025106419717692"
             ],
             {
              "frame": {
               "duration": 0,
               "redraw": true
              },
              "fromcurrent": true,
              "mode": "immediate",
              "transition": {
               "duration": 0,
               "easing": "linear"
              }
             }
            ],
            "label": "0.0025106419717692",
            "method": "animate"
           },
           {
            "args": [
             [
              "0.0024046982761168"
             ],
             {
              "frame": {
               "duration": 0,
               "redraw": true
              },
              "fromcurrent": true,
              "mode": "immediate",
              "transition": {
               "duration": 0,
               "easing": "linear"
              }
             }
            ],
            "label": "0.0024046982761168",
            "method": "animate"
           },
           {
            "args": [
             [
              "0.0022264491358549"
             ],
             {
              "frame": {
               "duration": 0,
               "redraw": true
              },
              "fromcurrent": true,
              "mode": "immediate",
              "transition": {
               "duration": 0,
               "easing": "linear"
              }
             }
            ],
            "label": "0.0022264491358549",
            "method": "animate"
           },
           {
            "args": [
             [
              "0.0022043083526435"
             ],
             {
              "frame": {
               "duration": 0,
               "redraw": true
              },
              "fromcurrent": true,
              "mode": "immediate",
              "transition": {
               "duration": 0,
               "easing": "linear"
              }
             }
            ],
            "label": "0.0022043083526435",
            "method": "animate"
           },
           {
            "args": [
             [
              "0.0020918865344651"
             ],
             {
              "frame": {
               "duration": 0,
               "redraw": true
              },
              "fromcurrent": true,
              "mode": "immediate",
              "transition": {
               "duration": 0,
               "easing": "linear"
              }
             }
            ],
            "label": "0.0020918865344651",
            "method": "animate"
           },
           {
            "args": [
             [
              "0.0020027763601619"
             ],
             {
              "frame": {
               "duration": 0,
               "redraw": true
              },
              "fromcurrent": true,
              "mode": "immediate",
              "transition": {
               "duration": 0,
               "easing": "linear"
              }
             }
            ],
            "label": "0.0020027763601619",
            "method": "animate"
           },
           {
            "args": [
             [
              "0.0020014039579082"
             ],
             {
              "frame": {
               "duration": 0,
               "redraw": true
              },
              "fromcurrent": true,
              "mode": "immediate",
              "transition": {
               "duration": 0,
               "easing": "linear"
              }
             }
            ],
            "label": "0.0020014039579082",
            "method": "animate"
           },
           {
            "args": [
             [
              "0.0019826605900661"
             ],
             {
              "frame": {
               "duration": 0,
               "redraw": true
              },
              "fromcurrent": true,
              "mode": "immediate",
              "transition": {
               "duration": 0,
               "easing": "linear"
              }
             }
            ],
            "label": "0.0019826605900661",
            "method": "animate"
           },
           {
            "args": [
             [
              "0.0019365267604619"
             ],
             {
              "frame": {
               "duration": 0,
               "redraw": true
              },
              "fromcurrent": true,
              "mode": "immediate",
              "transition": {
               "duration": 0,
               "easing": "linear"
              }
             }
            ],
            "label": "0.0019365267604619",
            "method": "animate"
           },
           {
            "args": [
             [
              "0.0019327742480061"
             ],
             {
              "frame": {
               "duration": 0,
               "redraw": true
              },
              "fromcurrent": true,
              "mode": "immediate",
              "transition": {
               "duration": 0,
               "easing": "linear"
              }
             }
            ],
            "label": "0.0019327742480061",
            "method": "animate"
           },
           {
            "args": [
             [
              "0.0018033461585443"
             ],
             {
              "frame": {
               "duration": 0,
               "redraw": true
              },
              "fromcurrent": true,
              "mode": "immediate",
              "transition": {
               "duration": 0,
               "easing": "linear"
              }
             }
            ],
            "label": "0.0018033461585443",
            "method": "animate"
           },
           {
            "args": [
             [
              "0.0017822994582485"
             ],
             {
              "frame": {
               "duration": 0,
               "redraw": true
              },
              "fromcurrent": true,
              "mode": "immediate",
              "transition": {
               "duration": 0,
               "easing": "linear"
              }
             }
            ],
            "label": "0.0017822994582485",
            "method": "animate"
           },
           {
            "args": [
             [
              "0.0016421512756584"
             ],
             {
              "frame": {
               "duration": 0,
               "redraw": true
              },
              "fromcurrent": true,
              "mode": "immediate",
              "transition": {
               "duration": 0,
               "easing": "linear"
              }
             }
            ],
            "label": "0.0016421512756584",
            "method": "animate"
           },
           {
            "args": [
             [
              "0.0016385907075737"
             ],
             {
              "frame": {
               "duration": 0,
               "redraw": true
              },
              "fromcurrent": true,
              "mode": "immediate",
              "transition": {
               "duration": 0,
               "easing": "linear"
              }
             }
            ],
            "label": "0.0016385907075737",
            "method": "animate"
           },
           {
            "args": [
             [
              "0.0016353180560457"
             ],
             {
              "frame": {
               "duration": 0,
               "redraw": true
              },
              "fromcurrent": true,
              "mode": "immediate",
              "transition": {
               "duration": 0,
               "easing": "linear"
              }
             }
            ],
            "label": "0.0016353180560457",
            "method": "animate"
           },
           {
            "args": [
             [
              "0.001472232521104"
             ],
             {
              "frame": {
               "duration": 0,
               "redraw": true
              },
              "fromcurrent": true,
              "mode": "immediate",
              "transition": {
               "duration": 0,
               "easing": "linear"
              }
             }
            ],
            "label": "0.001472232521104",
            "method": "animate"
           },
           {
            "args": [
             [
              "0.0013310190472541"
             ],
             {
              "frame": {
               "duration": 0,
               "redraw": true
              },
              "fromcurrent": true,
              "mode": "immediate",
              "transition": {
               "duration": 0,
               "easing": "linear"
              }
             }
            ],
            "label": "0.0013310190472541",
            "method": "animate"
           },
           {
            "args": [
             [
              "0.0012772458316784"
             ],
             {
              "frame": {
               "duration": 0,
               "redraw": true
              },
              "fromcurrent": true,
              "mode": "immediate",
              "transition": {
               "duration": 0,
               "easing": "linear"
              }
             }
            ],
            "label": "0.0012772458316784",
            "method": "animate"
           },
           {
            "args": [
             [
              "0.001189939934464"
             ],
             {
              "frame": {
               "duration": 0,
               "redraw": true
              },
              "fromcurrent": true,
              "mode": "immediate",
              "transition": {
               "duration": 0,
               "easing": "linear"
              }
             }
            ],
            "label": "0.001189939934464",
            "method": "animate"
           },
           {
            "args": [
             [
              "0.0011234216126444"
             ],
             {
              "frame": {
               "duration": 0,
               "redraw": true
              },
              "fromcurrent": true,
              "mode": "immediate",
              "transition": {
               "duration": 0,
               "easing": "linear"
              }
             }
            ],
            "label": "0.0011234216126444",
            "method": "animate"
           },
           {
            "args": [
             [
              "0.0010187639442787"
             ],
             {
              "frame": {
               "duration": 0,
               "redraw": true
              },
              "fromcurrent": true,
              "mode": "immediate",
              "transition": {
               "duration": 0,
               "easing": "linear"
              }
             }
            ],
            "label": "0.0010187639442787",
            "method": "animate"
           },
           {
            "args": [
             [
              "0.0010094258506225"
             ],
             {
              "frame": {
               "duration": 0,
               "redraw": true
              },
              "fromcurrent": true,
              "mode": "immediate",
              "transition": {
               "duration": 0,
               "easing": "linear"
              }
             }
            ],
            "label": "0.0010094258506225",
            "method": "animate"
           },
           {
            "args": [
             [
              "0.0009703843655321"
             ],
             {
              "frame": {
               "duration": 0,
               "redraw": true
              },
              "fromcurrent": true,
              "mode": "immediate",
              "transition": {
               "duration": 0,
               "easing": "linear"
              }
             }
            ],
            "label": "0.0009703843655321",
            "method": "animate"
           },
           {
            "args": [
             [
              "0.0009407481546276"
             ],
             {
              "frame": {
               "duration": 0,
               "redraw": true
              },
              "fromcurrent": true,
              "mode": "immediate",
              "transition": {
               "duration": 0,
               "easing": "linear"
              }
             }
            ],
            "label": "0.0009407481546276",
            "method": "animate"
           },
           {
            "args": [
             [
              "0.0009166207471749"
             ],
             {
              "frame": {
               "duration": 0,
               "redraw": true
              },
              "fromcurrent": true,
              "mode": "immediate",
              "transition": {
               "duration": 0,
               "easing": "linear"
              }
             }
            ],
            "label": "0.0009166207471749",
            "method": "animate"
           },
           {
            "args": [
             [
              "0.000853163938075"
             ],
             {
              "frame": {
               "duration": 0,
               "redraw": true
              },
              "fromcurrent": true,
              "mode": "immediate",
              "transition": {
               "duration": 0,
               "easing": "linear"
              }
             }
            ],
            "label": "0.000853163938075",
            "method": "animate"
           },
           {
            "args": [
             [
              "0.0008498720921099"
             ],
             {
              "frame": {
               "duration": 0,
               "redraw": true
              },
              "fromcurrent": true,
              "mode": "immediate",
              "transition": {
               "duration": 0,
               "easing": "linear"
              }
             }
            ],
            "label": "0.0008498720921099",
            "method": "animate"
           },
           {
            "args": [
             [
              "0.0008443344970024"
             ],
             {
              "frame": {
               "duration": 0,
               "redraw": true
              },
              "fromcurrent": true,
              "mode": "immediate",
              "transition": {
               "duration": 0,
               "easing": "linear"
              }
             }
            ],
            "label": "0.0008443344970024",
            "method": "animate"
           },
           {
            "args": [
             [
              "0.0007871158799647"
             ],
             {
              "frame": {
               "duration": 0,
               "redraw": true
              },
              "fromcurrent": true,
              "mode": "immediate",
              "transition": {
               "duration": 0,
               "easing": "linear"
              }
             }
            ],
            "label": "0.0007871158799647",
            "method": "animate"
           },
           {
            "args": [
             [
              "0.0007662419296029"
             ],
             {
              "frame": {
               "duration": 0,
               "redraw": true
              },
              "fromcurrent": true,
              "mode": "immediate",
              "transition": {
               "duration": 0,
               "easing": "linear"
              }
             }
            ],
            "label": "0.0007662419296029",
            "method": "animate"
           },
           {
            "args": [
             [
              "0.000748122380967"
             ],
             {
              "frame": {
               "duration": 0,
               "redraw": true
              },
              "fromcurrent": true,
              "mode": "immediate",
              "transition": {
               "duration": 0,
               "easing": "linear"
              }
             }
            ],
            "label": "0.000748122380967",
            "method": "animate"
           },
           {
            "args": [
             [
              "0.0007114226172044"
             ],
             {
              "frame": {
               "duration": 0,
               "redraw": true
              },
              "fromcurrent": true,
              "mode": "immediate",
              "transition": {
               "duration": 0,
               "easing": "linear"
              }
             }
            ],
            "label": "0.0007114226172044",
            "method": "animate"
           },
           {
            "args": [
             [
              "0.0007000691076513"
             ],
             {
              "frame": {
               "duration": 0,
               "redraw": true
              },
              "fromcurrent": true,
              "mode": "immediate",
              "transition": {
               "duration": 0,
               "easing": "linear"
              }
             }
            ],
            "label": "0.0007000691076513",
            "method": "animate"
           },
           {
            "args": [
             [
              "0.0006780914771555"
             ],
             {
              "frame": {
               "duration": 0,
               "redraw": true
              },
              "fromcurrent": true,
              "mode": "immediate",
              "transition": {
               "duration": 0,
               "easing": "linear"
              }
             }
            ],
            "label": "0.0006780914771555",
            "method": "animate"
           },
           {
            "args": [
             [
              "0.0006604325950103"
             ],
             {
              "frame": {
               "duration": 0,
               "redraw": true
              },
              "fromcurrent": true,
              "mode": "immediate",
              "transition": {
               "duration": 0,
               "easing": "linear"
              }
             }
            ],
            "label": "0.0006604325950103",
            "method": "animate"
           },
           {
            "args": [
             [
              "0.0006509025569831"
             ],
             {
              "frame": {
               "duration": 0,
               "redraw": true
              },
              "fromcurrent": true,
              "mode": "immediate",
              "transition": {
               "duration": 0,
               "easing": "linear"
              }
             }
            ],
            "label": "0.0006509025569831",
            "method": "animate"
           },
           {
            "args": [
             [
              "0.0006116979191771"
             ],
             {
              "frame": {
               "duration": 0,
               "redraw": true
              },
              "fromcurrent": true,
              "mode": "immediate",
              "transition": {
               "duration": 0,
               "easing": "linear"
              }
             }
            ],
            "label": "0.0006116979191771",
            "method": "animate"
           },
           {
            "args": [
             [
              "0.0006109589333482"
             ],
             {
              "frame": {
               "duration": 0,
               "redraw": true
              },
              "fromcurrent": true,
              "mode": "immediate",
              "transition": {
               "duration": 0,
               "easing": "linear"
              }
             }
            ],
            "label": "0.0006109589333482",
            "method": "animate"
           },
           {
            "args": [
             [
              "0.0006067745460573"
             ],
             {
              "frame": {
               "duration": 0,
               "redraw": true
              },
              "fromcurrent": true,
              "mode": "immediate",
              "transition": {
               "duration": 0,
               "easing": "linear"
              }
             }
            ],
            "label": "0.0006067745460573",
            "method": "animate"
           },
           {
            "args": [
             [
              "0.0006007858816776"
             ],
             {
              "frame": {
               "duration": 0,
               "redraw": true
              },
              "fromcurrent": true,
              "mode": "immediate",
              "transition": {
               "duration": 0,
               "easing": "linear"
              }
             }
            ],
            "label": "0.0006007858816776",
            "method": "animate"
           },
           {
            "args": [
             [
              "0.0005513410116712"
             ],
             {
              "frame": {
               "duration": 0,
               "redraw": true
              },
              "fromcurrent": true,
              "mode": "immediate",
              "transition": {
               "duration": 0,
               "easing": "linear"
              }
             }
            ],
            "label": "0.0005513410116712",
            "method": "animate"
           },
           {
            "args": [
             [
              "0.0005133264289663"
             ],
             {
              "frame": {
               "duration": 0,
               "redraw": true
              },
              "fromcurrent": true,
              "mode": "immediate",
              "transition": {
               "duration": 0,
               "easing": "linear"
              }
             }
            ],
            "label": "0.0005133264289663",
            "method": "animate"
           },
           {
            "args": [
             [
              "0.0004861950921052"
             ],
             {
              "frame": {
               "duration": 0,
               "redraw": true
              },
              "fromcurrent": true,
              "mode": "immediate",
              "transition": {
               "duration": 0,
               "easing": "linear"
              }
             }
            ],
            "label": "0.0004861950921052",
            "method": "animate"
           },
           {
            "args": [
             [
              "0.000470033376055"
             ],
             {
              "frame": {
               "duration": 0,
               "redraw": true
              },
              "fromcurrent": true,
              "mode": "immediate",
              "transition": {
               "duration": 0,
               "easing": "linear"
              }
             }
            ],
            "label": "0.000470033376055",
            "method": "animate"
           },
           {
            "args": [
             [
              "0.0004590733524627"
             ],
             {
              "frame": {
               "duration": 0,
               "redraw": true
              },
              "fromcurrent": true,
              "mode": "immediate",
              "transition": {
               "duration": 0,
               "easing": "linear"
              }
             }
            ],
            "label": "0.0004590733524627",
            "method": "animate"
           },
           {
            "args": [
             [
              "0.000448621981454"
             ],
             {
              "frame": {
               "duration": 0,
               "redraw": true
              },
              "fromcurrent": true,
              "mode": "immediate",
              "transition": {
               "duration": 0,
               "easing": "linear"
              }
             }
            ],
            "label": "0.000448621981454",
            "method": "animate"
           },
           {
            "args": [
             [
              "0.0004412897064763"
             ],
             {
              "frame": {
               "duration": 0,
               "redraw": true
              },
              "fromcurrent": true,
              "mode": "immediate",
              "transition": {
               "duration": 0,
               "easing": "linear"
              }
             }
            ],
            "label": "0.0004412897064763",
            "method": "animate"
           },
           {
            "args": [
             [
              "0.0004221624498919"
             ],
             {
              "frame": {
               "duration": 0,
               "redraw": true
              },
              "fromcurrent": true,
              "mode": "immediate",
              "transition": {
               "duration": 0,
               "easing": "linear"
              }
             }
            ],
            "label": "0.0004221624498919",
            "method": "animate"
           },
           {
            "args": [
             [
              "0.0004094077464295"
             ],
             {
              "frame": {
               "duration": 0,
               "redraw": true
              },
              "fromcurrent": true,
              "mode": "immediate",
              "transition": {
               "duration": 0,
               "easing": "linear"
              }
             }
            ],
            "label": "0.0004094077464295",
            "method": "animate"
           },
           {
            "args": [
             [
              "0.0004030543877446"
             ],
             {
              "frame": {
               "duration": 0,
               "redraw": true
              },
              "fromcurrent": true,
              "mode": "immediate",
              "transition": {
               "duration": 0,
               "easing": "linear"
              }
             }
            ],
            "label": "0.0004030543877446",
            "method": "animate"
           },
           {
            "args": [
             [
              "0.0003996953612496"
             ],
             {
              "frame": {
               "duration": 0,
               "redraw": true
              },
              "fromcurrent": true,
              "mode": "immediate",
              "transition": {
               "duration": 0,
               "easing": "linear"
              }
             }
            ],
            "label": "0.0003996953612496",
            "method": "animate"
           },
           {
            "args": [
             [
              "0.0003776409530053"
             ],
             {
              "frame": {
               "duration": 0,
               "redraw": true
              },
              "fromcurrent": true,
              "mode": "immediate",
              "transition": {
               "duration": 0,
               "easing": "linear"
              }
             }
            ],
            "label": "0.0003776409530053",
            "method": "animate"
           },
           {
            "args": [
             [
              "0.0003669496515326"
             ],
             {
              "frame": {
               "duration": 0,
               "redraw": true
              },
              "fromcurrent": true,
              "mode": "immediate",
              "transition": {
               "duration": 0,
               "easing": "linear"
              }
             }
            ],
            "label": "0.0003669496515326",
            "method": "animate"
           },
           {
            "args": [
             [
              "0.0003647230968274"
             ],
             {
              "frame": {
               "duration": 0,
               "redraw": true
              },
              "fromcurrent": true,
              "mode": "immediate",
              "transition": {
               "duration": 0,
               "easing": "linear"
              }
             }
            ],
            "label": "0.0003647230968274",
            "method": "animate"
           },
           {
            "args": [
             [
              "0.0003597613348333"
             ],
             {
              "frame": {
               "duration": 0,
               "redraw": true
              },
              "fromcurrent": true,
              "mode": "immediate",
              "transition": {
               "duration": 0,
               "easing": "linear"
              }
             }
            ],
            "label": "0.0003597613348333",
            "method": "animate"
           },
           {
            "args": [
             [
              "0.0003338392475105"
             ],
             {
              "frame": {
               "duration": 0,
               "redraw": true
              },
              "fromcurrent": true,
              "mode": "immediate",
              "transition": {
               "duration": 0,
               "easing": "linear"
              }
             }
            ],
            "label": "0.0003338392475105",
            "method": "animate"
           },
           {
            "args": [
             [
              "0.0003325724146609"
             ],
             {
              "frame": {
               "duration": 0,
               "redraw": true
              },
              "fromcurrent": true,
              "mode": "immediate",
              "transition": {
               "duration": 0,
               "easing": "linear"
              }
             }
            ],
            "label": "0.0003325724146609",
            "method": "animate"
           },
           {
            "args": [
             [
              "0.0003269868334606"
             ],
             {
              "frame": {
               "duration": 0,
               "redraw": true
              },
              "fromcurrent": true,
              "mode": "immediate",
              "transition": {
               "duration": 0,
               "easing": "linear"
              }
             }
            ],
            "label": "0.0003269868334606",
            "method": "animate"
           },
           {
            "args": [
             [
              "0.0003145776298662"
             ],
             {
              "frame": {
               "duration": 0,
               "redraw": true
              },
              "fromcurrent": true,
              "mode": "immediate",
              "transition": {
               "duration": 0,
               "easing": "linear"
              }
             }
            ],
            "label": "0.0003145776298662",
            "method": "animate"
           },
           {
            "args": [
             [
              "0.0003019956763378"
             ],
             {
              "frame": {
               "duration": 0,
               "redraw": true
              },
              "fromcurrent": true,
              "mode": "immediate",
              "transition": {
               "duration": 0,
               "easing": "linear"
              }
             }
            ],
            "label": "0.0003019956763378",
            "method": "animate"
           },
           {
            "args": [
             [
              "0.0002859779185659"
             ],
             {
              "frame": {
               "duration": 0,
               "redraw": true
              },
              "fromcurrent": true,
              "mode": "immediate",
              "transition": {
               "duration": 0,
               "easing": "linear"
              }
             }
            ],
            "label": "0.0002859779185659",
            "method": "animate"
           },
           {
            "args": [
             [
              "0.0002685685641033"
             ],
             {
              "frame": {
               "duration": 0,
               "redraw": true
              },
              "fromcurrent": true,
              "mode": "immediate",
              "transition": {
               "duration": 0,
               "easing": "linear"
              }
             }
            ],
            "label": "0.0002685685641033",
            "method": "animate"
           },
           {
            "args": [
             [
              "0.0002621288304514"
             ],
             {
              "frame": {
               "duration": 0,
               "redraw": true
              },
              "fromcurrent": true,
              "mode": "immediate",
              "transition": {
               "duration": 0,
               "easing": "linear"
              }
             }
            ],
            "label": "0.0002621288304514",
            "method": "animate"
           },
           {
            "args": [
             [
              "0.0002434814347949"
             ],
             {
              "frame": {
               "duration": 0,
               "redraw": true
              },
              "fromcurrent": true,
              "mode": "immediate",
              "transition": {
               "duration": 0,
               "easing": "linear"
              }
             }
            ],
            "label": "0.0002434814347949",
            "method": "animate"
           },
           {
            "args": [
             [
              "0.0002358036599492"
             ],
             {
              "frame": {
               "duration": 0,
               "redraw": true
              },
              "fromcurrent": true,
              "mode": "immediate",
              "transition": {
               "duration": 0,
               "easing": "linear"
              }
             }
            ],
            "label": "0.0002358036599492",
            "method": "animate"
           },
           {
            "args": [
             [
              "0.0002247860530455"
             ],
             {
              "frame": {
               "duration": 0,
               "redraw": true
              },
              "fromcurrent": true,
              "mode": "immediate",
              "transition": {
               "duration": 0,
               "easing": "linear"
              }
             }
            ],
            "label": "0.0002247860530455",
            "method": "animate"
           },
           {
            "args": [
             [
              "0.0002246708864229"
             ],
             {
              "frame": {
               "duration": 0,
               "redraw": true
              },
              "fromcurrent": true,
              "mode": "immediate",
              "transition": {
               "duration": 0,
               "easing": "linear"
              }
             }
            ],
            "label": "0.0002246708864229",
            "method": "animate"
           },
           {
            "args": [
             [
              "0.0002175785419091"
             ],
             {
              "frame": {
               "duration": 0,
               "redraw": true
              },
              "fromcurrent": true,
              "mode": "immediate",
              "transition": {
               "duration": 0,
               "easing": "linear"
              }
             }
            ],
            "label": "0.0002175785419091",
            "method": "animate"
           },
           {
            "args": [
             [
              "0.0002113307526284"
             ],
             {
              "frame": {
               "duration": 0,
               "redraw": true
              },
              "fromcurrent": true,
              "mode": "immediate",
              "transition": {
               "duration": 0,
               "easing": "linear"
              }
             }
            ],
            "label": "0.0002113307526284",
            "method": "animate"
           },
           {
            "args": [
             [
              "0.0002047566579168"
             ],
             {
              "frame": {
               "duration": 0,
               "redraw": true
              },
              "fromcurrent": true,
              "mode": "immediate",
              "transition": {
               "duration": 0,
               "easing": "linear"
              }
             }
            ],
            "label": "0.0002047566579168",
            "method": "animate"
           },
           {
            "args": [
             [
              "0.0001957256752545"
             ],
             {
              "frame": {
               "duration": 0,
               "redraw": true
              },
              "fromcurrent": true,
              "mode": "immediate",
              "transition": {
               "duration": 0,
               "easing": "linear"
              }
             }
            ],
            "label": "0.0001957256752545",
            "method": "animate"
           },
           {
            "args": [
             [
              "0.0001888252751119"
             ],
             {
              "frame": {
               "duration": 0,
               "redraw": true
              },
              "fromcurrent": true,
              "mode": "immediate",
              "transition": {
               "duration": 0,
               "easing": "linear"
              }
             }
            ],
            "label": "0.0001888252751119",
            "method": "animate"
           },
           {
            "args": [
             [
              "0.0001800534173507"
             ],
             {
              "frame": {
               "duration": 0,
               "redraw": true
              },
              "fromcurrent": true,
              "mode": "immediate",
              "transition": {
               "duration": 0,
               "easing": "linear"
              }
             }
            ],
            "label": "0.0001800534173507",
            "method": "animate"
           },
           {
            "args": [
             [
              "0.0001774141822474"
             ],
             {
              "frame": {
               "duration": 0,
               "redraw": true
              },
              "fromcurrent": true,
              "mode": "immediate",
              "transition": {
               "duration": 0,
               "easing": "linear"
              }
             }
            ],
            "label": "0.0001774141822474",
            "method": "animate"
           },
           {
            "args": [
             [
              "0.0001762337243649"
             ],
             {
              "frame": {
               "duration": 0,
               "redraw": true
              },
              "fromcurrent": true,
              "mode": "immediate",
              "transition": {
               "duration": 0,
               "easing": "linear"
              }
             }
            ],
            "label": "0.0001762337243649",
            "method": "animate"
           },
           {
            "args": [
             [
              "0.0001706481431647"
             ],
             {
              "frame": {
               "duration": 0,
               "redraw": true
              },
              "fromcurrent": true,
              "mode": "immediate",
              "transition": {
               "duration": 0,
               "easing": "linear"
              }
             }
            ],
            "label": "0.0001706481431647",
            "method": "animate"
           },
           {
            "args": [
             [
              "0.0001649282009046"
             ],
             {
              "frame": {
               "duration": 0,
               "redraw": true
              },
              "fromcurrent": true,
              "mode": "immediate",
              "transition": {
               "duration": 0,
               "easing": "linear"
              }
             }
            ],
            "label": "0.0001649282009046",
            "method": "animate"
           },
           {
            "args": [
             [
              "0.0001605518692425"
             ],
             {
              "frame": {
               "duration": 0,
               "redraw": true
              },
              "fromcurrent": true,
              "mode": "immediate",
              "transition": {
               "duration": 0,
               "easing": "linear"
              }
             }
            ],
            "label": "0.0001605518692425",
            "method": "animate"
           },
           {
            "args": [
             [
              "0.0001543424688361"
             ],
             {
              "frame": {
               "duration": 0,
               "redraw": true
              },
              "fromcurrent": true,
              "mode": "immediate",
              "transition": {
               "duration": 0,
               "easing": "linear"
              }
             }
            ],
            "label": "0.0001543424688361",
            "method": "animate"
           },
           {
            "args": [
             [
              "0.0001540449550608"
             ],
             {
              "frame": {
               "duration": 0,
               "redraw": true
              },
              "fromcurrent": true,
              "mode": "immediate",
              "transition": {
               "duration": 0,
               "easing": "linear"
              }
             }
            ],
            "label": "0.0001540449550608",
            "method": "animate"
           },
           {
            "args": [
             [
              "0.0001512041783679"
             ],
             {
              "frame": {
               "duration": 0,
               "redraw": true
              },
              "fromcurrent": true,
              "mode": "immediate",
              "transition": {
               "duration": 0,
               "easing": "linear"
              }
             }
            ],
            "label": "0.0001512041783679",
            "method": "animate"
           },
           {
            "args": [
             [
              "0.0001505323730689"
             ],
             {
              "frame": {
               "duration": 0,
               "redraw": true
              },
              "fromcurrent": true,
              "mode": "immediate",
              "transition": {
               "duration": 0,
               "easing": "linear"
              }
             }
            ],
            "label": "0.0001505323730689",
            "method": "animate"
           },
           {
            "args": [
             [
              "0.0001495150679018"
             ],
             {
              "frame": {
               "duration": 0,
               "redraw": true
              },
              "fromcurrent": true,
              "mode": "immediate",
              "transition": {
               "duration": 0,
               "easing": "linear"
              }
             }
            ],
            "label": "0.0001495150679018",
            "method": "animate"
           },
           {
            "args": [
             [
              "0.0001474420686935"
             ],
             {
              "frame": {
               "duration": 0,
               "redraw": true
              },
              "fromcurrent": true,
              "mode": "immediate",
              "transition": {
               "duration": 0,
               "easing": "linear"
              }
             }
            ],
            "label": "0.0001474420686935",
            "method": "animate"
           },
           {
            "args": [
             [
              "0.0001207426066675"
             ],
             {
              "frame": {
               "duration": 0,
               "redraw": true
              },
              "fromcurrent": true,
              "mode": "immediate",
              "transition": {
               "duration": 0,
               "easing": "linear"
              }
             }
            ],
            "label": "0.0001207426066675",
            "method": "animate"
           },
           {
            "args": [
             [
              "0.0001173547885168"
             ],
             {
              "frame": {
               "duration": 0,
               "redraw": true
              },
              "fromcurrent": true,
              "mode": "immediate",
              "transition": {
               "duration": 0,
               "easing": "linear"
              }
             }
            ],
            "label": "0.0001173547885168",
            "method": "animate"
           },
           {
            "args": [
             [
              "0.0001152529976528"
             ],
             {
              "frame": {
               "duration": 0,
               "redraw": true
              },
              "fromcurrent": true,
              "mode": "immediate",
              "transition": {
               "duration": 0,
               "easing": "linear"
              }
             }
            ],
            "label": "0.0001152529976528",
            "method": "animate"
           },
           {
            "args": [
             [
              "0.0001148403172548"
             ],
             {
              "frame": {
               "duration": 0,
               "redraw": true
              },
              "fromcurrent": true,
              "mode": "immediate",
              "transition": {
               "duration": 0,
               "easing": "linear"
              }
             }
            ],
            "label": "0.0001148403172548",
            "method": "animate"
           },
           {
            "args": [
             [
              "0.0001145907895723"
             ],
             {
              "frame": {
               "duration": 0,
               "redraw": true
              },
              "fromcurrent": true,
              "mode": "immediate",
              "transition": {
               "duration": 0,
               "easing": "linear"
              }
             }
            ],
            "label": "0.0001145907895723",
            "method": "animate"
           },
           {
            "args": [
             [
              "0.0001118651795021"
             ],
             {
              "frame": {
               "duration": 0,
               "redraw": true
              },
              "fromcurrent": true,
              "mode": "immediate",
              "transition": {
               "duration": 0,
               "easing": "linear"
              }
             }
            ],
            "label": "0.0001118651795021",
            "method": "animate"
           },
           {
            "args": [
             [
              "0.0001056173902214"
             ],
             {
              "frame": {
               "duration": 0,
               "redraw": true
              },
              "fromcurrent": true,
              "mode": "immediate",
              "transition": {
               "duration": 0,
               "easing": "linear"
              }
             }
            ],
            "label": "0.0001056173902214",
            "method": "animate"
           },
           {
            "args": [
             [
              "9.77380737860267e-05"
             ],
             {
              "frame": {
               "duration": 0,
               "redraw": true
              },
              "fromcurrent": true,
              "mode": "immediate",
              "transition": {
               "duration": 0,
               "easing": "linear"
              }
             }
            ],
            "label": "9.77380737860267e-05",
            "method": "animate"
           },
           {
            "args": [
             [
              "9.526199139828171e-05"
             ],
             {
              "frame": {
               "duration": 0,
               "redraw": true
              },
              "fromcurrent": true,
              "mode": "immediate",
              "transition": {
               "duration": 0,
               "easing": "linear"
              }
             }
            ],
            "label": "9.526199139828171e-05",
            "method": "animate"
           },
           {
            "args": [
             [
              "9.194135377750746e-05"
             ],
             {
              "frame": {
               "duration": 0,
               "redraw": true
              },
              "fromcurrent": true,
              "mode": "immediate",
              "transition": {
               "duration": 0,
               "easing": "linear"
              }
             }
            ],
            "label": "9.194135377750746e-05",
            "method": "animate"
           },
           {
            "args": [
             [
              "8.734428608863208e-05"
             ],
             {
              "frame": {
               "duration": 0,
               "redraw": true
              },
              "fromcurrent": true,
              "mode": "immediate",
              "transition": {
               "duration": 0,
               "easing": "linear"
              }
             }
            ],
            "label": "8.734428608863208e-05",
            "method": "animate"
           },
           {
            "args": [
             [
              "8.625020317311685e-05"
             ],
             {
              "frame": {
               "duration": 0,
               "redraw": true
              },
              "fromcurrent": true,
              "mode": "immediate",
              "transition": {
               "duration": 0,
               "easing": "linear"
              }
             }
            ],
            "label": "8.625020317311685e-05",
            "method": "animate"
           },
           {
            "args": [
             [
              "8.581832833804505e-05"
             ],
             {
              "frame": {
               "duration": 0,
               "redraw": true
              },
              "fromcurrent": true,
              "mode": "immediate",
              "transition": {
               "duration": 0,
               "easing": "linear"
              }
             }
            ],
            "label": "8.581832833804505e-05",
            "method": "animate"
           },
           {
            "args": [
             [
              "7.732478991496634e-05"
             ],
             {
              "frame": {
               "duration": 0,
               "redraw": true
              },
              "fromcurrent": true,
              "mode": "immediate",
              "transition": {
               "duration": 0,
               "easing": "linear"
              }
             }
            ],
            "label": "7.732478991496634e-05",
            "method": "animate"
           },
           {
            "args": [
             [
              "7.44264299107067e-05"
             ],
             {
              "frame": {
               "duration": 0,
               "redraw": true
              },
              "fromcurrent": true,
              "mode": "immediate",
              "transition": {
               "duration": 0,
               "easing": "linear"
              }
             }
            ],
            "label": "7.44264299107067e-05",
            "method": "animate"
           },
           {
            "args": [
             [
              "7.338993030653439e-05"
             ],
             {
              "frame": {
               "duration": 0,
               "redraw": true
              },
              "fromcurrent": true,
              "mode": "immediate",
              "transition": {
               "duration": 0,
               "easing": "linear"
              }
             }
            ],
            "label": "7.338993030653439e-05",
            "method": "animate"
           },
           {
            "args": [
             [
              "7.005969546720297e-05"
             ],
             {
              "frame": {
               "duration": 0,
               "redraw": true
              },
              "fromcurrent": true,
              "mode": "immediate",
              "transition": {
               "duration": 0,
               "easing": "linear"
              }
             }
            ],
            "label": "7.005969546720297e-05",
            "method": "animate"
           },
           {
            "args": [
             [
              "6.723811321140055e-05"
             ],
             {
              "frame": {
               "duration": 0,
               "redraw": true
              },
              "fromcurrent": true,
              "mode": "immediate",
              "transition": {
               "duration": 0,
               "easing": "linear"
              }
             }
            ],
            "label": "6.723811321140055e-05",
            "method": "animate"
           },
           {
            "args": [
             [
              "6.321687863595424e-05"
             ],
             {
              "frame": {
               "duration": 0,
               "redraw": true
              },
              "fromcurrent": true,
              "mode": "immediate",
              "transition": {
               "duration": 0,
               "easing": "linear"
              }
             }
            ],
            "label": "6.321687863595424e-05",
            "method": "animate"
           },
           {
            "args": [
             [
              "6.254507333695366e-05"
             ],
             {
              "frame": {
               "duration": 0,
               "redraw": true
              },
              "fromcurrent": true,
              "mode": "immediate",
              "transition": {
               "duration": 0,
               "easing": "linear"
              }
             }
            ],
            "label": "6.254507333695366e-05",
            "method": "animate"
           },
           {
            "args": [
             [
              "6.02225464461231e-05"
             ],
             {
              "frame": {
               "duration": 0,
               "redraw": true
              },
              "fromcurrent": true,
              "mode": "immediate",
              "transition": {
               "duration": 0,
               "easing": "linear"
              }
             }
            ],
            "label": "6.02225464461231e-05",
            "method": "animate"
           },
           {
            "args": [
             [
              "5.740096419032068e-05"
             ],
             {
              "frame": {
               "duration": 0,
               "redraw": true
              },
              "fromcurrent": true,
              "mode": "immediate",
              "transition": {
               "duration": 0,
               "easing": "linear"
              }
             }
            ],
            "label": "5.740096419032068e-05",
            "method": "animate"
           },
           {
            "args": [
             [
              "5.196893848697316e-05"
             ],
             {
              "frame": {
               "duration": 0,
               "redraw": true
              },
              "fromcurrent": true,
              "mode": "immediate",
              "transition": {
               "duration": 0,
               "easing": "linear"
              }
             }
            ],
            "label": "5.196893848697316e-05",
            "method": "animate"
           },
           {
            "args": [
             [
              "4.801488444142691e-05"
             ],
             {
              "frame": {
               "duration": 0,
               "redraw": true
              },
              "fromcurrent": true,
              "mode": "immediate",
              "transition": {
               "duration": 0,
               "easing": "linear"
              }
             }
            ],
            "label": "4.801488444142691e-05",
            "method": "animate"
           },
           {
            "args": [
             [
              "4.430076085980944e-05"
             ],
             {
              "frame": {
               "duration": 0,
               "redraw": true
              },
              "fromcurrent": true,
              "mode": "immediate",
              "transition": {
               "duration": 0,
               "easing": "linear"
              }
             }
            ],
            "label": "4.430076085980944e-05",
            "method": "animate"
           },
           {
            "args": [
             [
              "3.741955515433211e-05"
             ],
             {
              "frame": {
               "duration": 0,
               "redraw": true
              },
              "fromcurrent": true,
              "mode": "immediate",
              "transition": {
               "duration": 0,
               "easing": "linear"
              }
             }
            ],
            "label": "3.741955515433211e-05",
            "method": "animate"
           },
           {
            "args": [
             [
              "3.342711223455725e-05"
             ],
             {
              "frame": {
               "duration": 0,
               "redraw": true
              },
              "fromcurrent": true,
              "mode": "immediate",
              "transition": {
               "duration": 0,
               "easing": "linear"
              }
             }
            ],
            "label": "3.342711223455725e-05",
            "method": "animate"
           },
           {
            "args": [
             [
              "3.308161236649981e-05"
             ],
             {
              "frame": {
               "duration": 0,
               "redraw": true
              },
              "fromcurrent": true,
              "mode": "immediate",
              "transition": {
               "duration": 0,
               "easing": "linear"
              }
             }
            ],
            "label": "3.308161236649981e-05",
            "method": "animate"
           },
           {
            "args": [
             [
              "3.284168190257104e-05"
             ],
             {
              "frame": {
               "duration": 0,
               "redraw": true
              },
              "fromcurrent": true,
              "mode": "immediate",
              "transition": {
               "duration": 0,
               "easing": "linear"
              }
             }
            ],
            "label": "3.284168190257104e-05",
            "method": "animate"
           },
           {
            "args": [
             [
              "2.6872211960023056e-05"
             ],
             {
              "frame": {
               "duration": 0,
               "redraw": true
              },
              "fromcurrent": true,
              "mode": "immediate",
              "transition": {
               "duration": 0,
               "easing": "linear"
              }
             }
            ],
            "label": "2.6872211960023056e-05",
            "method": "animate"
           },
           {
            "args": [
             [
              "2.073958930200351e-05"
             ],
             {
              "frame": {
               "duration": 0,
               "redraw": true
              },
              "fromcurrent": true,
              "mode": "immediate",
              "transition": {
               "duration": 0,
               "easing": "linear"
              }
             }
            ],
            "label": "2.073958930200351e-05",
            "method": "animate"
           },
           {
            "args": [
             [
              "1.847464572251585e-05"
             ],
             {
              "frame": {
               "duration": 0,
               "redraw": true
              },
              "fromcurrent": true,
              "mode": "immediate",
              "transition": {
               "duration": 0,
               "easing": "linear"
              }
             }
            ],
            "label": "1.847464572251585e-05",
            "method": "animate"
           },
           {
            "args": [
             [
              "1.3416911542897225e-05"
             ],
             {
              "frame": {
               "duration": 0,
               "redraw": true
              },
              "fromcurrent": true,
              "mode": "immediate",
              "transition": {
               "duration": 0,
               "easing": "linear"
              }
             }
            ],
            "label": "1.3416911542897225e-05",
            "method": "animate"
           },
           {
            "args": [
             [
              "7.12113616940611e-06"
             ],
             {
              "frame": {
               "duration": 0,
               "redraw": true
              },
              "fromcurrent": true,
              "mode": "immediate",
              "transition": {
               "duration": 0,
               "easing": "linear"
              }
             }
            ],
            "label": "7.12113616940611e-06",
            "method": "animate"
           },
           {
            "args": [
             [
              "6.785233519905821e-06"
             ],
             {
              "frame": {
               "duration": 0,
               "redraw": true
              },
              "fromcurrent": true,
              "mode": "immediate",
              "transition": {
               "duration": 0,
               "easing": "linear"
              }
             }
            ],
            "label": "6.785233519905821e-06",
            "method": "animate"
           },
           {
            "args": [
             [
              "2.303332453716262e-07"
             ],
             {
              "frame": {
               "duration": 0,
               "redraw": true
              },
              "fromcurrent": true,
              "mode": "immediate",
              "transition": {
               "duration": 0,
               "easing": "linear"
              }
             }
            ],
            "label": "2.303332453716262e-07",
            "method": "animate"
           },
           {
            "args": [
             [
              "4.7986092785755454e-08"
             ],
             {
              "frame": {
               "duration": 0,
               "redraw": true
              },
              "fromcurrent": true,
              "mode": "immediate",
              "transition": {
               "duration": 0,
               "easing": "linear"
              }
             }
            ],
            "label": "4.7986092785755454e-08",
            "method": "animate"
           },
           {
            "args": [
             [
              "3.8388874228604366e-08"
             ],
             {
              "frame": {
               "duration": 0,
               "redraw": true
              },
              "fromcurrent": true,
              "mode": "immediate",
              "transition": {
               "duration": 0,
               "easing": "linear"
              }
             }
            ],
            "label": "3.8388874228604366e-08",
            "method": "animate"
           },
           {
            "args": [
             [
              "0.0"
             ],
             {
              "frame": {
               "duration": 0,
               "redraw": true
              },
              "fromcurrent": true,
              "mode": "immediate",
              "transition": {
               "duration": 0,
               "easing": "linear"
              }
             }
            ],
            "label": "0.0",
            "method": "animate"
           }
          ],
          "x": 0.1,
          "xanchor": "left",
          "y": 0,
          "yanchor": "top"
         }
        ],
        "template": {
         "data": {
          "bar": [
           {
            "error_x": {
             "color": "#f2f5fa"
            },
            "error_y": {
             "color": "#f2f5fa"
            },
            "marker": {
             "line": {
              "color": "rgb(17,17,17)",
              "width": 0.5
             },
             "pattern": {
              "fillmode": "overlay",
              "size": 10,
              "solidity": 0.2
             }
            },
            "type": "bar"
           }
          ],
          "barpolar": [
           {
            "marker": {
             "line": {
              "color": "rgb(17,17,17)",
              "width": 0.5
             },
             "pattern": {
              "fillmode": "overlay",
              "size": 10,
              "solidity": 0.2
             }
            },
            "type": "barpolar"
           }
          ],
          "carpet": [
           {
            "aaxis": {
             "endlinecolor": "#A2B1C6",
             "gridcolor": "#506784",
             "linecolor": "#506784",
             "minorgridcolor": "#506784",
             "startlinecolor": "#A2B1C6"
            },
            "baxis": {
             "endlinecolor": "#A2B1C6",
             "gridcolor": "#506784",
             "linecolor": "#506784",
             "minorgridcolor": "#506784",
             "startlinecolor": "#A2B1C6"
            },
            "type": "carpet"
           }
          ],
          "choropleth": [
           {
            "colorbar": {
             "outlinewidth": 0,
             "ticks": ""
            },
            "type": "choropleth"
           }
          ],
          "contour": [
           {
            "colorbar": {
             "outlinewidth": 0,
             "ticks": ""
            },
            "colorscale": [
             [
              0,
              "#0d0887"
             ],
             [
              0.1111111111111111,
              "#46039f"
             ],
             [
              0.2222222222222222,
              "#7201a8"
             ],
             [
              0.3333333333333333,
              "#9c179e"
             ],
             [
              0.4444444444444444,
              "#bd3786"
             ],
             [
              0.5555555555555556,
              "#d8576b"
             ],
             [
              0.6666666666666666,
              "#ed7953"
             ],
             [
              0.7777777777777778,
              "#fb9f3a"
             ],
             [
              0.8888888888888888,
              "#fdca26"
             ],
             [
              1,
              "#f0f921"
             ]
            ],
            "type": "contour"
           }
          ],
          "contourcarpet": [
           {
            "colorbar": {
             "outlinewidth": 0,
             "ticks": ""
            },
            "type": "contourcarpet"
           }
          ],
          "heatmap": [
           {
            "colorbar": {
             "outlinewidth": 0,
             "ticks": ""
            },
            "colorscale": [
             [
              0,
              "#0d0887"
             ],
             [
              0.1111111111111111,
              "#46039f"
             ],
             [
              0.2222222222222222,
              "#7201a8"
             ],
             [
              0.3333333333333333,
              "#9c179e"
             ],
             [
              0.4444444444444444,
              "#bd3786"
             ],
             [
              0.5555555555555556,
              "#d8576b"
             ],
             [
              0.6666666666666666,
              "#ed7953"
             ],
             [
              0.7777777777777778,
              "#fb9f3a"
             ],
             [
              0.8888888888888888,
              "#fdca26"
             ],
             [
              1,
              "#f0f921"
             ]
            ],
            "type": "heatmap"
           }
          ],
          "heatmapgl": [
           {
            "colorbar": {
             "outlinewidth": 0,
             "ticks": ""
            },
            "colorscale": [
             [
              0,
              "#0d0887"
             ],
             [
              0.1111111111111111,
              "#46039f"
             ],
             [
              0.2222222222222222,
              "#7201a8"
             ],
             [
              0.3333333333333333,
              "#9c179e"
             ],
             [
              0.4444444444444444,
              "#bd3786"
             ],
             [
              0.5555555555555556,
              "#d8576b"
             ],
             [
              0.6666666666666666,
              "#ed7953"
             ],
             [
              0.7777777777777778,
              "#fb9f3a"
             ],
             [
              0.8888888888888888,
              "#fdca26"
             ],
             [
              1,
              "#f0f921"
             ]
            ],
            "type": "heatmapgl"
           }
          ],
          "histogram": [
           {
            "marker": {
             "pattern": {
              "fillmode": "overlay",
              "size": 10,
              "solidity": 0.2
             }
            },
            "type": "histogram"
           }
          ],
          "histogram2d": [
           {
            "colorbar": {
             "outlinewidth": 0,
             "ticks": ""
            },
            "colorscale": [
             [
              0,
              "#0d0887"
             ],
             [
              0.1111111111111111,
              "#46039f"
             ],
             [
              0.2222222222222222,
              "#7201a8"
             ],
             [
              0.3333333333333333,
              "#9c179e"
             ],
             [
              0.4444444444444444,
              "#bd3786"
             ],
             [
              0.5555555555555556,
              "#d8576b"
             ],
             [
              0.6666666666666666,
              "#ed7953"
             ],
             [
              0.7777777777777778,
              "#fb9f3a"
             ],
             [
              0.8888888888888888,
              "#fdca26"
             ],
             [
              1,
              "#f0f921"
             ]
            ],
            "type": "histogram2d"
           }
          ],
          "histogram2dcontour": [
           {
            "colorbar": {
             "outlinewidth": 0,
             "ticks": ""
            },
            "colorscale": [
             [
              0,
              "#0d0887"
             ],
             [
              0.1111111111111111,
              "#46039f"
             ],
             [
              0.2222222222222222,
              "#7201a8"
             ],
             [
              0.3333333333333333,
              "#9c179e"
             ],
             [
              0.4444444444444444,
              "#bd3786"
             ],
             [
              0.5555555555555556,
              "#d8576b"
             ],
             [
              0.6666666666666666,
              "#ed7953"
             ],
             [
              0.7777777777777778,
              "#fb9f3a"
             ],
             [
              0.8888888888888888,
              "#fdca26"
             ],
             [
              1,
              "#f0f921"
             ]
            ],
            "type": "histogram2dcontour"
           }
          ],
          "mesh3d": [
           {
            "colorbar": {
             "outlinewidth": 0,
             "ticks": ""
            },
            "type": "mesh3d"
           }
          ],
          "parcoords": [
           {
            "line": {
             "colorbar": {
              "outlinewidth": 0,
              "ticks": ""
             }
            },
            "type": "parcoords"
           }
          ],
          "pie": [
           {
            "automargin": true,
            "type": "pie"
           }
          ],
          "scatter": [
           {
            "marker": {
             "line": {
              "color": "#283442"
             }
            },
            "type": "scatter"
           }
          ],
          "scatter3d": [
           {
            "line": {
             "colorbar": {
              "outlinewidth": 0,
              "ticks": ""
             }
            },
            "marker": {
             "colorbar": {
              "outlinewidth": 0,
              "ticks": ""
             }
            },
            "type": "scatter3d"
           }
          ],
          "scattercarpet": [
           {
            "marker": {
             "colorbar": {
              "outlinewidth": 0,
              "ticks": ""
             }
            },
            "type": "scattercarpet"
           }
          ],
          "scattergeo": [
           {
            "marker": {
             "colorbar": {
              "outlinewidth": 0,
              "ticks": ""
             }
            },
            "type": "scattergeo"
           }
          ],
          "scattergl": [
           {
            "marker": {
             "line": {
              "color": "#283442"
             }
            },
            "type": "scattergl"
           }
          ],
          "scattermapbox": [
           {
            "marker": {
             "colorbar": {
              "outlinewidth": 0,
              "ticks": ""
             }
            },
            "type": "scattermapbox"
           }
          ],
          "scatterpolar": [
           {
            "marker": {
             "colorbar": {
              "outlinewidth": 0,
              "ticks": ""
             }
            },
            "type": "scatterpolar"
           }
          ],
          "scatterpolargl": [
           {
            "marker": {
             "colorbar": {
              "outlinewidth": 0,
              "ticks": ""
             }
            },
            "type": "scatterpolargl"
           }
          ],
          "scatterternary": [
           {
            "marker": {
             "colorbar": {
              "outlinewidth": 0,
              "ticks": ""
             }
            },
            "type": "scatterternary"
           }
          ],
          "surface": [
           {
            "colorbar": {
             "outlinewidth": 0,
             "ticks": ""
            },
            "colorscale": [
             [
              0,
              "#0d0887"
             ],
             [
              0.1111111111111111,
              "#46039f"
             ],
             [
              0.2222222222222222,
              "#7201a8"
             ],
             [
              0.3333333333333333,
              "#9c179e"
             ],
             [
              0.4444444444444444,
              "#bd3786"
             ],
             [
              0.5555555555555556,
              "#d8576b"
             ],
             [
              0.6666666666666666,
              "#ed7953"
             ],
             [
              0.7777777777777778,
              "#fb9f3a"
             ],
             [
              0.8888888888888888,
              "#fdca26"
             ],
             [
              1,
              "#f0f921"
             ]
            ],
            "type": "surface"
           }
          ],
          "table": [
           {
            "cells": {
             "fill": {
              "color": "#506784"
             },
             "line": {
              "color": "rgb(17,17,17)"
             }
            },
            "header": {
             "fill": {
              "color": "#2a3f5f"
             },
             "line": {
              "color": "rgb(17,17,17)"
             }
            },
            "type": "table"
           }
          ]
         },
         "layout": {
          "annotationdefaults": {
           "arrowcolor": "#f2f5fa",
           "arrowhead": 0,
           "arrowwidth": 1
          },
          "autotypenumbers": "strict",
          "coloraxis": {
           "colorbar": {
            "outlinewidth": 0,
            "ticks": ""
           }
          },
          "colorscale": {
           "diverging": [
            [
             0,
             "#8e0152"
            ],
            [
             0.1,
             "#c51b7d"
            ],
            [
             0.2,
             "#de77ae"
            ],
            [
             0.3,
             "#f1b6da"
            ],
            [
             0.4,
             "#fde0ef"
            ],
            [
             0.5,
             "#f7f7f7"
            ],
            [
             0.6,
             "#e6f5d0"
            ],
            [
             0.7,
             "#b8e186"
            ],
            [
             0.8,
             "#7fbc41"
            ],
            [
             0.9,
             "#4d9221"
            ],
            [
             1,
             "#276419"
            ]
           ],
           "sequential": [
            [
             0,
             "#0d0887"
            ],
            [
             0.1111111111111111,
             "#46039f"
            ],
            [
             0.2222222222222222,
             "#7201a8"
            ],
            [
             0.3333333333333333,
             "#9c179e"
            ],
            [
             0.4444444444444444,
             "#bd3786"
            ],
            [
             0.5555555555555556,
             "#d8576b"
            ],
            [
             0.6666666666666666,
             "#ed7953"
            ],
            [
             0.7777777777777778,
             "#fb9f3a"
            ],
            [
             0.8888888888888888,
             "#fdca26"
            ],
            [
             1,
             "#f0f921"
            ]
           ],
           "sequentialminus": [
            [
             0,
             "#0d0887"
            ],
            [
             0.1111111111111111,
             "#46039f"
            ],
            [
             0.2222222222222222,
             "#7201a8"
            ],
            [
             0.3333333333333333,
             "#9c179e"
            ],
            [
             0.4444444444444444,
             "#bd3786"
            ],
            [
             0.5555555555555556,
             "#d8576b"
            ],
            [
             0.6666666666666666,
             "#ed7953"
            ],
            [
             0.7777777777777778,
             "#fb9f3a"
            ],
            [
             0.8888888888888888,
             "#fdca26"
            ],
            [
             1,
             "#f0f921"
            ]
           ]
          },
          "colorway": [
           "#636efa",
           "#EF553B",
           "#00cc96",
           "#ab63fa",
           "#FFA15A",
           "#19d3f3",
           "#FF6692",
           "#B6E880",
           "#FF97FF",
           "#FECB52"
          ],
          "font": {
           "color": "#f2f5fa"
          },
          "geo": {
           "bgcolor": "rgb(17,17,17)",
           "lakecolor": "rgb(17,17,17)",
           "landcolor": "rgb(17,17,17)",
           "showlakes": true,
           "showland": true,
           "subunitcolor": "#506784"
          },
          "hoverlabel": {
           "align": "left"
          },
          "hovermode": "closest",
          "mapbox": {
           "style": "dark"
          },
          "paper_bgcolor": "rgb(17,17,17)",
          "plot_bgcolor": "rgb(17,17,17)",
          "polar": {
           "angularaxis": {
            "gridcolor": "#506784",
            "linecolor": "#506784",
            "ticks": ""
           },
           "bgcolor": "rgb(17,17,17)",
           "radialaxis": {
            "gridcolor": "#506784",
            "linecolor": "#506784",
            "ticks": ""
           }
          },
          "scene": {
           "xaxis": {
            "backgroundcolor": "rgb(17,17,17)",
            "gridcolor": "#506784",
            "gridwidth": 2,
            "linecolor": "#506784",
            "showbackground": true,
            "ticks": "",
            "zerolinecolor": "#C8D4E3"
           },
           "yaxis": {
            "backgroundcolor": "rgb(17,17,17)",
            "gridcolor": "#506784",
            "gridwidth": 2,
            "linecolor": "#506784",
            "showbackground": true,
            "ticks": "",
            "zerolinecolor": "#C8D4E3"
           },
           "zaxis": {
            "backgroundcolor": "rgb(17,17,17)",
            "gridcolor": "#506784",
            "gridwidth": 2,
            "linecolor": "#506784",
            "showbackground": true,
            "ticks": "",
            "zerolinecolor": "#C8D4E3"
           }
          },
          "shapedefaults": {
           "line": {
            "color": "#f2f5fa"
           }
          },
          "sliderdefaults": {
           "bgcolor": "#C8D4E3",
           "bordercolor": "rgb(17,17,17)",
           "borderwidth": 1,
           "tickwidth": 0
          },
          "ternary": {
           "aaxis": {
            "gridcolor": "#506784",
            "linecolor": "#506784",
            "ticks": ""
           },
           "baxis": {
            "gridcolor": "#506784",
            "linecolor": "#506784",
            "ticks": ""
           },
           "bgcolor": "rgb(17,17,17)",
           "caxis": {
            "gridcolor": "#506784",
            "linecolor": "#506784",
            "ticks": ""
           }
          },
          "title": {
           "x": 0.05
          },
          "updatemenudefaults": {
           "bgcolor": "#506784",
           "borderwidth": 0
          },
          "xaxis": {
           "automargin": true,
           "gridcolor": "#283442",
           "linecolor": "#506784",
           "ticks": "",
           "title": {
            "standoff": 15
           },
           "zerolinecolor": "#283442",
           "zerolinewidth": 2
          },
          "yaxis": {
           "automargin": true,
           "gridcolor": "#283442",
           "linecolor": "#506784",
           "ticks": "",
           "title": {
            "standoff": 15
           },
           "zerolinecolor": "#283442",
           "zerolinewidth": 2
          }
         }
        },
        "title": {
         "text": "Distribution of the number of deaths by country"
        },
        "updatemenus": [
         {
          "buttons": [
           {
            "args": [
             null,
             {
              "frame": {
               "duration": 500,
               "redraw": true
              },
              "fromcurrent": true,
              "mode": "immediate",
              "transition": {
               "duration": 500,
               "easing": "linear"
              }
             }
            ],
            "label": "&#9654;",
            "method": "animate"
           },
           {
            "args": [
             [
              null
             ],
             {
              "frame": {
               "duration": 0,
               "redraw": true
              },
              "fromcurrent": true,
              "mode": "immediate",
              "transition": {
               "duration": 0,
               "easing": "linear"
              }
             }
            ],
            "label": "&#9724;",
            "method": "animate"
           }
          ],
          "direction": "left",
          "pad": {
           "r": 10,
           "t": 70
          },
          "showactive": false,
          "type": "buttons",
          "x": 0.1,
          "xanchor": "right",
          "y": 0,
          "yanchor": "top"
         }
        ]
       }
      }
     },
     "metadata": {},
     "output_type": "display_data"
    }
   ],
   "source": [
    "fig=px.choropleth(data_frame=df,locations=df['country'],locationmode='country names',color=df['total_deaths'],animation_frame=df['total_cases'],animation_group=df['total_cases'] ,template='plotly_dark')\n",
    "fig.update_layout(dict1={'title':'Distribution of the number of deaths by country'})\n",
    "fig.show()"
   ]
  },
  {
   "cell_type": "code",
   "execution_count": 9,
   "metadata": {},
   "outputs": [
    {
     "data": {
      "application/vnd.plotly.v1+json": {
       "config": {
        "plotlyServerURL": "https://plot.ly"
       },
       "data": [
        {
         "coloraxis": "coloraxis",
         "geo": "geo",
         "hovertemplate": "total_cases=1.0<br>country=%{location}<br>total_deaths=%{z}<extra></extra>",
         "ids": [
          1
         ],
         "locationmode": "country names",
         "locations": [
          "USA"
         ],
         "name": "",
         "type": "choropleth",
         "z": [
          1
         ]
        }
       ],
       "frames": [
        {
         "data": [
          {
           "coloraxis": "coloraxis",
           "geo": "geo",
           "hovertemplate": "total_cases=1.0<br>country=%{location}<br>total_deaths=%{z}<extra></extra>",
           "ids": [
            1
           ],
           "locationmode": "country names",
           "locations": [
            "USA"
           ],
           "name": "",
           "type": "choropleth",
           "z": [
            1
           ]
          }
         ],
         "name": "1.0"
        },
        {
         "data": [
          {
           "coloraxis": "coloraxis",
           "geo": "geo",
           "hovertemplate": "total_cases=0.428830395803881<br>country=%{location}<br>total_deaths=%{z}<extra></extra>",
           "ids": [
            0.428830395803881
           ],
           "locationmode": "country names",
           "locations": [
            "India"
           ],
           "name": "",
           "type": "choropleth",
           "z": [
            0.4684646515466465
           ]
          }
         ],
         "name": "0.428830395803881"
        },
        {
         "data": [
          {
           "coloraxis": "coloraxis",
           "geo": "geo",
           "hovertemplate": "total_cases=0.3793234030017182<br>country=%{location}<br>total_deaths=%{z}<extra></extra>",
           "ids": [
            0.3793234030017182
           ],
           "locationmode": "country names",
           "locations": [
            "France"
           ],
           "name": "",
           "type": "choropleth",
           "z": [
            0.144962420615481
           ]
          }
         ],
         "name": "0.3793234030017182"
        },
        {
         "data": [
          {
           "coloraxis": "coloraxis",
           "geo": "geo",
           "hovertemplate": "total_cases=0.3625812663675763<br>country=%{location}<br>total_deaths=%{z}<extra></extra>",
           "ids": [
            0.3625812663675763
           ],
           "locationmode": "country names",
           "locations": [
            "Germany"
           ],
           "name": "",
           "type": "choropleth",
           "z": [
            0.1462669967826927
           ]
          }
         ],
         "name": "0.3625812663675763"
        },
        {
         "data": [
          {
           "coloraxis": "coloraxis",
           "geo": "geo",
           "hovertemplate": "total_cases=0.3534134945492021<br>country=%{location}<br>total_deaths=%{z}<extra></extra>",
           "ids": [
            0.3534134945492021
           ],
           "locationmode": "country names",
           "locations": [
            "Brazil"
           ],
           "name": "",
           "type": "choropleth",
           "z": [
            0.6152815474850719
           ]
          }
         ],
         "name": "0.3534134945492021"
        },
        {
         "data": [
          {
           "coloraxis": "coloraxis",
           "geo": "geo",
           "hovertemplate": "total_cases=0.3127583523249492<br>country=%{location}<br>total_deaths=%{z}<extra></extra>",
           "ids": [
            0.3127583523249492
           ],
           "locationmode": "country names",
           "locations": [
            "Japan"
           ],
           "name": "",
           "type": "choropleth",
           "z": [
            0.0603732782551514
           ]
          }
         ],
         "name": "0.3127583523249492"
        },
        {
         "data": [
          {
           "coloraxis": "coloraxis",
           "geo": "geo",
           "hovertemplate": "total_cases=0.2898077942006234<br>country=%{location}<br>total_deaths=%{z}<extra></extra>",
           "ids": [
            0.2898077942006234
           ],
           "locationmode": "country names",
           "locations": [
            "S. Korea"
           ],
           "name": "",
           "type": "choropleth",
           "z": [
            0.0295568589548385
           ]
          }
         ],
         "name": "0.2898077942006234"
        },
        {
         "data": [
          {
           "coloraxis": "coloraxis",
           "geo": "geo",
           "hovertemplate": "total_cases=0.2442855281545155<br>country=%{location}<br>total_deaths=%{z}<extra></extra>",
           "ids": [
            0.2442855281545155
           ],
           "locationmode": "country names",
           "locations": [
            "Italy"
           ],
           "name": "",
           "type": "choropleth",
           "z": [
            0.1649106082873245
           ]
          }
         ],
         "name": "0.2442855281545155"
        },
        {
         "data": [
          {
           "coloraxis": "coloraxis",
           "geo": "geo",
           "hovertemplate": "total_cases=0.2329662998660919<br>country=%{location}<br>total_deaths=%{z}<extra></extra>",
           "ids": [
            0.2329662998660919
           ],
           "locationmode": "country names",
           "locations": [
            "UK"
           ],
           "name": "",
           "type": "choropleth",
           "z": [
            0.1802142223516795
           ]
          }
         ],
         "name": "0.2329662998660919"
        },
        {
         "data": [
          {
           "coloraxis": "coloraxis",
           "geo": "geo",
           "hovertemplate": "total_cases=0.2107423567559466<br>country=%{location}<br>total_deaths=%{z}<extra></extra>",
           "ids": [
            0.2107423567559466
           ],
           "locationmode": "country names",
           "locations": [
            "Russia"
           ],
           "name": "",
           "type": "choropleth",
           "z": [
            0.3487472802941033
           ]
          }
         ],
         "name": "0.2107423567559466"
        },
        {
         "data": [
          {
           "coloraxis": "coloraxis",
           "geo": "geo",
           "hovertemplate": "total_cases=0.1635626798566743<br>country=%{location}<br>total_deaths=%{z}<extra></extra>",
           "ids": [
            0.1635626798566743
           ],
           "locationmode": "country names",
           "locations": [
            "Turkey"
           ],
           "name": "",
           "type": "choropleth",
           "z": [
            0.089583250583661
           ]
          }
         ],
         "name": "0.1635626798566743"
        },
        {
         "data": [
          {
           "coloraxis": "coloraxis",
           "geo": "geo",
           "hovertemplate": "total_cases=0.1317839474926191<br>country=%{location}<br>total_deaths=%{z}<extra></extra>",
           "ids": [
            0.1317839474926191
           ],
           "locationmode": "country names",
           "locations": [
            "Spain"
           ],
           "name": "",
           "type": "choropleth",
           "z": [
            0.104537330032173
           ]
          }
         ],
         "name": "0.1317839474926191"
        },
        {
         "data": [
          {
           "coloraxis": "coloraxis",
           "geo": "geo",
           "hovertemplate": "total_cases=0.1106223684906577<br>country=%{location}<br>total_deaths=%{z}<extra></extra>",
           "ids": [
            0.1106223684906577
           ],
           "locationmode": "country names",
           "locations": [
            "Vietnam"
           ],
           "name": "",
           "type": "choropleth",
           "z": [
            0.0381186917166474
           ]
          }
         ],
         "name": "0.1106223684906577"
        },
        {
         "data": [
          {
           "coloraxis": "coloraxis",
           "geo": "geo",
           "hovertemplate": "total_cases=0.1084048159764052<br>country=%{location}<br>total_deaths=%{z}<extra></extra>",
           "ids": [
            0.1084048159764052
           ],
           "locationmode": "country names",
           "locations": [
            "Australia"
           ],
           "name": "",
           "type": "choropleth",
           "z": [
            0.0164307749341312
           ]
          }
         ],
         "name": "0.1084048159764052"
        },
        {
         "data": [
          {
           "coloraxis": "coloraxis",
           "geo": "geo",
           "hovertemplate": "total_cases=0.0963285302965379<br>country=%{location}<br>total_deaths=%{z}<extra></extra>",
           "ids": [
            0.0963285302965379
           ],
           "locationmode": "country names",
           "locations": [
            "Argentina"
           ],
           "name": "",
           "type": "choropleth",
           "z": [
            0.115117813466792
           ]
          }
         ],
         "name": "0.0963285302965379"
        },
        {
         "data": [
          {
           "coloraxis": "coloraxis",
           "geo": "geo",
           "hovertemplate": "total_cases=0.0918416002878244<br>country=%{location}<br>total_deaths=%{z}<extra></extra>",
           "ids": [
            0.0918416002878244
           ],
           "locationmode": "country names",
           "locations": [
            "Taiwan"
           ],
           "name": "",
           "type": "choropleth",
           "z": [
            0.0144368388301182
           ]
          }
         ],
         "name": "0.0918416002878244"
        },
        {
         "data": [
          {
           "coloraxis": "coloraxis",
           "geo": "geo",
           "hovertemplate": "total_cases=0.0823680802806564<br>country=%{location}<br>total_deaths=%{z}<extra></extra>",
           "ids": [
            0.0823680802806564
           ],
           "locationmode": "country names",
           "locations": [
            "Netherlands"
           ],
           "name": "",
           "type": "choropleth",
           "z": [
            0.0202915436454871
           ]
          }
         ],
         "name": "0.0823680802806564"
        },
        {
         "data": [
          {
           "coloraxis": "coloraxis",
           "geo": "geo",
           "hovertemplate": "total_cases=0.072596672206693<br>country=%{location}<br>total_deaths=%{z}<extra></extra>",
           "ids": [
            0.072596672206693
           ],
           "locationmode": "country names",
           "locations": [
            "Iran"
           ],
           "name": "",
           "type": "choropleth",
           "z": [
            0.1277646113854722
           ]
          }
         ],
         "name": "0.072596672206693"
        },
        {
         "data": [
          {
           "coloraxis": "coloraxis",
           "geo": "geo",
           "hovertemplate": "total_cases=0.0707146768420728<br>country=%{location}<br>total_deaths=%{z}<extra></extra>",
           "ids": [
            0.0707146768420728
           ],
           "locationmode": "country names",
           "locations": [
            "Mexico"
           ],
           "name": "",
           "type": "choropleth",
           "z": [
            0.2932189401863302
           ]
          }
         ],
         "name": "0.0707146768420728"
        },
        {
         "data": [
          {
           "coloraxis": "coloraxis",
           "geo": "geo",
           "hovertemplate": "total_cases=0.064592006499697<br>country=%{location}<br>total_deaths=%{z}<extra></extra>",
           "ids": [
            0.064592006499697
           ],
           "locationmode": "country names",
           "locations": [
            "Indonesia"
           ],
           "name": "",
           "type": "choropleth",
           "z": [
            0.1419472432222501
           ]
          }
         ],
         "name": "0.064592006499697"
        },
        {
         "data": [
          {
           "coloraxis": "coloraxis",
           "geo": "geo",
           "hovertemplate": "total_cases=0.0612323657827065<br>country=%{location}<br>total_deaths=%{z}<extra></extra>",
           "ids": [
            0.0612323657827065
           ],
           "locationmode": "country names",
           "locations": [
            "Poland"
           ],
           "name": "",
           "type": "choropleth",
           "z": [
            0.1048038943099118
           ]
          }
         ],
         "name": "0.0612323657827065"
        },
        {
         "data": [
          {
           "coloraxis": "coloraxis",
           "geo": "geo",
           "hovertemplate": "total_cases=0.0610028387036937<br>country=%{location}<br>total_deaths=%{z}<extra></extra>",
           "ids": [
            0.0610028387036937
           ],
           "locationmode": "country names",
           "locations": [
            "Colombia"
           ],
           "name": "",
           "type": "choropleth",
           "z": [
            0.1257671446287739
           ]
          }
         ],
         "name": "0.0610028387036937"
        },
        {
         "data": [
          {
           "coloraxis": "coloraxis",
           "geo": "geo",
           "hovertemplate": "total_cases=0.0554740730372901<br>country=%{location}<br>total_deaths=%{z}<extra></extra>",
           "ids": [
            0.0554740730372901
           ],
           "locationmode": "country names",
           "locations": [
            "Austria"
           ],
           "name": "",
           "type": "choropleth",
           "z": [
            0.0191440815227705
           ]
          }
         ],
         "name": "0.0554740730372901"
        },
        {
         "data": [
          {
           "coloraxis": "coloraxis",
           "geo": "geo",
           "hovertemplate": "total_cases=0.0547837643009113<br>country=%{location}<br>total_deaths=%{z}<extra></extra>",
           "ids": [
            0.0547837643009113
           ],
           "locationmode": "country names",
           "locations": [
            "Greece"
           ],
           "name": "",
           "type": "choropleth",
           "z": [
            0.0314492887941497
           ]
          }
         ],
         "name": "0.0547837643009113"
        },
        {
         "data": [
          {
           "coloraxis": "coloraxis",
           "geo": "geo",
           "hovertemplate": "total_cases=0.05339798352457<br>country=%{location}<br>total_deaths=%{z}<extra></extra>",
           "ids": [
            0.05339798352457
           ],
           "locationmode": "country names",
           "locations": [
            "Portugal"
           ],
           "name": "",
           "type": "choropleth",
           "z": [
            0.0229686610441022
           ]
          }
         ],
         "name": "0.05339798352457"
        },
        {
         "data": [
          {
           "coloraxis": "coloraxis",
           "geo": "geo",
           "hovertemplate": "total_cases=0.0515382729014395<br>country=%{location}<br>total_deaths=%{z}<extra></extra>",
           "ids": [
            0.0515382729014395
           ],
           "locationmode": "country names",
           "locations": [
            "Ukraine"
           ],
           "name": "",
           "type": "choropleth",
           "z": [
            0.0979932652800028
           ]
          }
         ],
         "name": "0.0515382729014395"
        },
        {
         "data": [
          {
           "coloraxis": "coloraxis",
           "geo": "geo",
           "hovertemplate": "total_cases=0.049127931460811<br>country=%{location}<br>total_deaths=%{z}<extra></extra>",
           "ids": [
            0.049127931460811
           ],
           "locationmode": "country names",
           "locations": [
            "Chile"
           ],
           "name": "",
           "type": "choropleth",
           "z": [
            0.0563245022883042
           ]
          }
         ],
         "name": "0.049127931460811"
        },
        {
         "data": [
          {
           "coloraxis": "coloraxis",
           "geo": "geo",
           "hovertemplate": "total_cases=0.0483372358183245<br>country=%{location}<br>total_deaths=%{z}<extra></extra>",
           "ids": [
            0.0483372358183245
           ],
           "locationmode": "country names",
           "locations": [
            "Malaysia"
           ],
           "name": "",
           "type": "choropleth",
           "z": [
            0.0326073428749222
           ]
          }
         ],
         "name": "0.0483372358183245"
        },
        {
         "data": [
          {
           "coloraxis": "coloraxis",
           "geo": "geo",
           "hovertemplate": "total_cases=0.0459340539027396<br>country=%{location}<br>total_deaths=%{z}<extra></extra>",
           "ids": [
            0.0459340539027396
           ],
           "locationmode": "country names",
           "locations": [
            "Israel"
           ],
           "name": "",
           "type": "choropleth",
           "z": [
            0.0107623120479109
           ]
          }
         ],
         "name": "0.0459340539027396"
        },
        {
         "data": [
          {
           "coloraxis": "coloraxis",
           "geo": "geo",
           "hovertemplate": "total_cases=0.0458056815073191<br>country=%{location}<br>total_deaths=%{z}<extra></extra>",
           "ids": [
            0.0458056815073191
           ],
           "locationmode": "country names",
           "locations": [
            "DPRK"
           ],
           "name": "",
           "type": "choropleth",
           "z": [
            0.00006531707467771761
           ]
          }
         ],
         "name": "0.0458056815073191"
        },
        {
         "data": [
          {
           "coloraxis": "coloraxis",
           "geo": "geo",
           "hovertemplate": "total_cases=0.0453658505780635<br>country=%{location}<br>total_deaths=%{z}<extra></extra>",
           "ids": [
            0.0453658505780635
           ],
           "locationmode": "country names",
           "locations": [
            "Thailand"
           ],
           "name": "",
           "type": "choropleth",
           "z": [
            0.029891388296769
           ]
          }
         ],
         "name": "0.0453658505780635"
        },
        {
         "data": [
          {
           "coloraxis": "coloraxis",
           "geo": "geo",
           "hovertemplate": "total_cases=0.045025293277563<br>country=%{location}<br>total_deaths=%{z}<extra></extra>",
           "ids": [
            0.045025293277563
           ],
           "locationmode": "country names",
           "locations": [
            "Belgium"
           ],
           "name": "",
           "type": "choropleth",
           "z": [
            0.0296195280400022
           ]
          }
         ],
         "name": "0.045025293277563"
        },
        {
         "data": [
          {
           "coloraxis": "coloraxis",
           "geo": "geo",
           "hovertemplate": "total_cases=0.0440513675383833<br>country=%{location}<br>total_deaths=%{z}<extra></extra>",
           "ids": [
            0.0440513675383833
           ],
           "locationmode": "country names",
           "locations": [
            "Czechia"
           ],
           "name": "",
           "type": "choropleth",
           "z": [
            0.0373472441049133
           ]
          }
         ],
         "name": "0.0440513675383833"
        },
        {
         "data": [
          {
           "coloraxis": "coloraxis",
           "geo": "geo",
           "hovertemplate": "total_cases=0.0436697533368953<br>country=%{location}<br>total_deaths=%{z}<extra></extra>",
           "ids": [
            0.0436697533368953
           ],
           "locationmode": "country names",
           "locations": [
            "Canada"
           ],
           "name": "",
           "type": "choropleth",
           "z": [
            0.0444685705711272
           ]
          }
         ],
         "name": "0.0436697533368953"
        },
        {
         "data": [
          {
           "coloraxis": "coloraxis",
           "geo": "geo",
           "hovertemplate": "total_cases=0.0430110482412252<br>country=%{location}<br>total_deaths=%{z}<extra></extra>",
           "ids": [
            0.0430110482412252
           ],
           "locationmode": "country names",
           "locations": [
            "Peru"
           ],
           "name": "",
           "type": "choropleth",
           "z": [
            0.1932423307603702
           ]
          }
         ],
         "name": "0.0430110482412252"
        },
        {
         "data": [
          {
           "coloraxis": "coloraxis",
           "geo": "geo",
           "hovertemplate": "total_cases=0.0420904830372233<br>country=%{location}<br>total_deaths=%{z}<extra></extra>",
           "ids": [
            0.0420904830372233
           ],
           "locationmode": "country names",
           "locations": [
            "Switzerland"
           ],
           "name": "",
           "type": "choropleth",
           "z": [
            0.0127562481519239
           ]
          }
         ],
         "name": "0.0420904830372233"
        },
        {
         "data": [
          {
           "coloraxis": "coloraxis",
           "geo": "geo",
           "hovertemplate": "total_cases=0.0390937803344085<br>country=%{location}<br>total_deaths=%{z}<extra></extra>",
           "ids": [
            0.0390937803344085
           ],
           "locationmode": "country names",
           "locations": [
            "Philippines"
           ],
           "name": "",
           "type": "choropleth",
           "z": [
            0.058081001999232
           ]
          }
         ],
         "name": "0.0390937803344085"
        },
        {
         "data": [
          {
           "coloraxis": "coloraxis",
           "geo": "geo",
           "hovertemplate": "total_cases=0.0389259441762811<br>country=%{location}<br>total_deaths=%{z}<extra></extra>",
           "ids": [
            0.0389259441762811
           ],
           "locationmode": "country names",
           "locations": [
            "South Africa"
           ],
           "name": "",
           "type": "choropleth",
           "z": [
            0.0905568280616275
           ]
          }
         ],
         "name": "0.0389259441762811"
        },
        {
         "data": [
          {
           "coloraxis": "coloraxis",
           "geo": "geo",
           "hovertemplate": "total_cases=0.0319107612997459<br>country=%{location}<br>total_deaths=%{z}<extra></extra>",
           "ids": [
            0.0319107612997459
           ],
           "locationmode": "country names",
           "locations": [
            "Romania"
           ],
           "name": "",
           "type": "choropleth",
           "z": [
            0.0596468464651546
           ]
          }
         ],
         "name": "0.0319107612997459"
        },
        {
         "data": [
          {
           "coloraxis": "coloraxis",
           "geo": "geo",
           "hovertemplate": "total_cases=0.0304542970087312<br>country=%{location}<br>total_deaths=%{z}<extra></extra>",
           "ids": [
            0.0304542970087312
           ],
           "locationmode": "country names",
           "locations": [
            "Denmark"
           ],
           "name": "",
           "type": "choropleth",
           "z": [
            0.0071892915304055
           ]
          }
         ],
         "name": "0.0304542970087312"
        },
        {
         "data": [
          {
           "coloraxis": "coloraxis",
           "geo": "geo",
           "hovertemplate": "total_cases=0.0276138370240269<br>country=%{location}<br>total_deaths=%{z}<extra></extra>",
           "ids": [
            0.0276138370240269
           ],
           "locationmode": "country names",
           "locations": [
            "Hong Kong"
           ],
           "name": "",
           "type": "choropleth",
           "z": [
            0.0117906146424993
           ]
          }
         ],
         "name": "0.0276138370240269"
        },
        {
         "data": [
          {
           "coloraxis": "coloraxis",
           "geo": "geo",
           "hovertemplate": "total_cases=0.0258496571144142<br>country=%{location}<br>total_deaths=%{z}<extra></extra>",
           "ids": [
            0.0258496571144142
           ],
           "locationmode": "country names",
           "locations": [
            "Sweden"
           ],
           "name": "",
           "type": "choropleth",
           "z": [
            0.0205183880805165
           ]
          }
         ],
         "name": "0.0258496571144142"
        },
        {
         "data": [
          {
           "coloraxis": "coloraxis",
           "geo": "geo",
           "hovertemplate": "total_cases=0.0237165793179018<br>country=%{location}<br>total_deaths=%{z}<extra></extra>",
           "ids": [
            0.0237165793179018
           ],
           "locationmode": "country names",
           "locations": [
            "Serbia"
           ],
           "name": "",
           "type": "choropleth",
           "z": [
            0.0156240207955443
           ]
          }
         ],
         "name": "0.0237165793179018"
        },
        {
         "data": [
          {
           "coloraxis": "coloraxis",
           "geo": "geo",
           "hovertemplate": "total_cases=0.0236623262413983<br>country=%{location}<br>total_deaths=%{z}<extra></extra>",
           "ids": [
            0.0236623262413983
           ],
           "locationmode": "country names",
           "locations": [
            "Iraq"
           ],
           "name": "",
           "type": "choropleth",
           "z": [
            0.0223975779722578
           ]
          }
         ],
         "name": "0.0236623262413983"
        },
        {
         "data": [
          {
           "coloraxis": "coloraxis",
           "geo": "geo",
           "hovertemplate": "total_cases=0.0212780412491524<br>country=%{location}<br>total_deaths=%{z}<extra></extra>",
           "ids": [
            0.0212780412491524
           ],
           "locationmode": "country names",
           "locations": [
            "Singapore"
           ],
           "name": "",
           "type": "choropleth",
           "z": [
            0.0015199459810139
           ]
          }
         ],
         "name": "0.0212780412491524"
        },
        {
         "data": [
          {
           "coloraxis": "coloraxis",
           "geo": "geo",
           "hovertemplate": "total_cases=0.0210413450478774<br>country=%{location}<br>total_deaths=%{z}<extra></extra>",
           "ids": [
            0.0210413450478774
           ],
           "locationmode": "country names",
           "locations": [
            "Hungary"
           ],
           "name": "",
           "type": "choropleth",
           "z": [
            0.0429653951903683
           ]
          }
         ],
         "name": "0.0210413450478774"
        },
        {
         "data": [
          {
           "coloraxis": "coloraxis",
           "geo": "geo",
           "hovertemplate": "total_cases=0.0209444899181986<br>country=%{location}<br>total_deaths=%{z}<extra></extra>",
           "ids": [
            0.0209444899181986
           ],
           "locationmode": "country names",
           "locations": [
            "New Zealand"
           ],
           "name": "",
           "type": "choropleth",
           "z": [
            0.0033373494507628
           ]
          }
         ],
         "name": "0.0209444899181986"
        },
        {
         "data": [
          {
           "coloraxis": "coloraxis",
           "geo": "geo",
           "hovertemplate": "total_cases=0.0195548222683417<br>country=%{location}<br>total_deaths=%{z}<extra></extra>",
           "ids": [
            0.0195548222683417
           ],
           "locationmode": "country names",
           "locations": [
            "Bangladesh"
           ],
           "name": "",
           "type": "choropleth",
           "z": [
            0.0259873690900184
           ]
          }
         ],
         "name": "0.0195548222683417"
        },
        {
         "data": [
          {
           "coloraxis": "coloraxis",
           "geo": "geo",
           "hovertemplate": "total_cases=0.0178593488463797<br>country=%{location}<br>total_deaths=%{z}<extra></extra>",
           "ids": [
            0.0178593488463797
           ],
           "locationmode": "country names",
           "locations": [
            "Slovakia"
           ],
           "name": "",
           "type": "choropleth",
           "z": [
            0.0184882627864793
           ]
          }
         ],
         "name": "0.0178593488463797"
        },
        {
         "data": [
          {
           "coloraxis": "coloraxis",
           "geo": "geo",
           "hovertemplate": "total_cases=0.0174110339759195<br>country=%{location}<br>total_deaths=%{z}<extra></extra>",
           "ids": [
            0.0174110339759195
           ],
           "locationmode": "country names",
           "locations": [
            "Georgia"
           ],
           "name": "",
           "type": "choropleth",
           "z": [
            0.0149399568377709
           ]
          }
         ],
         "name": "0.0174110339759195"
        },
        {
         "data": [
          {
           "coloraxis": "coloraxis",
           "geo": "geo",
           "hovertemplate": "total_cases=0.0167662640415944<br>country=%{location}<br>total_deaths=%{z}<extra></extra>",
           "ids": [
            0.0167662640415944
           ],
           "locationmode": "country names",
           "locations": [
            "Jordan"
           ],
           "name": "",
           "type": "choropleth",
           "z": [
            0.0124649693053882
           ]
          }
         ],
         "name": "0.0167662640415944"
        },
        {
         "data": [
          {
           "coloraxis": "coloraxis",
           "geo": "geo",
           "hovertemplate": "total_cases=0.016317651657359<br>country=%{location}<br>total_deaths=%{z}<extra></extra>",
           "ids": [
            0.016317651657359
           ],
           "locationmode": "country names",
           "locations": [
            "Ireland"
           ],
           "name": "",
           "type": "choropleth",
           "z": [
            0.0074690957557141
           ]
          }
         ],
         "name": "0.016317651657359"
        },
        {
         "data": [
          {
           "coloraxis": "coloraxis",
           "geo": "geo",
           "hovertemplate": "total_cases=0.0151281723893857<br>country=%{location}<br>total_deaths=%{z}<extra></extra>",
           "ids": [
            0.0151281723893857
           ],
           "locationmode": "country names",
           "locations": [
            "Pakistan"
           ],
           "name": "",
           "type": "choropleth",
           "z": [
            0.0270447995692603
           ]
          }
         ],
         "name": "0.0151281723893857"
        },
        {
         "data": [
          {
           "coloraxis": "coloraxis",
           "geo": "geo",
           "hovertemplate": "total_cases=0.0141832590419042<br>country=%{location}<br>total_deaths=%{z}<extra></extra>",
           "ids": [
            0.0141832590419042
           ],
           "locationmode": "country names",
           "locations": [
            "Norway"
           ],
           "name": "",
           "type": "choropleth",
           "z": [
            0.0045121741317904
           ]
          }
         ],
         "name": "0.0141832590419042"
        },
        {
         "data": [
          {
           "coloraxis": "coloraxis",
           "geo": "geo",
           "hovertemplate": "total_cases=0.0139986373485203<br>country=%{location}<br>total_deaths=%{z}<extra></extra>",
           "ids": [
            0.0139986373485203
           ],
           "locationmode": "country names",
           "locations": [
            "Finland"
           ],
           "name": "",
           "type": "choropleth",
           "z": [
            0.0076253271370378
           ]
          }
         ],
         "name": "0.0139986373485203"
        },
        {
         "data": [
          {
           "coloraxis": "coloraxis",
           "geo": "geo",
           "hovertemplate": "total_cases=0.0134928447361214<br>country=%{location}<br>total_deaths=%{z}<extra></extra>",
           "ids": [
            0.0134928447361214
           ],
           "locationmode": "country names",
           "locations": [
            "Kazakhstan"
           ],
           "name": "",
           "type": "choropleth",
           "z": [
            0.0120880721312343
           ]
          }
         ],
         "name": "0.0134928447361214"
        },
        {
         "data": [
          {
           "coloraxis": "coloraxis",
           "geo": "geo",
           "hovertemplate": "total_cases=0.0126860545581144<br>country=%{location}<br>total_deaths=%{z}<extra></extra>",
           "ids": [
            0.0126860545581144
           ],
           "locationmode": "country names",
           "locations": [
            "Slovenia"
           ],
           "name": "",
           "type": "choropleth",
           "z": [
            0.0062280713368375
           ]
          }
         ],
         "name": "0.0126860545581144"
        },
        {
         "data": [
          {
           "coloraxis": "coloraxis",
           "geo": "geo",
           "hovertemplate": "total_cases=0.0124462488580269<br>country=%{location}<br>total_deaths=%{z}<extra></extra>",
           "ids": [
            0.0124462488580269
           ],
           "locationmode": "country names",
           "locations": [
            "Lithuania"
           ],
           "name": "",
           "type": "choropleth",
           "z": [
            0.0084250199702542
           ]
          }
         ],
         "name": "0.0124462488580269"
        },
        {
         "data": [
          {
           "coloraxis": "coloraxis",
           "geo": "geo",
           "hovertemplate": "total_cases=0.0124324384605232<br>country=%{location}<br>total_deaths=%{z}<extra></extra>",
           "ids": [
            0.0124324384605232
           ],
           "locationmode": "country names",
           "locations": [
            "Bulgaria"
           ],
           "name": "",
           "type": "choropleth",
           "z": [
            0.0336991972178456
           ]
          }
         ],
         "name": "0.0124324384605232"
        },
        {
         "data": [
          {
           "coloraxis": "coloraxis",
           "geo": "geo",
           "hovertemplate": "total_cases=0.0122099173510571<br>country=%{location}<br>total_deaths=%{z}<extra></extra>",
           "ids": [
            0.0122099173510571
           ],
           "locationmode": "country names",
           "locations": [
            "Morocco"
           ],
           "name": "",
           "type": "choropleth",
           "z": [
            0.014383879039839
           ]
          }
         ],
         "name": "0.0122099173510571"
        },
        {
         "data": [
          {
           "coloraxis": "coloraxis",
           "geo": "geo",
           "hovertemplate": "total_cases=0.0121651943125807<br>country=%{location}<br>total_deaths=%{z}<extra></extra>",
           "ids": [
            0.0121651943125807
           ],
           "locationmode": "country names",
           "locations": [
            "Croatia"
           ],
           "name": "",
           "type": "choropleth",
           "z": [
            0.0157793695136967
           ]
          }
         ],
         "name": "0.0121651943125807"
        },
        {
         "data": [
          {
           "coloraxis": "coloraxis",
           "geo": "geo",
           "hovertemplate": "total_cases=0.0117914690247467<br>country=%{location}<br>total_deaths=%{z}<extra></extra>",
           "ids": [
            0.0117914690247467
           ],
           "locationmode": "country names",
           "locations": [
            "Lebanon"
           ],
           "name": "",
           "type": "choropleth",
           "z": [
            0.0095239356185482
           ]
          }
         ],
         "name": "0.0117914690247467"
        },
        {
         "data": [
          {
           "coloraxis": "coloraxis",
           "geo": "geo",
           "hovertemplate": "total_cases=0.0117839256109608<br>country=%{location}<br>total_deaths=%{z}<extra></extra>",
           "ids": [
            0.0117839256109608
           ],
           "locationmode": "country names",
           "locations": [
            "Guatemala"
           ],
           "name": "",
           "type": "choropleth",
           "z": [
            0.0177468257225701
           ]
          }
         ],
         "name": "0.0117839256109608"
        },
        {
         "data": [
          {
           "coloraxis": "coloraxis",
           "geo": "geo",
           "hovertemplate": "total_cases=0.0114013132987429<br>country=%{location}<br>total_deaths=%{z}<extra></extra>",
           "ids": [
            0.0114013132987429
           ],
           "locationmode": "country names",
           "locations": [
            "Bolivia"
           ],
           "name": "",
           "type": "choropleth",
           "z": [
            0.019723991226328
           ]
          }
         ],
         "name": "0.0114013132987429"
        },
        {
         "data": [
          {
           "coloraxis": "coloraxis",
           "geo": "geo",
           "hovertemplate": "total_cases=0.0113839423331544<br>country=%{location}<br>total_deaths=%{z}<extra></extra>",
           "ids": [
            0.0113839423331544
           ],
           "locationmode": "country names",
           "locations": [
            "Costa Rica"
           ],
           "name": "",
           "type": "choropleth",
           "z": [
            0.0080834293229532
           ]
          }
         ],
         "name": "0.0113839423331544"
        },
        {
         "data": [
          {
           "coloraxis": "coloraxis",
           "geo": "geo",
           "hovertemplate": "total_cases=0.0110401699644373<br>country=%{location}<br>total_deaths=%{z}<extra></extra>",
           "ids": [
            0.0110401699644373
           ],
           "locationmode": "country names",
           "locations": [
            "Tunisia"
           ],
           "name": "",
           "type": "choropleth",
           "z": [
            0.0258690922250614
           ]
          }
         ],
         "name": "0.0110401699644373"
        },
        {
         "data": [
          {
           "coloraxis": "coloraxis",
           "geo": "geo",
           "hovertemplate": "total_cases=0.0106762626311872<br>country=%{location}<br>total_deaths=%{z}<extra></extra>",
           "ids": [
            0.0106762626311872
           ],
           "locationmode": "country names",
           "locations": [
            "Cuba"
           ],
           "name": "",
           "type": "choropleth",
           "z": [
            0.0075291168513639
           ]
          }
         ],
         "name": "0.0106762626311872"
        },
        {
         "data": [
          {
           "coloraxis": "coloraxis",
           "geo": "geo",
           "hovertemplate": "total_cases=0.0100889224527081<br>country=%{location}<br>total_deaths=%{z}<extra></extra>",
           "ids": [
            0.0100889224527081
           ],
           "locationmode": "country names",
           "locations": [
            "Ecuador"
           ],
           "name": "",
           "type": "choropleth",
           "z": [
            0.0317246797036017
           ]
          }
         ],
         "name": "0.0100889224527081"
        },
        {
         "data": [
          {
           "coloraxis": "coloraxis",
           "geo": "geo",
           "hovertemplate": "total_cases=0.0100713595427485<br>country=%{location}<br>total_deaths=%{z}<extra></extra>",
           "ids": [
            0.0100713595427485
           ],
           "locationmode": "country names",
           "locations": [
            "UAE"
           ],
           "name": "",
           "type": "choropleth",
           "z": [
            0.0020724931262605
           ]
          }
         ],
         "name": "0.0100713595427485"
        },
        {
         "data": [
          {
           "coloraxis": "coloraxis",
           "geo": "geo",
           "hovertemplate": "total_cases=0.0099110955900627<br>country=%{location}<br>total_deaths=%{z}<extra></extra>",
           "ids": [
            0.0099110955900627
           ],
           "locationmode": "country names",
           "locations": [
            "Uruguay"
           ],
           "name": "",
           "type": "choropleth",
           "z": [
            0.0067161840705777
           ]
          }
         ],
         "name": "0.0099110955900627"
        },
        {
         "data": [
          {
           "coloraxis": "coloraxis",
           "geo": "geo",
           "hovertemplate": "total_cases=0.0098822175594242<br>country=%{location}<br>total_deaths=%{z}<extra></extra>",
           "ids": [
            0.0098822175594242
           ],
           "locationmode": "country names",
           "locations": [
            "Panama"
           ],
           "name": "",
           "type": "choropleth",
           "z": [
            0.007587372620671
           ]
          }
         ],
         "name": "0.0098822175594242"
        },
        {
         "data": [
          {
           "coloraxis": "coloraxis",
           "geo": "geo",
           "hovertemplate": "total_cases=0.0096727102783216<br>country=%{location}<br>total_deaths=%{z}<extra></extra>",
           "ids": [
            0.0096727102783216
           ],
           "locationmode": "country names",
           "locations": [
            "Mongolia"
           ],
           "name": "",
           "type": "choropleth",
           "z": [
            0.0019233230503073
           ]
          }
         ],
         "name": "0.0096727102783216"
        },
        {
         "data": [
          {
           "coloraxis": "coloraxis",
           "geo": "geo",
           "hovertemplate": "total_cases=0.0096077467059082<br>country=%{location}<br>total_deaths=%{z}<extra></extra>",
           "ids": [
            0.0096077467059082
           ],
           "locationmode": "country names",
           "locations": [
            "Nepal"
           ],
           "name": "",
           "type": "choropleth",
           "z": [
            0.0106096113192725
           ]
          }
         ],
         "name": "0.0096077467059082"
        },
        {
         "data": [
          {
           "coloraxis": "coloraxis",
           "geo": "geo",
           "hovertemplate": "total_cases=0.009539942356802<br>country=%{location}<br>total_deaths=%{z}<extra></extra>",
           "ids": [
            0.009539942356802
           ],
           "locationmode": "country names",
           "locations": [
            "Belarus"
           ],
           "name": "",
           "type": "choropleth",
           "z": [
            0.0062827964534593
           ]
          }
         ],
         "name": "0.009539942356802"
        },
        {
         "data": [
          {
           "coloraxis": "coloraxis",
           "geo": "geo",
           "hovertemplate": "total_cases=0.0093606471197173<br>country=%{location}<br>total_deaths=%{z}<extra></extra>",
           "ids": [
            0.0093606471197173
           ],
           "locationmode": "country names",
           "locations": [
            "Latvia"
           ],
           "name": "",
           "type": "choropleth",
           "z": [
            0.0054883995992709
           ]
          }
         ],
         "name": "0.0093606471197173"
        },
        {
         "data": [
          {
           "coloraxis": "coloraxis",
           "geo": "geo",
           "hovertemplate": "total_cases=0.0079460842849231<br>country=%{location}<br>total_deaths=%{z}<extra></extra>",
           "ids": [
            0.0079460842849231
           ],
           "locationmode": "country names",
           "locations": [
            "Saudi Arabia"
           ],
           "name": "",
           "type": "choropleth",
           "z": [
            0.0084506172022225
           ]
          }
         ],
         "name": "0.0079460842849231"
        },
        {
         "data": [
          {
           "coloraxis": "coloraxis",
           "geo": "geo",
           "hovertemplate": "total_cases=0.0079459115349891<br>country=%{location}<br>total_deaths=%{z}<extra></extra>",
           "ids": [
            0.0079459115349891
           ],
           "locationmode": "country names",
           "locations": [
            "Azerbaijan"
           ],
           "name": "",
           "type": "choropleth",
           "z": [
            0.0089016580827673
           ]
          }
         ],
         "name": "0.0079459115349891"
        },
        {
         "data": [
          {
           "coloraxis": "coloraxis",
           "geo": "geo",
           "hovertemplate": "total_cases=0.0077377670589216<br>country=%{location}<br>total_deaths=%{z}<extra></extra>",
           "ids": [
            0.0077377670589216
           ],
           "locationmode": "country names",
           "locations": [
            "Paraguay"
           ],
           "name": "",
           "type": "choropleth",
           "z": [
            0.0174943840555724
           ]
          }
         ],
         "name": "0.0077377670589216"
        },
        {
         "data": [
          {
           "coloraxis": "coloraxis",
           "geo": "geo",
           "hovertemplate": "total_cases=0.0067223429467008<br>country=%{location}<br>total_deaths=%{z}<extra></extra>",
           "ids": [
            0.0067223429467008
           ],
           "locationmode": "country names",
           "locations": [
            "Bahrain"
           ],
           "name": "",
           "type": "choropleth",
           "z": [
            0.0013619492733475
           ]
          }
         ],
         "name": "0.0067223429467008"
        },
        {
         "data": [
          {
           "coloraxis": "coloraxis",
           "geo": "geo",
           "hovertemplate": "total_cases=0.0064491773149086<br>country=%{location}<br>total_deaths=%{z}<extra></extra>",
           "ids": [
            0.0064491773149086
           ],
           "locationmode": "country names",
           "locations": [
            "Sri Lanka"
           ],
           "name": "",
           "type": "choropleth",
           "z": [
            0.0148534558469815
           ]
          }
         ],
         "name": "0.0064491773149086"
        },
        {
         "data": [
          {
           "coloraxis": "coloraxis",
           "geo": "geo",
           "hovertemplate": "total_cases=0.0063615451122632<br>country=%{location}<br>total_deaths=%{z}<extra></extra>",
           "ids": [
            0.0063615451122632
           ],
           "locationmode": "country names",
           "locations": [
            "Kuwait"
           ],
           "name": "",
           "type": "choropleth",
           "z": [
            0.0022684443502937
           ]
          }
         ],
         "name": "0.0063615451122632"
        },
        {
         "data": [
          {
           "coloraxis": "coloraxis",
           "geo": "geo",
           "hovertemplate": "total_cases=0.0063350279973898<br>country=%{location}<br>total_deaths=%{z}<extra></extra>",
           "ids": [
            0.0063350279973898
           ],
           "locationmode": "country names",
           "locations": [
            "Dominican Republic"
           ],
           "name": "",
           "type": "choropleth",
           "z": [
            0.0038695953430691
           ]
          }
         ],
         "name": "0.0063350279973898"
        },
        {
         "data": [
          {
           "coloraxis": "coloraxis",
           "geo": "geo",
           "hovertemplate": "total_cases=0.0061677292835016<br>country=%{location}<br>total_deaths=%{z}<extra></extra>",
           "ids": [
            0.0061677292835016
           ],
           "locationmode": "country names",
           "locations": [
            "Cyprus"
           ],
           "name": "",
           "type": "choropleth",
           "z": [
            0.0011359875014894
           ]
          }
         ],
         "name": "0.0061677292835016"
        },
        {
         "data": [
          {
           "coloraxis": "coloraxis",
           "geo": "geo",
           "hovertemplate": "total_cases=0.0060828610798007<br>country=%{location}<br>total_deaths=%{z}<extra></extra>",
           "ids": [
            0.0060828610798007
           ],
           "locationmode": "country names",
           "locations": [
            "Myanmar"
           ],
           "name": "",
           "type": "choropleth",
           "z": [
            0.0172031052090367
           ]
          }
         ],
         "name": "0.0060828610798007"
        },
        {
         "data": [
          {
           "coloraxis": "coloraxis",
           "geo": "geo",
           "hovertemplate": "total_cases=0.0059599015156464<br>country=%{location}<br>total_deaths=%{z}<extra></extra>",
           "ids": [
            0.0059599015156464
           ],
           "locationmode": "country names",
           "locations": [
            "Palestine"
           ],
           "name": "",
           "type": "choropleth",
           "z": [
            0.004769911777816
           ]
          }
         ],
         "name": "0.0059599015156464"
        },
        {
         "data": [
          {
           "coloraxis": "coloraxis",
           "geo": "geo",
           "hovertemplate": "total_cases=0.0058915981111752<br>country=%{location}<br>total_deaths=%{z}<extra></extra>",
           "ids": [
            0.0058915981111752
           ],
           "locationmode": "country names",
           "locations": [
            "Estonia"
           ],
           "name": "",
           "type": "choropleth",
           "z": [
            0.0025703151548853
           ]
          }
         ],
         "name": "0.0058915981111752"
        },
        {
         "data": [
          {
           "coloraxis": "coloraxis",
           "geo": "geo",
           "hovertemplate": "total_cases=0.0057455476391725<br>country=%{location}<br>total_deaths=%{z}<extra></extra>",
           "ids": [
            0.0057455476391725
           ],
           "locationmode": "country names",
           "locations": [
            "Moldova"
           ],
           "name": "",
           "type": "choropleth",
           "z": [
            0.010550472886794
           ]
          }
         ],
         "name": "0.0057455476391725"
        },
        {
         "data": [
          {
           "coloraxis": "coloraxis",
           "geo": "geo",
           "hovertemplate": "total_cases=0.0052936530061905<br>country=%{location}<br>total_deaths=%{z}<extra></extra>",
           "ids": [
            0.0052936530061905
           ],
           "locationmode": "country names",
           "locations": [
            "Venezuela"
           ],
           "name": "",
           "type": "choropleth",
           "z": [
            0.0051591662363683
           ]
          }
         ],
         "name": "0.0052936530061905"
        },
        {
         "data": [
          {
           "coloraxis": "coloraxis",
           "geo": "geo",
           "hovertemplate": "total_cases=0.0049487097768093<br>country=%{location}<br>total_deaths=%{z}<extra></extra>",
           "ids": [
            0.0049487097768093
           ],
           "locationmode": "country names",
           "locations": [
            "Egypt"
           ],
           "name": "",
           "type": "choropleth",
           "z": [
            0.0217249886357116
           ]
          }
         ],
         "name": "0.0049487097768093"
        },
        {
         "data": [
          {
           "coloraxis": "coloraxis",
           "geo": "geo",
           "hovertemplate": "total_cases=0.004867296571789<br>country=%{location}<br>total_deaths=%{z}<extra></extra>",
           "ids": [
            0.004867296571789
           ],
           "locationmode": "country names",
           "locations": [
            "Libya"
           ],
           "name": "",
           "type": "choropleth",
           "z": [
            0.0056817028337901
           ]
          }
         ],
         "name": "0.004867296571789"
        },
        {
         "data": [
          {
           "coloraxis": "coloraxis",
           "geo": "geo",
           "hovertemplate": "total_cases=0.0048302513081584<br>country=%{location}<br>total_deaths=%{z}<extra></extra>",
           "ids": [
            0.0048302513081584
           ],
           "locationmode": "country names",
           "locations": [
            "China"
           ],
           "name": "",
           "type": "choropleth",
           "z": [
            0.0046534002392017
           ]
          }
         ],
         "name": "0.0048302513081584"
        },
        {
         "data": [
          {
           "coloraxis": "coloraxis",
           "geo": "geo",
           "hovertemplate": "total_cases=0.0047940601969794<br>country=%{location}<br>total_deaths=%{z}<extra></extra>",
           "ids": [
            0.0047940601969794
           ],
           "locationmode": "country names",
           "locations": [
            "Ethiopia"
           ],
           "name": "",
           "type": "choropleth",
           "z": [
            0.0066835255332388
           ]
          }
         ],
         "name": "0.0047940601969794"
        },
        {
         "data": [
          {
           "coloraxis": "coloraxis",
           "geo": "geo",
           "hovertemplate": "total_cases=0.004726908458735<br>country=%{location}<br>total_deaths=%{z}<extra></extra>",
           "ids": [
            0.004726908458735
           ],
           "locationmode": "country names",
           "locations": [
            "Qatar"
           ],
           "name": "",
           "type": "choropleth",
           "z": [
            0.0006055069355258
           ]
          }
         ],
         "name": "0.004726908458735"
        },
        {
         "data": [
          {
           "coloraxis": "coloraxis",
           "geo": "geo",
           "hovertemplate": "total_cases=0.0046631925247341<br>country=%{location}<br>total_deaths=%{z}<extra></extra>",
           "ids": [
            0.0046631925247341
           ],
           "locationmode": "country names",
           "locations": [
            "Réunion"
           ],
           "name": "",
           "type": "choropleth",
           "z": [
            0.0008111674544435
           ]
          }
         ],
         "name": "0.0046631925247341"
        },
        {
         "data": [
          {
           "coloraxis": "coloraxis",
           "geo": "geo",
           "hovertemplate": "total_cases=0.0045179098302159<br>country=%{location}<br>total_deaths=%{z}<extra></extra>",
           "ids": [
            0.0045179098302159
           ],
           "locationmode": "country names",
           "locations": [
            "Honduras"
           ],
           "name": "",
           "type": "choropleth",
           "z": [
            0.0098010918543429
           ]
          }
         ],
         "name": "0.0045179098302159"
        },
        {
         "data": [
          {
           "coloraxis": "coloraxis",
           "geo": "geo",
           "hovertemplate": "total_cases=0.004280388268145<br>country=%{location}<br>total_deaths=%{z}<extra></extra>",
           "ids": [
            0.004280388268145
           ],
           "locationmode": "country names",
           "locations": [
            "Armenia"
           ],
           "name": "",
           "type": "choropleth",
           "z": [
            0.0076941748644008
           ]
          }
         ],
         "name": "0.004280388268145"
        },
        {
         "data": [
          {
           "coloraxis": "coloraxis",
           "geo": "geo",
           "hovertemplate": "total_cases=0.0038521219872507<br>country=%{location}<br>total_deaths=%{z}<extra></extra>",
           "ids": [
            0.0038521219872507
           ],
           "locationmode": "country names",
           "locations": [
            "Bosnia and Herzegovina"
           ],
           "name": "",
           "type": "choropleth",
           "z": [
            0.0143476898498148
           ]
          }
         ],
         "name": "0.0038521219872507"
        },
        {
         "data": [
          {
           "coloraxis": "coloraxis",
           "geo": "geo",
           "hovertemplate": "total_cases=0.0038335513693426<br>country=%{location}<br>total_deaths=%{z}<extra></extra>",
           "ids": [
            0.0038335513693426
           ],
           "locationmode": "country names",
           "locations": [
            "Oman"
           ],
           "name": "",
           "type": "choropleth",
           "z": [
            0.0040849651568713
           ]
          }
         ],
         "name": "0.0038335513693426"
        },
        {
         "data": [
          {
           "coloraxis": "coloraxis",
           "geo": "geo",
           "hovertemplate": "total_cases=0.0033246972442239<br>country=%{location}<br>total_deaths=%{z}<extra></extra>",
           "ids": [
            0.0033246972442239
           ],
           "locationmode": "country names",
           "locations": [
            "North Macedonia"
           ],
           "name": "",
           "type": "choropleth",
           "z": [
            0.008507107645187
           ]
          }
         ],
         "name": "0.0033246972442239"
        },
        {
         "data": [
          {
           "coloraxis": "coloraxis",
           "geo": "geo",
           "hovertemplate": "total_cases=0.0032899745074841<br>country=%{location}<br>total_deaths=%{z}<extra></extra>",
           "ids": [
            0.0032899745074841
           ],
           "locationmode": "country names",
           "locations": [
            "Kenya"
           ],
           "name": "",
           "type": "choropleth",
           "z": [
            0.005020588118471
           ]
          }
         ],
         "name": "0.0032899745074841"
        },
        {
         "data": [
          {
           "coloraxis": "coloraxis",
           "geo": "geo",
           "hovertemplate": "total_cases=0.0032703290010976<br>country=%{location}<br>total_deaths=%{z}<extra></extra>",
           "ids": [
            0.0032703290010976
           ],
           "locationmode": "country names",
           "locations": [
            "Zambia"
           ],
           "name": "",
           "type": "choropleth",
           "z": [
            0.003572137854334
           ]
          }
         ],
         "name": "0.0032703290010976"
        },
        {
         "data": [
          {
           "coloraxis": "coloraxis",
           "geo": "geo",
           "hovertemplate": "total_cases=0.0032070257474947<br>country=%{location}<br>total_deaths=%{z}<extra></extra>",
           "ids": [
            0.0032070257474947
           ],
           "locationmode": "country names",
           "locations": [
            "Albania"
           ],
           "name": "",
           "type": "choropleth",
           "z": [
            0.0031731741008972
           ]
          }
         ],
         "name": "0.0032070257474947"
        },
        {
         "data": [
          {
           "coloraxis": "coloraxis",
           "geo": "geo",
           "hovertemplate": "total_cases=0.0031596154878223<br>country=%{location}<br>total_deaths=%{z}<extra></extra>",
           "ids": [
            0.0031596154878223
           ],
           "locationmode": "country names",
           "locations": [
            "Botswana"
           ],
           "name": "",
           "type": "choropleth",
           "z": [
            0.0024714568796974
           ]
          }
         ],
         "name": "0.0031596154878223"
        },
        {
         "data": [
          {
           "coloraxis": "coloraxis",
           "geo": "geo",
           "hovertemplate": "total_cases=0.0028575910198288<br>country=%{location}<br>total_deaths=%{z}<extra></extra>",
           "ids": [
            0.0028575910198288
           ],
           "locationmode": "country names",
           "locations": [
            "Luxembourg"
           ],
           "name": "",
           "type": "choropleth",
           "z": [
            0.0010000573731061
           ]
          }
         ],
         "name": "0.0028575910198288"
        },
        {
         "data": [
          {
           "coloraxis": "coloraxis",
           "geo": "geo",
           "hovertemplate": "total_cases=0.0027481635338402<br>country=%{location}<br>total_deaths=%{z}<extra></extra>",
           "ids": [
            0.0027481635338402
           ],
           "locationmode": "country names",
           "locations": [
            "Montenegro"
           ],
           "name": "",
           "type": "choropleth",
           "z": [
            0.0024688088901834
           ]
          }
         ],
         "name": "0.0027481635338402"
        },
        {
         "data": [
          {
           "coloraxis": "coloraxis",
           "geo": "geo",
           "hovertemplate": "total_cases=0.0026412985052063<br>country=%{location}<br>total_deaths=%{z}<extra></extra>",
           "ids": [
            0.0026412985052063
           ],
           "locationmode": "country names",
           "locations": [
            "Brunei"
           ],
           "name": "",
           "type": "choropleth",
           "z": [
            0.0001985992135471
           ]
          }
         ],
         "name": "0.0026412985052063"
        },
        {
         "data": [
          {
           "coloraxis": "coloraxis",
           "geo": "geo",
           "hovertemplate": "total_cases=0.0026044259915097<br>country=%{location}<br>total_deaths=%{z}<extra></extra>",
           "ids": [
            0.0026044259915097
           ],
           "locationmode": "country names",
           "locations": [
            "Algeria"
           ],
           "name": "",
           "type": "choropleth",
           "z": [
            0.0060736052818564
           ]
          }
         ],
         "name": "0.0026044259915097"
        },
        {
         "data": [
          {
           "coloraxis": "coloraxis",
           "geo": "geo",
           "hovertemplate": "total_cases=0.0025572556623013<br>country=%{location}<br>total_deaths=%{z}<extra></extra>",
           "ids": [
            0.0025572556623013
           ],
           "locationmode": "country names",
           "locations": [
            "Nigeria"
           ],
           "name": "",
           "type": "choropleth",
           "z": [
            0.0027848023055162
           ]
          }
         ],
         "name": "0.0025572556623013"
        },
        {
         "data": [
          {
           "coloraxis": "coloraxis",
           "geo": "geo",
           "hovertemplate": "total_cases=0.0025106419717692<br>country=%{location}<br>total_deaths=%{z}<extra></extra>",
           "ids": [
            0.0025106419717692
           ],
           "locationmode": "country names",
           "locations": [
            "Zimbabwe"
           ],
           "name": "",
           "type": "choropleth",
           "z": [
            0.0049888122443035
           ]
          }
         ],
         "name": "0.0025106419717692"
        },
        {
         "data": [
          {
           "coloraxis": "coloraxis",
           "geo": "geo",
           "hovertemplate": "total_cases=0.0024046982761168<br>country=%{location}<br>total_deaths=%{z}<extra></extra>",
           "ids": [
            0.0024046982761168
           ],
           "locationmode": "country names",
           "locations": [
            "Uzbekistan"
           ],
           "name": "",
           "type": "choropleth",
           "z": [
            0.0014449196114516
           ]
          }
         ],
         "name": "0.0024046982761168"
        },
        {
         "data": [
          {
           "coloraxis": "coloraxis",
           "geo": "geo",
           "hovertemplate": "total_cases=0.0022264491358549<br>country=%{location}<br>total_deaths=%{z}<extra></extra>",
           "ids": [
            0.0022264491358549
           ],
           "locationmode": "country names",
           "locations": [
            "Mozambique"
           ],
           "name": "",
           "type": "choropleth",
           "z": [
            0.0019709868615586
           ]
          }
         ],
         "name": "0.0022264491358549"
        },
        {
         "data": [
          {
           "coloraxis": "coloraxis",
           "geo": "geo",
           "hovertemplate": "total_cases=0.0022043083526435<br>country=%{location}<br>total_deaths=%{z}<extra></extra>",
           "ids": [
            0.0022043083526435
           ],
           "locationmode": "country names",
           "locations": [
            "Martinique"
           ],
           "name": "",
           "type": "choropleth",
           "z": [
            0.0009682814989385
           ]
          }
         ],
         "name": "0.0022043083526435"
        },
        {
         "data": [
          {
           "coloraxis": "coloraxis",
           "geo": "geo",
           "hovertemplate": "total_cases=0.0020918865344651<br>country=%{location}<br>total_deaths=%{z}<extra></extra>",
           "ids": [
            0.0020918865344651
           ],
           "locationmode": "country names",
           "locations": [
            "Laos"
           ],
           "name": "",
           "type": "choropleth",
           "z": [
            0.0006690586838609
           ]
          }
         ],
         "name": "0.0020918865344651"
        },
        {
         "data": [
          {
           "coloraxis": "coloraxis",
           "geo": "geo",
           "hovertemplate": "total_cases=0.0020027763601619<br>country=%{location}<br>total_deaths=%{z}<extra></extra>",
           "ids": [
            0.0020027763601619
           ],
           "locationmode": "country names",
           "locations": [
            "Iceland"
           ],
           "name": "",
           "type": "choropleth",
           "z": [
            0.0002021298662323
           ]
          }
         ],
         "name": "0.0020027763601619"
        },
        {
         "data": [
          {
           "coloraxis": "coloraxis",
           "geo": "geo",
           "hovertemplate": "total_cases=0.0020014039579082<br>country=%{location}<br>total_deaths=%{z}<extra></extra>",
           "ids": [
            0.0020014039579082
           ],
           "locationmode": "country names",
           "locations": [
            "Afghanistan"
           ],
           "name": "",
           "type": "choropleth",
           "z": [
            0.0069571511163482
           ]
          }
         ],
         "name": "0.0020014039579082"
        },
        {
         "data": [
          {
           "coloraxis": "coloraxis",
           "geo": "geo",
           "hovertemplate": "total_cases=0.0019826605900661<br>country=%{location}<br>total_deaths=%{z}<extra></extra>",
           "ids": [
            0.0019826605900661
           ],
           "locationmode": "country names",
           "locations": [
            "Kyrgyzstan"
           ],
           "name": "",
           "type": "choropleth",
           "z": [
            0.0026400455454196
           ]
          }
         ],
         "name": "0.0019826605900661"
        },
        {
         "data": [
          {
           "coloraxis": "coloraxis",
           "geo": "geo",
           "hovertemplate": "total_cases=0.0019365267604619<br>country=%{location}<br>total_deaths=%{z}<extra></extra>",
           "ids": [
            0.0019365267604619
           ],
           "locationmode": "country names",
           "locations": [
            "El Salvador"
           ],
           "name": "",
           "type": "choropleth",
           "z": [
            0.0037336652146857
           ]
          }
         ],
         "name": "0.0019365267604619"
        },
        {
         "data": [
          {
           "coloraxis": "coloraxis",
           "geo": "geo",
           "hovertemplate": "total_cases=0.0019327742480061<br>country=%{location}<br>total_deaths=%{z}<extra></extra>",
           "ids": [
            0.0019327742480061
           ],
           "locationmode": "country names",
           "locations": [
            "Guadeloupe"
           ],
           "name": "",
           "type": "choropleth",
           "z": [
            0.0008888418135197
           ]
          }
         ],
         "name": "0.0019327742480061"
        },
        {
         "data": [
          {
           "coloraxis": "coloraxis",
           "geo": "geo",
           "hovertemplate": "total_cases=0.0018033461585443<br>country=%{location}<br>total_deaths=%{z}<extra></extra>",
           "ids": [
            0.0018033461585443
           ],
           "locationmode": "country names",
           "locations": [
            "Trinidad and Tobago"
           ],
           "name": "",
           "type": "choropleth",
           "z": [
            0.0038184008791325
           ]
          }
         ],
         "name": "0.0018033461585443"
        },
        {
         "data": [
          {
           "coloraxis": "coloraxis",
           "geo": "geo",
           "hovertemplate": "total_cases=0.0017822994582485<br>country=%{location}<br>total_deaths=%{z}<extra></extra>",
           "ids": [
            0.0017822994582485
           ],
           "locationmode": "country names",
           "locations": [
            "Maldives"
           ],
           "name": "",
           "type": "choropleth",
           "z": [
            0.0002745082462806
           ]
          }
         ],
         "name": "0.0017822994582485"
        },
        {
         "data": [
          {
           "coloraxis": "coloraxis",
           "geo": "geo",
           "hovertemplate": "total_cases=0.0016421512756584<br>country=%{location}<br>total_deaths=%{z}<extra></extra>",
           "ids": [
            0.0016421512756584
           ],
           "locationmode": "country names",
           "locations": [
            "Ghana"
           ],
           "name": "",
           "type": "choropleth",
           "z": [
            0.0012904535564705
           ]
          }
         ],
         "name": "0.0016421512756584"
        },
        {
         "data": [
          {
           "coloraxis": "coloraxis",
           "geo": "geo",
           "hovertemplate": "total_cases=0.0016385907075737<br>country=%{location}<br>total_deaths=%{z}<extra></extra>",
           "ids": [
            0.0016385907075737
           ],
           "locationmode": "country names",
           "locations": [
            "Namibia"
           ],
           "name": "",
           "type": "choropleth",
           "z": [
            0.0036083270443582
           ]
          }
         ],
         "name": "0.0016385907075737"
        },
        {
         "data": [
          {
           "coloraxis": "coloraxis",
           "geo": "geo",
           "hovertemplate": "total_cases=0.0016353180560457<br>country=%{location}<br>total_deaths=%{z}<extra></extra>",
           "ids": [
            0.0016353180560457
           ],
           "locationmode": "country names",
           "locations": [
            "Uganda"
           ],
           "name": "",
           "type": "choropleth",
           "z": [
            0.0032040673118934
           ]
          }
         ],
         "name": "0.0016353180560457"
        },
        {
         "data": [
          {
           "coloraxis": "coloraxis",
           "geo": "geo",
           "hovertemplate": "total_cases=0.001472232521104<br>country=%{location}<br>total_deaths=%{z}<extra></extra>",
           "ids": [
            0.001472232521104
           ],
           "locationmode": "country names",
           "locations": [
            "Jamaica"
           ],
           "name": "",
           "type": "choropleth",
           "z": [
            0.0030716678361953
           ]
          }
         ],
         "name": "0.001472232521104"
        },
        {
         "data": [
          {
           "coloraxis": "coloraxis",
           "geo": "geo",
           "hovertemplate": "total_cases=0.0013310190472541<br>country=%{location}<br>total_deaths=%{z}<extra></extra>",
           "ids": [
            0.0013310190472541
           ],
           "locationmode": "country names",
           "locations": [
            "Cambodia"
           ],
           "name": "",
           "type": "choropleth",
           "z": [
            0.0026974186515554
           ]
          }
         ],
         "name": "0.0013310190472541"
        },
        {
         "data": [
          {
           "coloraxis": "coloraxis",
           "geo": "geo",
           "hovertemplate": "total_cases=0.0012772458316784<br>country=%{location}<br>total_deaths=%{z}<extra></extra>",
           "ids": [
            0.0012772458316784
           ],
           "locationmode": "country names",
           "locations": [
            "Rwanda"
           ],
           "name": "",
           "type": "choropleth",
           "z": [
            0.0012957495354985
           ]
          }
         ],
         "name": "0.0012772458316784"
        },
        {
         "data": [
          {
           "coloraxis": "coloraxis",
           "geo": "geo",
           "hovertemplate": "total_cases=0.001189939934464<br>country=%{location}<br>total_deaths=%{z}<extra></extra>",
           "ids": [
            0.001189939934464
           ],
           "locationmode": "country names",
           "locations": [
            "Cameroon"
           ],
           "name": "",
           "type": "choropleth",
           "z": [
            0.0017344331316447
           ]
          }
         ],
         "name": "0.001189939934464"
        },
        {
         "data": [
          {
           "coloraxis": "coloraxis",
           "geo": "geo",
           "hovertemplate": "total_cases=0.0011234216126444<br>country=%{location}<br>total_deaths=%{z}<extra></extra>",
           "ids": [
            0.0011234216126444
           ],
           "locationmode": "country names",
           "locations": [
            "Malta"
           ],
           "name": "",
           "type": "choropleth",
           "z": [
            0.000727314453168
           ]
          }
         ],
         "name": "0.0011234216126444"
        },
        {
         "data": [
          {
           "coloraxis": "coloraxis",
           "geo": "geo",
           "hovertemplate": "total_cases=0.0010187639442787<br>country=%{location}<br>total_deaths=%{z}<extra></extra>",
           "ids": [
            0.0010187639442787
           ],
           "locationmode": "country names",
           "locations": [
            "Barbados"
           ],
           "name": "",
           "type": "choropleth",
           "z": [
            0.000504000670824
           ]
          }
         ],
         "name": "0.0010187639442787"
        },
        {
         "data": [
          {
           "coloraxis": "coloraxis",
           "geo": "geo",
           "hovertemplate": "total_cases=0.0010094258506225<br>country=%{location}<br>total_deaths=%{z}<extra></extra>",
           "ids": [
            0.0010094258506225
           ],
           "locationmode": "country names",
           "locations": [
            "Angola"
           ],
           "name": "",
           "type": "choropleth",
           "z": [
            0.0017044225838199
           ]
          }
         ],
         "name": "0.0010094258506225"
        },
        {
         "data": [
          {
           "coloraxis": "coloraxis",
           "geo": "geo",
           "hovertemplate": "total_cases=0.0009703843655321<br>country=%{location}<br>total_deaths=%{z}<extra></extra>",
           "ids": [
            0.0009703843655321
           ],
           "locationmode": "country names",
           "locations": [
            "Channel Islands"
           ],
           "name": "",
           "type": "choropleth",
           "z": [
            0.0001968338872044
           ]
          }
         ],
         "name": "0.0009703843655321"
        },
        {
         "data": [
          {
           "coloraxis": "coloraxis",
           "geo": "geo",
           "hovertemplate": "total_cases=0.0009407481546276<br>country=%{location}<br>total_deaths=%{z}<extra></extra>",
           "ids": [
            0.0009407481546276
           ],
           "locationmode": "country names",
           "locations": [
            "French Guiana"
           ],
           "name": "",
           "type": "choropleth",
           "z": [
            0.0003707185319546
           ]
          }
         ],
         "name": "0.0009407481546276"
        },
        {
         "data": [
          {
           "coloraxis": "coloraxis",
           "geo": "geo",
           "hovertemplate": "total_cases=0.0009166207471749<br>country=%{location}<br>total_deaths=%{z}<extra></extra>",
           "ids": [
            0.0009166207471749
           ],
           "locationmode": "country names",
           "locations": [
            "DRC"
           ],
           "name": "",
           "type": "choropleth",
           "z": [
            0.0012913362196419
           ]
          }
         ],
         "name": "0.0009166207471749"
        },
        {
         "data": [
          {
           "coloraxis": "coloraxis",
           "geo": "geo",
           "hovertemplate": "total_cases=0.000853163938075<br>country=%{location}<br>total_deaths=%{z}<extra></extra>",
           "ids": [
            0.000853163938075
           ],
           "locationmode": "country names",
           "locations": [
            "Senegal"
           ],
           "name": "",
           "type": "choropleth",
           "z": [
            0.0017397291106727
           ]
          }
         ],
         "name": "0.000853163938075"
        },
        {
         "data": [
          {
           "coloraxis": "coloraxis",
           "geo": "geo",
           "hovertemplate": "total_cases=0.0008498720921099<br>country=%{location}<br>total_deaths=%{z}<extra></extra>",
           "ids": [
            0.0008498720921099
           ],
           "locationmode": "country names",
           "locations": [
            "Malawi"
           ],
           "name": "",
           "type": "choropleth",
           "z": [
            0.0023708332781668
           ]
          }
         ],
         "name": "0.0008498720921099"
        },
        {
         "data": [
          {
           "coloraxis": "coloraxis",
           "geo": "geo",
           "hovertemplate": "total_cases=0.0008443344970024<br>country=%{location}<br>total_deaths=%{z}<extra></extra>",
           "ids": [
            0.0008443344970024
           ],
           "locationmode": "country names",
           "locations": [
            "Ivory Coast"
           ],
           "name": "",
           "type": "choropleth",
           "z": [
            0.0007352584217099
           ]
          }
         ],
         "name": "0.0008443344970024"
        },
        {
         "data": [
          {
           "coloraxis": "coloraxis",
           "geo": "geo",
           "hovertemplate": "total_cases=0.0007871158799647<br>country=%{location}<br>total_deaths=%{z}<extra></extra>",
           "ids": [
            0.0007871158799647
           ],
           "locationmode": "country names",
           "locations": [
            "Suriname"
           ],
           "name": "",
           "type": "choropleth",
           "z": [
            0.001233963113506
           ]
          }
         ],
         "name": "0.0007871158799647"
        },
        {
         "data": [
          {
           "coloraxis": "coloraxis",
           "geo": "geo",
           "hovertemplate": "total_cases=0.0007662419296029<br>country=%{location}<br>total_deaths=%{z}<extra></extra>",
           "ids": [
            0.0007662419296029
           ],
           "locationmode": "country names",
           "locations": [
            "New Caledonia"
           ],
           "name": "",
           "type": "choropleth",
           "z": [
            0.0002771562357946
           ]
          }
         ],
         "name": "0.0007662419296029"
        },
        {
         "data": [
          {
           "coloraxis": "coloraxis",
           "geo": "geo",
           "hovertemplate": "total_cases=0.000748122380967<br>country=%{location}<br>total_deaths=%{z}<extra></extra>",
           "ids": [
            0.000748122380967
           ],
           "locationmode": "country names",
           "locations": [
            "French Polynesia"
           ],
           "name": "",
           "type": "choropleth",
           "z": [
            0.000572848398187
           ]
          }
         ],
         "name": "0.000748122380967"
        },
        {
         "data": [
          {
           "coloraxis": "coloraxis",
           "geo": "geo",
           "hovertemplate": "total_cases=0.0007114226172044<br>country=%{location}<br>total_deaths=%{z}<extra></extra>",
           "ids": [
            0.0007114226172044
           ],
           "locationmode": "country names",
           "locations": [
            "Eswatini"
           ],
           "name": "",
           "type": "choropleth",
           "z": [
            0.0012551470296177
           ]
          }
         ],
         "name": "0.0007114226172044"
        },
        {
         "data": [
          {
           "coloraxis": "coloraxis",
           "geo": "geo",
           "hovertemplate": "total_cases=0.0007000691076513<br>country=%{location}<br>total_deaths=%{z}<extra></extra>",
           "ids": [
            0.0007000691076513
           ],
           "locationmode": "country names",
           "locations": [
            "Guyana"
           ],
           "name": "",
           "type": "choropleth",
           "z": [
            0.0011421661436887
           ]
          }
         ],
         "name": "0.0007000691076513"
        },
        {
         "data": [
          {
           "coloraxis": "coloraxis",
           "geo": "geo",
           "hovertemplate": "total_cases=0.0006780914771555<br>country=%{location}<br>total_deaths=%{z}<extra></extra>",
           "ids": [
            0.0006780914771555
           ],
           "locationmode": "country names",
           "locations": [
            "Belize"
           ],
           "name": "",
           "type": "choropleth",
           "z": [
            0.0006072722618685
           ]
          }
         ],
         "name": "0.0006780914771555"
        },
        {
         "data": [
          {
           "coloraxis": "coloraxis",
           "geo": "geo",
           "hovertemplate": "total_cases=0.0006604325950103<br>country=%{location}<br>total_deaths=%{z}<extra></extra>",
           "ids": [
            0.0006604325950103
           ],
           "locationmode": "country names",
           "locations": [
            "Fiji"
           ],
           "name": "",
           "type": "choropleth",
           "z": [
            0.000779391580276
           ]
          }
         ],
         "name": "0.0006604325950103"
        },
        {
         "data": [
          {
           "coloraxis": "coloraxis",
           "geo": "geo",
           "hovertemplate": "total_cases=0.0006509025569831<br>country=%{location}<br>total_deaths=%{z}<extra></extra>",
           "ids": [
            0.0006509025569831
           ],
           "locationmode": "country names",
           "locations": [
            "Madagascar"
           ],
           "name": "",
           "type": "choropleth",
           "z": [
            0.0012524990401038
           ]
          }
         ],
         "name": "0.0006509025569831"
        },
        {
         "data": [
          {
           "coloraxis": "coloraxis",
           "geo": "geo",
           "hovertemplate": "total_cases=0.0006116979191771<br>country=%{location}<br>total_deaths=%{z}<extra></extra>",
           "ids": [
            0.0006116979191771
           ],
           "locationmode": "country names",
           "locations": [
            "Sudan"
           ],
           "name": "",
           "type": "choropleth",
           "z": [
            0.0044141985197738
           ]
          }
         ],
         "name": "0.0006116979191771"
        },
        {
         "data": [
          {
           "coloraxis": "coloraxis",
           "geo": "geo",
           "hovertemplate": "total_cases=0.0006109589333482<br>country=%{location}<br>total_deaths=%{z}<extra></extra>",
           "ids": [
            0.0006109589333482
           ],
           "locationmode": "country names",
           "locations": [
            "Mauritania"
           ],
           "name": "",
           "type": "choropleth",
           "z": [
            0.0008800151818065
           ]
          }
         ],
         "name": "0.0006109589333482"
        },
        {
         "data": [
          {
           "coloraxis": "coloraxis",
           "geo": "geo",
           "hovertemplate": "total_cases=0.0006067745460573<br>country=%{location}<br>total_deaths=%{z}<extra></extra>",
           "ids": [
            0.0006067745460573
           ],
           "locationmode": "country names",
           "locations": [
            "Cabo Verde"
           ],
           "name": "",
           "type": "choropleth",
           "z": [
            0.0003645398897553
           ]
          }
         ],
         "name": "0.0006067745460573"
        },
        {
         "data": [
          {
           "coloraxis": "coloraxis",
           "geo": "geo",
           "hovertemplate": "total_cases=0.0006007858816776<br>country=%{location}<br>total_deaths=%{z}<extra></extra>",
           "ids": [
            0.0006007858816776
           ],
           "locationmode": "country names",
           "locations": [
            "Bhutan"
           ],
           "name": "",
           "type": "choropleth",
           "z": [
            0.000018535926597730677
           ]
          }
         ],
         "name": "0.0006007858816776"
        },
        {
         "data": [
          {
           "coloraxis": "coloraxis",
           "geo": "geo",
           "hovertemplate": "total_cases=0.0005513410116712<br>country=%{location}<br>total_deaths=%{z}<extra></extra>",
           "ids": [
            0.0005513410116712
           ],
           "locationmode": "country names",
           "locations": [
            "Syria"
           ],
           "name": "",
           "type": "choropleth",
           "z": [
            0.002792746274058
           ]
          }
         ],
         "name": "0.0005513410116712"
        },
        {
         "data": [
          {
           "coloraxis": "coloraxis",
           "geo": "geo",
           "hovertemplate": "total_cases=0.0005133264289663<br>country=%{location}<br>total_deaths=%{z}<extra></extra>",
           "ids": [
            0.0005133264289663
           ],
           "locationmode": "country names",
           "locations": [
            "Burundi"
           ],
           "name": "",
           "type": "choropleth",
           "z": [
            0.00003354120051017931
           ]
          }
         ],
         "name": "0.0005133264289663"
        },
        {
         "data": [
          {
           "coloraxis": "coloraxis",
           "geo": "geo",
           "hovertemplate": "total_cases=0.0004861950921052<br>country=%{location}<br>total_deaths=%{z}<extra></extra>",
           "ids": [
            0.0004861950921052
           ],
           "locationmode": "country names",
           "locations": [
            "Seychelles"
           ],
           "name": "",
           "type": "choropleth",
           "z": [
            0.0001518180654671
           ]
          }
         ],
         "name": "0.0004861950921052"
        },
        {
         "data": [
          {
           "coloraxis": "coloraxis",
           "geo": "geo",
           "hovertemplate": "total_cases=0.000470033376055<br>country=%{location}<br>total_deaths=%{z}<extra></extra>",
           "ids": [
            0.000470033376055
           ],
           "locationmode": "country names",
           "locations": [
            "Gabon"
           ],
           "name": "",
           "type": "choropleth",
           "z": [
            0.000270094930424
           ]
          }
         ],
         "name": "0.000470033376055"
        },
        {
         "data": [
          {
           "coloraxis": "coloraxis",
           "geo": "geo",
           "hovertemplate": "total_cases=0.0004590733524627<br>country=%{location}<br>total_deaths=%{z}<extra></extra>",
           "ids": [
            0.0004590733524627
           ],
           "locationmode": "country names",
           "locations": [
            "Andorra"
           ],
           "name": "",
           "type": "choropleth",
           "z": [
            0.0001456394232678
           ]
          }
         ],
         "name": "0.0004590733524627"
        },
        {
         "data": [
          {
           "coloraxis": "coloraxis",
           "geo": "geo",
           "hovertemplate": "total_cases=0.000448621981454<br>country=%{location}<br>total_deaths=%{z}<extra></extra>",
           "ids": [
            0.000448621981454
           ],
           "locationmode": "country names",
           "locations": [
            "Papua New Guinea"
           ],
           "name": "",
           "type": "choropleth",
           "z": [
            0.0005913843247847
           ]
          }
         ],
         "name": "0.000448621981454"
        },
        {
         "data": [
          {
           "coloraxis": "coloraxis",
           "geo": "geo",
           "hovertemplate": "total_cases=0.0004412897064763<br>country=%{location}<br>total_deaths=%{z}<extra></extra>",
           "ids": [
            0.0004412897064763
           ],
           "locationmode": "country names",
           "locations": [
            "Curaçao"
           ],
           "name": "",
           "type": "choropleth",
           "z": [
            0.0002603856355395
           ]
          }
         ],
         "name": "0.0004412897064763"
        },
        {
         "data": [
          {
           "coloraxis": "coloraxis",
           "geo": "geo",
           "hovertemplate": "total_cases=0.0004221624498919<br>country=%{location}<br>total_deaths=%{z}<extra></extra>",
           "ids": [
            0.0004221624498919
           ],
           "locationmode": "country names",
           "locations": [
            "Aruba"
           ],
           "name": "",
           "type": "choropleth",
           "z": [
            0.0002083085084316
           ]
          }
         ],
         "name": "0.0004221624498919"
        },
        {
         "data": [
          {
           "coloraxis": "coloraxis",
           "geo": "geo",
           "hovertemplate": "total_cases=0.0004094077464295<br>country=%{location}<br>total_deaths=%{z}<extra></extra>",
           "ids": [
            0.0004094077464295
           ],
           "locationmode": "country names",
           "locations": [
            "Tanzania"
           ],
           "name": "",
           "type": "choropleth",
           "z": [
            0.0007467330429371
           ]
          }
         ],
         "name": "0.0004094077464295"
        },
        {
         "data": [
          {
           "coloraxis": "coloraxis",
           "geo": "geo",
           "hovertemplate": "total_cases=0.0004030543877446<br>country=%{location}<br>total_deaths=%{z}<extra></extra>",
           "ids": [
            0.0004030543877446
           ],
           "locationmode": "country names",
           "locations": [
            "Mayotte"
           ],
           "name": "",
           "type": "choropleth",
           "z": [
            0.0001659406762082
           ]
          }
         ],
         "name": "0.0004030543877446"
        },
        {
         "data": [
          {
           "coloraxis": "coloraxis",
           "geo": "geo",
           "hovertemplate": "total_cases=0.0003996953612496<br>country=%{location}<br>total_deaths=%{z}<extra></extra>",
           "ids": [
            0.0003996953612496
           ],
           "locationmode": "country names",
           "locations": [
            "Mauritius"
           ],
           "name": "",
           "type": "choropleth",
           "z": [
            0.0009206176876872
           ]
          }
         ],
         "name": "0.0003996953612496"
        },
        {
         "data": [
          {
           "coloraxis": "coloraxis",
           "geo": "geo",
           "hovertemplate": "total_cases=0.0003776409530053<br>country=%{location}<br>total_deaths=%{z}<extra></extra>",
           "ids": [
            0.0003776409530053
           ],
           "locationmode": "country names",
           "locations": [
            "Togo"
           ],
           "name": "",
           "type": "choropleth",
           "z": [
            0.0002559723196829
           ]
          }
         ],
         "name": "0.0003776409530053"
        },
        {
         "data": [
          {
           "coloraxis": "coloraxis",
           "geo": "geo",
           "hovertemplate": "total_cases=0.0003669496515326<br>country=%{location}<br>total_deaths=%{z}<extra></extra>",
           "ids": [
            0.0003669496515326
           ],
           "locationmode": "country names",
           "locations": [
            "Guinea"
           ],
           "name": "",
           "type": "choropleth",
           "z": [
            0.0004122037010066
           ]
          }
         ],
         "name": "0.0003669496515326"
        },
        {
         "data": [
          {
           "coloraxis": "coloraxis",
           "geo": "geo",
           "hovertemplate": "total_cases=0.0003647230968274<br>country=%{location}<br>total_deaths=%{z}<extra></extra>",
           "ids": [
            0.0003647230968274
           ],
           "locationmode": "country names",
           "locations": [
            "Isle of Man"
           ],
           "name": "",
           "type": "choropleth",
           "z": [
            0.0001023889278731
           ]
          }
         ],
         "name": "0.0003647230968274"
        },
        {
         "data": [
          {
           "coloraxis": "coloraxis",
           "geo": "geo",
           "hovertemplate": "total_cases=0.0003597613348333<br>country=%{location}<br>total_deaths=%{z}<extra></extra>",
           "ids": [
            0.0003597613348333
           ],
           "locationmode": "country names",
           "locations": [
            "Bahamas"
           ],
           "name": "",
           "type": "choropleth",
           "z": [
            0.0007352584217099
           ]
          }
         ],
         "name": "0.0003597613348333"
        },
        {
         "data": [
          {
           "coloraxis": "coloraxis",
           "geo": "geo",
           "hovertemplate": "total_cases=0.0003338392475105<br>country=%{location}<br>total_deaths=%{z}<extra></extra>",
           "ids": [
            0.0003338392475105
           ],
           "locationmode": "country names",
           "locations": [
            "Lesotho"
           ],
           "name": "",
           "type": "choropleth",
           "z": [
            0.0006381654728647
           ]
          }
         ],
         "name": "0.0003338392475105"
        },
        {
         "data": [
          {
           "coloraxis": "coloraxis",
           "geo": "geo",
           "hovertemplate": "total_cases=0.0003325724146609<br>country=%{location}<br>total_deaths=%{z}<extra></extra>",
           "ids": [
            0.0003325724146609
           ],
           "locationmode": "country names",
           "locations": [
            "Faeroe Islands"
           ],
           "name": "",
           "type": "choropleth",
           "z": [
            0.00002471456879697423
           ]
          }
         ],
         "name": "0.0003325724146609"
        },
        {
         "data": [
          {
           "coloraxis": "coloraxis",
           "geo": "geo",
           "hovertemplate": "total_cases=0.0003269868334606<br>country=%{location}<br>total_deaths=%{z}<extra></extra>",
           "ids": [
            0.0003269868334606
           ],
           "locationmode": "country names",
           "locations": [
            "Haiti"
           ],
           "name": "",
           "type": "choropleth",
           "z": [
            0.0007590903273356
           ]
          }
         ],
         "name": "0.0003269868334606"
        },
        {
         "data": [
          {
           "coloraxis": "coloraxis",
           "geo": "geo",
           "hovertemplate": "total_cases=0.0003145776298662<br>country=%{location}<br>total_deaths=%{z}<extra></extra>",
           "ids": [
            0.0003145776298662
           ],
           "locationmode": "country names",
           "locations": [
            "Mali"
           ],
           "name": "",
           "type": "choropleth",
           "z": [
            0.0006558187362911
           ]
          }
         ],
         "name": "0.0003145776298662"
        },
        {
         "data": [
          {
           "coloraxis": "coloraxis",
           "geo": "geo",
           "hovertemplate": "total_cases=0.0003019956763378<br>country=%{location}<br>total_deaths=%{z}<extra></extra>",
           "ids": [
            0.0003019956763378
           ],
           "locationmode": "country names",
           "locations": [
            "Cayman Islands"
           ],
           "name": "",
           "type": "choropleth",
           "z": [
            0.000032658537338858804
           ]
          }
         ],
         "name": "0.0003019956763378"
        },
        {
         "data": [
          {
           "coloraxis": "coloraxis",
           "geo": "geo",
           "hovertemplate": "total_cases=0.0002859779185659<br>country=%{location}<br>total_deaths=%{z}<extra></extra>",
           "ids": [
            0.0002859779185659
           ],
           "locationmode": "country names",
           "locations": [
            "Saint Lucia"
           ],
           "name": "",
           "type": "choropleth",
           "z": [
            0.00036100923707
           ]
          }
         ],
         "name": "0.0002859779185659"
        },
        {
         "data": [
          {
           "coloraxis": "coloraxis",
           "geo": "geo",
           "hovertemplate": "total_cases=0.0002685685641033<br>country=%{location}<br>total_deaths=%{z}<extra></extra>",
           "ids": [
            0.0002685685641033
           ],
           "locationmode": "country names",
           "locations": [
            "Benin"
           ],
           "name": "",
           "type": "choropleth",
           "z": [
            0.0001438740969252
           ]
          }
         ],
         "name": "0.0002685685641033"
        },
        {
         "data": [
          {
           "coloraxis": "coloraxis",
           "geo": "geo",
           "hovertemplate": "total_cases=0.0002621288304514<br>country=%{location}<br>total_deaths=%{z}<extra></extra>",
           "ids": [
            0.0002621288304514
           ],
           "locationmode": "country names",
           "locations": [
            "Somalia"
           ],
           "name": "",
           "type": "choropleth",
           "z": [
            0.0012013045761672
           ]
          }
         ],
         "name": "0.0002621288304514"
        },
        {
         "data": [
          {
           "coloraxis": "coloraxis",
           "geo": "geo",
           "hovertemplate": "total_cases=0.0002434814347949<br>country=%{location}<br>total_deaths=%{z}<extra></extra>",
           "ids": [
            0.0002434814347949
           ],
           "locationmode": "country names",
           "locations": [
            "Congo"
           ],
           "name": "",
           "type": "choropleth",
           "z": [
            0.0003407079841297
           ]
          }
         ],
         "name": "0.0002434814347949"
        },
        {
         "data": [
          {
           "coloraxis": "coloraxis",
           "geo": "geo",
           "hovertemplate": "total_cases=0.0002358036599492<br>country=%{location}<br>total_deaths=%{z}<extra></extra>",
           "ids": [
            0.0002358036599492
           ],
           "locationmode": "country names",
           "locations": [
            "Solomon Islands"
           ],
           "name": "",
           "type": "choropleth",
           "z": [
            0.000135047465212
           ]
          }
         ],
         "name": "0.0002358036599492"
        },
        {
         "data": [
          {
           "coloraxis": "coloraxis",
           "geo": "geo",
           "hovertemplate": "total_cases=0.0002247860530455<br>country=%{location}<br>total_deaths=%{z}<extra></extra>",
           "ids": [
            0.0002247860530455
           ],
           "locationmode": "country names",
           "locations": [
            "San Marino"
           ],
           "name": "",
           "type": "choropleth",
           "z": [
            0.0001076849069011
           ]
          }
         ],
         "name": "0.0002247860530455"
        },
        {
         "data": [
          {
           "coloraxis": "coloraxis",
           "geo": "geo",
           "hovertemplate": "total_cases=0.0002246708864229<br>country=%{location}<br>total_deaths=%{z}<extra></extra>",
           "ids": [
            0.0002246708864229
           ],
           "locationmode": "country names",
           "locations": [
            "Timor-Leste"
           ],
           "name": "",
           "type": "choropleth",
           "z": [
            0.0001218075176422
           ]
          }
         ],
         "name": "0.0002246708864229"
        },
        {
         "data": [
          {
           "coloraxis": "coloraxis",
           "geo": "geo",
           "hovertemplate": "total_cases=0.0002175785419091<br>country=%{location}<br>total_deaths=%{z}<extra></extra>",
           "ids": [
            0.0002175785419091
           ],
           "locationmode": "country names",
           "locations": [
            "Micronesia"
           ],
           "name": "",
           "type": "choropleth",
           "z": [
            0.000051194463936589474
           ]
          }
         ],
         "name": "0.0002175785419091"
        },
        {
         "data": [
          {
           "coloraxis": "coloraxis",
           "geo": "geo",
           "hovertemplate": "total_cases=0.0002113307526284<br>country=%{location}<br>total_deaths=%{z}<extra></extra>",
           "ids": [
            0.0002113307526284
           ],
           "locationmode": "country names",
           "locations": [
            "Burkina Faso"
           ],
           "name": "",
           "type": "choropleth",
           "z": [
            0.0003495346158429
           ]
          }
         ],
         "name": "0.0002113307526284"
        },
        {
         "data": [
          {
           "coloraxis": "coloraxis",
           "geo": "geo",
           "hovertemplate": "total_cases=0.0002047566579168<br>country=%{location}<br>total_deaths=%{z}<extra></extra>",
           "ids": [
            0.0002047566579168
           ],
           "locationmode": "country names",
           "locations": [
            "Liechtenstein"
           ],
           "name": "",
           "type": "choropleth",
           "z": [
            0.00007855702224752523
           ]
          }
         ],
         "name": "0.0002047566579168"
        },
        {
         "data": [
          {
           "coloraxis": "coloraxis",
           "geo": "geo",
           "hovertemplate": "total_cases=0.0001957256752545<br>country=%{location}<br>total_deaths=%{z}<extra></extra>",
           "ids": [
            0.0001957256752545
           ],
           "locationmode": "country names",
           "locations": [
            "Gibraltar"
           ],
           "name": "",
           "type": "choropleth",
           "z": [
            0.0000979756120165764
           ]
          }
         ],
         "name": "0.0001957256752545"
        },
        {
         "data": [
          {
           "coloraxis": "coloraxis",
           "geo": "geo",
           "hovertemplate": "total_cases=0.0001888252751119<br>country=%{location}<br>total_deaths=%{z}<extra></extra>",
           "ids": [
            0.0001888252751119
           ],
           "locationmode": "country names",
           "locations": [
            "Grenada"
           ],
           "name": "",
           "type": "choropleth",
           "z": [
            0.0002100738347742
           ]
          }
         ],
         "name": "0.0001888252751119"
        },
        {
         "data": [
          {
           "coloraxis": "coloraxis",
           "geo": "geo",
           "hovertemplate": "total_cases=0.0001800534173507<br>country=%{location}<br>total_deaths=%{z}<extra></extra>",
           "ids": [
            0.0001800534173507
           ],
           "locationmode": "country names",
           "locations": [
            "Bermuda"
           ],
           "name": "",
           "type": "choropleth",
           "z": [
            0.0001385781178973
           ]
          }
         ],
         "name": "0.0001800534173507"
        },
        {
         "data": [
          {
           "coloraxis": "coloraxis",
           "geo": "geo",
           "hovertemplate": "total_cases=0.0001774141822474<br>country=%{location}<br>total_deaths=%{z}<extra></extra>",
           "ids": [
            0.0001774141822474
           ],
           "locationmode": "country names",
           "locations": [
            "Nicaragua"
           ],
           "name": "",
           "type": "choropleth",
           "z": [
            0.0001985992135471
           ]
          }
         ],
         "name": "0.0001774141822474"
        },
        {
         "data": [
          {
           "coloraxis": "coloraxis",
           "geo": "geo",
           "hovertemplate": "total_cases=0.0001762337243649<br>country=%{location}<br>total_deaths=%{z}<extra></extra>",
           "ids": [
            0.0001762337243649
           ],
           "locationmode": "country names",
           "locations": [
            "South Sudan"
           ],
           "name": "",
           "type": "choropleth",
           "z": [
            0.0001218075176422
           ]
          }
         ],
         "name": "0.0001762337243649"
        },
        {
         "data": [
          {
           "coloraxis": "coloraxis",
           "geo": "geo",
           "hovertemplate": "total_cases=0.0001706481431647<br>country=%{location}<br>total_deaths=%{z}<extra></extra>",
           "ids": [
            0.0001706481431647
           ],
           "locationmode": "country names",
           "locations": [
            "Tajikistan"
           ],
           "name": "",
           "type": "choropleth",
           "z": [
            0.000110332896415
           ]
          }
         ],
         "name": "0.0001706481431647"
        },
        {
         "data": [
          {
           "coloraxis": "coloraxis",
           "geo": "geo",
           "hovertemplate": "total_cases=0.0001649282009046<br>country=%{location}<br>total_deaths=%{z}<extra></extra>",
           "ids": [
            0.0001649282009046
           ],
           "locationmode": "country names",
           "locations": [
            "Equatorial Guinea"
           ],
           "name": "",
           "type": "choropleth",
           "z": [
            0.0001615273603516
           ]
          }
         ],
         "name": "0.0001649282009046"
        },
        {
         "data": [
          {
           "coloraxis": "coloraxis",
           "geo": "geo",
           "hovertemplate": "total_cases=0.0001605518692425<br>country=%{location}<br>total_deaths=%{z}<extra></extra>",
           "ids": [
            0.0001605518692425
           ],
           "locationmode": "country names",
           "locations": [
            "Tonga"
           ],
           "name": "",
           "type": "choropleth",
           "z": [
            0.000011474621227166607
           ]
          }
         ],
         "name": "0.0001605518692425"
        },
        {
         "data": [
          {
           "coloraxis": "coloraxis",
           "geo": "geo",
           "hovertemplate": "total_cases=0.0001543424688361<br>country=%{location}<br>total_deaths=%{z}<extra></extra>",
           "ids": [
            0.0001543424688361
           ],
           "locationmode": "country names",
           "locations": [
            "Samoa"
           ],
           "name": "",
           "type": "choropleth",
           "z": [
            0.000025597231968294737
           ]
          }
         ],
         "name": "0.0001543424688361"
        },
        {
         "data": [
          {
           "coloraxis": "coloraxis",
           "geo": "geo",
           "hovertemplate": "total_cases=0.0001540449550608<br>country=%{location}<br>total_deaths=%{z}<extra></extra>",
           "ids": [
            0.0001540449550608
           ],
           "locationmode": "country names",
           "locations": [
            "Monaco"
           ],
           "name": "",
           "type": "choropleth",
           "z": [
            0.00005737310613583304
           ]
          }
         ],
         "name": "0.0001540449550608"
        },
        {
         "data": [
          {
           "coloraxis": "coloraxis",
           "geo": "geo",
           "hovertemplate": "total_cases=0.0001512041783679<br>country=%{location}<br>total_deaths=%{z}<extra></extra>",
           "ids": [
            0.0001512041783679
           ],
           "locationmode": "country names",
           "locations": [
            "Dominica"
           ],
           "name": "",
           "type": "choropleth",
           "z": [
            0.00006531707467771761
           ]
          }
         ],
         "name": "0.0001512041783679"
        },
        {
         "data": [
          {
           "coloraxis": "coloraxis",
           "geo": "geo",
           "hovertemplate": "total_cases=0.0001505323730689<br>country=%{location}<br>total_deaths=%{z}<extra></extra>",
           "ids": [
            0.0001505323730689
           ],
           "locationmode": "country names",
           "locations": [
            "Djibouti"
           ],
           "name": "",
           "type": "choropleth",
           "z": [
            0.0001668233393795
           ]
          }
         ],
         "name": "0.0001505323730689"
        },
        {
         "data": [
          {
           "coloraxis": "coloraxis",
           "geo": "geo",
           "hovertemplate": "total_cases=0.0001495150679018<br>country=%{location}<br>total_deaths=%{z}<extra></extra>",
           "ids": [
            0.0001495150679018
           ],
           "locationmode": "country names",
           "locations": [
            "Marshall Islands"
           ],
           "name": "",
           "type": "choropleth",
           "z": [
            0.00001500527391244864
           ]
          }
         ],
         "name": "0.0001495150679018"
        },
        {
         "data": [
          {
           "coloraxis": "coloraxis",
           "geo": "geo",
           "hovertemplate": "total_cases=0.0001474420686935<br>country=%{location}<br>total_deaths=%{z}<extra></extra>",
           "ids": [
            0.0001474420686935
           ],
           "locationmode": "country names",
           "locations": [
            "CAR"
           ],
           "name": "",
           "type": "choropleth",
           "z": [
            0.00009974093835921744
           ]
          }
         ],
         "name": "0.0001474420686935"
        },
        {
         "data": [
          {
           "coloraxis": "coloraxis",
           "geo": "geo",
           "hovertemplate": "total_cases=0.0001207426066675<br>country=%{location}<br>total_deaths=%{z}<extra></extra>",
           "ids": [
            0.0001207426066675
           ],
           "locationmode": "country names",
           "locations": [
            "Gambia"
           ],
           "name": "",
           "type": "choropleth",
           "z": [
            0.0003283506997312
           ]
          }
         ],
         "name": "0.0001207426066675"
        },
        {
         "data": [
          {
           "coloraxis": "coloraxis",
           "geo": "geo",
           "hovertemplate": "total_cases=0.0001173547885168<br>country=%{location}<br>total_deaths=%{z}<extra></extra>",
           "ids": [
            0.0001173547885168
           ],
           "locationmode": "country names",
           "locations": [
            "Saint Martin"
           ],
           "name": "",
           "type": "choropleth",
           "z": [
            0.00005560777979319202
           ]
          }
         ],
         "name": "0.0001173547885168"
        },
        {
         "data": [
          {
           "coloraxis": "coloraxis",
           "geo": "geo",
           "hovertemplate": "total_cases=0.0001152529976528<br>country=%{location}<br>total_deaths=%{z}<extra></extra>",
           "ids": [
            0.0001152529976528
           ],
           "locationmode": "country names",
           "locations": [
            "Vanuatu"
           ],
           "name": "",
           "type": "choropleth",
           "z": [
            0.000012357284398487117
           ]
          }
         ],
         "name": "0.0001152529976528"
        },
        {
         "data": [
          {
           "coloraxis": "coloraxis",
           "geo": "geo",
           "hovertemplate": "total_cases=0.0001148403172548<br>country=%{location}<br>total_deaths=%{z}<extra></extra>",
           "ids": [
            0.0001148403172548
           ],
           "locationmode": "country names",
           "locations": [
            "Greenland"
           ],
           "name": "",
           "type": "choropleth",
           "z": [
            0.000018535926597730677
           ]
          }
         ],
         "name": "0.0001148403172548"
        },
        {
         "data": [
          {
           "coloraxis": "coloraxis",
           "geo": "geo",
           "hovertemplate": "total_cases=0.0001145907895723<br>country=%{location}<br>total_deaths=%{z}<extra></extra>",
           "ids": [
            0.0001145907895723
           ],
           "locationmode": "country names",
           "locations": [
            "Yemen"
           ],
           "name": "",
           "type": "choropleth",
           "z": [
            0.0019056697868809
           ]
          }
         ],
         "name": "0.0001145907895723"
        },
        {
         "data": [
          {
           "coloraxis": "coloraxis",
           "geo": "geo",
           "hovertemplate": "total_cases=0.0001118651795021<br>country=%{location}<br>total_deaths=%{z}<extra></extra>",
           "ids": [
            0.0001118651795021
           ],
           "locationmode": "country names",
           "locations": [
            "Caribbean Netherlands"
           ],
           "name": "",
           "type": "choropleth",
           "z": [
            0.00003354120051017931
           ]
          }
         ],
         "name": "0.0001118651795021"
        },
        {
         "data": [
          {
           "coloraxis": "coloraxis",
           "geo": "geo",
           "hovertemplate": "total_cases=0.0001056173902214<br>country=%{location}<br>total_deaths=%{z}<extra></extra>",
           "ids": [
            0.0001056173902214
           ],
           "locationmode": "country names",
           "locations": [
            "Sint Maarten"
           ],
           "name": "",
           "type": "choropleth",
           "z": [
            0.00007855702224752523
           ]
          }
         ],
         "name": "0.0001056173902214"
        },
        {
         "data": [
          {
           "coloraxis": "coloraxis",
           "geo": "geo",
           "hovertemplate": "total_cases=9.77380737860267e-05<br>country=%{location}<br>total_deaths=%{z}<extra></extra>",
           "ids": [
            0.0000977380737860267
           ],
           "locationmode": "country names",
           "locations": [
            "Eritrea"
           ],
           "name": "",
           "type": "choropleth",
           "z": [
            0.00009091430664601237
           ]
          }
         ],
         "name": "9.77380737860267e-05"
        },
        {
         "data": [
          {
           "coloraxis": "coloraxis",
           "geo": "geo",
           "hovertemplate": "total_cases=9.526199139828171e-05<br>country=%{location}<br>total_deaths=%{z}<extra></extra>",
           "ids": [
            0.00009526199139828171
           ],
           "locationmode": "country names",
           "locations": [
            "Niger"
           ],
           "name": "",
           "type": "choropleth",
           "z": [
            0.0002753909094519
           ]
          }
         ],
         "name": "9.526199139828171e-05"
        },
        {
         "data": [
          {
           "coloraxis": "coloraxis",
           "geo": "geo",
           "hovertemplate": "total_cases=9.194135377750746e-05<br>country=%{location}<br>total_deaths=%{z}<extra></extra>",
           "ids": [
            0.00009194135377750746
           ],
           "locationmode": "country names",
           "locations": [
            "St. Vincent Grenadines"
           ],
           "name": "",
           "type": "choropleth",
           "z": [
            0.0001085675700724
           ]
          }
         ],
         "name": "9.194135377750746e-05"
        },
        {
         "data": [
          {
           "coloraxis": "coloraxis",
           "geo": "geo",
           "hovertemplate": "total_cases=8.734428608863208e-05<br>country=%{location}<br>total_deaths=%{z}<extra></extra>",
           "ids": [
            0.00008734428608863208
           ],
           "locationmode": "country names",
           "locations": [
            "Antigua and Barbuda"
           ],
           "name": "",
           "type": "choropleth",
           "z": [
            0.0001288688230127
           ]
          }
         ],
         "name": "8.734428608863208e-05"
        },
        {
         "data": [
          {
           "coloraxis": "coloraxis",
           "geo": "geo",
           "hovertemplate": "total_cases=8.625020317311685e-05<br>country=%{location}<br>total_deaths=%{z}<extra></extra>",
           "ids": [
            0.00008625020317311685
           ],
           "locationmode": "country names",
           "locations": [
            "Comoros"
           ],
           "name": "",
           "type": "choropleth",
           "z": [
            0.0001421087705826
           ]
          }
         ],
         "name": "8.625020317311685e-05"
        },
        {
         "data": [
          {
           "coloraxis": "coloraxis",
           "geo": "geo",
           "hovertemplate": "total_cases=8.581832833804505e-05<br>country=%{location}<br>total_deaths=%{z}<extra></extra>",
           "ids": [
            0.00008581832833804505
           ],
           "locationmode": "country names",
           "locations": [
            "Guinea-Bissau"
           ],
           "name": "",
           "type": "choropleth",
           "z": [
            0.0001553487181524
           ]
          }
         ],
         "name": "8.581832833804505e-05"
        },
        {
         "data": [
          {
           "coloraxis": "coloraxis",
           "geo": "geo",
           "hovertemplate": "total_cases=7.732478991496634e-05<br>country=%{location}<br>total_deaths=%{z}<extra></extra>",
           "ids": [
            0.00007732478991496634
           ],
           "locationmode": "country names",
           "locations": [
            "Liberia"
           ],
           "name": "",
           "type": "choropleth",
           "z": [
            0.0002595029723682
           ]
          }
         ],
         "name": "7.732478991496634e-05"
        },
        {
         "data": [
          {
           "coloraxis": "coloraxis",
           "geo": "geo",
           "hovertemplate": "total_cases=7.44264299107067e-05<br>country=%{location}<br>total_deaths=%{z}<extra></extra>",
           "ids": [
            0.0000744264299107067
           ],
           "locationmode": "country names",
           "locations": [
            "Sierra Leone"
           ],
           "name": "",
           "type": "choropleth",
           "z": [
            0.0001112155595863
           ]
          }
         ],
         "name": "7.44264299107067e-05"
        },
        {
         "data": [
          {
           "coloraxis": "coloraxis",
           "geo": "geo",
           "hovertemplate": "total_cases=7.338993030653439e-05<br>country=%{location}<br>total_deaths=%{z}<extra></extra>",
           "ids": [
            0.00007338993030653439
           ],
           "locationmode": "country names",
           "locations": [
            "Chad"
           ],
           "name": "",
           "type": "choropleth",
           "z": [
            0.0001712366552361
           ]
          }
         ],
         "name": "7.338993030653439e-05"
        },
        {
         "data": [
          {
           "coloraxis": "coloraxis",
           "geo": "geo",
           "hovertemplate": "total_cases=7.005969546720297e-05<br>country=%{location}<br>total_deaths=%{z}<extra></extra>",
           "ids": [
            0.00007005969546720297
           ],
           "locationmode": "country names",
           "locations": [
            "British Virgin Islands"
           ],
           "name": "",
           "type": "choropleth",
           "z": [
            0.000056490442964512526
           ]
          }
         ],
         "name": "7.005969546720297e-05"
        },
        {
         "data": [
          {
           "coloraxis": "coloraxis",
           "geo": "geo",
           "hovertemplate": "total_cases=6.723811321140055e-05<br>country=%{location}<br>total_deaths=%{z}<extra></extra>",
           "ids": [
            0.00006723811321140055
           ],
           "locationmode": "country names",
           "locations": [
            "Cook Islands"
           ],
           "name": "",
           "type": "choropleth",
           "z": [
            0.0000017653263426410164
           ]
          }
         ],
         "name": "6.723811321140055e-05"
        },
        {
         "data": [
          {
           "coloraxis": "coloraxis",
           "geo": "geo",
           "hovertemplate": "total_cases=6.321687863595424e-05<br>country=%{location}<br>total_deaths=%{z}<extra></extra>",
           "ids": [
            0.00006321687863595424
           ],
           "locationmode": "country names",
           "locations": [
            "Saint Kitts and Nevis"
           ],
           "name": "",
           "type": "choropleth",
           "z": [
            0.00004060250588074338
           ]
          }
         ],
         "name": "6.321687863595424e-05"
        },
        {
         "data": [
          {
           "coloraxis": "coloraxis",
           "geo": "geo",
           "hovertemplate": "total_cases=6.254507333695366e-05<br>country=%{location}<br>total_deaths=%{z}<extra></extra>",
           "ids": [
            0.00006254507333695366
           ],
           "locationmode": "country names",
           "locations": [
            "Turks and Caicos"
           ],
           "name": "",
           "type": "choropleth",
           "z": [
            0.00003354120051017931
           ]
          }
         ],
         "name": "6.254507333695366e-05"
        },
        {
         "data": [
          {
           "coloraxis": "coloraxis",
           "geo": "geo",
           "hovertemplate": "total_cases=6.02225464461231e-05<br>country=%{location}<br>total_deaths=%{z}<extra></extra>",
           "ids": [
            0.0000602225464461231
           ],
           "locationmode": "country names",
           "locations": [
            "Sao Tome and Principe"
           ],
           "name": "",
           "type": "choropleth",
           "z": [
            0.00006796506419167913
           ]
          }
         ],
         "name": "6.02225464461231e-05"
        },
        {
         "data": [
          {
           "coloraxis": "coloraxis",
           "geo": "geo",
           "hovertemplate": "total_cases=5.740096419032068e-05<br>country=%{location}<br>total_deaths=%{z}<extra></extra>",
           "ids": [
            0.00005740096419032068
           ],
           "locationmode": "country names",
           "locations": [
            "Palau"
           ],
           "name": "",
           "type": "choropleth",
           "z": [
            0.000007943968541884574
           ]
          }
         ],
         "name": "5.740096419032068e-05"
        },
        {
         "data": [
          {
           "coloraxis": "coloraxis",
           "geo": "geo",
           "hovertemplate": "total_cases=5.196893848697316e-05<br>country=%{location}<br>total_deaths=%{z}<extra></extra>",
           "ids": [
            0.00005196893848697316
           ],
           "locationmode": "country names",
           "locations": [
            "St. Barth"
           ],
           "name": "",
           "type": "choropleth",
           "z": [
            0.000005295979027923049
           ]
          }
         ],
         "name": "5.196893848697316e-05"
        },
        {
         "data": [
          {
           "coloraxis": "coloraxis",
           "geo": "geo",
           "hovertemplate": "total_cases=4.801488444142691e-05<br>country=%{location}<br>total_deaths=%{z}<extra></extra>",
           "ids": [
            0.00004801488444142691
           ],
           "locationmode": "country names",
           "locations": [
            "Kiribati"
           ],
           "name": "",
           "type": "choropleth",
           "z": [
            0.000015887937083769148
           ]
          }
         ],
         "name": "4.801488444142691e-05"
        },
        {
         "data": [
          {
           "coloraxis": "coloraxis",
           "geo": "geo",
           "hovertemplate": "total_cases=4.430076085980944e-05<br>country=%{location}<br>total_deaths=%{z}<extra></extra>",
           "ids": [
            0.00004430076085980944
           ],
           "locationmode": "country names",
           "locations": [
            "Nauru"
           ],
           "name": "",
           "type": "choropleth",
           "z": [
            8.826631713205082e-7
           ]
          }
         ],
         "name": "4.430076085980944e-05"
        },
        {
         "data": [
          {
           "coloraxis": "coloraxis",
           "geo": "geo",
           "hovertemplate": "total_cases=3.741955515433211e-05<br>country=%{location}<br>total_deaths=%{z}<extra></extra>",
           "ids": [
            0.00003741955515433211
           ],
           "locationmode": "country names",
           "locations": [
            "Anguilla"
           ],
           "name": "",
           "type": "choropleth",
           "z": [
            0.000010591958055846098
           ]
          }
         ],
         "name": "3.741955515433211e-05"
        },
        {
         "data": [
          {
           "coloraxis": "coloraxis",
           "geo": "geo",
           "hovertemplate": "total_cases=3.342711223455725e-05<br>country=%{location}<br>total_deaths=%{z}<extra></extra>",
           "ids": [
            0.00003342711223455725
           ],
           "locationmode": "country names",
           "locations": [
            "Macao"
           ],
           "name": "",
           "type": "choropleth",
           "z": [
            0.0001059195805584
           ]
          }
         ],
         "name": "3.342711223455725e-05"
        },
        {
         "data": [
          {
           "coloraxis": "coloraxis",
           "geo": "geo",
           "hovertemplate": "total_cases=3.308161236649981e-05<br>country=%{location}<br>total_deaths=%{z}<extra></extra>",
           "ids": [
            0.00003308161236649981
           ],
           "locationmode": "country names",
           "locations": [
            "Saint Pierre Miquelon"
           ],
           "name": "",
           "type": "choropleth",
           "z": [
            0.0000017653263426410164
           ]
          }
         ],
         "name": "3.308161236649981e-05"
        },
        {
         "data": [
          {
           "coloraxis": "coloraxis",
           "geo": "geo",
           "hovertemplate": "total_cases=3.284168190257104e-05<br>country=%{location}<br>total_deaths=%{z}<extra></extra>",
           "ids": [
            0.00003284168190257104
           ],
           "locationmode": "country names",
           "locations": [
            "Wallis and Futuna"
           ],
           "name": "",
           "type": "choropleth",
           "z": [
            0.000006178642199243557
           ]
          }
         ],
         "name": "3.284168190257104e-05"
        },
        {
         "data": [
          {
           "coloraxis": "coloraxis",
           "geo": "geo",
           "hovertemplate": "total_cases=2.6872211960023056e-05<br>country=%{location}<br>total_deaths=%{z}<extra></extra>",
           "ids": [
            0.000026872211960023056
           ],
           "locationmode": "country names",
           "locations": [
            "Tuvalu"
           ],
           "name": "",
           "type": "choropleth",
           "z": [
            0
           ]
          }
         ],
         "name": "2.6872211960023056e-05"
        },
        {
         "data": [
          {
           "coloraxis": "coloraxis",
           "geo": "geo",
           "hovertemplate": "total_cases=2.073958930200351e-05<br>country=%{location}<br>total_deaths=%{z}<extra></extra>",
           "ids": [
            0.00002073958930200351
           ],
           "locationmode": "country names",
           "locations": [
            "Saint Helena"
           ],
           "name": "",
           "type": "choropleth",
           "z": [
            0
           ]
          }
         ],
         "name": "2.073958930200351e-05"
        },
        {
         "data": [
          {
           "coloraxis": "coloraxis",
           "geo": "geo",
           "hovertemplate": "total_cases=1.847464572251585e-05<br>country=%{location}<br>total_deaths=%{z}<extra></extra>",
           "ids": [
            0.00001847464572251585
           ],
           "locationmode": "country names",
           "locations": [
            "Falkland Islands"
           ],
           "name": "",
           "type": "choropleth",
           "z": [
            0
           ]
          }
         ],
         "name": "1.847464572251585e-05"
        },
        {
         "data": [
          {
           "coloraxis": "coloraxis",
           "geo": "geo",
           "hovertemplate": "total_cases=1.3416911542897225e-05<br>country=%{location}<br>total_deaths=%{z}<extra></extra>",
           "ids": [
            0.000013416911542897225
           ],
           "locationmode": "country names",
           "locations": [
            "Montserrat"
           ],
           "name": "",
           "type": "choropleth",
           "z": [
            0.000007061305370564066
           ]
          }
         ],
         "name": "1.3416911542897225e-05"
        },
        {
         "data": [
          {
           "coloraxis": "coloraxis",
           "geo": "geo",
           "hovertemplate": "total_cases=7.12113616940611e-06<br>country=%{location}<br>total_deaths=%{z}<extra></extra>",
           "ids": [
            0.00000712113616940611
           ],
           "locationmode": "country names",
           "locations": [
            "Niue"
           ],
           "name": "",
           "type": "choropleth",
           "z": [
            0
           ]
          }
         ],
         "name": "7.12113616940611e-06"
        },
        {
         "data": [
          {
           "coloraxis": "coloraxis",
           "geo": "geo",
           "hovertemplate": "total_cases=6.785233519905821e-06<br>country=%{location}<br>total_deaths=%{z}<extra></extra>",
           "ids": [
            0.000006785233519905821
           ],
           "locationmode": "country names",
           "locations": [
            "Diamond Princess"
           ],
           "name": "",
           "type": "choropleth",
           "z": [
            0.000011474621227166607
           ]
          }
         ],
         "name": "6.785233519905821e-06"
        },
        {
         "data": [
          {
           "coloraxis": "coloraxis",
           "geo": "geo",
           "hovertemplate": "total_cases=2.303332453716262e-07<br>country=%{location}<br>total_deaths=%{z}<extra></extra>",
           "ids": [
            2.303332453716262e-7
           ],
           "locationmode": "country names",
           "locations": [
            "Vatican City"
           ],
           "name": "",
           "type": "choropleth",
           "z": [
            0
           ]
          }
         ],
         "name": "2.303332453716262e-07"
        },
        {
         "data": [
          {
           "coloraxis": "coloraxis",
           "geo": "geo",
           "hovertemplate": "total_cases=4.7986092785755454e-08<br>country=%{location}<br>total_deaths=%{z}<extra></extra>",
           "ids": [
            4.7986092785755454e-8
           ],
           "locationmode": "country names",
           "locations": [
            "Western Sahara"
           ],
           "name": "",
           "type": "choropleth",
           "z": [
            8.826631713205082e-7
           ]
          }
         ],
         "name": "4.7986092785755454e-08"
        },
        {
         "data": [
          {
           "coloraxis": "coloraxis",
           "geo": "geo",
           "hovertemplate": "total_cases=3.8388874228604366e-08<br>country=%{location}<br>total_deaths=%{z}<extra></extra>",
           "ids": [
            3.8388874228604366e-8
           ],
           "locationmode": "country names",
           "locations": [
            "MS Zaandam"
           ],
           "name": "",
           "type": "choropleth",
           "z": [
            0.0000017653263426410164
           ]
          }
         ],
         "name": "3.8388874228604366e-08"
        },
        {
         "data": [
          {
           "coloraxis": "coloraxis",
           "geo": "geo",
           "hovertemplate": "total_cases=0.0<br>country=%{location}<br>total_deaths=%{z}<extra></extra>",
           "ids": [
            0
           ],
           "locationmode": "country names",
           "locations": [
            "Tokelau"
           ],
           "name": "",
           "type": "choropleth",
           "z": [
            0
           ]
          }
         ],
         "name": "0.0"
        }
       ],
       "layout": {
        "coloraxis": {
         "colorbar": {
          "title": {
           "text": "total_deaths"
          }
         },
         "colorscale": [
          [
           0,
           "#0d0887"
          ],
          [
           0.1111111111111111,
           "#46039f"
          ],
          [
           0.2222222222222222,
           "#7201a8"
          ],
          [
           0.3333333333333333,
           "#9c179e"
          ],
          [
           0.4444444444444444,
           "#bd3786"
          ],
          [
           0.5555555555555556,
           "#d8576b"
          ],
          [
           0.6666666666666666,
           "#ed7953"
          ],
          [
           0.7777777777777778,
           "#fb9f3a"
          ],
          [
           0.8888888888888888,
           "#fdca26"
          ],
          [
           1,
           "#f0f921"
          ]
         ]
        },
        "geo": {
         "center": {},
         "domain": {
          "x": [
           0,
           1
          ],
          "y": [
           0,
           1
          ]
         }
        },
        "legend": {
         "tracegroupgap": 0
        },
        "margin": {
         "t": 60
        },
        "sliders": [
         {
          "active": 0,
          "currentvalue": {
           "prefix": "total_cases="
          },
          "len": 0.9,
          "pad": {
           "b": 10,
           "t": 60
          },
          "steps": [
           {
            "args": [
             [
              "1.0"
             ],
             {
              "frame": {
               "duration": 0,
               "redraw": true
              },
              "fromcurrent": true,
              "mode": "immediate",
              "transition": {
               "duration": 0,
               "easing": "linear"
              }
             }
            ],
            "label": "1.0",
            "method": "animate"
           },
           {
            "args": [
             [
              "0.428830395803881"
             ],
             {
              "frame": {
               "duration": 0,
               "redraw": true
              },
              "fromcurrent": true,
              "mode": "immediate",
              "transition": {
               "duration": 0,
               "easing": "linear"
              }
             }
            ],
            "label": "0.428830395803881",
            "method": "animate"
           },
           {
            "args": [
             [
              "0.3793234030017182"
             ],
             {
              "frame": {
               "duration": 0,
               "redraw": true
              },
              "fromcurrent": true,
              "mode": "immediate",
              "transition": {
               "duration": 0,
               "easing": "linear"
              }
             }
            ],
            "label": "0.3793234030017182",
            "method": "animate"
           },
           {
            "args": [
             [
              "0.3625812663675763"
             ],
             {
              "frame": {
               "duration": 0,
               "redraw": true
              },
              "fromcurrent": true,
              "mode": "immediate",
              "transition": {
               "duration": 0,
               "easing": "linear"
              }
             }
            ],
            "label": "0.3625812663675763",
            "method": "animate"
           },
           {
            "args": [
             [
              "0.3534134945492021"
             ],
             {
              "frame": {
               "duration": 0,
               "redraw": true
              },
              "fromcurrent": true,
              "mode": "immediate",
              "transition": {
               "duration": 0,
               "easing": "linear"
              }
             }
            ],
            "label": "0.3534134945492021",
            "method": "animate"
           },
           {
            "args": [
             [
              "0.3127583523249492"
             ],
             {
              "frame": {
               "duration": 0,
               "redraw": true
              },
              "fromcurrent": true,
              "mode": "immediate",
              "transition": {
               "duration": 0,
               "easing": "linear"
              }
             }
            ],
            "label": "0.3127583523249492",
            "method": "animate"
           },
           {
            "args": [
             [
              "0.2898077942006234"
             ],
             {
              "frame": {
               "duration": 0,
               "redraw": true
              },
              "fromcurrent": true,
              "mode": "immediate",
              "transition": {
               "duration": 0,
               "easing": "linear"
              }
             }
            ],
            "label": "0.2898077942006234",
            "method": "animate"
           },
           {
            "args": [
             [
              "0.2442855281545155"
             ],
             {
              "frame": {
               "duration": 0,
               "redraw": true
              },
              "fromcurrent": true,
              "mode": "immediate",
              "transition": {
               "duration": 0,
               "easing": "linear"
              }
             }
            ],
            "label": "0.2442855281545155",
            "method": "animate"
           },
           {
            "args": [
             [
              "0.2329662998660919"
             ],
             {
              "frame": {
               "duration": 0,
               "redraw": true
              },
              "fromcurrent": true,
              "mode": "immediate",
              "transition": {
               "duration": 0,
               "easing": "linear"
              }
             }
            ],
            "label": "0.2329662998660919",
            "method": "animate"
           },
           {
            "args": [
             [
              "0.2107423567559466"
             ],
             {
              "frame": {
               "duration": 0,
               "redraw": true
              },
              "fromcurrent": true,
              "mode": "immediate",
              "transition": {
               "duration": 0,
               "easing": "linear"
              }
             }
            ],
            "label": "0.2107423567559466",
            "method": "animate"
           },
           {
            "args": [
             [
              "0.1635626798566743"
             ],
             {
              "frame": {
               "duration": 0,
               "redraw": true
              },
              "fromcurrent": true,
              "mode": "immediate",
              "transition": {
               "duration": 0,
               "easing": "linear"
              }
             }
            ],
            "label": "0.1635626798566743",
            "method": "animate"
           },
           {
            "args": [
             [
              "0.1317839474926191"
             ],
             {
              "frame": {
               "duration": 0,
               "redraw": true
              },
              "fromcurrent": true,
              "mode": "immediate",
              "transition": {
               "duration": 0,
               "easing": "linear"
              }
             }
            ],
            "label": "0.1317839474926191",
            "method": "animate"
           },
           {
            "args": [
             [
              "0.1106223684906577"
             ],
             {
              "frame": {
               "duration": 0,
               "redraw": true
              },
              "fromcurrent": true,
              "mode": "immediate",
              "transition": {
               "duration": 0,
               "easing": "linear"
              }
             }
            ],
            "label": "0.1106223684906577",
            "method": "animate"
           },
           {
            "args": [
             [
              "0.1084048159764052"
             ],
             {
              "frame": {
               "duration": 0,
               "redraw": true
              },
              "fromcurrent": true,
              "mode": "immediate",
              "transition": {
               "duration": 0,
               "easing": "linear"
              }
             }
            ],
            "label": "0.1084048159764052",
            "method": "animate"
           },
           {
            "args": [
             [
              "0.0963285302965379"
             ],
             {
              "frame": {
               "duration": 0,
               "redraw": true
              },
              "fromcurrent": true,
              "mode": "immediate",
              "transition": {
               "duration": 0,
               "easing": "linear"
              }
             }
            ],
            "label": "0.0963285302965379",
            "method": "animate"
           },
           {
            "args": [
             [
              "0.0918416002878244"
             ],
             {
              "frame": {
               "duration": 0,
               "redraw": true
              },
              "fromcurrent": true,
              "mode": "immediate",
              "transition": {
               "duration": 0,
               "easing": "linear"
              }
             }
            ],
            "label": "0.0918416002878244",
            "method": "animate"
           },
           {
            "args": [
             [
              "0.0823680802806564"
             ],
             {
              "frame": {
               "duration": 0,
               "redraw": true
              },
              "fromcurrent": true,
              "mode": "immediate",
              "transition": {
               "duration": 0,
               "easing": "linear"
              }
             }
            ],
            "label": "0.0823680802806564",
            "method": "animate"
           },
           {
            "args": [
             [
              "0.072596672206693"
             ],
             {
              "frame": {
               "duration": 0,
               "redraw": true
              },
              "fromcurrent": true,
              "mode": "immediate",
              "transition": {
               "duration": 0,
               "easing": "linear"
              }
             }
            ],
            "label": "0.072596672206693",
            "method": "animate"
           },
           {
            "args": [
             [
              "0.0707146768420728"
             ],
             {
              "frame": {
               "duration": 0,
               "redraw": true
              },
              "fromcurrent": true,
              "mode": "immediate",
              "transition": {
               "duration": 0,
               "easing": "linear"
              }
             }
            ],
            "label": "0.0707146768420728",
            "method": "animate"
           },
           {
            "args": [
             [
              "0.064592006499697"
             ],
             {
              "frame": {
               "duration": 0,
               "redraw": true
              },
              "fromcurrent": true,
              "mode": "immediate",
              "transition": {
               "duration": 0,
               "easing": "linear"
              }
             }
            ],
            "label": "0.064592006499697",
            "method": "animate"
           },
           {
            "args": [
             [
              "0.0612323657827065"
             ],
             {
              "frame": {
               "duration": 0,
               "redraw": true
              },
              "fromcurrent": true,
              "mode": "immediate",
              "transition": {
               "duration": 0,
               "easing": "linear"
              }
             }
            ],
            "label": "0.0612323657827065",
            "method": "animate"
           },
           {
            "args": [
             [
              "0.0610028387036937"
             ],
             {
              "frame": {
               "duration": 0,
               "redraw": true
              },
              "fromcurrent": true,
              "mode": "immediate",
              "transition": {
               "duration": 0,
               "easing": "linear"
              }
             }
            ],
            "label": "0.0610028387036937",
            "method": "animate"
           },
           {
            "args": [
             [
              "0.0554740730372901"
             ],
             {
              "frame": {
               "duration": 0,
               "redraw": true
              },
              "fromcurrent": true,
              "mode": "immediate",
              "transition": {
               "duration": 0,
               "easing": "linear"
              }
             }
            ],
            "label": "0.0554740730372901",
            "method": "animate"
           },
           {
            "args": [
             [
              "0.0547837643009113"
             ],
             {
              "frame": {
               "duration": 0,
               "redraw": true
              },
              "fromcurrent": true,
              "mode": "immediate",
              "transition": {
               "duration": 0,
               "easing": "linear"
              }
             }
            ],
            "label": "0.0547837643009113",
            "method": "animate"
           },
           {
            "args": [
             [
              "0.05339798352457"
             ],
             {
              "frame": {
               "duration": 0,
               "redraw": true
              },
              "fromcurrent": true,
              "mode": "immediate",
              "transition": {
               "duration": 0,
               "easing": "linear"
              }
             }
            ],
            "label": "0.05339798352457",
            "method": "animate"
           },
           {
            "args": [
             [
              "0.0515382729014395"
             ],
             {
              "frame": {
               "duration": 0,
               "redraw": true
              },
              "fromcurrent": true,
              "mode": "immediate",
              "transition": {
               "duration": 0,
               "easing": "linear"
              }
             }
            ],
            "label": "0.0515382729014395",
            "method": "animate"
           },
           {
            "args": [
             [
              "0.049127931460811"
             ],
             {
              "frame": {
               "duration": 0,
               "redraw": true
              },
              "fromcurrent": true,
              "mode": "immediate",
              "transition": {
               "duration": 0,
               "easing": "linear"
              }
             }
            ],
            "label": "0.049127931460811",
            "method": "animate"
           },
           {
            "args": [
             [
              "0.0483372358183245"
             ],
             {
              "frame": {
               "duration": 0,
               "redraw": true
              },
              "fromcurrent": true,
              "mode": "immediate",
              "transition": {
               "duration": 0,
               "easing": "linear"
              }
             }
            ],
            "label": "0.0483372358183245",
            "method": "animate"
           },
           {
            "args": [
             [
              "0.0459340539027396"
             ],
             {
              "frame": {
               "duration": 0,
               "redraw": true
              },
              "fromcurrent": true,
              "mode": "immediate",
              "transition": {
               "duration": 0,
               "easing": "linear"
              }
             }
            ],
            "label": "0.0459340539027396",
            "method": "animate"
           },
           {
            "args": [
             [
              "0.0458056815073191"
             ],
             {
              "frame": {
               "duration": 0,
               "redraw": true
              },
              "fromcurrent": true,
              "mode": "immediate",
              "transition": {
               "duration": 0,
               "easing": "linear"
              }
             }
            ],
            "label": "0.0458056815073191",
            "method": "animate"
           },
           {
            "args": [
             [
              "0.0453658505780635"
             ],
             {
              "frame": {
               "duration": 0,
               "redraw": true
              },
              "fromcurrent": true,
              "mode": "immediate",
              "transition": {
               "duration": 0,
               "easing": "linear"
              }
             }
            ],
            "label": "0.0453658505780635",
            "method": "animate"
           },
           {
            "args": [
             [
              "0.045025293277563"
             ],
             {
              "frame": {
               "duration": 0,
               "redraw": true
              },
              "fromcurrent": true,
              "mode": "immediate",
              "transition": {
               "duration": 0,
               "easing": "linear"
              }
             }
            ],
            "label": "0.045025293277563",
            "method": "animate"
           },
           {
            "args": [
             [
              "0.0440513675383833"
             ],
             {
              "frame": {
               "duration": 0,
               "redraw": true
              },
              "fromcurrent": true,
              "mode": "immediate",
              "transition": {
               "duration": 0,
               "easing": "linear"
              }
             }
            ],
            "label": "0.0440513675383833",
            "method": "animate"
           },
           {
            "args": [
             [
              "0.0436697533368953"
             ],
             {
              "frame": {
               "duration": 0,
               "redraw": true
              },
              "fromcurrent": true,
              "mode": "immediate",
              "transition": {
               "duration": 0,
               "easing": "linear"
              }
             }
            ],
            "label": "0.0436697533368953",
            "method": "animate"
           },
           {
            "args": [
             [
              "0.0430110482412252"
             ],
             {
              "frame": {
               "duration": 0,
               "redraw": true
              },
              "fromcurrent": true,
              "mode": "immediate",
              "transition": {
               "duration": 0,
               "easing": "linear"
              }
             }
            ],
            "label": "0.0430110482412252",
            "method": "animate"
           },
           {
            "args": [
             [
              "0.0420904830372233"
             ],
             {
              "frame": {
               "duration": 0,
               "redraw": true
              },
              "fromcurrent": true,
              "mode": "immediate",
              "transition": {
               "duration": 0,
               "easing": "linear"
              }
             }
            ],
            "label": "0.0420904830372233",
            "method": "animate"
           },
           {
            "args": [
             [
              "0.0390937803344085"
             ],
             {
              "frame": {
               "duration": 0,
               "redraw": true
              },
              "fromcurrent": true,
              "mode": "immediate",
              "transition": {
               "duration": 0,
               "easing": "linear"
              }
             }
            ],
            "label": "0.0390937803344085",
            "method": "animate"
           },
           {
            "args": [
             [
              "0.0389259441762811"
             ],
             {
              "frame": {
               "duration": 0,
               "redraw": true
              },
              "fromcurrent": true,
              "mode": "immediate",
              "transition": {
               "duration": 0,
               "easing": "linear"
              }
             }
            ],
            "label": "0.0389259441762811",
            "method": "animate"
           },
           {
            "args": [
             [
              "0.0319107612997459"
             ],
             {
              "frame": {
               "duration": 0,
               "redraw": true
              },
              "fromcurrent": true,
              "mode": "immediate",
              "transition": {
               "duration": 0,
               "easing": "linear"
              }
             }
            ],
            "label": "0.0319107612997459",
            "method": "animate"
           },
           {
            "args": [
             [
              "0.0304542970087312"
             ],
             {
              "frame": {
               "duration": 0,
               "redraw": true
              },
              "fromcurrent": true,
              "mode": "immediate",
              "transition": {
               "duration": 0,
               "easing": "linear"
              }
             }
            ],
            "label": "0.0304542970087312",
            "method": "animate"
           },
           {
            "args": [
             [
              "0.0276138370240269"
             ],
             {
              "frame": {
               "duration": 0,
               "redraw": true
              },
              "fromcurrent": true,
              "mode": "immediate",
              "transition": {
               "duration": 0,
               "easing": "linear"
              }
             }
            ],
            "label": "0.0276138370240269",
            "method": "animate"
           },
           {
            "args": [
             [
              "0.0258496571144142"
             ],
             {
              "frame": {
               "duration": 0,
               "redraw": true
              },
              "fromcurrent": true,
              "mode": "immediate",
              "transition": {
               "duration": 0,
               "easing": "linear"
              }
             }
            ],
            "label": "0.0258496571144142",
            "method": "animate"
           },
           {
            "args": [
             [
              "0.0237165793179018"
             ],
             {
              "frame": {
               "duration": 0,
               "redraw": true
              },
              "fromcurrent": true,
              "mode": "immediate",
              "transition": {
               "duration": 0,
               "easing": "linear"
              }
             }
            ],
            "label": "0.0237165793179018",
            "method": "animate"
           },
           {
            "args": [
             [
              "0.0236623262413983"
             ],
             {
              "frame": {
               "duration": 0,
               "redraw": true
              },
              "fromcurrent": true,
              "mode": "immediate",
              "transition": {
               "duration": 0,
               "easing": "linear"
              }
             }
            ],
            "label": "0.0236623262413983",
            "method": "animate"
           },
           {
            "args": [
             [
              "0.0212780412491524"
             ],
             {
              "frame": {
               "duration": 0,
               "redraw": true
              },
              "fromcurrent": true,
              "mode": "immediate",
              "transition": {
               "duration": 0,
               "easing": "linear"
              }
             }
            ],
            "label": "0.0212780412491524",
            "method": "animate"
           },
           {
            "args": [
             [
              "0.0210413450478774"
             ],
             {
              "frame": {
               "duration": 0,
               "redraw": true
              },
              "fromcurrent": true,
              "mode": "immediate",
              "transition": {
               "duration": 0,
               "easing": "linear"
              }
             }
            ],
            "label": "0.0210413450478774",
            "method": "animate"
           },
           {
            "args": [
             [
              "0.0209444899181986"
             ],
             {
              "frame": {
               "duration": 0,
               "redraw": true
              },
              "fromcurrent": true,
              "mode": "immediate",
              "transition": {
               "duration": 0,
               "easing": "linear"
              }
             }
            ],
            "label": "0.0209444899181986",
            "method": "animate"
           },
           {
            "args": [
             [
              "0.0195548222683417"
             ],
             {
              "frame": {
               "duration": 0,
               "redraw": true
              },
              "fromcurrent": true,
              "mode": "immediate",
              "transition": {
               "duration": 0,
               "easing": "linear"
              }
             }
            ],
            "label": "0.0195548222683417",
            "method": "animate"
           },
           {
            "args": [
             [
              "0.0178593488463797"
             ],
             {
              "frame": {
               "duration": 0,
               "redraw": true
              },
              "fromcurrent": true,
              "mode": "immediate",
              "transition": {
               "duration": 0,
               "easing": "linear"
              }
             }
            ],
            "label": "0.0178593488463797",
            "method": "animate"
           },
           {
            "args": [
             [
              "0.0174110339759195"
             ],
             {
              "frame": {
               "duration": 0,
               "redraw": true
              },
              "fromcurrent": true,
              "mode": "immediate",
              "transition": {
               "duration": 0,
               "easing": "linear"
              }
             }
            ],
            "label": "0.0174110339759195",
            "method": "animate"
           },
           {
            "args": [
             [
              "0.0167662640415944"
             ],
             {
              "frame": {
               "duration": 0,
               "redraw": true
              },
              "fromcurrent": true,
              "mode": "immediate",
              "transition": {
               "duration": 0,
               "easing": "linear"
              }
             }
            ],
            "label": "0.0167662640415944",
            "method": "animate"
           },
           {
            "args": [
             [
              "0.016317651657359"
             ],
             {
              "frame": {
               "duration": 0,
               "redraw": true
              },
              "fromcurrent": true,
              "mode": "immediate",
              "transition": {
               "duration": 0,
               "easing": "linear"
              }
             }
            ],
            "label": "0.016317651657359",
            "method": "animate"
           },
           {
            "args": [
             [
              "0.0151281723893857"
             ],
             {
              "frame": {
               "duration": 0,
               "redraw": true
              },
              "fromcurrent": true,
              "mode": "immediate",
              "transition": {
               "duration": 0,
               "easing": "linear"
              }
             }
            ],
            "label": "0.0151281723893857",
            "method": "animate"
           },
           {
            "args": [
             [
              "0.0141832590419042"
             ],
             {
              "frame": {
               "duration": 0,
               "redraw": true
              },
              "fromcurrent": true,
              "mode": "immediate",
              "transition": {
               "duration": 0,
               "easing": "linear"
              }
             }
            ],
            "label": "0.0141832590419042",
            "method": "animate"
           },
           {
            "args": [
             [
              "0.0139986373485203"
             ],
             {
              "frame": {
               "duration": 0,
               "redraw": true
              },
              "fromcurrent": true,
              "mode": "immediate",
              "transition": {
               "duration": 0,
               "easing": "linear"
              }
             }
            ],
            "label": "0.0139986373485203",
            "method": "animate"
           },
           {
            "args": [
             [
              "0.0134928447361214"
             ],
             {
              "frame": {
               "duration": 0,
               "redraw": true
              },
              "fromcurrent": true,
              "mode": "immediate",
              "transition": {
               "duration": 0,
               "easing": "linear"
              }
             }
            ],
            "label": "0.0134928447361214",
            "method": "animate"
           },
           {
            "args": [
             [
              "0.0126860545581144"
             ],
             {
              "frame": {
               "duration": 0,
               "redraw": true
              },
              "fromcurrent": true,
              "mode": "immediate",
              "transition": {
               "duration": 0,
               "easing": "linear"
              }
             }
            ],
            "label": "0.0126860545581144",
            "method": "animate"
           },
           {
            "args": [
             [
              "0.0124462488580269"
             ],
             {
              "frame": {
               "duration": 0,
               "redraw": true
              },
              "fromcurrent": true,
              "mode": "immediate",
              "transition": {
               "duration": 0,
               "easing": "linear"
              }
             }
            ],
            "label": "0.0124462488580269",
            "method": "animate"
           },
           {
            "args": [
             [
              "0.0124324384605232"
             ],
             {
              "frame": {
               "duration": 0,
               "redraw": true
              },
              "fromcurrent": true,
              "mode": "immediate",
              "transition": {
               "duration": 0,
               "easing": "linear"
              }
             }
            ],
            "label": "0.0124324384605232",
            "method": "animate"
           },
           {
            "args": [
             [
              "0.0122099173510571"
             ],
             {
              "frame": {
               "duration": 0,
               "redraw": true
              },
              "fromcurrent": true,
              "mode": "immediate",
              "transition": {
               "duration": 0,
               "easing": "linear"
              }
             }
            ],
            "label": "0.0122099173510571",
            "method": "animate"
           },
           {
            "args": [
             [
              "0.0121651943125807"
             ],
             {
              "frame": {
               "duration": 0,
               "redraw": true
              },
              "fromcurrent": true,
              "mode": "immediate",
              "transition": {
               "duration": 0,
               "easing": "linear"
              }
             }
            ],
            "label": "0.0121651943125807",
            "method": "animate"
           },
           {
            "args": [
             [
              "0.0117914690247467"
             ],
             {
              "frame": {
               "duration": 0,
               "redraw": true
              },
              "fromcurrent": true,
              "mode": "immediate",
              "transition": {
               "duration": 0,
               "easing": "linear"
              }
             }
            ],
            "label": "0.0117914690247467",
            "method": "animate"
           },
           {
            "args": [
             [
              "0.0117839256109608"
             ],
             {
              "frame": {
               "duration": 0,
               "redraw": true
              },
              "fromcurrent": true,
              "mode": "immediate",
              "transition": {
               "duration": 0,
               "easing": "linear"
              }
             }
            ],
            "label": "0.0117839256109608",
            "method": "animate"
           },
           {
            "args": [
             [
              "0.0114013132987429"
             ],
             {
              "frame": {
               "duration": 0,
               "redraw": true
              },
              "fromcurrent": true,
              "mode": "immediate",
              "transition": {
               "duration": 0,
               "easing": "linear"
              }
             }
            ],
            "label": "0.0114013132987429",
            "method": "animate"
           },
           {
            "args": [
             [
              "0.0113839423331544"
             ],
             {
              "frame": {
               "duration": 0,
               "redraw": true
              },
              "fromcurrent": true,
              "mode": "immediate",
              "transition": {
               "duration": 0,
               "easing": "linear"
              }
             }
            ],
            "label": "0.0113839423331544",
            "method": "animate"
           },
           {
            "args": [
             [
              "0.0110401699644373"
             ],
             {
              "frame": {
               "duration": 0,
               "redraw": true
              },
              "fromcurrent": true,
              "mode": "immediate",
              "transition": {
               "duration": 0,
               "easing": "linear"
              }
             }
            ],
            "label": "0.0110401699644373",
            "method": "animate"
           },
           {
            "args": [
             [
              "0.0106762626311872"
             ],
             {
              "frame": {
               "duration": 0,
               "redraw": true
              },
              "fromcurrent": true,
              "mode": "immediate",
              "transition": {
               "duration": 0,
               "easing": "linear"
              }
             }
            ],
            "label": "0.0106762626311872",
            "method": "animate"
           },
           {
            "args": [
             [
              "0.0100889224527081"
             ],
             {
              "frame": {
               "duration": 0,
               "redraw": true
              },
              "fromcurrent": true,
              "mode": "immediate",
              "transition": {
               "duration": 0,
               "easing": "linear"
              }
             }
            ],
            "label": "0.0100889224527081",
            "method": "animate"
           },
           {
            "args": [
             [
              "0.0100713595427485"
             ],
             {
              "frame": {
               "duration": 0,
               "redraw": true
              },
              "fromcurrent": true,
              "mode": "immediate",
              "transition": {
               "duration": 0,
               "easing": "linear"
              }
             }
            ],
            "label": "0.0100713595427485",
            "method": "animate"
           },
           {
            "args": [
             [
              "0.0099110955900627"
             ],
             {
              "frame": {
               "duration": 0,
               "redraw": true
              },
              "fromcurrent": true,
              "mode": "immediate",
              "transition": {
               "duration": 0,
               "easing": "linear"
              }
             }
            ],
            "label": "0.0099110955900627",
            "method": "animate"
           },
           {
            "args": [
             [
              "0.0098822175594242"
             ],
             {
              "frame": {
               "duration": 0,
               "redraw": true
              },
              "fromcurrent": true,
              "mode": "immediate",
              "transition": {
               "duration": 0,
               "easing": "linear"
              }
             }
            ],
            "label": "0.0098822175594242",
            "method": "animate"
           },
           {
            "args": [
             [
              "0.0096727102783216"
             ],
             {
              "frame": {
               "duration": 0,
               "redraw": true
              },
              "fromcurrent": true,
              "mode": "immediate",
              "transition": {
               "duration": 0,
               "easing": "linear"
              }
             }
            ],
            "label": "0.0096727102783216",
            "method": "animate"
           },
           {
            "args": [
             [
              "0.0096077467059082"
             ],
             {
              "frame": {
               "duration": 0,
               "redraw": true
              },
              "fromcurrent": true,
              "mode": "immediate",
              "transition": {
               "duration": 0,
               "easing": "linear"
              }
             }
            ],
            "label": "0.0096077467059082",
            "method": "animate"
           },
           {
            "args": [
             [
              "0.009539942356802"
             ],
             {
              "frame": {
               "duration": 0,
               "redraw": true
              },
              "fromcurrent": true,
              "mode": "immediate",
              "transition": {
               "duration": 0,
               "easing": "linear"
              }
             }
            ],
            "label": "0.009539942356802",
            "method": "animate"
           },
           {
            "args": [
             [
              "0.0093606471197173"
             ],
             {
              "frame": {
               "duration": 0,
               "redraw": true
              },
              "fromcurrent": true,
              "mode": "immediate",
              "transition": {
               "duration": 0,
               "easing": "linear"
              }
             }
            ],
            "label": "0.0093606471197173",
            "method": "animate"
           },
           {
            "args": [
             [
              "0.0079460842849231"
             ],
             {
              "frame": {
               "duration": 0,
               "redraw": true
              },
              "fromcurrent": true,
              "mode": "immediate",
              "transition": {
               "duration": 0,
               "easing": "linear"
              }
             }
            ],
            "label": "0.0079460842849231",
            "method": "animate"
           },
           {
            "args": [
             [
              "0.0079459115349891"
             ],
             {
              "frame": {
               "duration": 0,
               "redraw": true
              },
              "fromcurrent": true,
              "mode": "immediate",
              "transition": {
               "duration": 0,
               "easing": "linear"
              }
             }
            ],
            "label": "0.0079459115349891",
            "method": "animate"
           },
           {
            "args": [
             [
              "0.0077377670589216"
             ],
             {
              "frame": {
               "duration": 0,
               "redraw": true
              },
              "fromcurrent": true,
              "mode": "immediate",
              "transition": {
               "duration": 0,
               "easing": "linear"
              }
             }
            ],
            "label": "0.0077377670589216",
            "method": "animate"
           },
           {
            "args": [
             [
              "0.0067223429467008"
             ],
             {
              "frame": {
               "duration": 0,
               "redraw": true
              },
              "fromcurrent": true,
              "mode": "immediate",
              "transition": {
               "duration": 0,
               "easing": "linear"
              }
             }
            ],
            "label": "0.0067223429467008",
            "method": "animate"
           },
           {
            "args": [
             [
              "0.0064491773149086"
             ],
             {
              "frame": {
               "duration": 0,
               "redraw": true
              },
              "fromcurrent": true,
              "mode": "immediate",
              "transition": {
               "duration": 0,
               "easing": "linear"
              }
             }
            ],
            "label": "0.0064491773149086",
            "method": "animate"
           },
           {
            "args": [
             [
              "0.0063615451122632"
             ],
             {
              "frame": {
               "duration": 0,
               "redraw": true
              },
              "fromcurrent": true,
              "mode": "immediate",
              "transition": {
               "duration": 0,
               "easing": "linear"
              }
             }
            ],
            "label": "0.0063615451122632",
            "method": "animate"
           },
           {
            "args": [
             [
              "0.0063350279973898"
             ],
             {
              "frame": {
               "duration": 0,
               "redraw": true
              },
              "fromcurrent": true,
              "mode": "immediate",
              "transition": {
               "duration": 0,
               "easing": "linear"
              }
             }
            ],
            "label": "0.0063350279973898",
            "method": "animate"
           },
           {
            "args": [
             [
              "0.0061677292835016"
             ],
             {
              "frame": {
               "duration": 0,
               "redraw": true
              },
              "fromcurrent": true,
              "mode": "immediate",
              "transition": {
               "duration": 0,
               "easing": "linear"
              }
             }
            ],
            "label": "0.0061677292835016",
            "method": "animate"
           },
           {
            "args": [
             [
              "0.0060828610798007"
             ],
             {
              "frame": {
               "duration": 0,
               "redraw": true
              },
              "fromcurrent": true,
              "mode": "immediate",
              "transition": {
               "duration": 0,
               "easing": "linear"
              }
             }
            ],
            "label": "0.0060828610798007",
            "method": "animate"
           },
           {
            "args": [
             [
              "0.0059599015156464"
             ],
             {
              "frame": {
               "duration": 0,
               "redraw": true
              },
              "fromcurrent": true,
              "mode": "immediate",
              "transition": {
               "duration": 0,
               "easing": "linear"
              }
             }
            ],
            "label": "0.0059599015156464",
            "method": "animate"
           },
           {
            "args": [
             [
              "0.0058915981111752"
             ],
             {
              "frame": {
               "duration": 0,
               "redraw": true
              },
              "fromcurrent": true,
              "mode": "immediate",
              "transition": {
               "duration": 0,
               "easing": "linear"
              }
             }
            ],
            "label": "0.0058915981111752",
            "method": "animate"
           },
           {
            "args": [
             [
              "0.0057455476391725"
             ],
             {
              "frame": {
               "duration": 0,
               "redraw": true
              },
              "fromcurrent": true,
              "mode": "immediate",
              "transition": {
               "duration": 0,
               "easing": "linear"
              }
             }
            ],
            "label": "0.0057455476391725",
            "method": "animate"
           },
           {
            "args": [
             [
              "0.0052936530061905"
             ],
             {
              "frame": {
               "duration": 0,
               "redraw": true
              },
              "fromcurrent": true,
              "mode": "immediate",
              "transition": {
               "duration": 0,
               "easing": "linear"
              }
             }
            ],
            "label": "0.0052936530061905",
            "method": "animate"
           },
           {
            "args": [
             [
              "0.0049487097768093"
             ],
             {
              "frame": {
               "duration": 0,
               "redraw": true
              },
              "fromcurrent": true,
              "mode": "immediate",
              "transition": {
               "duration": 0,
               "easing": "linear"
              }
             }
            ],
            "label": "0.0049487097768093",
            "method": "animate"
           },
           {
            "args": [
             [
              "0.004867296571789"
             ],
             {
              "frame": {
               "duration": 0,
               "redraw": true
              },
              "fromcurrent": true,
              "mode": "immediate",
              "transition": {
               "duration": 0,
               "easing": "linear"
              }
             }
            ],
            "label": "0.004867296571789",
            "method": "animate"
           },
           {
            "args": [
             [
              "0.0048302513081584"
             ],
             {
              "frame": {
               "duration": 0,
               "redraw": true
              },
              "fromcurrent": true,
              "mode": "immediate",
              "transition": {
               "duration": 0,
               "easing": "linear"
              }
             }
            ],
            "label": "0.0048302513081584",
            "method": "animate"
           },
           {
            "args": [
             [
              "0.0047940601969794"
             ],
             {
              "frame": {
               "duration": 0,
               "redraw": true
              },
              "fromcurrent": true,
              "mode": "immediate",
              "transition": {
               "duration": 0,
               "easing": "linear"
              }
             }
            ],
            "label": "0.0047940601969794",
            "method": "animate"
           },
           {
            "args": [
             [
              "0.004726908458735"
             ],
             {
              "frame": {
               "duration": 0,
               "redraw": true
              },
              "fromcurrent": true,
              "mode": "immediate",
              "transition": {
               "duration": 0,
               "easing": "linear"
              }
             }
            ],
            "label": "0.004726908458735",
            "method": "animate"
           },
           {
            "args": [
             [
              "0.0046631925247341"
             ],
             {
              "frame": {
               "duration": 0,
               "redraw": true
              },
              "fromcurrent": true,
              "mode": "immediate",
              "transition": {
               "duration": 0,
               "easing": "linear"
              }
             }
            ],
            "label": "0.0046631925247341",
            "method": "animate"
           },
           {
            "args": [
             [
              "0.0045179098302159"
             ],
             {
              "frame": {
               "duration": 0,
               "redraw": true
              },
              "fromcurrent": true,
              "mode": "immediate",
              "transition": {
               "duration": 0,
               "easing": "linear"
              }
             }
            ],
            "label": "0.0045179098302159",
            "method": "animate"
           },
           {
            "args": [
             [
              "0.004280388268145"
             ],
             {
              "frame": {
               "duration": 0,
               "redraw": true
              },
              "fromcurrent": true,
              "mode": "immediate",
              "transition": {
               "duration": 0,
               "easing": "linear"
              }
             }
            ],
            "label": "0.004280388268145",
            "method": "animate"
           },
           {
            "args": [
             [
              "0.0038521219872507"
             ],
             {
              "frame": {
               "duration": 0,
               "redraw": true
              },
              "fromcurrent": true,
              "mode": "immediate",
              "transition": {
               "duration": 0,
               "easing": "linear"
              }
             }
            ],
            "label": "0.0038521219872507",
            "method": "animate"
           },
           {
            "args": [
             [
              "0.0038335513693426"
             ],
             {
              "frame": {
               "duration": 0,
               "redraw": true
              },
              "fromcurrent": true,
              "mode": "immediate",
              "transition": {
               "duration": 0,
               "easing": "linear"
              }
             }
            ],
            "label": "0.0038335513693426",
            "method": "animate"
           },
           {
            "args": [
             [
              "0.0033246972442239"
             ],
             {
              "frame": {
               "duration": 0,
               "redraw": true
              },
              "fromcurrent": true,
              "mode": "immediate",
              "transition": {
               "duration": 0,
               "easing": "linear"
              }
             }
            ],
            "label": "0.0033246972442239",
            "method": "animate"
           },
           {
            "args": [
             [
              "0.0032899745074841"
             ],
             {
              "frame": {
               "duration": 0,
               "redraw": true
              },
              "fromcurrent": true,
              "mode": "immediate",
              "transition": {
               "duration": 0,
               "easing": "linear"
              }
             }
            ],
            "label": "0.0032899745074841",
            "method": "animate"
           },
           {
            "args": [
             [
              "0.0032703290010976"
             ],
             {
              "frame": {
               "duration": 0,
               "redraw": true
              },
              "fromcurrent": true,
              "mode": "immediate",
              "transition": {
               "duration": 0,
               "easing": "linear"
              }
             }
            ],
            "label": "0.0032703290010976",
            "method": "animate"
           },
           {
            "args": [
             [
              "0.0032070257474947"
             ],
             {
              "frame": {
               "duration": 0,
               "redraw": true
              },
              "fromcurrent": true,
              "mode": "immediate",
              "transition": {
               "duration": 0,
               "easing": "linear"
              }
             }
            ],
            "label": "0.0032070257474947",
            "method": "animate"
           },
           {
            "args": [
             [
              "0.0031596154878223"
             ],
             {
              "frame": {
               "duration": 0,
               "redraw": true
              },
              "fromcurrent": true,
              "mode": "immediate",
              "transition": {
               "duration": 0,
               "easing": "linear"
              }
             }
            ],
            "label": "0.0031596154878223",
            "method": "animate"
           },
           {
            "args": [
             [
              "0.0028575910198288"
             ],
             {
              "frame": {
               "duration": 0,
               "redraw": true
              },
              "fromcurrent": true,
              "mode": "immediate",
              "transition": {
               "duration": 0,
               "easing": "linear"
              }
             }
            ],
            "label": "0.0028575910198288",
            "method": "animate"
           },
           {
            "args": [
             [
              "0.0027481635338402"
             ],
             {
              "frame": {
               "duration": 0,
               "redraw": true
              },
              "fromcurrent": true,
              "mode": "immediate",
              "transition": {
               "duration": 0,
               "easing": "linear"
              }
             }
            ],
            "label": "0.0027481635338402",
            "method": "animate"
           },
           {
            "args": [
             [
              "0.0026412985052063"
             ],
             {
              "frame": {
               "duration": 0,
               "redraw": true
              },
              "fromcurrent": true,
              "mode": "immediate",
              "transition": {
               "duration": 0,
               "easing": "linear"
              }
             }
            ],
            "label": "0.0026412985052063",
            "method": "animate"
           },
           {
            "args": [
             [
              "0.0026044259915097"
             ],
             {
              "frame": {
               "duration": 0,
               "redraw": true
              },
              "fromcurrent": true,
              "mode": "immediate",
              "transition": {
               "duration": 0,
               "easing": "linear"
              }
             }
            ],
            "label": "0.0026044259915097",
            "method": "animate"
           },
           {
            "args": [
             [
              "0.0025572556623013"
             ],
             {
              "frame": {
               "duration": 0,
               "redraw": true
              },
              "fromcurrent": true,
              "mode": "immediate",
              "transition": {
               "duration": 0,
               "easing": "linear"
              }
             }
            ],
            "label": "0.0025572556623013",
            "method": "animate"
           },
           {
            "args": [
             [
              "0.0025106419717692"
             ],
             {
              "frame": {
               "duration": 0,
               "redraw": true
              },
              "fromcurrent": true,
              "mode": "immediate",
              "transition": {
               "duration": 0,
               "easing": "linear"
              }
             }
            ],
            "label": "0.0025106419717692",
            "method": "animate"
           },
           {
            "args": [
             [
              "0.0024046982761168"
             ],
             {
              "frame": {
               "duration": 0,
               "redraw": true
              },
              "fromcurrent": true,
              "mode": "immediate",
              "transition": {
               "duration": 0,
               "easing": "linear"
              }
             }
            ],
            "label": "0.0024046982761168",
            "method": "animate"
           },
           {
            "args": [
             [
              "0.0022264491358549"
             ],
             {
              "frame": {
               "duration": 0,
               "redraw": true
              },
              "fromcurrent": true,
              "mode": "immediate",
              "transition": {
               "duration": 0,
               "easing": "linear"
              }
             }
            ],
            "label": "0.0022264491358549",
            "method": "animate"
           },
           {
            "args": [
             [
              "0.0022043083526435"
             ],
             {
              "frame": {
               "duration": 0,
               "redraw": true
              },
              "fromcurrent": true,
              "mode": "immediate",
              "transition": {
               "duration": 0,
               "easing": "linear"
              }
             }
            ],
            "label": "0.0022043083526435",
            "method": "animate"
           },
           {
            "args": [
             [
              "0.0020918865344651"
             ],
             {
              "frame": {
               "duration": 0,
               "redraw": true
              },
              "fromcurrent": true,
              "mode": "immediate",
              "transition": {
               "duration": 0,
               "easing": "linear"
              }
             }
            ],
            "label": "0.0020918865344651",
            "method": "animate"
           },
           {
            "args": [
             [
              "0.0020027763601619"
             ],
             {
              "frame": {
               "duration": 0,
               "redraw": true
              },
              "fromcurrent": true,
              "mode": "immediate",
              "transition": {
               "duration": 0,
               "easing": "linear"
              }
             }
            ],
            "label": "0.0020027763601619",
            "method": "animate"
           },
           {
            "args": [
             [
              "0.0020014039579082"
             ],
             {
              "frame": {
               "duration": 0,
               "redraw": true
              },
              "fromcurrent": true,
              "mode": "immediate",
              "transition": {
               "duration": 0,
               "easing": "linear"
              }
             }
            ],
            "label": "0.0020014039579082",
            "method": "animate"
           },
           {
            "args": [
             [
              "0.0019826605900661"
             ],
             {
              "frame": {
               "duration": 0,
               "redraw": true
              },
              "fromcurrent": true,
              "mode": "immediate",
              "transition": {
               "duration": 0,
               "easing": "linear"
              }
             }
            ],
            "label": "0.0019826605900661",
            "method": "animate"
           },
           {
            "args": [
             [
              "0.0019365267604619"
             ],
             {
              "frame": {
               "duration": 0,
               "redraw": true
              },
              "fromcurrent": true,
              "mode": "immediate",
              "transition": {
               "duration": 0,
               "easing": "linear"
              }
             }
            ],
            "label": "0.0019365267604619",
            "method": "animate"
           },
           {
            "args": [
             [
              "0.0019327742480061"
             ],
             {
              "frame": {
               "duration": 0,
               "redraw": true
              },
              "fromcurrent": true,
              "mode": "immediate",
              "transition": {
               "duration": 0,
               "easing": "linear"
              }
             }
            ],
            "label": "0.0019327742480061",
            "method": "animate"
           },
           {
            "args": [
             [
              "0.0018033461585443"
             ],
             {
              "frame": {
               "duration": 0,
               "redraw": true
              },
              "fromcurrent": true,
              "mode": "immediate",
              "transition": {
               "duration": 0,
               "easing": "linear"
              }
             }
            ],
            "label": "0.0018033461585443",
            "method": "animate"
           },
           {
            "args": [
             [
              "0.0017822994582485"
             ],
             {
              "frame": {
               "duration": 0,
               "redraw": true
              },
              "fromcurrent": true,
              "mode": "immediate",
              "transition": {
               "duration": 0,
               "easing": "linear"
              }
             }
            ],
            "label": "0.0017822994582485",
            "method": "animate"
           },
           {
            "args": [
             [
              "0.0016421512756584"
             ],
             {
              "frame": {
               "duration": 0,
               "redraw": true
              },
              "fromcurrent": true,
              "mode": "immediate",
              "transition": {
               "duration": 0,
               "easing": "linear"
              }
             }
            ],
            "label": "0.0016421512756584",
            "method": "animate"
           },
           {
            "args": [
             [
              "0.0016385907075737"
             ],
             {
              "frame": {
               "duration": 0,
               "redraw": true
              },
              "fromcurrent": true,
              "mode": "immediate",
              "transition": {
               "duration": 0,
               "easing": "linear"
              }
             }
            ],
            "label": "0.0016385907075737",
            "method": "animate"
           },
           {
            "args": [
             [
              "0.0016353180560457"
             ],
             {
              "frame": {
               "duration": 0,
               "redraw": true
              },
              "fromcurrent": true,
              "mode": "immediate",
              "transition": {
               "duration": 0,
               "easing": "linear"
              }
             }
            ],
            "label": "0.0016353180560457",
            "method": "animate"
           },
           {
            "args": [
             [
              "0.001472232521104"
             ],
             {
              "frame": {
               "duration": 0,
               "redraw": true
              },
              "fromcurrent": true,
              "mode": "immediate",
              "transition": {
               "duration": 0,
               "easing": "linear"
              }
             }
            ],
            "label": "0.001472232521104",
            "method": "animate"
           },
           {
            "args": [
             [
              "0.0013310190472541"
             ],
             {
              "frame": {
               "duration": 0,
               "redraw": true
              },
              "fromcurrent": true,
              "mode": "immediate",
              "transition": {
               "duration": 0,
               "easing": "linear"
              }
             }
            ],
            "label": "0.0013310190472541",
            "method": "animate"
           },
           {
            "args": [
             [
              "0.0012772458316784"
             ],
             {
              "frame": {
               "duration": 0,
               "redraw": true
              },
              "fromcurrent": true,
              "mode": "immediate",
              "transition": {
               "duration": 0,
               "easing": "linear"
              }
             }
            ],
            "label": "0.0012772458316784",
            "method": "animate"
           },
           {
            "args": [
             [
              "0.001189939934464"
             ],
             {
              "frame": {
               "duration": 0,
               "redraw": true
              },
              "fromcurrent": true,
              "mode": "immediate",
              "transition": {
               "duration": 0,
               "easing": "linear"
              }
             }
            ],
            "label": "0.001189939934464",
            "method": "animate"
           },
           {
            "args": [
             [
              "0.0011234216126444"
             ],
             {
              "frame": {
               "duration": 0,
               "redraw": true
              },
              "fromcurrent": true,
              "mode": "immediate",
              "transition": {
               "duration": 0,
               "easing": "linear"
              }
             }
            ],
            "label": "0.0011234216126444",
            "method": "animate"
           },
           {
            "args": [
             [
              "0.0010187639442787"
             ],
             {
              "frame": {
               "duration": 0,
               "redraw": true
              },
              "fromcurrent": true,
              "mode": "immediate",
              "transition": {
               "duration": 0,
               "easing": "linear"
              }
             }
            ],
            "label": "0.0010187639442787",
            "method": "animate"
           },
           {
            "args": [
             [
              "0.0010094258506225"
             ],
             {
              "frame": {
               "duration": 0,
               "redraw": true
              },
              "fromcurrent": true,
              "mode": "immediate",
              "transition": {
               "duration": 0,
               "easing": "linear"
              }
             }
            ],
            "label": "0.0010094258506225",
            "method": "animate"
           },
           {
            "args": [
             [
              "0.0009703843655321"
             ],
             {
              "frame": {
               "duration": 0,
               "redraw": true
              },
              "fromcurrent": true,
              "mode": "immediate",
              "transition": {
               "duration": 0,
               "easing": "linear"
              }
             }
            ],
            "label": "0.0009703843655321",
            "method": "animate"
           },
           {
            "args": [
             [
              "0.0009407481546276"
             ],
             {
              "frame": {
               "duration": 0,
               "redraw": true
              },
              "fromcurrent": true,
              "mode": "immediate",
              "transition": {
               "duration": 0,
               "easing": "linear"
              }
             }
            ],
            "label": "0.0009407481546276",
            "method": "animate"
           },
           {
            "args": [
             [
              "0.0009166207471749"
             ],
             {
              "frame": {
               "duration": 0,
               "redraw": true
              },
              "fromcurrent": true,
              "mode": "immediate",
              "transition": {
               "duration": 0,
               "easing": "linear"
              }
             }
            ],
            "label": "0.0009166207471749",
            "method": "animate"
           },
           {
            "args": [
             [
              "0.000853163938075"
             ],
             {
              "frame": {
               "duration": 0,
               "redraw": true
              },
              "fromcurrent": true,
              "mode": "immediate",
              "transition": {
               "duration": 0,
               "easing": "linear"
              }
             }
            ],
            "label": "0.000853163938075",
            "method": "animate"
           },
           {
            "args": [
             [
              "0.0008498720921099"
             ],
             {
              "frame": {
               "duration": 0,
               "redraw": true
              },
              "fromcurrent": true,
              "mode": "immediate",
              "transition": {
               "duration": 0,
               "easing": "linear"
              }
             }
            ],
            "label": "0.0008498720921099",
            "method": "animate"
           },
           {
            "args": [
             [
              "0.0008443344970024"
             ],
             {
              "frame": {
               "duration": 0,
               "redraw": true
              },
              "fromcurrent": true,
              "mode": "immediate",
              "transition": {
               "duration": 0,
               "easing": "linear"
              }
             }
            ],
            "label": "0.0008443344970024",
            "method": "animate"
           },
           {
            "args": [
             [
              "0.0007871158799647"
             ],
             {
              "frame": {
               "duration": 0,
               "redraw": true
              },
              "fromcurrent": true,
              "mode": "immediate",
              "transition": {
               "duration": 0,
               "easing": "linear"
              }
             }
            ],
            "label": "0.0007871158799647",
            "method": "animate"
           },
           {
            "args": [
             [
              "0.0007662419296029"
             ],
             {
              "frame": {
               "duration": 0,
               "redraw": true
              },
              "fromcurrent": true,
              "mode": "immediate",
              "transition": {
               "duration": 0,
               "easing": "linear"
              }
             }
            ],
            "label": "0.0007662419296029",
            "method": "animate"
           },
           {
            "args": [
             [
              "0.000748122380967"
             ],
             {
              "frame": {
               "duration": 0,
               "redraw": true
              },
              "fromcurrent": true,
              "mode": "immediate",
              "transition": {
               "duration": 0,
               "easing": "linear"
              }
             }
            ],
            "label": "0.000748122380967",
            "method": "animate"
           },
           {
            "args": [
             [
              "0.0007114226172044"
             ],
             {
              "frame": {
               "duration": 0,
               "redraw": true
              },
              "fromcurrent": true,
              "mode": "immediate",
              "transition": {
               "duration": 0,
               "easing": "linear"
              }
             }
            ],
            "label": "0.0007114226172044",
            "method": "animate"
           },
           {
            "args": [
             [
              "0.0007000691076513"
             ],
             {
              "frame": {
               "duration": 0,
               "redraw": true
              },
              "fromcurrent": true,
              "mode": "immediate",
              "transition": {
               "duration": 0,
               "easing": "linear"
              }
             }
            ],
            "label": "0.0007000691076513",
            "method": "animate"
           },
           {
            "args": [
             [
              "0.0006780914771555"
             ],
             {
              "frame": {
               "duration": 0,
               "redraw": true
              },
              "fromcurrent": true,
              "mode": "immediate",
              "transition": {
               "duration": 0,
               "easing": "linear"
              }
             }
            ],
            "label": "0.0006780914771555",
            "method": "animate"
           },
           {
            "args": [
             [
              "0.0006604325950103"
             ],
             {
              "frame": {
               "duration": 0,
               "redraw": true
              },
              "fromcurrent": true,
              "mode": "immediate",
              "transition": {
               "duration": 0,
               "easing": "linear"
              }
             }
            ],
            "label": "0.0006604325950103",
            "method": "animate"
           },
           {
            "args": [
             [
              "0.0006509025569831"
             ],
             {
              "frame": {
               "duration": 0,
               "redraw": true
              },
              "fromcurrent": true,
              "mode": "immediate",
              "transition": {
               "duration": 0,
               "easing": "linear"
              }
             }
            ],
            "label": "0.0006509025569831",
            "method": "animate"
           },
           {
            "args": [
             [
              "0.0006116979191771"
             ],
             {
              "frame": {
               "duration": 0,
               "redraw": true
              },
              "fromcurrent": true,
              "mode": "immediate",
              "transition": {
               "duration": 0,
               "easing": "linear"
              }
             }
            ],
            "label": "0.0006116979191771",
            "method": "animate"
           },
           {
            "args": [
             [
              "0.0006109589333482"
             ],
             {
              "frame": {
               "duration": 0,
               "redraw": true
              },
              "fromcurrent": true,
              "mode": "immediate",
              "transition": {
               "duration": 0,
               "easing": "linear"
              }
             }
            ],
            "label": "0.0006109589333482",
            "method": "animate"
           },
           {
            "args": [
             [
              "0.0006067745460573"
             ],
             {
              "frame": {
               "duration": 0,
               "redraw": true
              },
              "fromcurrent": true,
              "mode": "immediate",
              "transition": {
               "duration": 0,
               "easing": "linear"
              }
             }
            ],
            "label": "0.0006067745460573",
            "method": "animate"
           },
           {
            "args": [
             [
              "0.0006007858816776"
             ],
             {
              "frame": {
               "duration": 0,
               "redraw": true
              },
              "fromcurrent": true,
              "mode": "immediate",
              "transition": {
               "duration": 0,
               "easing": "linear"
              }
             }
            ],
            "label": "0.0006007858816776",
            "method": "animate"
           },
           {
            "args": [
             [
              "0.0005513410116712"
             ],
             {
              "frame": {
               "duration": 0,
               "redraw": true
              },
              "fromcurrent": true,
              "mode": "immediate",
              "transition": {
               "duration": 0,
               "easing": "linear"
              }
             }
            ],
            "label": "0.0005513410116712",
            "method": "animate"
           },
           {
            "args": [
             [
              "0.0005133264289663"
             ],
             {
              "frame": {
               "duration": 0,
               "redraw": true
              },
              "fromcurrent": true,
              "mode": "immediate",
              "transition": {
               "duration": 0,
               "easing": "linear"
              }
             }
            ],
            "label": "0.0005133264289663",
            "method": "animate"
           },
           {
            "args": [
             [
              "0.0004861950921052"
             ],
             {
              "frame": {
               "duration": 0,
               "redraw": true
              },
              "fromcurrent": true,
              "mode": "immediate",
              "transition": {
               "duration": 0,
               "easing": "linear"
              }
             }
            ],
            "label": "0.0004861950921052",
            "method": "animate"
           },
           {
            "args": [
             [
              "0.000470033376055"
             ],
             {
              "frame": {
               "duration": 0,
               "redraw": true
              },
              "fromcurrent": true,
              "mode": "immediate",
              "transition": {
               "duration": 0,
               "easing": "linear"
              }
             }
            ],
            "label": "0.000470033376055",
            "method": "animate"
           },
           {
            "args": [
             [
              "0.0004590733524627"
             ],
             {
              "frame": {
               "duration": 0,
               "redraw": true
              },
              "fromcurrent": true,
              "mode": "immediate",
              "transition": {
               "duration": 0,
               "easing": "linear"
              }
             }
            ],
            "label": "0.0004590733524627",
            "method": "animate"
           },
           {
            "args": [
             [
              "0.000448621981454"
             ],
             {
              "frame": {
               "duration": 0,
               "redraw": true
              },
              "fromcurrent": true,
              "mode": "immediate",
              "transition": {
               "duration": 0,
               "easing": "linear"
              }
             }
            ],
            "label": "0.000448621981454",
            "method": "animate"
           },
           {
            "args": [
             [
              "0.0004412897064763"
             ],
             {
              "frame": {
               "duration": 0,
               "redraw": true
              },
              "fromcurrent": true,
              "mode": "immediate",
              "transition": {
               "duration": 0,
               "easing": "linear"
              }
             }
            ],
            "label": "0.0004412897064763",
            "method": "animate"
           },
           {
            "args": [
             [
              "0.0004221624498919"
             ],
             {
              "frame": {
               "duration": 0,
               "redraw": true
              },
              "fromcurrent": true,
              "mode": "immediate",
              "transition": {
               "duration": 0,
               "easing": "linear"
              }
             }
            ],
            "label": "0.0004221624498919",
            "method": "animate"
           },
           {
            "args": [
             [
              "0.0004094077464295"
             ],
             {
              "frame": {
               "duration": 0,
               "redraw": true
              },
              "fromcurrent": true,
              "mode": "immediate",
              "transition": {
               "duration": 0,
               "easing": "linear"
              }
             }
            ],
            "label": "0.0004094077464295",
            "method": "animate"
           },
           {
            "args": [
             [
              "0.0004030543877446"
             ],
             {
              "frame": {
               "duration": 0,
               "redraw": true
              },
              "fromcurrent": true,
              "mode": "immediate",
              "transition": {
               "duration": 0,
               "easing": "linear"
              }
             }
            ],
            "label": "0.0004030543877446",
            "method": "animate"
           },
           {
            "args": [
             [
              "0.0003996953612496"
             ],
             {
              "frame": {
               "duration": 0,
               "redraw": true
              },
              "fromcurrent": true,
              "mode": "immediate",
              "transition": {
               "duration": 0,
               "easing": "linear"
              }
             }
            ],
            "label": "0.0003996953612496",
            "method": "animate"
           },
           {
            "args": [
             [
              "0.0003776409530053"
             ],
             {
              "frame": {
               "duration": 0,
               "redraw": true
              },
              "fromcurrent": true,
              "mode": "immediate",
              "transition": {
               "duration": 0,
               "easing": "linear"
              }
             }
            ],
            "label": "0.0003776409530053",
            "method": "animate"
           },
           {
            "args": [
             [
              "0.0003669496515326"
             ],
             {
              "frame": {
               "duration": 0,
               "redraw": true
              },
              "fromcurrent": true,
              "mode": "immediate",
              "transition": {
               "duration": 0,
               "easing": "linear"
              }
             }
            ],
            "label": "0.0003669496515326",
            "method": "animate"
           },
           {
            "args": [
             [
              "0.0003647230968274"
             ],
             {
              "frame": {
               "duration": 0,
               "redraw": true
              },
              "fromcurrent": true,
              "mode": "immediate",
              "transition": {
               "duration": 0,
               "easing": "linear"
              }
             }
            ],
            "label": "0.0003647230968274",
            "method": "animate"
           },
           {
            "args": [
             [
              "0.0003597613348333"
             ],
             {
              "frame": {
               "duration": 0,
               "redraw": true
              },
              "fromcurrent": true,
              "mode": "immediate",
              "transition": {
               "duration": 0,
               "easing": "linear"
              }
             }
            ],
            "label": "0.0003597613348333",
            "method": "animate"
           },
           {
            "args": [
             [
              "0.0003338392475105"
             ],
             {
              "frame": {
               "duration": 0,
               "redraw": true
              },
              "fromcurrent": true,
              "mode": "immediate",
              "transition": {
               "duration": 0,
               "easing": "linear"
              }
             }
            ],
            "label": "0.0003338392475105",
            "method": "animate"
           },
           {
            "args": [
             [
              "0.0003325724146609"
             ],
             {
              "frame": {
               "duration": 0,
               "redraw": true
              },
              "fromcurrent": true,
              "mode": "immediate",
              "transition": {
               "duration": 0,
               "easing": "linear"
              }
             }
            ],
            "label": "0.0003325724146609",
            "method": "animate"
           },
           {
            "args": [
             [
              "0.0003269868334606"
             ],
             {
              "frame": {
               "duration": 0,
               "redraw": true
              },
              "fromcurrent": true,
              "mode": "immediate",
              "transition": {
               "duration": 0,
               "easing": "linear"
              }
             }
            ],
            "label": "0.0003269868334606",
            "method": "animate"
           },
           {
            "args": [
             [
              "0.0003145776298662"
             ],
             {
              "frame": {
               "duration": 0,
               "redraw": true
              },
              "fromcurrent": true,
              "mode": "immediate",
              "transition": {
               "duration": 0,
               "easing": "linear"
              }
             }
            ],
            "label": "0.0003145776298662",
            "method": "animate"
           },
           {
            "args": [
             [
              "0.0003019956763378"
             ],
             {
              "frame": {
               "duration": 0,
               "redraw": true
              },
              "fromcurrent": true,
              "mode": "immediate",
              "transition": {
               "duration": 0,
               "easing": "linear"
              }
             }
            ],
            "label": "0.0003019956763378",
            "method": "animate"
           },
           {
            "args": [
             [
              "0.0002859779185659"
             ],
             {
              "frame": {
               "duration": 0,
               "redraw": true
              },
              "fromcurrent": true,
              "mode": "immediate",
              "transition": {
               "duration": 0,
               "easing": "linear"
              }
             }
            ],
            "label": "0.0002859779185659",
            "method": "animate"
           },
           {
            "args": [
             [
              "0.0002685685641033"
             ],
             {
              "frame": {
               "duration": 0,
               "redraw": true
              },
              "fromcurrent": true,
              "mode": "immediate",
              "transition": {
               "duration": 0,
               "easing": "linear"
              }
             }
            ],
            "label": "0.0002685685641033",
            "method": "animate"
           },
           {
            "args": [
             [
              "0.0002621288304514"
             ],
             {
              "frame": {
               "duration": 0,
               "redraw": true
              },
              "fromcurrent": true,
              "mode": "immediate",
              "transition": {
               "duration": 0,
               "easing": "linear"
              }
             }
            ],
            "label": "0.0002621288304514",
            "method": "animate"
           },
           {
            "args": [
             [
              "0.0002434814347949"
             ],
             {
              "frame": {
               "duration": 0,
               "redraw": true
              },
              "fromcurrent": true,
              "mode": "immediate",
              "transition": {
               "duration": 0,
               "easing": "linear"
              }
             }
            ],
            "label": "0.0002434814347949",
            "method": "animate"
           },
           {
            "args": [
             [
              "0.0002358036599492"
             ],
             {
              "frame": {
               "duration": 0,
               "redraw": true
              },
              "fromcurrent": true,
              "mode": "immediate",
              "transition": {
               "duration": 0,
               "easing": "linear"
              }
             }
            ],
            "label": "0.0002358036599492",
            "method": "animate"
           },
           {
            "args": [
             [
              "0.0002247860530455"
             ],
             {
              "frame": {
               "duration": 0,
               "redraw": true
              },
              "fromcurrent": true,
              "mode": "immediate",
              "transition": {
               "duration": 0,
               "easing": "linear"
              }
             }
            ],
            "label": "0.0002247860530455",
            "method": "animate"
           },
           {
            "args": [
             [
              "0.0002246708864229"
             ],
             {
              "frame": {
               "duration": 0,
               "redraw": true
              },
              "fromcurrent": true,
              "mode": "immediate",
              "transition": {
               "duration": 0,
               "easing": "linear"
              }
             }
            ],
            "label": "0.0002246708864229",
            "method": "animate"
           },
           {
            "args": [
             [
              "0.0002175785419091"
             ],
             {
              "frame": {
               "duration": 0,
               "redraw": true
              },
              "fromcurrent": true,
              "mode": "immediate",
              "transition": {
               "duration": 0,
               "easing": "linear"
              }
             }
            ],
            "label": "0.0002175785419091",
            "method": "animate"
           },
           {
            "args": [
             [
              "0.0002113307526284"
             ],
             {
              "frame": {
               "duration": 0,
               "redraw": true
              },
              "fromcurrent": true,
              "mode": "immediate",
              "transition": {
               "duration": 0,
               "easing": "linear"
              }
             }
            ],
            "label": "0.0002113307526284",
            "method": "animate"
           },
           {
            "args": [
             [
              "0.0002047566579168"
             ],
             {
              "frame": {
               "duration": 0,
               "redraw": true
              },
              "fromcurrent": true,
              "mode": "immediate",
              "transition": {
               "duration": 0,
               "easing": "linear"
              }
             }
            ],
            "label": "0.0002047566579168",
            "method": "animate"
           },
           {
            "args": [
             [
              "0.0001957256752545"
             ],
             {
              "frame": {
               "duration": 0,
               "redraw": true
              },
              "fromcurrent": true,
              "mode": "immediate",
              "transition": {
               "duration": 0,
               "easing": "linear"
              }
             }
            ],
            "label": "0.0001957256752545",
            "method": "animate"
           },
           {
            "args": [
             [
              "0.0001888252751119"
             ],
             {
              "frame": {
               "duration": 0,
               "redraw": true
              },
              "fromcurrent": true,
              "mode": "immediate",
              "transition": {
               "duration": 0,
               "easing": "linear"
              }
             }
            ],
            "label": "0.0001888252751119",
            "method": "animate"
           },
           {
            "args": [
             [
              "0.0001800534173507"
             ],
             {
              "frame": {
               "duration": 0,
               "redraw": true
              },
              "fromcurrent": true,
              "mode": "immediate",
              "transition": {
               "duration": 0,
               "easing": "linear"
              }
             }
            ],
            "label": "0.0001800534173507",
            "method": "animate"
           },
           {
            "args": [
             [
              "0.0001774141822474"
             ],
             {
              "frame": {
               "duration": 0,
               "redraw": true
              },
              "fromcurrent": true,
              "mode": "immediate",
              "transition": {
               "duration": 0,
               "easing": "linear"
              }
             }
            ],
            "label": "0.0001774141822474",
            "method": "animate"
           },
           {
            "args": [
             [
              "0.0001762337243649"
             ],
             {
              "frame": {
               "duration": 0,
               "redraw": true
              },
              "fromcurrent": true,
              "mode": "immediate",
              "transition": {
               "duration": 0,
               "easing": "linear"
              }
             }
            ],
            "label": "0.0001762337243649",
            "method": "animate"
           },
           {
            "args": [
             [
              "0.0001706481431647"
             ],
             {
              "frame": {
               "duration": 0,
               "redraw": true
              },
              "fromcurrent": true,
              "mode": "immediate",
              "transition": {
               "duration": 0,
               "easing": "linear"
              }
             }
            ],
            "label": "0.0001706481431647",
            "method": "animate"
           },
           {
            "args": [
             [
              "0.0001649282009046"
             ],
             {
              "frame": {
               "duration": 0,
               "redraw": true
              },
              "fromcurrent": true,
              "mode": "immediate",
              "transition": {
               "duration": 0,
               "easing": "linear"
              }
             }
            ],
            "label": "0.0001649282009046",
            "method": "animate"
           },
           {
            "args": [
             [
              "0.0001605518692425"
             ],
             {
              "frame": {
               "duration": 0,
               "redraw": true
              },
              "fromcurrent": true,
              "mode": "immediate",
              "transition": {
               "duration": 0,
               "easing": "linear"
              }
             }
            ],
            "label": "0.0001605518692425",
            "method": "animate"
           },
           {
            "args": [
             [
              "0.0001543424688361"
             ],
             {
              "frame": {
               "duration": 0,
               "redraw": true
              },
              "fromcurrent": true,
              "mode": "immediate",
              "transition": {
               "duration": 0,
               "easing": "linear"
              }
             }
            ],
            "label": "0.0001543424688361",
            "method": "animate"
           },
           {
            "args": [
             [
              "0.0001540449550608"
             ],
             {
              "frame": {
               "duration": 0,
               "redraw": true
              },
              "fromcurrent": true,
              "mode": "immediate",
              "transition": {
               "duration": 0,
               "easing": "linear"
              }
             }
            ],
            "label": "0.0001540449550608",
            "method": "animate"
           },
           {
            "args": [
             [
              "0.0001512041783679"
             ],
             {
              "frame": {
               "duration": 0,
               "redraw": true
              },
              "fromcurrent": true,
              "mode": "immediate",
              "transition": {
               "duration": 0,
               "easing": "linear"
              }
             }
            ],
            "label": "0.0001512041783679",
            "method": "animate"
           },
           {
            "args": [
             [
              "0.0001505323730689"
             ],
             {
              "frame": {
               "duration": 0,
               "redraw": true
              },
              "fromcurrent": true,
              "mode": "immediate",
              "transition": {
               "duration": 0,
               "easing": "linear"
              }
             }
            ],
            "label": "0.0001505323730689",
            "method": "animate"
           },
           {
            "args": [
             [
              "0.0001495150679018"
             ],
             {
              "frame": {
               "duration": 0,
               "redraw": true
              },
              "fromcurrent": true,
              "mode": "immediate",
              "transition": {
               "duration": 0,
               "easing": "linear"
              }
             }
            ],
            "label": "0.0001495150679018",
            "method": "animate"
           },
           {
            "args": [
             [
              "0.0001474420686935"
             ],
             {
              "frame": {
               "duration": 0,
               "redraw": true
              },
              "fromcurrent": true,
              "mode": "immediate",
              "transition": {
               "duration": 0,
               "easing": "linear"
              }
             }
            ],
            "label": "0.0001474420686935",
            "method": "animate"
           },
           {
            "args": [
             [
              "0.0001207426066675"
             ],
             {
              "frame": {
               "duration": 0,
               "redraw": true
              },
              "fromcurrent": true,
              "mode": "immediate",
              "transition": {
               "duration": 0,
               "easing": "linear"
              }
             }
            ],
            "label": "0.0001207426066675",
            "method": "animate"
           },
           {
            "args": [
             [
              "0.0001173547885168"
             ],
             {
              "frame": {
               "duration": 0,
               "redraw": true
              },
              "fromcurrent": true,
              "mode": "immediate",
              "transition": {
               "duration": 0,
               "easing": "linear"
              }
             }
            ],
            "label": "0.0001173547885168",
            "method": "animate"
           },
           {
            "args": [
             [
              "0.0001152529976528"
             ],
             {
              "frame": {
               "duration": 0,
               "redraw": true
              },
              "fromcurrent": true,
              "mode": "immediate",
              "transition": {
               "duration": 0,
               "easing": "linear"
              }
             }
            ],
            "label": "0.0001152529976528",
            "method": "animate"
           },
           {
            "args": [
             [
              "0.0001148403172548"
             ],
             {
              "frame": {
               "duration": 0,
               "redraw": true
              },
              "fromcurrent": true,
              "mode": "immediate",
              "transition": {
               "duration": 0,
               "easing": "linear"
              }
             }
            ],
            "label": "0.0001148403172548",
            "method": "animate"
           },
           {
            "args": [
             [
              "0.0001145907895723"
             ],
             {
              "frame": {
               "duration": 0,
               "redraw": true
              },
              "fromcurrent": true,
              "mode": "immediate",
              "transition": {
               "duration": 0,
               "easing": "linear"
              }
             }
            ],
            "label": "0.0001145907895723",
            "method": "animate"
           },
           {
            "args": [
             [
              "0.0001118651795021"
             ],
             {
              "frame": {
               "duration": 0,
               "redraw": true
              },
              "fromcurrent": true,
              "mode": "immediate",
              "transition": {
               "duration": 0,
               "easing": "linear"
              }
             }
            ],
            "label": "0.0001118651795021",
            "method": "animate"
           },
           {
            "args": [
             [
              "0.0001056173902214"
             ],
             {
              "frame": {
               "duration": 0,
               "redraw": true
              },
              "fromcurrent": true,
              "mode": "immediate",
              "transition": {
               "duration": 0,
               "easing": "linear"
              }
             }
            ],
            "label": "0.0001056173902214",
            "method": "animate"
           },
           {
            "args": [
             [
              "9.77380737860267e-05"
             ],
             {
              "frame": {
               "duration": 0,
               "redraw": true
              },
              "fromcurrent": true,
              "mode": "immediate",
              "transition": {
               "duration": 0,
               "easing": "linear"
              }
             }
            ],
            "label": "9.77380737860267e-05",
            "method": "animate"
           },
           {
            "args": [
             [
              "9.526199139828171e-05"
             ],
             {
              "frame": {
               "duration": 0,
               "redraw": true
              },
              "fromcurrent": true,
              "mode": "immediate",
              "transition": {
               "duration": 0,
               "easing": "linear"
              }
             }
            ],
            "label": "9.526199139828171e-05",
            "method": "animate"
           },
           {
            "args": [
             [
              "9.194135377750746e-05"
             ],
             {
              "frame": {
               "duration": 0,
               "redraw": true
              },
              "fromcurrent": true,
              "mode": "immediate",
              "transition": {
               "duration": 0,
               "easing": "linear"
              }
             }
            ],
            "label": "9.194135377750746e-05",
            "method": "animate"
           },
           {
            "args": [
             [
              "8.734428608863208e-05"
             ],
             {
              "frame": {
               "duration": 0,
               "redraw": true
              },
              "fromcurrent": true,
              "mode": "immediate",
              "transition": {
               "duration": 0,
               "easing": "linear"
              }
             }
            ],
            "label": "8.734428608863208e-05",
            "method": "animate"
           },
           {
            "args": [
             [
              "8.625020317311685e-05"
             ],
             {
              "frame": {
               "duration": 0,
               "redraw": true
              },
              "fromcurrent": true,
              "mode": "immediate",
              "transition": {
               "duration": 0,
               "easing": "linear"
              }
             }
            ],
            "label": "8.625020317311685e-05",
            "method": "animate"
           },
           {
            "args": [
             [
              "8.581832833804505e-05"
             ],
             {
              "frame": {
               "duration": 0,
               "redraw": true
              },
              "fromcurrent": true,
              "mode": "immediate",
              "transition": {
               "duration": 0,
               "easing": "linear"
              }
             }
            ],
            "label": "8.581832833804505e-05",
            "method": "animate"
           },
           {
            "args": [
             [
              "7.732478991496634e-05"
             ],
             {
              "frame": {
               "duration": 0,
               "redraw": true
              },
              "fromcurrent": true,
              "mode": "immediate",
              "transition": {
               "duration": 0,
               "easing": "linear"
              }
             }
            ],
            "label": "7.732478991496634e-05",
            "method": "animate"
           },
           {
            "args": [
             [
              "7.44264299107067e-05"
             ],
             {
              "frame": {
               "duration": 0,
               "redraw": true
              },
              "fromcurrent": true,
              "mode": "immediate",
              "transition": {
               "duration": 0,
               "easing": "linear"
              }
             }
            ],
            "label": "7.44264299107067e-05",
            "method": "animate"
           },
           {
            "args": [
             [
              "7.338993030653439e-05"
             ],
             {
              "frame": {
               "duration": 0,
               "redraw": true
              },
              "fromcurrent": true,
              "mode": "immediate",
              "transition": {
               "duration": 0,
               "easing": "linear"
              }
             }
            ],
            "label": "7.338993030653439e-05",
            "method": "animate"
           },
           {
            "args": [
             [
              "7.005969546720297e-05"
             ],
             {
              "frame": {
               "duration": 0,
               "redraw": true
              },
              "fromcurrent": true,
              "mode": "immediate",
              "transition": {
               "duration": 0,
               "easing": "linear"
              }
             }
            ],
            "label": "7.005969546720297e-05",
            "method": "animate"
           },
           {
            "args": [
             [
              "6.723811321140055e-05"
             ],
             {
              "frame": {
               "duration": 0,
               "redraw": true
              },
              "fromcurrent": true,
              "mode": "immediate",
              "transition": {
               "duration": 0,
               "easing": "linear"
              }
             }
            ],
            "label": "6.723811321140055e-05",
            "method": "animate"
           },
           {
            "args": [
             [
              "6.321687863595424e-05"
             ],
             {
              "frame": {
               "duration": 0,
               "redraw": true
              },
              "fromcurrent": true,
              "mode": "immediate",
              "transition": {
               "duration": 0,
               "easing": "linear"
              }
             }
            ],
            "label": "6.321687863595424e-05",
            "method": "animate"
           },
           {
            "args": [
             [
              "6.254507333695366e-05"
             ],
             {
              "frame": {
               "duration": 0,
               "redraw": true
              },
              "fromcurrent": true,
              "mode": "immediate",
              "transition": {
               "duration": 0,
               "easing": "linear"
              }
             }
            ],
            "label": "6.254507333695366e-05",
            "method": "animate"
           },
           {
            "args": [
             [
              "6.02225464461231e-05"
             ],
             {
              "frame": {
               "duration": 0,
               "redraw": true
              },
              "fromcurrent": true,
              "mode": "immediate",
              "transition": {
               "duration": 0,
               "easing": "linear"
              }
             }
            ],
            "label": "6.02225464461231e-05",
            "method": "animate"
           },
           {
            "args": [
             [
              "5.740096419032068e-05"
             ],
             {
              "frame": {
               "duration": 0,
               "redraw": true
              },
              "fromcurrent": true,
              "mode": "immediate",
              "transition": {
               "duration": 0,
               "easing": "linear"
              }
             }
            ],
            "label": "5.740096419032068e-05",
            "method": "animate"
           },
           {
            "args": [
             [
              "5.196893848697316e-05"
             ],
             {
              "frame": {
               "duration": 0,
               "redraw": true
              },
              "fromcurrent": true,
              "mode": "immediate",
              "transition": {
               "duration": 0,
               "easing": "linear"
              }
             }
            ],
            "label": "5.196893848697316e-05",
            "method": "animate"
           },
           {
            "args": [
             [
              "4.801488444142691e-05"
             ],
             {
              "frame": {
               "duration": 0,
               "redraw": true
              },
              "fromcurrent": true,
              "mode": "immediate",
              "transition": {
               "duration": 0,
               "easing": "linear"
              }
             }
            ],
            "label": "4.801488444142691e-05",
            "method": "animate"
           },
           {
            "args": [
             [
              "4.430076085980944e-05"
             ],
             {
              "frame": {
               "duration": 0,
               "redraw": true
              },
              "fromcurrent": true,
              "mode": "immediate",
              "transition": {
               "duration": 0,
               "easing": "linear"
              }
             }
            ],
            "label": "4.430076085980944e-05",
            "method": "animate"
           },
           {
            "args": [
             [
              "3.741955515433211e-05"
             ],
             {
              "frame": {
               "duration": 0,
               "redraw": true
              },
              "fromcurrent": true,
              "mode": "immediate",
              "transition": {
               "duration": 0,
               "easing": "linear"
              }
             }
            ],
            "label": "3.741955515433211e-05",
            "method": "animate"
           },
           {
            "args": [
             [
              "3.342711223455725e-05"
             ],
             {
              "frame": {
               "duration": 0,
               "redraw": true
              },
              "fromcurrent": true,
              "mode": "immediate",
              "transition": {
               "duration": 0,
               "easing": "linear"
              }
             }
            ],
            "label": "3.342711223455725e-05",
            "method": "animate"
           },
           {
            "args": [
             [
              "3.308161236649981e-05"
             ],
             {
              "frame": {
               "duration": 0,
               "redraw": true
              },
              "fromcurrent": true,
              "mode": "immediate",
              "transition": {
               "duration": 0,
               "easing": "linear"
              }
             }
            ],
            "label": "3.308161236649981e-05",
            "method": "animate"
           },
           {
            "args": [
             [
              "3.284168190257104e-05"
             ],
             {
              "frame": {
               "duration": 0,
               "redraw": true
              },
              "fromcurrent": true,
              "mode": "immediate",
              "transition": {
               "duration": 0,
               "easing": "linear"
              }
             }
            ],
            "label": "3.284168190257104e-05",
            "method": "animate"
           },
           {
            "args": [
             [
              "2.6872211960023056e-05"
             ],
             {
              "frame": {
               "duration": 0,
               "redraw": true
              },
              "fromcurrent": true,
              "mode": "immediate",
              "transition": {
               "duration": 0,
               "easing": "linear"
              }
             }
            ],
            "label": "2.6872211960023056e-05",
            "method": "animate"
           },
           {
            "args": [
             [
              "2.073958930200351e-05"
             ],
             {
              "frame": {
               "duration": 0,
               "redraw": true
              },
              "fromcurrent": true,
              "mode": "immediate",
              "transition": {
               "duration": 0,
               "easing": "linear"
              }
             }
            ],
            "label": "2.073958930200351e-05",
            "method": "animate"
           },
           {
            "args": [
             [
              "1.847464572251585e-05"
             ],
             {
              "frame": {
               "duration": 0,
               "redraw": true
              },
              "fromcurrent": true,
              "mode": "immediate",
              "transition": {
               "duration": 0,
               "easing": "linear"
              }
             }
            ],
            "label": "1.847464572251585e-05",
            "method": "animate"
           },
           {
            "args": [
             [
              "1.3416911542897225e-05"
             ],
             {
              "frame": {
               "duration": 0,
               "redraw": true
              },
              "fromcurrent": true,
              "mode": "immediate",
              "transition": {
               "duration": 0,
               "easing": "linear"
              }
             }
            ],
            "label": "1.3416911542897225e-05",
            "method": "animate"
           },
           {
            "args": [
             [
              "7.12113616940611e-06"
             ],
             {
              "frame": {
               "duration": 0,
               "redraw": true
              },
              "fromcurrent": true,
              "mode": "immediate",
              "transition": {
               "duration": 0,
               "easing": "linear"
              }
             }
            ],
            "label": "7.12113616940611e-06",
            "method": "animate"
           },
           {
            "args": [
             [
              "6.785233519905821e-06"
             ],
             {
              "frame": {
               "duration": 0,
               "redraw": true
              },
              "fromcurrent": true,
              "mode": "immediate",
              "transition": {
               "duration": 0,
               "easing": "linear"
              }
             }
            ],
            "label": "6.785233519905821e-06",
            "method": "animate"
           },
           {
            "args": [
             [
              "2.303332453716262e-07"
             ],
             {
              "frame": {
               "duration": 0,
               "redraw": true
              },
              "fromcurrent": true,
              "mode": "immediate",
              "transition": {
               "duration": 0,
               "easing": "linear"
              }
             }
            ],
            "label": "2.303332453716262e-07",
            "method": "animate"
           },
           {
            "args": [
             [
              "4.7986092785755454e-08"
             ],
             {
              "frame": {
               "duration": 0,
               "redraw": true
              },
              "fromcurrent": true,
              "mode": "immediate",
              "transition": {
               "duration": 0,
               "easing": "linear"
              }
             }
            ],
            "label": "4.7986092785755454e-08",
            "method": "animate"
           },
           {
            "args": [
             [
              "3.8388874228604366e-08"
             ],
             {
              "frame": {
               "duration": 0,
               "redraw": true
              },
              "fromcurrent": true,
              "mode": "immediate",
              "transition": {
               "duration": 0,
               "easing": "linear"
              }
             }
            ],
            "label": "3.8388874228604366e-08",
            "method": "animate"
           },
           {
            "args": [
             [
              "0.0"
             ],
             {
              "frame": {
               "duration": 0,
               "redraw": true
              },
              "fromcurrent": true,
              "mode": "immediate",
              "transition": {
               "duration": 0,
               "easing": "linear"
              }
             }
            ],
            "label": "0.0",
            "method": "animate"
           }
          ],
          "x": 0.1,
          "xanchor": "left",
          "y": 0,
          "yanchor": "top"
         }
        ],
        "template": {
         "data": {
          "bar": [
           {
            "error_x": {
             "color": "#f2f5fa"
            },
            "error_y": {
             "color": "#f2f5fa"
            },
            "marker": {
             "line": {
              "color": "rgb(17,17,17)",
              "width": 0.5
             },
             "pattern": {
              "fillmode": "overlay",
              "size": 10,
              "solidity": 0.2
             }
            },
            "type": "bar"
           }
          ],
          "barpolar": [
           {
            "marker": {
             "line": {
              "color": "rgb(17,17,17)",
              "width": 0.5
             },
             "pattern": {
              "fillmode": "overlay",
              "size": 10,
              "solidity": 0.2
             }
            },
            "type": "barpolar"
           }
          ],
          "carpet": [
           {
            "aaxis": {
             "endlinecolor": "#A2B1C6",
             "gridcolor": "#506784",
             "linecolor": "#506784",
             "minorgridcolor": "#506784",
             "startlinecolor": "#A2B1C6"
            },
            "baxis": {
             "endlinecolor": "#A2B1C6",
             "gridcolor": "#506784",
             "linecolor": "#506784",
             "minorgridcolor": "#506784",
             "startlinecolor": "#A2B1C6"
            },
            "type": "carpet"
           }
          ],
          "choropleth": [
           {
            "colorbar": {
             "outlinewidth": 0,
             "ticks": ""
            },
            "type": "choropleth"
           }
          ],
          "contour": [
           {
            "colorbar": {
             "outlinewidth": 0,
             "ticks": ""
            },
            "colorscale": [
             [
              0,
              "#0d0887"
             ],
             [
              0.1111111111111111,
              "#46039f"
             ],
             [
              0.2222222222222222,
              "#7201a8"
             ],
             [
              0.3333333333333333,
              "#9c179e"
             ],
             [
              0.4444444444444444,
              "#bd3786"
             ],
             [
              0.5555555555555556,
              "#d8576b"
             ],
             [
              0.6666666666666666,
              "#ed7953"
             ],
             [
              0.7777777777777778,
              "#fb9f3a"
             ],
             [
              0.8888888888888888,
              "#fdca26"
             ],
             [
              1,
              "#f0f921"
             ]
            ],
            "type": "contour"
           }
          ],
          "contourcarpet": [
           {
            "colorbar": {
             "outlinewidth": 0,
             "ticks": ""
            },
            "type": "contourcarpet"
           }
          ],
          "heatmap": [
           {
            "colorbar": {
             "outlinewidth": 0,
             "ticks": ""
            },
            "colorscale": [
             [
              0,
              "#0d0887"
             ],
             [
              0.1111111111111111,
              "#46039f"
             ],
             [
              0.2222222222222222,
              "#7201a8"
             ],
             [
              0.3333333333333333,
              "#9c179e"
             ],
             [
              0.4444444444444444,
              "#bd3786"
             ],
             [
              0.5555555555555556,
              "#d8576b"
             ],
             [
              0.6666666666666666,
              "#ed7953"
             ],
             [
              0.7777777777777778,
              "#fb9f3a"
             ],
             [
              0.8888888888888888,
              "#fdca26"
             ],
             [
              1,
              "#f0f921"
             ]
            ],
            "type": "heatmap"
           }
          ],
          "heatmapgl": [
           {
            "colorbar": {
             "outlinewidth": 0,
             "ticks": ""
            },
            "colorscale": [
             [
              0,
              "#0d0887"
             ],
             [
              0.1111111111111111,
              "#46039f"
             ],
             [
              0.2222222222222222,
              "#7201a8"
             ],
             [
              0.3333333333333333,
              "#9c179e"
             ],
             [
              0.4444444444444444,
              "#bd3786"
             ],
             [
              0.5555555555555556,
              "#d8576b"
             ],
             [
              0.6666666666666666,
              "#ed7953"
             ],
             [
              0.7777777777777778,
              "#fb9f3a"
             ],
             [
              0.8888888888888888,
              "#fdca26"
             ],
             [
              1,
              "#f0f921"
             ]
            ],
            "type": "heatmapgl"
           }
          ],
          "histogram": [
           {
            "marker": {
             "pattern": {
              "fillmode": "overlay",
              "size": 10,
              "solidity": 0.2
             }
            },
            "type": "histogram"
           }
          ],
          "histogram2d": [
           {
            "colorbar": {
             "outlinewidth": 0,
             "ticks": ""
            },
            "colorscale": [
             [
              0,
              "#0d0887"
             ],
             [
              0.1111111111111111,
              "#46039f"
             ],
             [
              0.2222222222222222,
              "#7201a8"
             ],
             [
              0.3333333333333333,
              "#9c179e"
             ],
             [
              0.4444444444444444,
              "#bd3786"
             ],
             [
              0.5555555555555556,
              "#d8576b"
             ],
             [
              0.6666666666666666,
              "#ed7953"
             ],
             [
              0.7777777777777778,
              "#fb9f3a"
             ],
             [
              0.8888888888888888,
              "#fdca26"
             ],
             [
              1,
              "#f0f921"
             ]
            ],
            "type": "histogram2d"
           }
          ],
          "histogram2dcontour": [
           {
            "colorbar": {
             "outlinewidth": 0,
             "ticks": ""
            },
            "colorscale": [
             [
              0,
              "#0d0887"
             ],
             [
              0.1111111111111111,
              "#46039f"
             ],
             [
              0.2222222222222222,
              "#7201a8"
             ],
             [
              0.3333333333333333,
              "#9c179e"
             ],
             [
              0.4444444444444444,
              "#bd3786"
             ],
             [
              0.5555555555555556,
              "#d8576b"
             ],
             [
              0.6666666666666666,
              "#ed7953"
             ],
             [
              0.7777777777777778,
              "#fb9f3a"
             ],
             [
              0.8888888888888888,
              "#fdca26"
             ],
             [
              1,
              "#f0f921"
             ]
            ],
            "type": "histogram2dcontour"
           }
          ],
          "mesh3d": [
           {
            "colorbar": {
             "outlinewidth": 0,
             "ticks": ""
            },
            "type": "mesh3d"
           }
          ],
          "parcoords": [
           {
            "line": {
             "colorbar": {
              "outlinewidth": 0,
              "ticks": ""
             }
            },
            "type": "parcoords"
           }
          ],
          "pie": [
           {
            "automargin": true,
            "type": "pie"
           }
          ],
          "scatter": [
           {
            "marker": {
             "line": {
              "color": "#283442"
             }
            },
            "type": "scatter"
           }
          ],
          "scatter3d": [
           {
            "line": {
             "colorbar": {
              "outlinewidth": 0,
              "ticks": ""
             }
            },
            "marker": {
             "colorbar": {
              "outlinewidth": 0,
              "ticks": ""
             }
            },
            "type": "scatter3d"
           }
          ],
          "scattercarpet": [
           {
            "marker": {
             "colorbar": {
              "outlinewidth": 0,
              "ticks": ""
             }
            },
            "type": "scattercarpet"
           }
          ],
          "scattergeo": [
           {
            "marker": {
             "colorbar": {
              "outlinewidth": 0,
              "ticks": ""
             }
            },
            "type": "scattergeo"
           }
          ],
          "scattergl": [
           {
            "marker": {
             "line": {
              "color": "#283442"
             }
            },
            "type": "scattergl"
           }
          ],
          "scattermapbox": [
           {
            "marker": {
             "colorbar": {
              "outlinewidth": 0,
              "ticks": ""
             }
            },
            "type": "scattermapbox"
           }
          ],
          "scatterpolar": [
           {
            "marker": {
             "colorbar": {
              "outlinewidth": 0,
              "ticks": ""
             }
            },
            "type": "scatterpolar"
           }
          ],
          "scatterpolargl": [
           {
            "marker": {
             "colorbar": {
              "outlinewidth": 0,
              "ticks": ""
             }
            },
            "type": "scatterpolargl"
           }
          ],
          "scatterternary": [
           {
            "marker": {
             "colorbar": {
              "outlinewidth": 0,
              "ticks": ""
             }
            },
            "type": "scatterternary"
           }
          ],
          "surface": [
           {
            "colorbar": {
             "outlinewidth": 0,
             "ticks": ""
            },
            "colorscale": [
             [
              0,
              "#0d0887"
             ],
             [
              0.1111111111111111,
              "#46039f"
             ],
             [
              0.2222222222222222,
              "#7201a8"
             ],
             [
              0.3333333333333333,
              "#9c179e"
             ],
             [
              0.4444444444444444,
              "#bd3786"
             ],
             [
              0.5555555555555556,
              "#d8576b"
             ],
             [
              0.6666666666666666,
              "#ed7953"
             ],
             [
              0.7777777777777778,
              "#fb9f3a"
             ],
             [
              0.8888888888888888,
              "#fdca26"
             ],
             [
              1,
              "#f0f921"
             ]
            ],
            "type": "surface"
           }
          ],
          "table": [
           {
            "cells": {
             "fill": {
              "color": "#506784"
             },
             "line": {
              "color": "rgb(17,17,17)"
             }
            },
            "header": {
             "fill": {
              "color": "#2a3f5f"
             },
             "line": {
              "color": "rgb(17,17,17)"
             }
            },
            "type": "table"
           }
          ]
         },
         "layout": {
          "annotationdefaults": {
           "arrowcolor": "#f2f5fa",
           "arrowhead": 0,
           "arrowwidth": 1
          },
          "autotypenumbers": "strict",
          "coloraxis": {
           "colorbar": {
            "outlinewidth": 0,
            "ticks": ""
           }
          },
          "colorscale": {
           "diverging": [
            [
             0,
             "#8e0152"
            ],
            [
             0.1,
             "#c51b7d"
            ],
            [
             0.2,
             "#de77ae"
            ],
            [
             0.3,
             "#f1b6da"
            ],
            [
             0.4,
             "#fde0ef"
            ],
            [
             0.5,
             "#f7f7f7"
            ],
            [
             0.6,
             "#e6f5d0"
            ],
            [
             0.7,
             "#b8e186"
            ],
            [
             0.8,
             "#7fbc41"
            ],
            [
             0.9,
             "#4d9221"
            ],
            [
             1,
             "#276419"
            ]
           ],
           "sequential": [
            [
             0,
             "#0d0887"
            ],
            [
             0.1111111111111111,
             "#46039f"
            ],
            [
             0.2222222222222222,
             "#7201a8"
            ],
            [
             0.3333333333333333,
             "#9c179e"
            ],
            [
             0.4444444444444444,
             "#bd3786"
            ],
            [
             0.5555555555555556,
             "#d8576b"
            ],
            [
             0.6666666666666666,
             "#ed7953"
            ],
            [
             0.7777777777777778,
             "#fb9f3a"
            ],
            [
             0.8888888888888888,
             "#fdca26"
            ],
            [
             1,
             "#f0f921"
            ]
           ],
           "sequentialminus": [
            [
             0,
             "#0d0887"
            ],
            [
             0.1111111111111111,
             "#46039f"
            ],
            [
             0.2222222222222222,
             "#7201a8"
            ],
            [
             0.3333333333333333,
             "#9c179e"
            ],
            [
             0.4444444444444444,
             "#bd3786"
            ],
            [
             0.5555555555555556,
             "#d8576b"
            ],
            [
             0.6666666666666666,
             "#ed7953"
            ],
            [
             0.7777777777777778,
             "#fb9f3a"
            ],
            [
             0.8888888888888888,
             "#fdca26"
            ],
            [
             1,
             "#f0f921"
            ]
           ]
          },
          "colorway": [
           "#636efa",
           "#EF553B",
           "#00cc96",
           "#ab63fa",
           "#FFA15A",
           "#19d3f3",
           "#FF6692",
           "#B6E880",
           "#FF97FF",
           "#FECB52"
          ],
          "font": {
           "color": "#f2f5fa"
          },
          "geo": {
           "bgcolor": "rgb(17,17,17)",
           "lakecolor": "rgb(17,17,17)",
           "landcolor": "rgb(17,17,17)",
           "showlakes": true,
           "showland": true,
           "subunitcolor": "#506784"
          },
          "hoverlabel": {
           "align": "left"
          },
          "hovermode": "closest",
          "mapbox": {
           "style": "dark"
          },
          "paper_bgcolor": "rgb(17,17,17)",
          "plot_bgcolor": "rgb(17,17,17)",
          "polar": {
           "angularaxis": {
            "gridcolor": "#506784",
            "linecolor": "#506784",
            "ticks": ""
           },
           "bgcolor": "rgb(17,17,17)",
           "radialaxis": {
            "gridcolor": "#506784",
            "linecolor": "#506784",
            "ticks": ""
           }
          },
          "scene": {
           "xaxis": {
            "backgroundcolor": "rgb(17,17,17)",
            "gridcolor": "#506784",
            "gridwidth": 2,
            "linecolor": "#506784",
            "showbackground": true,
            "ticks": "",
            "zerolinecolor": "#C8D4E3"
           },
           "yaxis": {
            "backgroundcolor": "rgb(17,17,17)",
            "gridcolor": "#506784",
            "gridwidth": 2,
            "linecolor": "#506784",
            "showbackground": true,
            "ticks": "",
            "zerolinecolor": "#C8D4E3"
           },
           "zaxis": {
            "backgroundcolor": "rgb(17,17,17)",
            "gridcolor": "#506784",
            "gridwidth": 2,
            "linecolor": "#506784",
            "showbackground": true,
            "ticks": "",
            "zerolinecolor": "#C8D4E3"
           }
          },
          "shapedefaults": {
           "line": {
            "color": "#f2f5fa"
           }
          },
          "sliderdefaults": {
           "bgcolor": "#C8D4E3",
           "bordercolor": "rgb(17,17,17)",
           "borderwidth": 1,
           "tickwidth": 0
          },
          "ternary": {
           "aaxis": {
            "gridcolor": "#506784",
            "linecolor": "#506784",
            "ticks": ""
           },
           "baxis": {
            "gridcolor": "#506784",
            "linecolor": "#506784",
            "ticks": ""
           },
           "bgcolor": "rgb(17,17,17)",
           "caxis": {
            "gridcolor": "#506784",
            "linecolor": "#506784",
            "ticks": ""
           }
          },
          "title": {
           "x": 0.05
          },
          "updatemenudefaults": {
           "bgcolor": "#506784",
           "borderwidth": 0
          },
          "xaxis": {
           "automargin": true,
           "gridcolor": "#283442",
           "linecolor": "#506784",
           "ticks": "",
           "title": {
            "standoff": 15
           },
           "zerolinecolor": "#283442",
           "zerolinewidth": 2
          },
          "yaxis": {
           "automargin": true,
           "gridcolor": "#283442",
           "linecolor": "#506784",
           "ticks": "",
           "title": {
            "standoff": 15
           },
           "zerolinecolor": "#283442",
           "zerolinewidth": 2
          }
         }
        },
        "title": {
         "text": "Distribution of the number of deaths by country"
        },
        "updatemenus": [
         {
          "buttons": [
           {
            "args": [
             null,
             {
              "frame": {
               "duration": 500,
               "redraw": true
              },
              "fromcurrent": true,
              "mode": "immediate",
              "transition": {
               "duration": 500,
               "easing": "linear"
              }
             }
            ],
            "label": "&#9654;",
            "method": "animate"
           },
           {
            "args": [
             [
              null
             ],
             {
              "frame": {
               "duration": 0,
               "redraw": true
              },
              "fromcurrent": true,
              "mode": "immediate",
              "transition": {
               "duration": 0,
               "easing": "linear"
              }
             }
            ],
            "label": "&#9724;",
            "method": "animate"
           }
          ],
          "direction": "left",
          "pad": {
           "r": 10,
           "t": 70
          },
          "showactive": false,
          "type": "buttons",
          "x": 0.1,
          "xanchor": "right",
          "y": 0,
          "yanchor": "top"
         }
        ]
       }
      }
     },
     "metadata": {},
     "output_type": "display_data"
    }
   ],
   "source": [
    "fig=px.choropleth(data_frame=df,locations=df['country'],locationmode='country names',color=df['total_deaths'],animation_frame=df['total_cases'],animation_group=df['total_cases'] ,template='plotly_dark')\n",
    "fig.update_layout(dict1={'title':'Distribution of the number of deaths by country'})\n",
    "fig.show()"
   ]
  },
  {
   "cell_type": "code",
   "execution_count": null,
   "metadata": {},
   "outputs": [],
   "source": []
  }
 ],
 "metadata": {
  "kernelspec": {
   "display_name": "Python 3",
   "language": "python",
   "name": "python3"
  },
  "language_info": {
   "codemirror_mode": {
    "name": "ipython",
    "version": 3
   },
   "file_extension": ".py",
   "mimetype": "text/x-python",
   "name": "python",
   "nbconvert_exporter": "python",
   "pygments_lexer": "ipython3",
   "version": "3.10.7"
  },
  "orig_nbformat": 4,
  "vscode": {
   "interpreter": {
    "hash": "916dbcbb3f70747c44a77c7bcd40155683ae19c65e1c03b4aa3499c5328201f1"
   }
  }
 },
 "nbformat": 4,
 "nbformat_minor": 2
}
